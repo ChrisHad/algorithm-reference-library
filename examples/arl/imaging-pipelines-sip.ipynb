{
 "cells": [
  {
   "cell_type": "markdown",
   "metadata": {},
   "source": [
    "# Pipeline processing\n",
    "\n",
    "This notebook demonstrates the continuum imaging and ICAL pipelines."
   ]
  },
  {
   "cell_type": "code",
   "execution_count": null,
   "metadata": {
    "ExecuteTime": {
     "end_time": "2017-12-19T17:06:33.356592Z",
     "start_time": "2017-12-19T17:06:31.353049Z"
    },
    "scrolled": true
   },
   "outputs": [],
   "source": [
    "%matplotlib inline\n",
    "\n",
    "import os\n",
    "import sys\n",
    "\n",
    "results_dir = './results'\n",
    "os.makedirs(results_dir, exist_ok=True)\n",
    "\n",
    "from matplotlib import pylab\n",
    "\n",
    "pylab.rcParams['figure.figsize'] = (12.0, 12.0)\n",
    "pylab.rcParams['image.cmap'] = 'rainbow'\n",
    "\n",
    "import numpy\n",
    "\n",
    "from astropy.coordinates import SkyCoord\n",
    "from astropy import units as u\n",
    "from astropy.wcs.utils import pixel_to_skycoord\n",
    "\n",
    "from matplotlib import pyplot as plt\n",
    "\n",
    "from arl.calibration.solvers import solve_gaintable\n",
    "from arl.calibration.operations import apply_gaintable, create_gaintable_from_blockvisibility\n",
    "from arl.data.data_models import Image\n",
    "from arl.data.polarisation import PolarisationFrame\n",
    "from arl.data.parameters import get_parameter\n",
    "from arl.visibility.base import create_blockvisibility\n",
    "from arl.skycomponent.operations import create_skycomponent\n",
    "from arl.image.operations import show_image, export_image_to_fits, qa_image, copy_image, create_empty_image_like\n",
    "from arl.visibility.iterators import vis_timeslice_iter\n",
    "from arl.visibility.coalesce import convert_visibility_to_blockvisibility\n",
    "from arl.util.testing_support import create_named_configuration, create_low_test_beam, \\\n",
    "    create_low_test_image_from_gleam, simulate_gaintable\n",
    "from arl.imaging import predict_wstack, invert_wstack, create_image_from_visibility, advise_wide_field\n",
    "from arl.pipelines.functions import ical\n",
    "\n",
    "import logging\n",
    "\n",
    "log = logging.getLogger()\n",
    "log.setLevel(logging.INFO)\n",
    "log.addHandler(logging.StreamHandler(sys.stdout))"
   ]
  },
  {
   "cell_type": "markdown",
   "metadata": {},
   "source": [
    "We create a graph to make the visibility. The parameter rmax determines the distance of the furthest antenna/stations used. All over parameters are determined from this number."
   ]
  },
  {
   "cell_type": "code",
   "execution_count": null,
   "metadata": {
    "ExecuteTime": {
     "end_time": "2017-12-19T17:06:33.634006Z",
     "start_time": "2017-12-19T17:06:33.358669Z"
    },
    "scrolled": true
   },
   "outputs": [],
   "source": [
    "nfreqwin=5\n",
    "ntimes=11\n",
    "rmax=300.0\n",
    "frequency=numpy.linspace(0.8e8,1.2e8,nfreqwin)\n",
    "channel_bandwidth=numpy.array(nfreqwin*[frequency[1]-frequency[0]])\n",
    "times = numpy.linspace(-numpy.pi/3.0, numpy.pi/3.0, ntimes)\n",
    "phasecentre=SkyCoord(ra=+30.0 * u.deg, dec=-60.0 * u.deg, frame='icrs', equinox='J2000')\n",
    "\n",
    "lowcore = create_named_configuration('LOWBD2-CORE', rmax=rmax)\n",
    "\n",
    "block_vis = create_blockvisibility(lowcore, times, frequency=frequency, channel_bandwidth=channel_bandwidth,\n",
    "                     weight=1.0, phasecentre=phasecentre,\n",
    "                     polarisation_frame=PolarisationFrame(\"stokesI\"))"
   ]
  },
  {
   "cell_type": "code",
   "execution_count": null,
   "metadata": {
    "ExecuteTime": {
     "end_time": "2017-12-19T17:06:33.681259Z",
     "start_time": "2017-12-19T17:06:33.637604Z"
    },
    "scrolled": false
   },
   "outputs": [],
   "source": [
    "wprojection_planes=1\n",
    "advice=advise_wide_field(block_vis, guard_band_image=4.0, delA=0.02,\n",
    "                             wprojection_planes=wprojection_planes)\n",
    "\n",
    "vis_slices = advice['vis_slices']\n",
    "npixel=advice['npixels2']\n",
    "cellsize=advice['cellsize']"
   ]
  },
  {
   "cell_type": "code",
   "execution_count": null,
   "metadata": {
    "ExecuteTime": {
     "end_time": "2017-12-19T17:06:55.035590Z",
     "start_time": "2017-12-19T17:06:33.685326Z"
    },
    "scrolled": false
   },
   "outputs": [],
   "source": [
    "gleam_model = create_low_test_image_from_gleam(npixel=npixel, frequency=frequency,\n",
    "    channel_bandwidth=channel_bandwidth, cellsize=cellsize, phasecentre=phasecentre)\n",
    "beam = create_low_test_beam(gleam_model)\n",
    "gleam_model.data *= beam.data"
   ]
  },
  {
   "cell_type": "code",
   "execution_count": null,
   "metadata": {
    "ExecuteTime": {
     "end_time": "2017-12-19T17:07:52.053350Z",
     "start_time": "2017-12-19T17:06:55.037467Z"
    },
    "scrolled": false
   },
   "outputs": [],
   "source": [
    "predicted_vis = predict_wstack(block_vis, gleam_model, vis_slices=51)\n",
    "block_vis=convert_visibility_to_blockvisibility(predicted_vis)\n",
    "gt = create_gaintable_from_blockvisibility(block_vis)\n",
    "gt = simulate_gaintable(gt, phase_error=1.0)\n",
    "blockvis = apply_gaintable(block_vis, gt)"
   ]
  },
  {
   "cell_type": "code",
   "execution_count": null,
   "metadata": {
    "ExecuteTime": {
     "end_time": "2017-12-19T17:07:52.080858Z",
     "start_time": "2017-12-19T17:07:52.054953Z"
    },
    "scrolled": false
   },
   "outputs": [],
   "source": [
    "model = create_image_from_visibility(block_vis, npixel=npixel, frequency=[numpy.average(frequency)], nchan=1,\n",
    "    channel_bandwidth=[numpy.sum(channel_bandwidth)], cellsize=cellsize, phasecentre=phasecentre)"
   ]
  },
  {
   "cell_type": "code",
   "execution_count": null,
   "metadata": {
    "ExecuteTime": {
     "end_time": "2017-12-19T17:08:00.695411Z",
     "start_time": "2017-12-19T17:07:52.082538Z"
    },
    "scrolled": false
   },
   "outputs": [],
   "source": [
    "dirty, sumwt = invert_wstack(predicted_vis, model, vis_slices=vis_slices, dopsf=False)"
   ]
  },
  {
   "cell_type": "code",
   "execution_count": null,
   "metadata": {
    "ExecuteTime": {
     "end_time": "2017-12-19T17:08:01.280377Z",
     "start_time": "2017-12-19T17:08:00.697029Z"
    },
    "scrolled": false
   },
   "outputs": [],
   "source": [
    "show_image(dirty)\n",
    "plt.show()"
   ]
  },
  {
   "cell_type": "code",
   "execution_count": null,
   "metadata": {
    "ExecuteTime": {
     "end_time": "2017-12-19T17:11:08.923273Z",
     "start_time": "2017-12-19T17:08:01.282123Z"
    },
    "scrolled": false
   },
   "outputs": [],
   "source": [
    "residual_visibility, deconvolved, residual = ical(blockvis, model=model, vis_slices=vis_slices, timeslice='auto',\n",
    "                                       algorithm='hogbom', niter=1000, fractional_threshold=0.1, threshold=0.1,\n",
    "                                       context='wstack', nmajor=5, gain=0.1, first_selfcal=1, \n",
    "                                       global_solution=False)"
   ]
  },
  {
   "cell_type": "code",
   "execution_count": null,
   "metadata": {
    "ExecuteTime": {
     "end_time": "2017-12-19T17:11:10.111347Z",
     "start_time": "2017-12-19T17:11:08.925135Z"
    },
    "scrolled": false
   },
   "outputs": [],
   "source": [
    "f=show_image(deconvolved, title='Clean image')\n",
    "print(qa_image(deconvolved, context='Clean image'))\n",
    "plt.show()\n",
    "\n",
    "f=show_image(residual, title='Residual clean image')\n",
    "print(qa_image(residual, context='Residual clean image'))\n",
    "plt.show()\n",
    "export_image_to_fits(residual, '%s/imaging-dask_ical_residual.fits' \n",
    "                     %(results_dir))"
   ]
  },
  {
   "cell_type": "code",
   "execution_count": null,
   "metadata": {
    "scrolled": true
   },
   "outputs": [],
   "source": []
  }
 ],
 "metadata": {
  "kernelspec": {
   "display_name": "Python 3",
   "language": "python",
   "name": "python3"
  },
  "language_info": {
   "codemirror_mode": {
    "name": "ipython",
    "version": 3
   },
   "file_extension": ".py",
   "mimetype": "text/x-python",
   "name": "python",
   "nbconvert_exporter": "python",
   "pygments_lexer": "ipython3",
   "version": "3.6.1"
  }
 },
 "nbformat": 4,
 "nbformat_minor": 1
}
