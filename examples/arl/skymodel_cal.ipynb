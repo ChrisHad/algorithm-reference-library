{
 "cells": [
  {
   "cell_type": "markdown",
   "metadata": {},
   "source": [
    "# Calibration of non-isoplanatic low frequency data\n",
    "\n",
    "This uses the SageCAL algorithm to calibrate a simulated SKA1LOW observation in which sources inside the primary beam have one set of calibration errors and sources outside have different errors.\n"
   ]
  },
  {
   "cell_type": "code",
   "execution_count": null,
   "metadata": {
    "ExecuteTime": {
     "end_time": "2018-03-01T14:24:30.226437Z",
     "start_time": "2018-03-01T14:24:28.805013Z"
    },
    "scrolled": false
   },
   "outputs": [],
   "source": [
    "%matplotlib inline\n",
    "\n",
    "import os\n",
    "import sys\n",
    "sys.path.append(os.path.join('..','..'))\n",
    "\n",
    "results_dir = './results'\n",
    "os.makedirs(results_dir, exist_ok=True)\n",
    "\n",
    "import numpy\n",
    "\n",
    "from astropy.coordinates import SkyCoord\n",
    "from astropy import units as u\n",
    "from astropy.wcs.utils import pixel_to_skycoord\n",
    "\n",
    "from matplotlib import pyplot as plt\n",
    "\n",
    "from arl.skycomponent.operations import find_skycomponents, find_nearest_component\n",
    "from arl.calibration.solvers import solve_gaintable\n",
    "from arl.calibration.operations import apply_gaintable, create_gaintable_from_blockvisibility\n",
    "from arl.data.data_models import Image\n",
    "from arl.data.polarisation import PolarisationFrame\n",
    "from arl.data.parameters import get_parameter\n",
    "from arl.visibility.base import create_blockvisibility, copy_visibility\n",
    "from arl.skycomponent.operations import create_skycomponent\n",
    "from arl.image.deconvolution import restore_cube\n",
    "from arl.skycomponent.operations import insert_skycomponent, select_components_by_separation\n",
    "from arl.image.operations import show_image, export_image_to_fits, qa_image, copy_image, create_empty_image_like\n",
    "from arl.visibility.iterators import vis_timeslice_iter\n",
    "from arl.visibility.coalesce import convert_visibility_to_blockvisibility\n",
    "from arl.util.testing_support import create_named_configuration, create_low_test_beam, \\\n",
    "    simulate_gaintable, create_low_test_skycomponents_from_gleam\n",
    "from arl.skycomponent.operations import apply_beam_to_skycomponent, copy_skycomponent\n",
    "from arl.imaging import create_image_from_visibility, advise_wide_field, predict_skycomponent_visibility\n",
    "from arl.imaging.imaging_context import invert_function, predict_function\n",
    "\n",
    "from arl.calibration.skymodel_cal import skymodel_cal_solve, create_cal_skymodel\n",
    "from arl.calibration.skymodel_cal_delayed import create_skymodel_cal_solve_graph\n",
    "\n",
    "from arl.graphs.dask_init import get_dask_Client\n",
    "from arl.image.operations import export_image_to_fits\n",
    "\n",
    "import logging\n",
    "\n",
    "log = logging.getLogger()\n",
    "log.setLevel(logging.INFO)\n",
    "log.addHandler(logging.StreamHandler(sys.stdout))"
   ]
  },
  {
   "cell_type": "markdown",
   "metadata": {},
   "source": [
    "We make the visibility. The parameter rmax determines the distance of the furthest antenna/stations used. All over parameters are determined from this number.\n",
    "\n",
    "We set the w coordinate to be zero for all visibilities so as not to have to do full w-term processing. This speeds up the imaging steps."
   ]
  },
  {
   "cell_type": "code",
   "execution_count": null,
   "metadata": {
    "ExecuteTime": {
     "end_time": "2018-03-01T14:24:30.344610Z",
     "start_time": "2018-03-01T14:24:30.227987Z"
    }
   },
   "outputs": [],
   "source": [
    "nfreqwin = 1\n",
    "ntimes = 1\n",
    "rmax = 750\n",
    "frequency = numpy.linspace(0.8e8, 1.2e8, nfreqwin)\n",
    "if nfreqwin > 1:\n",
    "    channel_bandwidth = numpy.array(nfreqwin * [frequency[1] - frequency[0]])\n",
    "else:\n",
    "    channel_bandwidth = [0.4e8]\n",
    "times = numpy.linspace(-numpy.pi / 3.0, numpy.pi / 3.0, ntimes)\n",
    "\n",
    "phasecentre=SkyCoord(ra=+30.0 * u.deg, dec=-45.0 * u.deg, frame='icrs', equinox='J2000')\n",
    "lowcore = create_named_configuration('LOWBD2', rmax=rmax)\n",
    "\n",
    "block_vis = create_blockvisibility(lowcore, times, frequency=frequency,\n",
    "    channel_bandwidth=channel_bandwidth, weight=1.0, phasecentre=phasecentre,\n",
    "    polarisation_frame=PolarisationFrame(\"stokesI\"), zerow=True)"
   ]
  },
  {
   "cell_type": "code",
   "execution_count": null,
   "metadata": {
    "ExecuteTime": {
     "end_time": "2018-03-01T14:24:30.666903Z",
     "start_time": "2018-03-01T14:24:30.347002Z"
    },
    "scrolled": false
   },
   "outputs": [],
   "source": [
    "wprojection_planes=1\n",
    "advice=advise_wide_field(block_vis, guard_band_image=5.0, delA=0.02, \n",
    "                         wprojection_planes=wprojection_planes)\n",
    "\n",
    "vis_slices = advice['vis_slices']\n",
    "npixel=advice['npixels2']\n",
    "cellsize=advice['cellsize']"
   ]
  },
  {
   "cell_type": "markdown",
   "metadata": {},
   "source": [
    "Generate the model from the GLEAM catalog, including application of the primary beam."
   ]
  },
  {
   "cell_type": "code",
   "execution_count": null,
   "metadata": {
    "ExecuteTime": {
     "end_time": "2018-03-01T14:24:42.767905Z",
     "start_time": "2018-03-01T14:24:30.672049Z"
    }
   },
   "outputs": [],
   "source": [
    "beam = create_image_from_visibility(block_vis, npixel=npixel, frequency=frequency,\n",
    "    nchan=nfreqwin, cellsize=cellsize, phasecentre=phasecentre)\n",
    "\n",
    "original_gleam_components = create_low_test_skycomponents_from_gleam(flux_limit=1.0,\n",
    "    phasecentre=phasecentre, frequency=frequency, \n",
    "    polarisation_frame=PolarisationFrame('stokesI'),\n",
    "    radius=npixel * cellsize/2.0)\n",
    "\n",
    "beam = create_low_test_beam(beam)\n",
    "pb_gleam_components = apply_beam_to_skycomponent(original_gleam_components, beam, \n",
    "                                                       flux_limit=0.5)\n",
    "from matplotlib import pylab\n",
    "pylab.rcParams['figure.figsize'] = (12.0, 12.0)\n",
    "pylab.rcParams['image.cmap'] = 'rainbow'\n",
    "\n",
    "\n",
    "show_image(beam, components=pb_gleam_components, cm='Greys', title='Primary beam plus GLEAM components')\n",
    "print(\"Number of components %d\" % len(pb_gleam_components))"
   ]
  },
  {
   "cell_type": "markdown",
   "metadata": {
    "ExecuteTime": {
     "end_time": "2018-02-07T15:50:29.575949Z",
     "start_time": "2018-02-07T15:50:29.572226Z"
    }
   },
   "source": [
    "Generate the template image"
   ]
  },
  {
   "cell_type": "code",
   "execution_count": null,
   "metadata": {
    "ExecuteTime": {
     "end_time": "2018-03-01T14:24:42.796639Z",
     "start_time": "2018-03-01T14:24:42.770174Z"
    },
    "scrolled": false
   },
   "outputs": [],
   "source": [
    "model = create_image_from_visibility(block_vis, npixel=npixel, \n",
    "                                     frequency=[numpy.average(frequency)], \n",
    "                                     nchan=1,\n",
    "                                     channel_bandwidth=[numpy.sum(channel_bandwidth)], \n",
    "                                     cellsize=cellsize, phasecentre=phasecentre)"
   ]
  },
  {
   "cell_type": "markdown",
   "metadata": {},
   "source": [
    "Create sources to be peeled"
   ]
  },
  {
   "cell_type": "code",
   "execution_count": null,
   "metadata": {},
   "outputs": [],
   "source": [
    "peel_distance = 0.16\n",
    "peelers = select_components_by_separation(phasecentre, pb_gleam_components, \n",
    "                                          min=peel_distance)\n",
    "gleam_components = select_components_by_separation(phasecentre, pb_gleam_components, \n",
    "                                          max=peel_distance)\n",
    "print(\"There are %d sources inside the primary beam and %d sources outside\"\n",
    "     % (len(gleam_components), len(peelers)))"
   ]
  },
  {
   "cell_type": "markdown",
   "metadata": {},
   "source": [
    "Create the model visibilities, applying a different gain table for peeled sources and other components"
   ]
  },
  {
   "cell_type": "code",
   "execution_count": null,
   "metadata": {
    "ExecuteTime": {
     "end_time": "2018-03-01T14:24:48.239275Z",
     "start_time": "2018-03-01T14:24:42.799091Z"
    }
   },
   "outputs": [],
   "source": [
    "corrupted_vis = copy_visibility(block_vis, zero=True)\n",
    "gt = create_gaintable_from_blockvisibility(block_vis, timeslice='auto')\n",
    "\n",
    "components_errors = [(p, 1.0) for p in peelers]\n",
    "components_errors.append((pb_gleam_components, 0.1))\n",
    "\n",
    "for sc, phase_error in components_errors:\n",
    "    component_vis = copy_visibility(block_vis, zero=True)\n",
    "    gt = simulate_gaintable(gt, amplitude_error=0.0, phase_error=phase_error)\n",
    "    component_vis = predict_skycomponent_visibility(component_vis, sc)\n",
    "    component_vis = apply_gaintable(component_vis, gt)\n",
    "    corrupted_vis.data['vis'][...]+=component_vis.data['vis'][...]\n",
    "    \n",
    "dirty, sumwt = invert_function(corrupted_vis, model, context='2d')\n",
    "qa=qa_image(dirty)\n",
    "vmax=qa.data['medianabs']*10.0\n",
    "vmin=-qa.data['medianabs']\n",
    "print(qa)\n",
    "export_image_to_fits(dirty, '%s/skymodel_cal_before_dirty.fits' % results_dir)\n",
    "show_image(dirty, cm='Greys', components=peelers, vmax=vmax, vmin=vmin, title='Peelers')\n",
    "show_image(dirty, cm='Greys', components=gleam_components, vmax=vmax, vmin=vmin, title='Targets')\n",
    "plt.show()"
   ]
  },
  {
   "cell_type": "markdown",
   "metadata": {},
   "source": [
    "Find the components above the threshold"
   ]
  },
  {
   "cell_type": "code",
   "execution_count": null,
   "metadata": {
    "ExecuteTime": {
     "end_time": "2018-03-01T14:24:49.955466Z",
     "start_time": "2018-03-01T14:24:49.010353Z"
    },
    "scrolled": false
   },
   "outputs": [],
   "source": [
    "qa = qa_image(dirty)\n",
    "vmax=qa.data['medianabs']*30.0\n",
    "vmin=-qa.data['medianabs']*3.0\n",
    "print(qa)\n",
    "threshold = 10.0*qa.data['medianabs']\n",
    "print(\"Selecting sources brighter than %f\" % threshold)\n",
    "found_components= find_skycomponents(dirty, threshold=threshold)\n",
    "show_image(dirty, components=found_components, cm='Greys', vmax=vmax, vmin=vmin,\n",
    "           title='Dirty image plus found components')\n",
    "plt.show()"
   ]
  },
  {
   "cell_type": "markdown",
   "metadata": {},
   "source": [
    "Partition the found sources into peeler sources and target sources. Then set up the graph to create the skymodels"
   ]
  },
  {
   "cell_type": "code",
   "execution_count": null,
   "metadata": {},
   "outputs": [],
   "source": [
    "peel_distance = 0.16\n",
    "peelers = select_components_by_separation(phasecentre, found_components, \n",
    "                                          min=peel_distance)\n",
    "gleam_components = select_components_by_separation(phasecentre, found_components, \n",
    "                                          max=peel_distance)\n",
    "from arl.data.skymodel import SkyModel\n",
    "\n",
    "from dask import delayed\n",
    "                  \n",
    "calskymodel_graph = [delayed(SkyModel, nout=1)(components=[p]) for p in peelers]\n",
    "calskymodel_graph.append(delayed(SkyModel, nout=1)(components=found_components))"
   ]
  },
  {
   "cell_type": "markdown",
   "metadata": {},
   "source": [
    "Run skymodel_cal using dask"
   ]
  },
  {
   "cell_type": "code",
   "execution_count": null,
   "metadata": {
    "ExecuteTime": {
     "end_time": "2018-03-01T14:27:37.265914Z",
     "start_time": "2018-03-01T14:24:53.019827Z"
    },
    "scrolled": false
   },
   "outputs": [],
   "source": [
    "client = get_dask_Client()\n",
    "corrupted_vis = client.scatter(corrupted_vis)\n",
    "graph = create_skymodel_cal_solve_graph(corrupted_vis, calskymodel_graph, niter=30, \n",
    "                                        gain=0.25, tol=1e-8)\n",
    "calskymodel, residual_vis = client.compute(graph, sync=True)\n",
    "client.close()"
   ]
  },
  {
   "cell_type": "markdown",
   "metadata": {},
   "source": [
    "Combine all components for display"
   ]
  },
  {
   "cell_type": "code",
   "execution_count": null,
   "metadata": {},
   "outputs": [],
   "source": [
    "final_components = list()\n",
    "for csm in calskymodel:\n",
    "    for comp in csm[0].components:\n",
    "        final_components.append(comp)"
   ]
  },
  {
   "cell_type": "markdown",
   "metadata": {},
   "source": [
    "Now we find the components in the residual image and add those to the existing model"
   ]
  },
  {
   "cell_type": "code",
   "execution_count": null,
   "metadata": {
    "ExecuteTime": {
     "end_time": "2018-03-01T14:30:09.635456Z",
     "start_time": "2018-03-01T14:30:06.505579Z"
    },
    "scrolled": false
   },
   "outputs": [],
   "source": [
    "residual, sumwt = invert_function(residual_vis, model, context='2d')\n",
    "qa = qa_image(residual)\n",
    "vmax=qa.data['medianabs']*30.0\n",
    "vmin=-qa.data['medianabs']*3.0\n",
    "print(qa)\n",
    "threshold = 20.0*qa.data['medianabs']\n",
    "print(\"Selecting sources brighter than %f\" % threshold)\n",
    "\n",
    "found_components= find_skycomponents(residual, threshold=threshold)\n",
    "for sc in found_components:\n",
    "    final_components.append(sc)\n",
    "\n",
    "show_image(residual, components=final_components, cm='Greys', \n",
    "           title='Residual image after Sagecal', vmax=vmax, vmin=vmin)\n",
    "plt.show()"
   ]
  },
  {
   "cell_type": "markdown",
   "metadata": {},
   "source": [
    "Make a restored image"
   ]
  },
  {
   "cell_type": "code",
   "execution_count": null,
   "metadata": {},
   "outputs": [],
   "source": [
    "psf, _ = invert_function(residual_vis, model, dopsf=True, context='2d')\n",
    "\n",
    "component_image = copy_image(model)\n",
    "component_image.data[...] = 0.0\n",
    "component_image= insert_skycomponent(component_image, final_components)\n",
    "restored = restore_cube(component_image, psf, residual)\n",
    "export_image_to_fits(restored, '%s/skymodel_cal_after_noniso_dirty.fits' % results_dir)\n",
    "\n",
    "qa=qa_image(restored, context='Restored image after SageCal')\n",
    "print(qa)\n",
    "\n",
    "\n",
    "show_image(restored, components=final_components, cm='Greys', \n",
    "           title='Restored image after SageCal', vmax=vmax, vmin=vmin)\n",
    "plt.show()\n",
    "\n",
    "residual.data[...] = 0.0\n",
    "component_image = copy_image(model)\n",
    "component_image.data[...] = 0.0\n",
    "component_image= insert_skycomponent(component_image, pb_gleam_components)\n",
    "restored = restore_cube(component_image, psf, residual)\n",
    "export_image_to_fits(restored, '%s/skymodel_cal_restored_model.fits' % results_dir)\n",
    "\n",
    "show_image(restored, components=pb_gleam_components, cm='Greys', \n",
    "           title='Restored original model', vmax=vmax, vmin=vmin)\n",
    "plt.show()\n"
   ]
  },
  {
   "cell_type": "markdown",
   "metadata": {},
   "source": [
    "Now look at the matches between the original components and those recovered."
   ]
  },
  {
   "cell_type": "code",
   "execution_count": null,
   "metadata": {},
   "outputs": [],
   "source": [
    "matches = list()\n",
    "nomatches = list()\n",
    "totalfluxin = 0.0\n",
    "totalfluxout = 0.0\n",
    "\n",
    "for comp in pb_gleam_components:\n",
    "    totalfluxin += comp.flux[0,0]\n",
    "    nearest, separation = find_nearest_component(comp.direction, final_components)\n",
    "    if separation < cellsize:\n",
    "        totalfluxout += nearest.flux[0,0]\n",
    "        matches.append((comp, nearest, separation))\n",
    "    else:\n",
    "        nomatches.append(comp)      "
   ]
  },
  {
   "cell_type": "markdown",
   "metadata": {},
   "source": [
    "Look at the recovered flux and the location of the unmatched components. From the image display these seem to be blends of close components."
   ]
  },
  {
   "cell_type": "code",
   "execution_count": null,
   "metadata": {},
   "outputs": [],
   "source": [
    "fluxin = [match[0].flux[0,0] for match in matches]\n",
    "fluxout = [match[1].flux[0,0] for match in matches]\n",
    "nofluxin = [nomatch.flux[0,0] for nomatch in nomatches]\n",
    "nofluxout = [0.0 for nomatch in nomatches]\n",
    "    \n",
    "plt.clf()\n",
    "plt.plot(fluxin, fluxout, '.', color='blue')\n",
    "plt.plot(nofluxin, nofluxout, '.', color='red')\n",
    "plt.title('Recovered flux')\n",
    "plt.xlabel('Component input flux')\n",
    "plt.ylabel('Component recovered flux')\n",
    "plt.show()\n",
    "\n",
    "show_image(restored, components=nomatches, cm='Greys', \n",
    "           title='Restored original model with missing components', vmax=vmax, vmin=vmin)\n",
    "plt.show()\n",
    "    \n",
    "print(\"Recovered %d of %d components\" % (len(matches), len(pb_gleam_components)))\n",
    "print(\"Recovered %.3f (Jy) of original %3.f (Jy) flux\" % (totalfluxout, totalfluxin))"
   ]
  },
  {
   "cell_type": "code",
   "execution_count": null,
   "metadata": {},
   "outputs": [],
   "source": []
  }
 ],
 "metadata": {
  "kernelspec": {
   "display_name": "Python 3",
   "language": "python",
   "name": "python3"
  },
  "language_info": {
   "codemirror_mode": {
    "name": "ipython",
    "version": 3
   },
   "file_extension": ".py",
   "mimetype": "text/x-python",
   "name": "python",
   "nbconvert_exporter": "python",
   "pygments_lexer": "ipython3",
   "version": "3.6.1"
  }
 },
 "nbformat": 4,
 "nbformat_minor": 2
}
