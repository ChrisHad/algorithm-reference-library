{
 "cells": [
  {
   "cell_type": "markdown",
   "metadata": {},
   "source": [
    "# Display the images resulting from test_imaging"
   ]
  },
  {
   "cell_type": "code",
   "execution_count": null,
   "metadata": {
    "ExecuteTime": {
     "end_time": "2018-03-31T09:30:18.690947Z",
     "start_time": "2018-03-31T09:30:16.945391Z"
    }
   },
   "outputs": [],
   "source": [
    "%matplotlib inline\n",
    "\n",
    "import os\n",
    "import sys\n",
    "\n",
    "from matplotlib import pylab\n",
    "\n",
    "pylab.rcParams['figure.figsize'] = (12.0, 12.0)\n",
    "pylab.rcParams['image.cmap'] = 'rainbow'\n",
    "\n",
    "import numpy\n",
    "from matplotlib import pyplot as plt\n",
    "\n",
    "from arl.data.parameters import arl_path\n",
    "from arl.image.operations import show_image, qa_image, import_image_from_fits\n",
    "\n",
    "import logging\n",
    "\n",
    "log = logging.getLogger()\n",
    "log.addHandler(logging.StreamHandler(sys.stdout))\n",
    "logging.basicConfig(level=logging.INFO, \n",
    "                    format='%(asctime)s %(name)s %(levelname)s %(message)s')\n"
   ]
  },
  {
   "cell_type": "code",
   "execution_count": null,
   "metadata": {
    "ExecuteTime": {
     "end_time": "2018-03-31T10:43:25.333405Z",
     "start_time": "2018-03-31T10:43:14.717912Z"
    },
    "scrolled": false
   },
   "outputs": [],
   "source": [
    "pylab.rcParams['figure.figsize'] = (12.0, 12.0)\n",
    "pylab.rcParams['image.cmap'] = 'rainbow'\n",
    "\n",
    "\n",
    "fits_files = []\n",
    "\n",
    "results_dir = arl_path('tests/test_results')\n",
    "\n",
    "for file in os.listdir(results_dir):\n",
    "    if file.endswith(\"_dirty.fits\"):\n",
    "        fits_files.append(file)\n",
    "        \n",
    "fits_files = numpy.sort(fits_files)\n",
    "\n",
    "for file in fits_files:\n",
    "    print('******************************************************************')\n",
    "\n",
    "    im = import_image_from_fits('tests/test_results/%s' % file)\n",
    "    print(qa_image(im, context=file))\n",
    "    show_image(im, title=file)\n",
    "    plt.show()\n",
    "\n",
    "    "
   ]
  },
  {
   "cell_type": "code",
   "execution_count": null,
   "metadata": {},
   "outputs": [],
   "source": []
  }
 ],
 "metadata": {
  "kernelspec": {
   "display_name": "Python 3",
   "language": "python",
   "name": "python3"
  },
  "language_info": {
   "codemirror_mode": {
    "name": "ipython",
    "version": 3
   },
   "file_extension": ".py",
   "mimetype": "text/x-python",
   "name": "python",
   "nbconvert_exporter": "python",
   "pygments_lexer": "ipython3",
   "version": "3.6.1"
  }
 },
 "nbformat": 4,
 "nbformat_minor": 2
}
