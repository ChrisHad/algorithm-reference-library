{
 "cells": [
  {
   "cell_type": "markdown",
   "metadata": {},
   "source": [
    "# Investigation of alternative to baseline-dependent averaging."
   ]
  },
  {
   "cell_type": "markdown",
   "metadata": {},
   "source": [
    "The idea is to partition the visibility into inner and outer parts. The density of samples in the inner parts of the uv plane is much greater so we can afford to use coarser gridding but with the same field of view as used for the\n",
    "further out data. The computation required for the inner, dense region of the Fourier plane is just a complex addition, instead of a complete gridding kernel complex add. This approach should rival two-region baseline-dependent averaging.\n",
    "\n",
    "In this notebook, we investigate the consequences of imaging in this way."
   ]
  },
  {
   "cell_type": "code",
   "execution_count": null,
   "metadata": {
    "collapsed": false
   },
   "outputs": [],
   "source": [
    "%matplotlib inline\n",
    "\n",
    "import os\n",
    "import sys\n",
    "\n",
    "from time import clock\n",
    "\n",
    "sys.path.append(os.path.join('..', '..'))\n",
    "\n",
    "from matplotlib import pylab\n",
    "\n",
    "pylab.rcParams['agg.path.chunksize'] = 10000\n",
    "pylab.rcParams['figure.figsize'] = (8.0, 8.0)\n",
    "pylab.rcParams['image.cmap'] = 'rainbow'\n",
    "\n",
    "import numpy\n",
    "\n",
    "from astropy.coordinates import SkyCoord\n",
    "from astropy import units as u\n",
    "from astropy import constants as const\n",
    "from astropy.wcs.utils import pixel_to_skycoord\n",
    "\n",
    "from matplotlib import pyplot as plt\n",
    "from matplotlib.pyplot import cm \n",
    "\n",
    "from arl.visibility.operations import create_visibility\n",
    "from arl.skymodel.operations import create_skycomponent\n",
    "from arl.image.operations import show_image, export_image_to_fits, qa_image, reproject_image\n",
    "from arl.image.iterators import raster_iter\n",
    "from arl.visibility.iterators import vis_timeslice_iter\n",
    "from arl.util.testing_support import create_named_configuration\n",
    "from arl.fourier_transforms.ftprocessor import *\n",
    "\n",
    "import logging\n",
    "\n",
    "log = logging.getLogger()\n",
    "log.setLevel(logging.DEBUG)\n",
    "log.addHandler(logging.StreamHandler(sys.stdout))\n",
    "\n",
    "doplot = True"
   ]
  },
  {
   "cell_type": "markdown",
   "metadata": {},
   "source": [
    "Set up imaging parameters"
   ]
  },
  {
   "cell_type": "code",
   "execution_count": null,
   "metadata": {
    "collapsed": true
   },
   "outputs": [],
   "source": [
    "params = {'npol': 1,\n",
    "          'cellsize': 0.001,\n",
    "          'spectral_mode': 'channel',\n",
    "          'channelwidth': 5e7,\n",
    "          'reffrequency': 1e8,\n",
    "          'kernel':'calculated'}"
   ]
  },
  {
   "cell_type": "markdown",
   "metadata": {},
   "source": [
    "Construct the SKA1-LOW configuration"
   ]
  },
  {
   "cell_type": "code",
   "execution_count": null,
   "metadata": {
    "collapsed": false
   },
   "outputs": [],
   "source": [
    "low = create_named_configuration('LOWBD2')"
   ]
  },
  {
   "cell_type": "markdown",
   "metadata": {},
   "source": [
    "We create the visibility holding the vis, uvw, time, antenna1, antenna2, weight columns in a table. The actual visibility values are zero."
   ]
  },
  {
   "cell_type": "code",
   "execution_count": null,
   "metadata": {
    "collapsed": false
   },
   "outputs": [],
   "source": [
    "times = numpy.arange(- numpy.pi / 4.0, + numpy.pi * 1.001 / 4.0, numpy.pi / 160)\n",
    "frequency = numpy.array([1e8])\n",
    "\n",
    "reffrequency = numpy.max(frequency)\n",
    "phasecentre = SkyCoord(ra=+15.0 * u.deg, dec=-45.0 * u.deg, frame='icrs', equinox=2000.0)\n",
    "vt = create_visibility(low, times, frequency, weight=1.0, phasecentre=phasecentre, params=params)"
   ]
  },
  {
   "cell_type": "code",
   "execution_count": null,
   "metadata": {
    "collapsed": false,
    "scrolled": false
   },
   "outputs": [],
   "source": [
    "params = {'npixel': 8192,\n",
    "          'npol': 1,\n",
    "          'cellsize': 0.00001,\n",
    "          'spectral_mode': 'channel',\n",
    "          'channelwidth': 5e7,\n",
    "          'reffrequency': 1e8}\n",
    "\n",
    "model = create_image_from_visibility(vt, params=params)"
   ]
  },
  {
   "cell_type": "markdown",
   "metadata": {},
   "source": [
    "Now calculate the density of samples in the Fourier plane"
   ]
  },
  {
   "cell_type": "code",
   "execution_count": null,
   "metadata": {
    "collapsed": false
   },
   "outputs": [],
   "source": [
    "vts, density, densitygrid = weight_visibility(vt, model, params)\n",
    "print(density.shape)\n",
    "plt.clf()\n",
    "uvdist = numpy.sqrt(vts.u*vts.u+vts.v*vts.v)\n",
    "plt.plot(uvdist, density[:,0,0], '.')\n",
    "plt.xlabel('UV distance (m)')\n",
    "plt.ylabel('Density (weight per cell)')\n",
    "plt.show()"
   ]
  },
  {
   "cell_type": "code",
   "execution_count": null,
   "metadata": {
    "collapsed": false,
    "scrolled": false
   },
   "outputs": [],
   "source": [
    "plt.clf()\n",
    "plt.imshow(numpy.log(1e-3+densitygrid[0,0,...]))\n",
    "plt.show()"
   ]
  },
  {
   "cell_type": "code",
   "execution_count": null,
   "metadata": {
    "collapsed": true
   },
   "outputs": [],
   "source": [
    "def invert_twopart(vis, im, dopsf=False, params=None):\n",
    "    \"\"\"Divide vis into inner and outer, image separately, and add\n",
    "    \n",
    "    Cut down on processing by gridding the inner (dense) part of Fourier plane with box gridding, \n",
    "    and the outer (sparse) part by more accurate PSWF gridding.\n",
    "    \"\"\"\n",
    "    boundary = get_parameter(params, \"inner\", 0.25)\n",
    "    \n",
    "    uvmax = numpy.max(numpy.abs([vis.u, vis.v]))\n",
    "\n",
    "    inner_rows = (numpy.abs(vis.u) < boundary * uvmax) & (numpy.abs(vis.v) < boundary * uvmax)\n",
    "    outer_rows = (numpy.abs(vis.u) >= boundary * uvmax) & (numpy.abs(vis.v) >= boundary * uvmax)\n",
    "\n",
    "    inner_vis = vis.select_rows(inner_rows)\n",
    "    outer_vis = vis.select_rows(outer_rows)\n",
    "    \n",
    "\n",
    "    inner_nvis, outer_nvis = numpy.sum(inner_rows), numpy.sum(outer_rows)\n",
    "    log.debug(\"Split in inner (%d rows) and outer (%d rows)\" % (inner_nvis, outer_nvis))\n",
    "\n",
    "    inner_params = params.copy()\n",
    "    inner_params[\"cellsize\"] = params[\"cellsize\"] / boundary\n",
    "    inner_params[\"npixel\"] = int(round(params[\"npixel\"] * boundary))\n",
    "    inner_params[\"padding\"] = int(round(get_parameter(params, \"padding\", 2) / boundary))\n",
    "\n",
    "    inner_params[\"kernel\"] = \"box\"    \n",
    "    inner_im = create_image_from_visibility(vis, inner_params)\n",
    "    inner_result, inner_sumwt = invert_2d(inner_vis, inner_im, dopsf, inner_params)\n",
    "\n",
    "    outer_params = params.copy()\n",
    "    outer_im = create_image_from_visibility(vis, outer_params)\n",
    "\n",
    "    outer_result, outer_sumwt = invert_2d(outer_vis, outer_im, dopsf, outer_params)\n",
    "    \n",
    "    result, footprint = reproject_image(inner_result, outer_result.wcs, outer_result.data.shape)\n",
    "    \n",
    "    result_sumwt = inner_sumwt + outer_sumwt\n",
    "    result.data = (inner_sumwt * result.data + outer_sumwt * outer_result.data) / result_sumwt\n",
    "    \n",
    "    return result, result_sumwt "
   ]
  },
  {
   "cell_type": "markdown",
   "metadata": {},
   "source": [
    "Set imaging parameters"
   ]
  },
  {
   "cell_type": "code",
   "execution_count": null,
   "metadata": {
    "collapsed": true
   },
   "outputs": [],
   "source": [
    "params = {'npixel': 8192,\n",
    "          'npol': 1,\n",
    "          'cellsize': 0.00001}"
   ]
  },
  {
   "cell_type": "markdown",
   "metadata": {},
   "source": [
    "First use invert_2d to get the benchmark time."
   ]
  },
  {
   "cell_type": "code",
   "execution_count": null,
   "metadata": {
    "collapsed": false
   },
   "outputs": [],
   "source": [
    "ts = clock()\n",
    "full_psf, full_sumwt = invert_2d(vt, model, dopsf=True, params=params)\n",
    "full_psf.data /= full_sumwt\n",
    "qa_full = qa_image(full_psf)\n",
    "criterion = 'medianabs'\n",
    "t_full = clock() - ts\n",
    "log.debug(\"Invert_2d took %.1f seconds\" % (t_full))\n"
   ]
  },
  {
   "cell_type": "code",
   "execution_count": null,
   "metadata": {
    "collapsed": false,
    "scrolled": false
   },
   "outputs": [],
   "source": [
    "inners = [1.0/4.0, 1.0/8.0, 1.0/16.0, 1.0/32.0]\n",
    "times = []\n",
    "for inner in inners:\n",
    "    params['inner'] = inner\n",
    "    ts = clock()\n",
    "    twopart_psf, twopart_sumwt = invert_twopart(vt, model, dopsf=True, params=params)\n",
    "    twopart_psf.data /= twopart_sumwt\n",
    "    qa_twopart = qa_image(full_psf)\n",
    "    criterion = 'medianabs'\n",
    "    t_twopart = clock() - ts\n",
    "    log.debug(\"Invert_twopart using inner=%.3f took %.1f seconds\" % (inner, t_twopart))\n",
    "    times.append(t_twopart)"
   ]
  },
  {
   "cell_type": "code",
   "execution_count": null,
   "metadata": {
    "collapsed": false
   },
   "outputs": [],
   "source": [
    "plt.clf()\n",
    "plt.plot(inners, times, label='twopart', color='g')\n",
    "plt.axhline(t_full, label='2d', color='r')\n",
    "plt.xlabel('Fraction of uvmax')\n",
    "plt.ylabel('Time (s)')\n",
    "plt.legend()\n",
    "plt.show()"
   ]
  },
  {
   "cell_type": "code",
   "execution_count": null,
   "metadata": {
    "collapsed": true
   },
   "outputs": [],
   "source": []
  }
 ],
 "metadata": {
  "kernelspec": {
   "display_name": "Python 3",
   "language": "python",
   "name": "python3"
  },
  "language_info": {
   "codemirror_mode": {
    "name": "ipython",
    "version": 3
   },
   "file_extension": ".py",
   "mimetype": "text/x-python",
   "name": "python",
   "nbconvert_exporter": "python",
   "pygments_lexer": "ipython3",
   "version": "3.5.1"
  },
  "widgets": {
   "state": {},
   "version": "1.1.2"
  }
 },
 "nbformat": 4,
 "nbformat_minor": 0
}
