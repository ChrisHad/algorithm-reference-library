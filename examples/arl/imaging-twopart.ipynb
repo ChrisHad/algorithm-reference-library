{
 "cells": [
  {
   "cell_type": "markdown",
   "metadata": {},
   "source": [
    "# Investigation of alternative to baseline-dependent averaging."
   ]
  },
  {
   "cell_type": "markdown",
   "metadata": {},
   "source": [
    "The idea is to partition the visibility into inner and outer parts. The density of samples in the inner parts of the uv plane is much greater so we can afford to use coarser gridding but with the same field of view as used for the\n",
    "further out data. The computation required for the inner, dense region of the Fourier plane is just a complex addition, instead of a complete gridding kernel complex add. This approach should rival two-region baseline-dependent averaging.\n",
    "\n",
    "In this notebook, we investigate the consequences of imaging in this way."
   ]
  },
  {
   "cell_type": "code",
   "execution_count": null,
   "metadata": {
    "collapsed": false
   },
   "outputs": [],
   "source": [
    "%matplotlib inline\n",
    "\n",
    "import os\n",
    "import sys\n",
    "\n",
    "from time import clock\n",
    "\n",
    "sys.path.append(os.path.join('..', '..'))\n",
    "\n",
    "from matplotlib import pylab\n",
    "\n",
    "pylab.rcParams['agg.path.chunksize'] = 10000\n",
    "pylab.rcParams['figure.figsize'] = (10.0, 10.0)\n",
    "pylab.rcParams['image.cmap'] = 'rainbow'\n",
    "\n",
    "import numpy\n",
    "\n",
    "from astropy.convolution import Gaussian2DKernel, convolve\n",
    "from astropy.coordinates import SkyCoord\n",
    "from astropy import units as u\n",
    "from astropy import constants as const\n",
    "from astropy.wcs.utils import pixel_to_skycoord\n",
    "\n",
    "from matplotlib import pyplot as plt\n",
    "from matplotlib.pyplot import cm \n",
    "\n",
    "from arl.visibility.operations import create_visibility\n",
    "from arl.skymodel.operations import create_skycomponent, insert_skycomponent\n",
    "from arl.image.operations import show_image, export_image_to_fits, qa_image, create_image_from_array, reproject_image\n",
    "from arl.fourier_transforms.fft_support import extract_mid\n",
    "from arl.image.iterators import raster_iter\n",
    "from arl.visibility.iterators import vis_timeslice_iter\n",
    "from arl.util.testing_support import create_named_configuration, create_low_test_image\n",
    "from arl.fourier_transforms.ftprocessor import *\n",
    "from arl.visibility.compress import compress_visibility, decompress_visibility\n",
    "\n",
    "import logging\n",
    "log = logging.getLogger()\n",
    "log.setLevel(logging.DEBUG)\n",
    "log.addHandler(logging.StreamHandler(sys.stdout))"
   ]
  },
  {
   "cell_type": "markdown",
   "metadata": {},
   "source": [
    "Construct the SKA1-LOW configuration"
   ]
  },
  {
   "cell_type": "code",
   "execution_count": null,
   "metadata": {
    "collapsed": false
   },
   "outputs": [],
   "source": [
    "low = create_named_configuration('LOWBD2')"
   ]
  },
  {
   "cell_type": "markdown",
   "metadata": {},
   "source": [
    "To see improvement, the sampling must be sufficiently fine on the longer baselines. Hence we simulate only a very limited house angle range."
   ]
  },
  {
   "cell_type": "code",
   "execution_count": null,
   "metadata": {
    "collapsed": false,
    "scrolled": true
   },
   "outputs": [],
   "source": [
    "oversampling = 2\n",
    "sampling_time = 35.0 / (oversampling * 8e4)\n",
    "log.info(\"Critical sampling time = %.5f (radians) %.2f (seconds)\" % \n",
    "         (sampling_time, sampling_time * 43200.0 / numpy.pi))\n",
    "sampling_frequency = 1e8 * 35.0 / (oversampling * 8e4) \n",
    "log.info(\"Critical sampling frequency = %.5f (Hz) \" % (sampling_frequency))\n",
    "times = numpy.arange(- sampling_time, + sampling_time, sampling_time)\n",
    "frequency = numpy.linspace(1e8 - sampling_frequency, 1e8 + sampling_frequency, 3)\n",
    "print(\"Observing frequencies %s Hz\" % (frequency))"
   ]
  },
  {
   "cell_type": "markdown",
   "metadata": {},
   "source": [
    "We create the visibility holding the vis, uvw, time, antenna1, antenna2, weight columns in a table. The actual visibility values are zero."
   ]
  },
  {
   "cell_type": "code",
   "execution_count": null,
   "metadata": {
    "collapsed": false
   },
   "outputs": [],
   "source": [
    "phasecentre = SkyCoord(ra=+180.0 * u.deg, dec=-60.0 * u.deg, frame='icrs', equinox=2000.0)\n",
    "vt = create_visibility(low, times, frequency, weight=1.0, phasecentre=phasecentre, npol=1)"
   ]
  },
  {
   "cell_type": "code",
   "execution_count": null,
   "metadata": {
    "collapsed": false
   },
   "outputs": [],
   "source": [
    "plt.clf()\n",
    "plt.plot(+vt.u, +vt.v, '.', color='r')\n",
    "plt.plot(-vt.u, -vt.v, '.', color='r')\n",
    "plt.show()"
   ]
  },
  {
   "cell_type": "markdown",
   "metadata": {},
   "source": [
    "Create a model to serve as the image specification"
   ]
  },
  {
   "cell_type": "code",
   "execution_count": null,
   "metadata": {
    "collapsed": false
   },
   "outputs": [],
   "source": [
    "vt.data['vis'] *= 0.0\n",
    "npixel=4096\n",
    "\n",
    "model = create_low_test_image(npixel=npixel, cellsize=0.00001)\n",
    "\n",
    "vt = predict_2d(vt, model)"
   ]
  },
  {
   "cell_type": "code",
   "execution_count": null,
   "metadata": {
    "collapsed": false,
    "scrolled": false
   },
   "outputs": [],
   "source": [
    "inners = [1.0/64.0, 1.0/32.0, 1.0/16.0, 1.0/8.0, 1.0/4.0]\n",
    "times = []\n",
    "qas = []\n",
    "for boundary in inners:\n",
    "\n",
    "    visr = numpy.sqrt(vt.u**2+vt.v**2)\n",
    "    uvmax = numpy.max(visr)\n",
    "    inner_rows = (numpy.abs(visr)  < boundary * uvmax) & (numpy.abs(visr) <  boundary * uvmax)\n",
    "    inner_vis = create_visibility_from_rows(vt, inner_rows) \n",
    "    inner_im = create_image_from_visibility(inner_vis, npixel=2048, cellsize=0.00001/boundary,\n",
    "                                           image_nchan=1)\n",
    "    vts, density, densitygrid = weight_visibility(inner_vis, inner_im)\n",
    "    plt.clf()\n",
    "    uvdist = numpy.sqrt(vts.u*vts.u+vts.v*vts.v)\n",
    "    plt.semilogy(uvdist[density[:,0,0]>0.0], density[:,0,0][density[:,0,0]>0], '.')\n",
    "    plt.title('Density of visibility subset')\n",
    "    plt.xlabel('UV distance (m)')\n",
    "    plt.ylabel('Density (weight per cell)')\n",
    "    plt.show()\n",
    "    \n",
    "    inner_vis_compressed = compress_visibility(inner_vis, inner_im)\n",
    "    plt.clf()\n",
    "    plt.title('UV coverage of compressed visibility')\n",
    "    plt.plot(inner_vis_compressed.u, inner_vis_compressed.v, '.', color='r')\n",
    "    plt.plot(-inner_vis_compressed.u, -inner_vis_compressed.v, '.', color='b')\n",
    "    plt.xlabel('U (m)')\n",
    "    plt.xlabel('V (m)')\n",
    "    plt.show()"
   ]
  },
  {
   "cell_type": "markdown",
   "metadata": {},
   "source": [
    "First use invert_timeslice to get the benchmark time."
   ]
  },
  {
   "cell_type": "code",
   "execution_count": null,
   "metadata": {
    "collapsed": false,
    "scrolled": false
   },
   "outputs": [],
   "source": [
    "model = create_image_from_visibility(vt, npixel=npixel, cellsize=0.00001, npol=1, \n",
    "                                     image_nchan=1)\n",
    "\n",
    "ts = clock()\n",
    "full_dirty, full_sumwt = invert_2d(vt, model, dopsf=False, nprocessor=1)\n",
    "full_dirty = normalize_sumwt(full_dirty, full_sumwt)\n",
    "\n",
    "criterion = 'medianabs'\n",
    "qa_full = qa_image(full_dirty).data[criterion]\n",
    "t_full = clock() - ts\n",
    "log.debug(\"Invert_2d took %.1f seconds\" % (t_full))\n",
    "export_image_to_fits(full_dirty, 'imaging-twopart_dirty_full.fits')"
   ]
  },
  {
   "cell_type": "markdown",
   "metadata": {},
   "source": [
    "Now do a range of partitions"
   ]
  },
  {
   "cell_type": "code",
   "execution_count": null,
   "metadata": {
    "collapsed": false,
    "scrolled": false
   },
   "outputs": [],
   "source": [
    "inners = [1.0/64.0, 1.0/32.0, 1.0/16.0, 1.0/8.0, 1.0/4.0]\n",
    "times = []\n",
    "qas = []\n",
    "for inner in inners:\n",
    "    ts = clock()\n",
    "    twopart_dirty, twopart_sumwt = invert_nested(vt, model, dopsf=False, invert=invert_2d, inner=inner,  \n",
    "                                                 npixel=npixel, cellsize=0.00001,image_nchan=1)\n",
    "    t_twopart = clock() - ts\n",
    "    log.debug(\"invert_nested using inner=%.3f took %.1f seconds\" % (inner, t_twopart))\n",
    "    times.append(t_twopart)\n",
    "    \n",
    "    twopart_dirty = normalize_sumwt(twopart_dirty, twopart_sumwt)\n",
    "    export_image_to_fits(twopart_dirty, 'imaging-twopart_dirty_full%.3f.fits' % inner)   \n",
    "\n",
    "    twopart_dirty.data-=full_dirty.data\n",
    "\n",
    "    thisqa = qa_image(twopart_dirty)\n",
    "    print(thisqa)\n",
    "    qas.append(thisqa.data[criterion]) \n",
    "    \n",
    "    show_image(twopart_dirty)\n",
    "    plt.title(\"Error in dirty for inner = %.3f * uvmax\" % inner)\n",
    "    plt.show()"
   ]
  },
  {
   "cell_type": "code",
   "execution_count": null,
   "metadata": {
    "collapsed": false
   },
   "outputs": [],
   "source": [
    "print(times)\n",
    "print(qas)\n",
    "plt.clf()\n",
    "plt.plot(inners, times, label='twopart', color='g')\n",
    "plt.axhline(t_full, label='2d', color='r')\n",
    "plt.xlabel('Fraction of uvmax')\n",
    "plt.ylabel('Time (s)')\n",
    "plt.title('Processing time as function of fractional uvmax')\n",
    "plt.ylim(0.0, 1.1*t_full)\n",
    "plt.legend()\n",
    "plt.show()\n",
    "plt.clf()\n",
    "plt.plot(inners, qas, label='twopart', color='g')\n",
    "plt.axhline(qa_full, label='2d', color='r')\n",
    "plt.xlabel('Fraction of uvmax')\n",
    "plt.ylabel('Median abs')\n",
    "plt.ylim(0.0, 1.1*qa_full)\n",
    "\n",
    "plt.legend()\n",
    "plt.title('Median absolute error as function of fractional uvmax')\n",
    "plt.show()"
   ]
  }
 ],
 "metadata": {
  "kernelspec": {
   "display_name": "Python 3",
   "language": "python",
   "name": "python3"
  },
  "language_info": {
   "codemirror_mode": {
    "name": "ipython",
    "version": 3
   },
   "file_extension": ".py",
   "mimetype": "text/x-python",
   "name": "python",
   "nbconvert_exporter": "python",
   "pygments_lexer": "ipython3",
   "version": "3.5.1"
  },
  "widgets": {
   "state": {},
   "version": "1.1.2"
  }
 },
 "nbformat": 4,
 "nbformat_minor": 0
}
