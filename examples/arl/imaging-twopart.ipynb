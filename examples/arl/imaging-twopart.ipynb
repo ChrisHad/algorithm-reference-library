{
 "cells": [
  {
   "cell_type": "markdown",
   "metadata": {},
   "source": [
    "# Investigation of alternative to baseline-dependent averaging."
   ]
  },
  {
   "cell_type": "markdown",
   "metadata": {},
   "source": [
    "The idea is to partition the visibility into inner and outer parts. The density of samples in the inner parts of the uv plane is much greater so we can afford to use coarser gridding but with the same field of view as used for the\n",
    "further out data. The computation required for the inner, dense region of the Fourier plane is just a complex addition, instead of a complete gridding kernel complex add. This approach should rival two-region baseline-dependent averaging.\n",
    "\n",
    "In this notebook, we investigate the consequences of imaging in this way."
   ]
  },
  {
   "cell_type": "code",
   "execution_count": null,
   "metadata": {
    "collapsed": false
   },
   "outputs": [],
   "source": [
    "%matplotlib inline\n",
    "\n",
    "import os\n",
    "import sys\n",
    "\n",
    "from time import clock\n",
    "\n",
    "sys.path.append(os.path.join('..', '..'))\n",
    "\n",
    "from matplotlib import pylab\n",
    "\n",
    "pylab.rcParams['agg.path.chunksize'] = 10000\n",
    "pylab.rcParams['figure.figsize'] = (10.0, 10.0)\n",
    "pylab.rcParams['image.cmap'] = 'rainbow'\n",
    "\n",
    "import numpy\n",
    "\n",
    "from astropy.coordinates import SkyCoord\n",
    "from astropy import units as u\n",
    "from astropy import constants as const\n",
    "from astropy.wcs.utils import pixel_to_skycoord\n",
    "\n",
    "from matplotlib import pyplot as plt\n",
    "from matplotlib.pyplot import cm \n",
    "\n",
    "from arl.visibility.operations import create_visibility\n",
    "from arl.skymodel.operations import create_skycomponent\n",
    "from arl.image.operations import show_image, export_image_to_fits, qa_image, create_image_from_array, reproject_image\n",
    "from arl.fourier_transforms.fft_support import extract_mid\n",
    "from arl.image.iterators import raster_iter\n",
    "from arl.visibility.iterators import vis_timeslice_iter\n",
    "from arl.util.testing_support import create_named_configuration\n",
    "from arl.fourier_transforms.ftprocessor import *\n",
    "\n",
    "import logging\n",
    "log = logging.getLogger()\n",
    "log.setLevel(logging.DEBUG)\n",
    "log.addHandler(logging.StreamHandler(sys.stdout))"
   ]
  },
  {
   "cell_type": "markdown",
   "metadata": {},
   "source": [
    "Construct the SKA1-LOW configuration"
   ]
  },
  {
   "cell_type": "code",
   "execution_count": null,
   "metadata": {
    "collapsed": false
   },
   "outputs": [],
   "source": [
    "low = create_named_configuration('LOWBD2')"
   ]
  },
  {
   "cell_type": "markdown",
   "metadata": {},
   "source": [
    "We create the visibility holding the vis, uvw, time, antenna1, antenna2, weight columns in a table. The actual visibility values are zero."
   ]
  },
  {
   "cell_type": "code",
   "execution_count": null,
   "metadata": {
    "collapsed": false
   },
   "outputs": [],
   "source": [
    "times = numpy.arange(- numpy.pi / 4.0, + numpy.pi * 1.001 / 4.0, numpy.pi / 16)\n",
    "frequency = numpy.array([1e8])\n",
    "\n",
    "reffrequency = numpy.max(frequency)\n",
    "phasecentre = SkyCoord(ra=+15.0 * u.deg, dec=-45.0 * u.deg, frame='icrs', equinox=2000.0)\n",
    "vt = create_visibility(low, times, frequency, weight=1.0, phasecentre=phasecentre, spectral_mode='channel',\n",
    "                      reffrequency=1e8, channelwidth=5e7, npol=1) "
   ]
  },
  {
   "cell_type": "markdown",
   "metadata": {},
   "source": [
    "Create a model to serve as the image specification"
   ]
  },
  {
   "cell_type": "code",
   "execution_count": null,
   "metadata": {
    "collapsed": false,
    "scrolled": true
   },
   "outputs": [],
   "source": [
    "model = create_image_from_visibility(vt, npixel=1024, npol=1, cellsize=0.00001)"
   ]
  },
  {
   "cell_type": "markdown",
   "metadata": {},
   "source": [
    "Now calculate the density of samples in the Fourier plane"
   ]
  },
  {
   "cell_type": "code",
   "execution_count": null,
   "metadata": {
    "collapsed": false,
    "scrolled": false
   },
   "outputs": [],
   "source": [
    "vts, density, densitygrid = weight_visibility(vt, model)\n",
    "plt.clf()\n",
    "uvdist = numpy.sqrt(vts.u*vts.u+vts.v*vts.v)\n",
    "plt.semilogy(uvdist[density[:,0,0]>0.0], density[:,0,0][density[:,0,0]>0], '.')\n",
    "plt.xlabel('UV distance (m)')\n",
    "plt.ylabel('Density (weight per cell)')\n",
    "plt.show()"
   ]
  },
  {
   "cell_type": "markdown",
   "metadata": {},
   "source": [
    "First use invert_timeslice to get the benchmark time."
   ]
  },
  {
   "cell_type": "code",
   "execution_count": null,
   "metadata": {
    "collapsed": false,
    "scrolled": false
   },
   "outputs": [],
   "source": [
    "ts = clock()\n",
    "full_psf, full_sumwt = invert_2d(vt, model, dopsf=True, nprocessor=1)\n",
    "full_psf.data /= full_sumwt\n",
    "criterion = 'medianabs'\n",
    "qa_full = qa_image(full_psf).data[criterion]\n",
    "t_full = clock() - ts\n",
    "log.debug(\"Invert_2d took %.1f seconds\" % (t_full))\n",
    "export_image_to_fits(full_psf, 'imaging-twopart_psf_full.fits')"
   ]
  },
  {
   "cell_type": "code",
   "execution_count": null,
   "metadata": {
    "collapsed": false
   },
   "outputs": [],
   "source": [
    "def invert_twopart(vis, im, dopsf=False, invert=invert_2d, **kwargs):\n",
    "    \"\"\"Divide vis into inner and outer, image separately, and add\n",
    "    \n",
    "    Cut down on processing by gridding the inner (dense) part of Fourier plane with box gridding, \n",
    "    and the outer (sparse) part by more accurate PSWF gridding.\n",
    "    \"\"\"\n",
    "\n",
    "    # Partition the visibility data\n",
    "    boundary = get_parameter(kwargs, \"inner\", 0.25)\n",
    "    visr = numpy.sqrt(vis.u*vis.u+vis.v*vis.v)\n",
    "    uvmax = numpy.max(visr)\n",
    "    inner_rows = (numpy.abs(visr)  < boundary * uvmax) & (numpy.abs(visr) <  boundary * uvmax)\n",
    "    outer_rows = (numpy.abs(visr) >= boundary * uvmax) & (numpy.abs(visr) >= boundary * uvmax)\n",
    "\n",
    "    inner_vis = create_visibility_from_rows(vis, inner_rows)\n",
    "    outer_vis = create_visibility_from_rows(vis, outer_rows)\n",
    "    log.debug(\"Split in inner (%d rows) and outer (%d rows)\" % (numpy.sum(inner_rows), numpy.sum(outer_rows)))\n",
    "\n",
    "    # Do the outer baselines with standard parameters\n",
    "    outer_params = kwargs\n",
    "    outer_im = create_image_from_visibility(outer_vis, **outer_params)\n",
    "    outer_result, outer_sumwt = invert(outer_vis, outer_im, dopsf, **outer_params)\n",
    "    outer_result.data /= outer_sumwt \n",
    "    export_image_to_fits(outer_result, 'imaging-twopart_psf_outer%.3f.fits' % inner)\n",
    "\n",
    "    \n",
    "    # Do the inner baselines with much finer effective uv sampling. We acheive this by shrinking\n",
    "    # the image size, increasing the cellsize, and increasing the padding.\n",
    "    cellsize = get_parameter(kwargs, \"cellsize\", abs(numpy.pi * im.wcs.wcs.cdelt[0] / 180.0))\n",
    "    npixel = get_parameter(kwargs, \"npixel\", outer_result.data.shape[3])\n",
    "    padding = get_parameter(kwargs, \"padding\", 2)\n",
    "    \n",
    "    inner_params = kwargs\n",
    "    inner_params[\"npixel\"] = int(round(npixel * boundary))\n",
    "    inner_params[\"padding\"] = int(round(padding / boundary))\n",
    "    inner_params['cellsize'] = cellsize/boundary  \n",
    "    inner_params['kernel'] = 'box'\n",
    "\n",
    "    inner_im = create_image_from_visibility(inner_vis, **inner_params)\n",
    "    inner_result, inner_sumwt = invert(inner_vis, inner_im, dopsf, **inner_params)\n",
    "    inner_result.data /= inner_sumwt \n",
    "\n",
    "    result, footprint = reproject_image(inner_result, outer_result.wcs, outer_result.data.shape, **inner_params)\n",
    "    result.data[numpy.isnan(result.data)]=0.0\n",
    "    export_image_to_fits(result, 'imaging-twopart_psf_inner%.3f.fits' % inner)\n",
    "\n",
    "    result_sumwt = inner_sumwt + outer_sumwt\n",
    "    result.data = (inner_sumwt * result.data + outer_sumwt * outer_result.data)\n",
    "    \n",
    "    return result, result_sumwt "
   ]
  },
  {
   "cell_type": "markdown",
   "metadata": {},
   "source": [
    "Now do a range of partitions"
   ]
  },
  {
   "cell_type": "code",
   "execution_count": null,
   "metadata": {
    "collapsed": false,
    "scrolled": false
   },
   "outputs": [],
   "source": [
    "inners = [1.0/4.0, 1.0/8.0, 1.0/16.0, 1.0/32.0]\n",
    "times = []\n",
    "qas = []\n",
    "for inner in inners:\n",
    "    ts = clock()\n",
    "    twopart_psf, twopart_sumwt = invert_twopart(vt, model, dopsf=True, invert=invert_2d, \n",
    "                                                inner=inner, npixel=1024, cellsize=0.00001)\n",
    "    twopart_psf.data /= twopart_sumwt\n",
    "    export_image_to_fits(twopart_psf, 'imaging-twopart_psf_full%.3f.fits' % inner)   \n",
    "\n",
    "    t_twopart = clock() - ts\n",
    "    log.debug(\"Invert_twopart using inner=%.3f took %.1f seconds\" % (inner, t_twopart))\n",
    "    times.append(t_twopart)\n",
    "    twopart_psf.data-=full_psf.data\n",
    "\n",
    "    thisqa = qa_image(twopart_psf)\n",
    "    print(thisqa)\n",
    "    qas.append(thisqa.data[criterion]) \n",
    "    \n",
    "    show_image(twopart_psf)\n",
    "    plt.title(\"Error in PSF for inner = %.3f * uvmax\" % inner)\n",
    "    plt.show()\n",
    "\n",
    "    export_image_to_fits(twopart_psf, 'imaging-twopart_psf_error%.3f.fits' % inner)\n",
    "\n"
   ]
  },
  {
   "cell_type": "code",
   "execution_count": null,
   "metadata": {
    "collapsed": false
   },
   "outputs": [],
   "source": [
    "print(times)\n",
    "plt.clf()\n",
    "plt.plot(inners, times, label='twopart', color='g')\n",
    "plt.axhline(t_full, label='2d', color='r')\n",
    "plt.xlabel('Fraction of uvmax')\n",
    "plt.ylabel('Time (s)')\n",
    "plt.title('Processing time as function of fractional uvmax')\n",
    "plt.ylim(0.0, 1.1*t_full)\n",
    "plt.legend()\n",
    "plt.show()\n",
    "plt.clf()\n",
    "plt.plot(inners, qas, label='twopart', color='g')\n",
    "plt.axhline(qa_full, label='2d', color='r')\n",
    "plt.xlabel('Fraction of uvmax')\n",
    "plt.ylabel('Median abs')\n",
    "plt.ylim(0.0, 1.1*qa_full)\n",
    "\n",
    "plt.legend()\n",
    "plt.title('Median absolute error as function of fractional uvmax')\n",
    "plt.show()"
   ]
  },
  {
   "cell_type": "code",
   "execution_count": null,
   "metadata": {
    "collapsed": true
   },
   "outputs": [],
   "source": []
  }
 ],
 "metadata": {
  "kernelspec": {
   "display_name": "Python 3",
   "language": "python",
   "name": "python3"
  },
  "language_info": {
   "codemirror_mode": {
    "name": "ipython",
    "version": 3
   },
   "file_extension": ".py",
   "mimetype": "text/x-python",
   "name": "python",
   "nbconvert_exporter": "python",
   "pygments_lexer": "ipython3",
   "version": "3.5.1"
  },
  "widgets": {
   "state": {},
   "version": "1.1.2"
  }
 },
 "nbformat": 4,
 "nbformat_minor": 0
}
