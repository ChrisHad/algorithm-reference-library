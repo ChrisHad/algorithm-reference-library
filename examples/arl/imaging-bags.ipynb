{
 "cells": [
  {
   "cell_type": "markdown",
   "metadata": {},
   "source": [
    "# Dask bag-based imaging demonstration\n",
    "\n",
    "This notebook explores the use of dask bags for parallelisation. \n",
    "\n",
    "See imaging-pipelines notebook for pipeline processing with dask."
   ]
  },
  {
   "cell_type": "markdown",
   "metadata": {},
   "source": [
    "We create the visibility and fill in values with the transform of a number of point sources. "
   ]
  },
  {
   "cell_type": "code",
   "execution_count": null,
   "metadata": {
    "ExecuteTime": {
     "end_time": "2017-11-27T16:37:44.658296Z",
     "start_time": "2017-11-27T16:37:42.346212Z"
    }
   },
   "outputs": [],
   "source": [
    "%matplotlib inline\n",
    "\n",
    "import os\n",
    "import sys\n",
    "\n",
    "from dask import delayed, bag\n",
    "from distributed import Client\n",
    "\n",
    "results_dir = './results'\n",
    "os.makedirs(results_dir, exist_ok=True)\n",
    "\n",
    "from matplotlib import pylab\n",
    "\n",
    "pylab.rcParams['figure.figsize'] = (12.0, 12.0)\n",
    "pylab.rcParams['image.cmap'] = 'rainbow'\n",
    "\n",
    "import numpy\n",
    "\n",
    "from astropy.coordinates import SkyCoord\n",
    "from astropy import units as u\n",
    "from astropy.wcs.utils import pixel_to_skycoord\n",
    "\n",
    "from matplotlib import pyplot as plt\n",
    "\n",
    "from arl.calibration.operations import apply_gaintable\n",
    "from arl.data.polarisation import PolarisationFrame\n",
    "from arl.visibility.base import create_visibility, copy_visibility\n",
    "from arl.visibility.operations import concat_visibility\n",
    "from arl.skycomponent.operations import create_skycomponent\n",
    "from arl.image.operations import show_image, qa_image, create_empty_image_like\n",
    "from arl.util.testing_support import create_named_configuration, create_test_image\n",
    "from arl.imaging import create_image_from_visibility, predict_skycomponent_visibility, \\\n",
    "    advise_wide_field, predict_2d, invert_2d, normalize_sumwt\n",
    "from arl.imaging.wstack import predict_wstack_single, invert_wstack_single\n",
    "from arl.imaging.timeslice import predict_timeslice_single, invert_timeslice_single\n",
    "from arl.visibility.gather_scatter import visibility_gather_w, visibility_scatter_w\n",
    "from arl.visibility.gather_scatter import visibility_gather_time, visibility_scatter_time\n",
    "from arl.imaging.weighting import weight_visibility\n",
    "from arl.graphs.dask_init import get_dask_Client\n",
    "from arl.graphs.graphs import sum_invert_results\n",
    "from arl.pipelines.graphs import create_continuum_imaging_pipeline_graph\n",
    "from arl.graphs.bags import safe_invert_list, safe_predict_list, sum_invert_results\n",
    "\n",
    "import logging\n",
    "\n",
    "log = logging.getLogger()\n",
    "log.setLevel(logging.INFO)\n",
    "log.addHandler(logging.StreamHandler(sys.stdout))"
   ]
  },
  {
   "cell_type": "code",
   "execution_count": null,
   "metadata": {
    "ExecuteTime": {
     "end_time": "2017-11-27T16:37:44.717683Z",
     "start_time": "2017-11-27T16:37:44.659911Z"
    }
   },
   "outputs": [],
   "source": [
    "def ingest_visibility(freq=1e8, chan_width=1e6, reffrequency=[1e8],\n",
    "                      init=False):\n",
    "    lowcore = create_named_configuration('LOWBD2-CORE')\n",
    "    times = numpy.linspace(-numpy.pi / 4, numpy.pi / 4, 7)\n",
    "    frequency = numpy.array([freq])\n",
    "    channel_bandwidth = numpy.array([chan_width])\n",
    "\n",
    "    phasecentre = SkyCoord(\n",
    "        ra=+15.0 * u.deg, dec=-26.7 * u.deg, frame='icrs', equinox='J2000')\n",
    "    vt = create_visibility(\n",
    "        lowcore,\n",
    "        times,\n",
    "        frequency,\n",
    "        channel_bandwidth=channel_bandwidth,\n",
    "        weight=1.0,\n",
    "        phasecentre=phasecentre,\n",
    "        polarisation_frame=PolarisationFrame(\"stokesI\"))\n",
    "    if init:\n",
    "        npixel = 256\n",
    "        cellsize = 0.001\n",
    "        model = create_image_from_visibility(\n",
    "            vt,\n",
    "            npixel=npixel,\n",
    "            cellsize=cellsize,\n",
    "            npol=1,\n",
    "            frequency=reffrequency,\n",
    "            polarisation_frame=PolarisationFrame(\"stokesI\"))\n",
    "        flux = numpy.array([[100.0]])\n",
    "        facets = 4\n",
    "\n",
    "        spacing_pixels = npixel // facets\n",
    "        spacing = 180.0 * cellsize * spacing_pixels / numpy.pi\n",
    "        centers = -1.5, -0.5, +0.5, +1.5\n",
    "        comps = list()\n",
    "        for iy in centers:\n",
    "            for ix in centers:\n",
    "                pra = int(round(npixel // 2 + ix * spacing_pixels - 1))\n",
    "                pdec = int(round(npixel // 2 + iy * spacing_pixels - 1))\n",
    "                sc = pixel_to_skycoord(pra, pdec, model.wcs)\n",
    "                comps.append(\n",
    "                    create_skycomponent(\n",
    "                        flux=flux,\n",
    "                        frequency=reffrequency,\n",
    "                        direction=sc,\n",
    "                        polarisation_frame=PolarisationFrame(\"stokesI\")))\n",
    "        predict_skycomponent_visibility(vt, comps)\n",
    "\n",
    "    return vt"
   ]
  },
  {
   "cell_type": "code",
   "execution_count": null,
   "metadata": {
    "ExecuteTime": {
     "end_time": "2017-11-27T16:37:49.110878Z",
     "start_time": "2017-11-27T16:37:44.719464Z"
    },
    "scrolled": false
   },
   "outputs": [],
   "source": [
    "nfreqwin=7\n",
    "vis_bag=bag.from_sequence([ingest_visibility(freq) \n",
    "                           for freq in numpy.linspace(0.8e8,1.2e8,nfreqwin)])"
   ]
  },
  {
   "cell_type": "markdown",
   "metadata": {},
   "source": [
    "At this point, all we have is a bag containing instruction on how to construct the visibility"
   ]
  },
  {
   "cell_type": "code",
   "execution_count": null,
   "metadata": {
    "ExecuteTime": {
     "end_time": "2017-11-27T16:37:49.117294Z",
     "start_time": "2017-11-27T16:37:49.112912Z"
    }
   },
   "outputs": [],
   "source": [
    "print(vis_bag)"
   ]
  },
  {
   "cell_type": "markdown",
   "metadata": {},
   "source": [
    "We need to compute the graph in order to use it. First we just need a representative data set to calculate imaging parameters."
   ]
  },
  {
   "cell_type": "code",
   "execution_count": null,
   "metadata": {
    "ExecuteTime": {
     "end_time": "2017-11-27T16:37:49.319194Z",
     "start_time": "2017-11-27T16:37:49.119380Z"
    },
    "scrolled": true
   },
   "outputs": [],
   "source": [
    "npixel=256\n",
    "facets=4\n",
    "def get_LSM(vt, cellsize=0.001, reffrequency=[1e8]):\n",
    "    model = create_test_image(vt, cellsize=cellsize, frequency=reffrequency, \n",
    "                              phasecentre=vt.phasecentre,\n",
    "                              polarisation_frame=PolarisationFrame(\"stokesI\"))\n",
    "    return model\n",
    "\n",
    "vis_bag = list(vis_bag)\n",
    "model = get_LSM(vis_bag[0])\n",
    "advice=advise_wide_field(vis_bag[0], guard_band_image=4.0)"
   ]
  },
  {
   "cell_type": "markdown",
   "metadata": {},
   "source": [
    "Now we can set up the prediction of the visibility from the model"
   ]
  },
  {
   "cell_type": "code",
   "execution_count": null,
   "metadata": {
    "ExecuteTime": {
     "end_time": "2017-11-27T16:37:54.132137Z",
     "start_time": "2017-11-27T16:37:49.324445Z"
    },
    "scrolled": false
   },
   "outputs": [],
   "source": [
    "predicted_vis_bag=bag.from_sequence([ingest_visibility(freq) for freq in numpy.linspace(0.8e8,1.2e8,nfreqwin)])\\\n",
    "    .map(visibility_scatter_w, vis_slices=11)\\\n",
    "    .map(safe_predict_list, model, predict=predict_wstack_single)\\\n",
    "    .map(concat_visibility)"
   ]
  },
  {
   "cell_type": "code",
   "execution_count": null,
   "metadata": {
    "ExecuteTime": {
     "end_time": "2017-11-27T16:38:01.520039Z",
     "start_time": "2017-11-27T16:37:54.135036Z"
    },
    "scrolled": false
   },
   "outputs": [],
   "source": [
    "vt = predicted_vis_bag.compute()[0]\n",
    "\n",
    "# To check that we got the prediction right, plot the amplitude of the visibility.\n",
    "uvdist=numpy.sqrt(vt.data['uvw'][:,0]**2+vt.data['uvw'][:,1]**2)\n",
    "plt.clf()\n",
    "plt.plot(uvdist, numpy.abs(vt.data['vis']), '.')\n",
    "plt.xlabel('uvdist')\n",
    "plt.ylabel('Amp Visibility')\n",
    "plt.show()"
   ]
  },
  {
   "cell_type": "markdown",
   "metadata": {},
   "source": [
    "Now we can make the dirty image. For this we will scatter over time."
   ]
  },
  {
   "cell_type": "code",
   "execution_count": null,
   "metadata": {
    "ExecuteTime": {
     "end_time": "2017-11-27T16:39:27.487193Z",
     "start_time": "2017-11-27T16:39:17.680103Z"
    },
    "scrolled": false
   },
   "outputs": [],
   "source": [
    "dirty_bag=predicted_vis_bag\\\n",
    "    .map(visibility_scatter_w, vis_slices=11)\\\n",
    "    .map(safe_invert_list, model, invert_wstack_single, dopsf=False, normalize=True)\\\n",
    "    .flatten()\\\n",
    "    .reduction(sum_invert_results, sum_invert_results)\n",
    "\n",
    "dirty, sumwt=dirty_bag.compute()\n",
    "print(qa_image(dirty, context='Dirty'))\n",
    "show_image(dirty, title='Dirty')\n",
    "plt.show()"
   ]
  },
  {
   "cell_type": "code",
   "execution_count": null,
   "metadata": {},
   "outputs": [],
   "source": []
  }
 ],
 "metadata": {
  "kernelspec": {
   "display_name": "Python 3",
   "language": "python",
   "name": "python3"
  },
  "language_info": {
   "codemirror_mode": {
    "name": "ipython",
    "version": 3
   },
   "file_extension": ".py",
   "mimetype": "text/x-python",
   "name": "python",
   "nbconvert_exporter": "python",
   "pygments_lexer": "ipython3",
   "version": "3.6.1"
  },
  "notify_time": "30"
 },
 "nbformat": 4,
 "nbformat_minor": 1
}
