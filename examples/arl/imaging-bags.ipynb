{
 "cells": [
  {
   "cell_type": "markdown",
   "metadata": {},
   "source": [
    "# Dask bag-based imaging demonstration\n",
    "\n",
    "This notebook explores the use of dask bags for parallelisation. \n",
    "\n",
    "See imaging-dask notebook for processing with dask delayed"
   ]
  },
  {
   "cell_type": "markdown",
   "metadata": {},
   "source": [
    "We create the visibility and fill in values with the transform of a number of point sources. "
   ]
  },
  {
   "cell_type": "code",
   "execution_count": null,
   "metadata": {
    "ExecuteTime": {
     "end_time": "2017-12-19T13:33:22.138267Z",
     "start_time": "2017-12-19T13:33:20.231830Z"
    }
   },
   "outputs": [],
   "source": [
    "%matplotlib inline\n",
    "\n",
    "import os\n",
    "import sys\n",
    "\n",
    "from dask import delayed, bag\n",
    "from distributed import Client\n",
    "\n",
    "results_dir = './results'\n",
    "os.makedirs(results_dir, exist_ok=True)\n",
    "\n",
    "from matplotlib import pylab\n",
    "\n",
    "pylab.rcParams['figure.figsize'] = (12.0, 12.0)\n",
    "pylab.rcParams['image.cmap'] = 'rainbow'\n",
    "\n",
    "import numpy\n",
    "\n",
    "from astropy.coordinates import SkyCoord\n",
    "from astropy import units as u\n",
    "from astropy.wcs.utils import pixel_to_skycoord\n",
    "\n",
    "from matplotlib import pyplot as plt\n",
    "\n",
    "from arl.calibration.operations import apply_gaintable\n",
    "from arl.data.polarisation import PolarisationFrame\n",
    "from arl.visibility.base import create_visibility, copy_visibility\n",
    "from arl.visibility.operations import concatenate_visibility\n",
    "from arl.skycomponent.operations import create_skycomponent\n",
    "from arl.image.operations import show_image, qa_image, create_empty_image_like,\\\n",
    "    pad_image, show_image\n",
    "from arl.image.deconvolution import deconvolve_cube, restore_cube\n",
    "from arl.util.testing_support import create_named_configuration, create_test_image\n",
    "from arl.image.operations import create_empty_image_like, create_image_from_array\n",
    "from arl.imaging import create_image_from_visibility, predict_skycomponent_visibility, \\\n",
    "    advise_wide_field, predict_2d, invert_2d, normalize_sumwt\n",
    "from arl.imaging.imaging_context import imaging_context\n",
    "from arl.imaging.wstack import predict_wstack_single, invert_wstack_single\n",
    "from arl.imaging.timeslice import predict_timeslice_single, invert_timeslice_single\n",
    "from arl.visibility.gather_scatter import visibility_gather_w, visibility_scatter_w\n",
    "from arl.visibility.gather_scatter import visibility_gather_time, visibility_scatter_time\n",
    "from arl.imaging.weighting import weight_visibility\n",
    "from arl.graphs.dask_init import get_dask_Client\n",
    "\n",
    "from arl.graphs.bags import predict_bag, predict_record, scatter_record, invert_bag, invert_record,\\\n",
    "    invert_record_add, create_empty_image_record, create_empty_visibility_record, folded_to_image_record, \\\n",
    "    folded_to_visibility_record, deconvolve_bag\n",
    "\n",
    "import pprint\n",
    "pp = pprint.PrettyPrinter(indent=4)\n",
    "import logging\n",
    "\n",
    "log = logging.getLogger()\n",
    "log.setLevel(logging.DEBUG)\n",
    "log.addHandler(logging.StreamHandler(sys.stdout))"
   ]
  },
  {
   "cell_type": "markdown",
   "metadata": {
    "ExecuteTime": {
     "end_time": "2017-12-19T09:09:01.239971Z",
     "start_time": "2017-12-19T09:09:01.236444Z"
    }
   },
   "source": [
    "Create a Dask client to perform the computation of the bags"
   ]
  },
  {
   "cell_type": "code",
   "execution_count": null,
   "metadata": {
    "ExecuteTime": {
     "end_time": "2017-12-19T13:33:24.562191Z",
     "start_time": "2017-12-19T13:33:22.139873Z"
    }
   },
   "outputs": [],
   "source": [
    "c=get_dask_Client()"
   ]
  },
  {
   "cell_type": "markdown",
   "metadata": {},
   "source": [
    "Define a function to create the visibilities"
   ]
  },
  {
   "cell_type": "code",
   "execution_count": null,
   "metadata": {
    "ExecuteTime": {
     "end_time": "2017-12-19T13:33:24.633770Z",
     "start_time": "2017-12-19T13:33:24.566165Z"
    }
   },
   "outputs": [],
   "source": [
    "def ingest_visibility(freq=[1e8],\n",
    "                      chan_width=[1e6],\n",
    "                      times=[0.0],\n",
    "                      reffrequency=[1e8],\n",
    "                      npixel=512,\n",
    "                      init=False):\n",
    "    lowcore = create_named_configuration('LOWBD2-CORE')\n",
    "\n",
    "    frequency = numpy.array(freq)\n",
    "    channel_bandwidth = numpy.array(chan_width)\n",
    "\n",
    "    phasecentre = SkyCoord(\n",
    "        ra=+15.0 * u.deg, dec=-26.7 * u.deg, frame='icrs', equinox='J2000')\n",
    "    vt = create_visibility(\n",
    "        lowcore,\n",
    "        times,\n",
    "        frequency,\n",
    "        channel_bandwidth=channel_bandwidth,\n",
    "        weight=1.0,\n",
    "        phasecentre=phasecentre,\n",
    "        polarisation_frame=PolarisationFrame(\"stokesI\"))\n",
    "    if init:\n",
    "        cellsize = 0.001\n",
    "        model = create_image_from_visibility(\n",
    "            vt,\n",
    "            npixel=npixel,\n",
    "            cellsize=cellsize,\n",
    "            npol=1,\n",
    "            frequency=reffrequency,\n",
    "            polarisation_frame=PolarisationFrame(\"stokesI\"))\n",
    "        flux = numpy.array([[100.0]])\n",
    "        facets = 4\n",
    "\n",
    "        spacing_pixels = npixel // facets\n",
    "        spacing = 180.0 * cellsize * spacing_pixels / numpy.pi\n",
    "        centers = -1.5, -0.5, +0.5, +1.5\n",
    "        comps = list()\n",
    "        for iy in centers:\n",
    "            for ix in centers:\n",
    "                pra = int(round(npixel // 2 + ix * spacing_pixels - 1))\n",
    "                pdec = int(round(npixel // 2 + iy * spacing_pixels - 1))\n",
    "                sc = pixel_to_skycoord(pra, pdec, model.wcs)\n",
    "                comps.append(\n",
    "                    create_skycomponent(\n",
    "                        flux=flux,\n",
    "                        frequency=reffrequency,\n",
    "                        direction=sc,\n",
    "                        polarisation_frame=PolarisationFrame(\"stokesI\")))\n",
    "        predict_skycomponent_visibility(vt, comps)\n",
    "\n",
    "    return vt"
   ]
  },
  {
   "cell_type": "markdown",
   "metadata": {},
   "source": [
    "Now make five of these spanning 800MHz to 1200MHz and put them into a Dask bag. We do this with varying levels of aggregation but will only use f_vis_bag.\n",
    "\n",
    "The visibilities are wrapped in meta-data required to enable the bag operations."
   ]
  },
  {
   "cell_type": "code",
   "execution_count": null,
   "metadata": {
    "ExecuteTime": {
     "end_time": "2017-12-19T13:33:41.161211Z",
     "start_time": "2017-12-19T13:33:24.635956Z"
    },
    "scrolled": false
   },
   "outputs": [],
   "source": [
    "nfreqwin = 5\n",
    "ntimes = 5\n",
    "times = numpy.linspace(-numpy.pi / 4, numpy.pi / 4, ntimes)\n",
    "frequencies = numpy.linspace(0.8e8, 1.2e8, nfreqwin)\n",
    "chan_width=numpy.array(nfreqwin*[4e7/nfreqwin])\n",
    "\n",
    "all_vis_bag = bag.from_sequence([{'vis': ingest_visibility(frequencies, chan_width=chan_width,\n",
    "                                                           times=times)}])\n",
    "pp.pprint('All data:')\n",
    "pp.pprint(list(all_vis_bag))\n",
    "\n",
    "f_vis_bag = bag.from_sequence([{'freqwin': f,\n",
    "                                'vis': ingest_visibility([freq], chan_width=[chan_width[f]],\n",
    "                                                         times=times)}\n",
    "                               for f, freq in enumerate(frequencies)])\n",
    "\n",
    "pp.pprint('Per frequency:')\n",
    "pp.pprint(list(f_vis_bag))\n",
    "\n",
    "t_vis_bag = bag.from_sequence([{'timewin': t,\n",
    "                                'vis': ingest_visibility(frequencies, chan_width=chan_width,\n",
    "                                                         times=[time])}\n",
    "                               for t, time in enumerate(times)])\n",
    "pp.pprint('Per time: ')\n",
    "pp.pprint(list(t_vis_bag))\n",
    "\n",
    "ft_vis_bag = bag.from_sequence([{'freqwin': f,\n",
    "                                 'timewin': t,\n",
    "                                 'vis': ingest_visibility([freq], chan_width=[chan_width[f]],\n",
    "                                                          times=[time])}\n",
    "                                for f, freq in enumerate(frequencies)\n",
    "                                for t, time in enumerate(times)])\n",
    "pp.pprint('Per frequency and time: ')\n",
    "pp.pprint(list(ft_vis_bag))"
   ]
  },
  {
   "cell_type": "markdown",
   "metadata": {},
   "source": [
    "Make a model image."
   ]
  },
  {
   "cell_type": "code",
   "execution_count": null,
   "metadata": {
    "ExecuteTime": {
     "end_time": "2017-12-19T13:33:43.191902Z",
     "start_time": "2017-12-19T13:33:41.164477Z"
    },
    "scrolled": false
   },
   "outputs": [],
   "source": [
    "npixel = 512\n",
    "\n",
    "def get_LSM(vt, cellsize=0.001, reffrequency=[1e8], npixel=512):\n",
    "    model = pad_image(\n",
    "        create_test_image(\n",
    "            vt,\n",
    "            cellsize=cellsize,\n",
    "            frequency=reffrequency,\n",
    "            phasecentre=vt.phasecentre,\n",
    "            polarisation_frame=PolarisationFrame(\"stokesI\")),\n",
    "        shape=[1, 1, npixel, npixel])\n",
    "    return model\n",
    "\n",
    "future = c.compute(all_vis_bag)\n",
    "\n",
    "all_vis_bag = bag.from_sequence(future.result())\n",
    "advice = advise_wide_field(all_vis_bag.compute()[0]['vis'], guard_band_image=4.0)\n",
    "model = get_LSM(all_vis_bag.compute()[0]['vis'], npixel=npixel, reffrequency=[frequencies[0]])"
   ]
  },
  {
   "cell_type": "markdown",
   "metadata": {},
   "source": [
    "For the processing to come, we need to attach some meta data to aid in selecting the data."
   ]
  },
  {
   "cell_type": "markdown",
   "metadata": {},
   "source": [
    "Now we can set up the prediction of the visibility from the model. We scatter over w and then apply the wstack for a single w plane. Then we concatenate the visibilities back together."
   ]
  },
  {
   "cell_type": "code",
   "execution_count": null,
   "metadata": {
    "ExecuteTime": {
     "end_time": "2017-12-19T13:34:52.934543Z",
     "start_time": "2017-12-19T13:33:43.194266Z"
    },
    "scrolled": true
   },
   "outputs": [],
   "source": [
    "future=c.compute(predict_bag(f_vis_bag, model, context='wstack_single', vis_slices=101))\n",
    "vis_bag=bag.from_sequence(future.result())"
   ]
  },
  {
   "cell_type": "markdown",
   "metadata": {},
   "source": [
    "We will form a dirty images for each frequency from all times. "
   ]
  },
  {
   "cell_type": "code",
   "execution_count": null,
   "metadata": {
    "ExecuteTime": {
     "end_time": "2017-12-19T13:34:52.942542Z",
     "start_time": "2017-12-19T13:34:52.937910Z"
    },
    "scrolled": false
   },
   "outputs": [],
   "source": [
    "dirty_bag = invert_bag(vis_bag, model, context='wstack_single')    \n",
    "psf_bag = invert_bag(vis_bag, model, dopsf=True, context='wstack_single')"
   ]
  },
  {
   "cell_type": "code",
   "execution_count": null,
   "metadata": {
    "ExecuteTime": {
     "end_time": "2017-12-19T13:34:54.242543Z",
     "start_time": "2017-12-19T13:34:52.944280Z"
    },
    "scrolled": true
   },
   "outputs": [],
   "source": [
    "future = c.compute(dirty_bag)\n",
    "result = future.result()"
   ]
  },
  {
   "cell_type": "markdown",
   "metadata": {},
   "source": [
    "The bags contain the Image objects wrapped in meta data."
   ]
  },
  {
   "cell_type": "code",
   "execution_count": null,
   "metadata": {
    "ExecuteTime": {
     "end_time": "2017-12-19T13:34:54.259104Z",
     "start_time": "2017-12-19T13:34:54.245077Z"
    }
   },
   "outputs": [],
   "source": [
    "pp.pprint(result)"
   ]
  },
  {
   "cell_type": "code",
   "execution_count": null,
   "metadata": {
    "ExecuteTime": {
     "end_time": "2017-12-19T13:34:57.253955Z",
     "start_time": "2017-12-19T13:34:54.260993Z"
    }
   },
   "outputs": [],
   "source": [
    "future = c.compute(dirty_bag)\n",
    "result = future.result()\n",
    "dirty, sumwt = result[0]['image']\n",
    "show_image(dirty)\n",
    "plt.show()\n",
    "\n",
    "\n",
    "future = c.compute(psf_bag)\n",
    "result = future.result()\n",
    "psf, sumwt = result[0]['image']\n",
    "show_image(psf)\n",
    "plt.show()"
   ]
  },
  {
   "cell_type": "markdown",
   "metadata": {},
   "source": [
    "Now we can do the deconvolution for each frequency window"
   ]
  },
  {
   "cell_type": "code",
   "execution_count": null,
   "metadata": {
    "ExecuteTime": {
     "end_time": "2017-12-19T13:35:52.314741Z",
     "start_time": "2017-12-19T13:34:57.256011Z"
    },
    "scrolled": false
   },
   "outputs": [],
   "source": [
    "comp_bag=deconvolve_bag(dirty_bag, psf_bag, model, niter=1000, threshold=0.01, \n",
    "                    fracthresh=0.1, window_shape='quarter',\n",
    "                    gain=0.7, scales=[0, 3, 10])\n",
    "\n",
    "future=c.compute(comp_bag)\n",
    "comp = comp_bag.compute()\n",
    "for clean in comp:\n",
    "    fig=show_image(clean)\n",
    "    plt.show()\n",
    "\n",
    "comp_bag=bag.from_sequence(comp)"
   ]
  },
  {
   "cell_type": "code",
   "execution_count": null,
   "metadata": {},
   "outputs": [],
   "source": []
  }
 ],
 "metadata": {
  "kernelspec": {
   "display_name": "Python 3",
   "language": "python",
   "name": "python3"
  },
  "language_info": {
   "codemirror_mode": {
    "name": "ipython",
    "version": 3
   },
   "file_extension": ".py",
   "mimetype": "text/x-python",
   "name": "python",
   "nbconvert_exporter": "python",
   "pygments_lexer": "ipython3",
   "version": "3.6.1"
  },
  "notify_time": "30"
 },
 "nbformat": 4,
 "nbformat_minor": 1
}
