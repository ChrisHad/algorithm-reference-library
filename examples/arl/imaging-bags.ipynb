{
 "cells": [
  {
   "cell_type": "markdown",
   "metadata": {},
   "source": [
    "# Dask bag-based imaging demonstration\n",
    "\n",
    "This notebook explores the use of dask bags for parallelisation. For the most part we work with the bags directly. Much of this can be hidden in standard functions.\n",
    "\n",
    "See imaging-dask notebook for processing with dask delayed"
   ]
  },
  {
   "cell_type": "markdown",
   "metadata": {},
   "source": [
    "We create the visibility and fill in values with the transform of a number of point sources. "
   ]
  },
  {
   "cell_type": "code",
   "execution_count": 1,
   "metadata": {
    "ExecuteTime": {
     "end_time": "2017-12-10T13:06:40.898391Z",
     "start_time": "2017-12-10T13:06:38.704613Z"
    }
   },
   "outputs": [],
   "source": [
    "% matplotlib inline\n",
    "\n",
    "import os\n",
    "import sys\n",
    "\n",
    "from dask import bag\n",
    "from distributed import Client\n",
    "\n",
    "results_dir = './results'\n",
    "os.makedirs(results_dir, exist_ok=True)\n",
    "\n",
    "from matplotlib import pylab\n",
    "\n",
    "pylab.rcParams['figure.figsize'] = (12.0, 12.0)\n",
    "pylab.rcParams['image.cmap'] = 'rainbow'\n",
    "\n",
    "import numpy\n",
    "\n",
    "from astropy.coordinates import SkyCoord\n",
    "from astropy import units as u\n",
    "from astropy.wcs.utils import pixel_to_skycoord\n",
    "\n",
    "from matplotlib import pyplot as plt\n",
    "\n",
    "from arl.calibration.operations import apply_gaintable, create_gaintable_from_blockvisibility\n",
    "from arl.calibration.solvers import solve_gaintable\n",
    "from arl.data.polarisation import PolarisationFrame\n",
    "from arl.visibility.base import create_visibility, create_blockvisibility\n",
    "from arl.visibility.operations import concatenate_visibility, subtract_visibility\n",
    "from arl.visibility.coalesce import decoalesce_visibility\n",
    "from arl.skycomponent.operations import create_skycomponent\n",
    "from arl.image.operations import show_image, qa_image, pad_image\n",
    "from arl.image.deconvolution import deconvolve_cube, restore_cube\n",
    "from arl.util.testing_support import create_named_configuration, create_test_image, simulate_gaintable\n",
    "from arl.imaging import create_image_from_visibility, advise_wide_field\n",
    "from arl.imaging.wstack import predict_wstack_single, invert_wstack_single\n",
    "from arl.visibility.gather_scatter import visibility_gather_w, visibility_scatter_w\n",
    "from arl.imaging.weighting import weight_visibility\n",
    "from arl.graphs.dask_init import get_dask_Client\n",
    "from arl.graphs.bags import safe_invert_list, safe_predict_list, sum_invert_bag_results\n",
    "from arl.visibility.coalesce import decoalesce_visibility\n",
    "from arl.visibility.coalesce import coalesce_visibility\n",
    "\n",
    "import logging\n",
    "\n",
    "log = logging.getLogger()\n",
    "log.setLevel(logging.INFO)\n",
    "log.addHandler(logging.StreamHandler(sys.stdout))\n"
   ]
  },
  {
   "cell_type": "markdown",
   "metadata": {},
   "source": [
    "Define a function to create the visibilities"
   ]
  },
  {
   "cell_type": "code",
   "execution_count": 2,
   "metadata": {
    "ExecuteTime": {
     "end_time": "2017-12-10T13:06:40.918357Z",
     "start_time": "2017-12-10T13:06:40.900450Z"
    }
   },
   "outputs": [],
   "source": [
    "def ingest_visibility(freq=1e8, chan_width=1e6, reffrequency=[1e8], npixel=512,\n",
    "                      init=False, block=True, add_errors=False):\n",
    "    lowcore = create_named_configuration('LOWBD2-CORE')\n",
    "    times = numpy.linspace(-numpy.pi / 4, numpy.pi / 4, 7)\n",
    "    frequency = numpy.array([freq])\n",
    "    channel_bandwidth = numpy.array([chan_width])\n",
    "\n",
    "    phasecentre = SkyCoord(\n",
    "        ra=+15.0 * u.deg, dec=-26.7 * u.deg, frame='icrs', equinox='J2000')\n",
    "    if block:\n",
    "        vt = create_blockvisibility(\n",
    "            lowcore,\n",
    "            times,\n",
    "            frequency,\n",
    "            channel_bandwidth=channel_bandwidth,\n",
    "            weight=1.0,\n",
    "            phasecentre=phasecentre,\n",
    "            polarisation_frame=PolarisationFrame(\"stokesI\"))\n",
    "    else:\n",
    "        vt = create_visibility(\n",
    "            lowcore,\n",
    "            times,\n",
    "            frequency,\n",
    "            channel_bandwidth=channel_bandwidth,\n",
    "            weight=1.0,\n",
    "            phasecentre=phasecentre,\n",
    "            polarisation_frame=PolarisationFrame(\"stokesI\"))\n",
    "    return vt"
   ]
  },
  {
   "cell_type": "code",
   "execution_count": 51,
   "metadata": {
    "ExecuteTime": {
     "end_time": "2017-12-11T08:02:42.925411Z",
     "start_time": "2017-12-11T08:02:42.922084Z"
    }
   },
   "outputs": [],
   "source": [
    "import pprint\n",
    "pp=pprint.PrettyPrinter()"
   ]
  },
  {
   "cell_type": "code",
   "execution_count": null,
   "metadata": {},
   "outputs": [],
   "source": []
  },
  {
   "cell_type": "code",
   "execution_count": 124,
   "metadata": {
    "ExecuteTime": {
     "end_time": "2017-12-11T10:02:15.999958Z",
     "start_time": "2017-12-11T10:02:11.584822Z"
    },
    "scrolled": false
   },
   "outputs": [
    {
     "name": "stdout",
     "output_type": "stream",
     "text": [
      "create_blockvisibility: 7 rows, 0.009 GB\n",
      "create_blockvisibility: 7 rows, 0.009 GB\n",
      "create_blockvisibility: 7 rows, 0.009 GB\n",
      "create_blockvisibility: 7 rows, 0.009 GB\n",
      "create_blockvisibility: 7 rows, 0.009 GB\n",
      "create_blockvisibility: 7 rows, 0.009 GB\n",
      "create_blockvisibility: 7 rows, 0.009 GB\n",
      "create_blockvisibility: 7 rows, 0.009 GB\n",
      "create_blockvisibility: 7 rows, 0.009 GB\n",
      "create_blockvisibility: 7 rows, 0.009 GB\n",
      "[{'freqwin': 0,\n",
      "  'vis': <arl.data.data_models.BlockVisibility object at 0x11aa78860>},\n",
      " {'freqwin': 1,\n",
      "  'vis': <arl.data.data_models.BlockVisibility object at 0x112ccf748>},\n",
      " {'freqwin': 2,\n",
      "  'vis': <arl.data.data_models.BlockVisibility object at 0x11a981be0>},\n",
      " {'freqwin': 3,\n",
      "  'vis': <arl.data.data_models.BlockVisibility object at 0x11aa73fd0>},\n",
      " {'freqwin': 4,\n",
      "  'vis': <arl.data.data_models.BlockVisibility object at 0x11a981ef0>}]\n"
     ]
    }
   ],
   "source": [
    "nfreqwin=5\n",
    "vis_dict = [{'freqwin':f, \n",
    "            'vis':[ingest_visibility(freq, init=True, block=True, add_errors=True)]}\n",
    "            for f, freq in  enumerate(numpy.linspace(0.8e8,1.2e8,nfreqwin))]\n",
    "\n",
    "vis_list = [{'freqwin':f,\n",
    "             'vis':ingest_visibility(freq, init=True, block=True, add_errors=True)}\n",
    "            for f, freq in  enumerate(numpy.linspace(0.8e8,1.2e8,nfreqwin))]\n",
    "\n",
    "vis_bag = bag.from_sequence(vis_list)\n",
    "pp.pprint(list(vis_bag))"
   ]
  },
  {
   "cell_type": "code",
   "execution_count": 119,
   "metadata": {
    "ExecuteTime": {
     "end_time": "2017-12-11T09:57:44.475760Z",
     "start_time": "2017-12-11T09:57:43.190156Z"
    },
    "scrolled": false
   },
   "outputs": [
    {
     "name": "stderr",
     "output_type": "stream",
     "text": [
      "tornado.application - ERROR - Future <tornado.concurrent.Future object at 0x11963c668> exception was never retrieved: Traceback (most recent call last):\n",
      "  File \"/Users/timcornwell/anaconda/envs/arlenv/lib/python3.6/site-packages/tornado/gen.py\", line 1069, in run\n",
      "    yielded = self.gen.send(value)\n",
      "  File \"/Users/timcornwell/anaconda/envs/arlenv/lib/python3.6/site-packages/distributed/client.py\", line 1269, in wait\n",
      "    raise AllExit()\n",
      "distributed.client.AllExit\n",
      "tornado.application - ERROR - Future <tornado.concurrent.Future object at 0x11961e1d0> exception was never retrieved: Traceback (most recent call last):\n",
      "  File \"/Users/timcornwell/anaconda/envs/arlenv/lib/python3.6/site-packages/tornado/gen.py\", line 1069, in run\n",
      "    yielded = self.gen.send(value)\n",
      "  File \"/Users/timcornwell/anaconda/envs/arlenv/lib/python3.6/site-packages/distributed/client.py\", line 1269, in wait\n",
      "    raise AllExit()\n",
      "distributed.client.AllExit\n",
      "tornado.application - ERROR - Future <tornado.concurrent.Future object at 0x1161427b8> exception was never retrieved: Traceback (most recent call last):\n",
      "  File \"/Users/timcornwell/anaconda/envs/arlenv/lib/python3.6/site-packages/tornado/gen.py\", line 1069, in run\n",
      "    yielded = self.gen.send(value)\n",
      "  File \"/Users/timcornwell/anaconda/envs/arlenv/lib/python3.6/site-packages/distributed/client.py\", line 1269, in wait\n",
      "    raise AllExit()\n",
      "distributed.client.AllExit\n",
      "tornado.application - ERROR - Future <tornado.concurrent.Future object at 0x119762160> exception was never retrieved: Traceback (most recent call last):\n",
      "  File \"/Users/timcornwell/anaconda/envs/arlenv/lib/python3.6/site-packages/tornado/gen.py\", line 1069, in run\n",
      "    yielded = self.gen.send(value)\n",
      "  File \"/Users/timcornwell/anaconda/envs/arlenv/lib/python3.6/site-packages/distributed/client.py\", line 1269, in wait\n",
      "    raise AllExit()\n",
      "distributed.client.AllExit\n",
      "tornado.application - ERROR - Future <tornado.concurrent.Future object at 0x115f450f0> exception was never retrieved: Traceback (most recent call last):\n",
      "  File \"/Users/timcornwell/anaconda/envs/arlenv/lib/python3.6/site-packages/tornado/gen.py\", line 1069, in run\n",
      "    yielded = self.gen.send(value)\n",
      "  File \"/Users/timcornwell/anaconda/envs/arlenv/lib/python3.6/site-packages/distributed/client.py\", line 1269, in wait\n",
      "    raise AllExit()\n",
      "distributed.client.AllExit\n",
      "tornado.application - ERROR - Future <tornado.concurrent.Future object at 0x115f51b00> exception was never retrieved: Traceback (most recent call last):\n",
      "  File \"/Users/timcornwell/anaconda/envs/arlenv/lib/python3.6/site-packages/tornado/gen.py\", line 1069, in run\n",
      "    yielded = self.gen.send(value)\n",
      "  File \"/Users/timcornwell/anaconda/envs/arlenv/lib/python3.6/site-packages/distributed/client.py\", line 1269, in wait\n",
      "    raise AllExit()\n",
      "distributed.client.AllExit\n",
      "tornado.application - ERROR - Future <tornado.concurrent.Future object at 0x115f51f60> exception was never retrieved: Traceback (most recent call last):\n",
      "  File \"/Users/timcornwell/anaconda/envs/arlenv/lib/python3.6/site-packages/tornado/gen.py\", line 1069, in run\n",
      "    yielded = self.gen.send(value)\n",
      "  File \"/Users/timcornwell/anaconda/envs/arlenv/lib/python3.6/site-packages/distributed/client.py\", line 1269, in wait\n",
      "    raise AllExit()\n",
      "distributed.client.AllExit\n",
      "tornado.application - ERROR - Future <tornado.concurrent.Future object at 0x115f51710> exception was never retrieved: Traceback (most recent call last):\n",
      "  File \"/Users/timcornwell/anaconda/envs/arlenv/lib/python3.6/site-packages/tornado/gen.py\", line 1069, in run\n",
      "    yielded = self.gen.send(value)\n",
      "  File \"/Users/timcornwell/anaconda/envs/arlenv/lib/python3.6/site-packages/distributed/client.py\", line 1269, in wait\n",
      "    raise AllExit()\n",
      "distributed.client.AllExit\n",
      "tornado.application - ERROR - Future <tornado.concurrent.Future object at 0x11ab07c50> exception was never retrieved: Traceback (most recent call last):\n",
      "  File \"/Users/timcornwell/anaconda/envs/arlenv/lib/python3.6/site-packages/tornado/gen.py\", line 1069, in run\n",
      "    yielded = self.gen.send(value)\n",
      "  File \"/Users/timcornwell/anaconda/envs/arlenv/lib/python3.6/site-packages/distributed/client.py\", line 1269, in wait\n",
      "    raise AllExit()\n",
      "distributed.client.AllExit\n",
      "tornado.application - ERROR - Future <tornado.concurrent.Future object at 0x11ab071d0> exception was never retrieved: Traceback (most recent call last):\n",
      "  File \"/Users/timcornwell/anaconda/envs/arlenv/lib/python3.6/site-packages/tornado/gen.py\", line 1069, in run\n",
      "    yielded = self.gen.send(value)\n",
      "  File \"/Users/timcornwell/anaconda/envs/arlenv/lib/python3.6/site-packages/distributed/client.py\", line 1269, in wait\n",
      "    raise AllExit()\n",
      "distributed.client.AllExit\n",
      "tornado.application - ERROR - Future <tornado.concurrent.Future object at 0x112ffc518> exception was never retrieved: Traceback (most recent call last):\n",
      "  File \"/Users/timcornwell/anaconda/envs/arlenv/lib/python3.6/site-packages/tornado/gen.py\", line 1069, in run\n",
      "    yielded = self.gen.send(value)\n",
      "  File \"/Users/timcornwell/anaconda/envs/arlenv/lib/python3.6/site-packages/distributed/client.py\", line 1269, in wait\n",
      "    raise AllExit()\n",
      "distributed.client.AllExit\n",
      "tornado.application - ERROR - Future <tornado.concurrent.Future object at 0x11abf6278> exception was never retrieved: Traceback (most recent call last):\n",
      "  File \"/Users/timcornwell/anaconda/envs/arlenv/lib/python3.6/site-packages/tornado/gen.py\", line 1069, in run\n",
      "    yielded = self.gen.send(value)\n",
      "  File \"/Users/timcornwell/anaconda/envs/arlenv/lib/python3.6/site-packages/distributed/client.py\", line 1269, in wait\n",
      "    raise AllExit()\n",
      "distributed.client.AllExit\n",
      "tornado.application - ERROR - Future <tornado.concurrent.Future object at 0x11604ceb8> exception was never retrieved: Traceback (most recent call last):\n",
      "  File \"/Users/timcornwell/anaconda/envs/arlenv/lib/python3.6/site-packages/tornado/gen.py\", line 1069, in run\n",
      "    yielded = self.gen.send(value)\n",
      "  File \"/Users/timcornwell/anaconda/envs/arlenv/lib/python3.6/site-packages/distributed/client.py\", line 1269, in wait\n",
      "    raise AllExit()\n",
      "distributed.client.AllExit\n",
      "tornado.application - ERROR - Future <tornado.concurrent.Future object at 0x11604ca58> exception was never retrieved: Traceback (most recent call last):\n",
      "  File \"/Users/timcornwell/anaconda/envs/arlenv/lib/python3.6/site-packages/tornado/gen.py\", line 1069, in run\n",
      "    yielded = self.gen.send(value)\n",
      "  File \"/Users/timcornwell/anaconda/envs/arlenv/lib/python3.6/site-packages/distributed/client.py\", line 1269, in wait\n",
      "    raise AllExit()\n",
      "distributed.client.AllExit\n",
      "tornado.application - ERROR - Future <tornado.concurrent.Future object at 0x11604c860> exception was never retrieved: Traceback (most recent call last):\n",
      "  File \"/Users/timcornwell/anaconda/envs/arlenv/lib/python3.6/site-packages/tornado/gen.py\", line 1069, in run\n",
      "    yielded = self.gen.send(value)\n",
      "  File \"/Users/timcornwell/anaconda/envs/arlenv/lib/python3.6/site-packages/distributed/client.py\", line 1269, in wait\n",
      "    raise AllExit()\n",
      "distributed.client.AllExit\n",
      "tornado.application - ERROR - Future <tornado.concurrent.Future object at 0x11ae4a240> exception was never retrieved: Traceback (most recent call last):\n",
      "  File \"/Users/timcornwell/anaconda/envs/arlenv/lib/python3.6/site-packages/tornado/gen.py\", line 1069, in run\n",
      "    yielded = self.gen.send(value)\n",
      "  File \"/Users/timcornwell/anaconda/envs/arlenv/lib/python3.6/site-packages/distributed/client.py\", line 1269, in wait\n",
      "    raise AllExit()\n",
      "distributed.client.AllExit\n",
      "tornado.application - ERROR - Future <tornado.concurrent.Future object at 0x116067908> exception was never retrieved: Traceback (most recent call last):\n",
      "  File \"/Users/timcornwell/anaconda/envs/arlenv/lib/python3.6/site-packages/tornado/gen.py\", line 1069, in run\n",
      "    yielded = self.gen.send(value)\n",
      "  File \"/Users/timcornwell/anaconda/envs/arlenv/lib/python3.6/site-packages/distributed/client.py\", line 1269, in wait\n",
      "    raise AllExit()\n",
      "distributed.client.AllExit\n",
      "tornado.application - ERROR - Future <tornado.concurrent.Future object at 0x11606bd68> exception was never retrieved: Traceback (most recent call last):\n",
      "  File \"/Users/timcornwell/anaconda/envs/arlenv/lib/python3.6/site-packages/tornado/gen.py\", line 1069, in run\n",
      "    yielded = self.gen.send(value)\n",
      "  File \"/Users/timcornwell/anaconda/envs/arlenv/lib/python3.6/site-packages/distributed/client.py\", line 1269, in wait\n",
      "    raise AllExit()\n",
      "distributed.client.AllExit\n"
     ]
    },
    {
     "name": "stderr",
     "output_type": "stream",
     "text": [
      "tornado.application - ERROR - Future <tornado.concurrent.Future object at 0x11606bba8> exception was never retrieved: Traceback (most recent call last):\n",
      "  File \"/Users/timcornwell/anaconda/envs/arlenv/lib/python3.6/site-packages/tornado/gen.py\", line 1069, in run\n",
      "    yielded = self.gen.send(value)\n",
      "  File \"/Users/timcornwell/anaconda/envs/arlenv/lib/python3.6/site-packages/distributed/client.py\", line 1269, in wait\n",
      "    raise AllExit()\n",
      "distributed.client.AllExit\n",
      "tornado.application - ERROR - Future <tornado.concurrent.Future object at 0x11b153cf8> exception was never retrieved: Traceback (most recent call last):\n",
      "  File \"/Users/timcornwell/anaconda/envs/arlenv/lib/python3.6/site-packages/tornado/gen.py\", line 1069, in run\n",
      "    yielded = self.gen.send(value)\n",
      "  File \"/Users/timcornwell/anaconda/envs/arlenv/lib/python3.6/site-packages/distributed/client.py\", line 1269, in wait\n",
      "    raise AllExit()\n",
      "distributed.client.AllExit\n"
     ]
    },
    {
     "ename": "KeyError",
     "evalue": "0",
     "output_type": "error",
     "traceback": [
      "\u001b[0;31m---------------------------------------------------------------------------\u001b[0m",
      "\u001b[0;31mKeyError\u001b[0m                                  Traceback (most recent call last)",
      "\u001b[0;32m<ipython-input-119-26826b7aea84>\u001b[0m in \u001b[0;36m<module>\u001b[0;34m()\u001b[0m\n\u001b[0;32m----> 1\u001b[0;31m \u001b[0mpp\u001b[0m\u001b[0;34m.\u001b[0m\u001b[0mpprint\u001b[0m\u001b[0;34m(\u001b[0m\u001b[0mlist\u001b[0m\u001b[0;34m(\u001b[0m\u001b[0mvis_bag\u001b[0m\u001b[0;34m.\u001b[0m\u001b[0mmap\u001b[0m\u001b[0;34m(\u001b[0m\u001b[0;32mlambda\u001b[0m \u001b[0mx\u001b[0m\u001b[0;34m:\u001b[0m \u001b[0mvisibility_scatter_time\u001b[0m\u001b[0;34m(\u001b[0m\u001b[0mx\u001b[0m\u001b[0;34m[\u001b[0m\u001b[0;36m0\u001b[0m\u001b[0;34m]\u001b[0m\u001b[0;34m)\u001b[0m\u001b[0;34m)\u001b[0m\u001b[0;34m)\u001b[0m\u001b[0;34m)\u001b[0m\u001b[0;34m\u001b[0m\u001b[0m\n\u001b[0m",
      "\u001b[0;32m~/anaconda/envs/arlenv/lib/python3.6/site-packages/dask/bag/core.py\u001b[0m in \u001b[0;36m__iter__\u001b[0;34m(self)\u001b[0m\n\u001b[1;32m   1115\u001b[0m \u001b[0;34m\u001b[0m\u001b[0m\n\u001b[1;32m   1116\u001b[0m     \u001b[0;32mdef\u001b[0m \u001b[0m__iter__\u001b[0m\u001b[0;34m(\u001b[0m\u001b[0mself\u001b[0m\u001b[0;34m)\u001b[0m\u001b[0;34m:\u001b[0m\u001b[0;34m\u001b[0m\u001b[0m\n\u001b[0;32m-> 1117\u001b[0;31m         \u001b[0;32mreturn\u001b[0m \u001b[0miter\u001b[0m\u001b[0;34m(\u001b[0m\u001b[0mself\u001b[0m\u001b[0;34m.\u001b[0m\u001b[0mcompute\u001b[0m\u001b[0;34m(\u001b[0m\u001b[0;34m)\u001b[0m\u001b[0;34m)\u001b[0m\u001b[0;34m\u001b[0m\u001b[0m\n\u001b[0m\u001b[1;32m   1118\u001b[0m \u001b[0;34m\u001b[0m\u001b[0m\n\u001b[1;32m   1119\u001b[0m     def groupby(self, grouper, method=None, npartitions=None, blocksize=2**20,\n",
      "\u001b[0;32m~/anaconda/envs/arlenv/lib/python3.6/site-packages/dask/base.py\u001b[0m in \u001b[0;36mcompute\u001b[0;34m(self, **kwargs)\u001b[0m\n\u001b[1;32m    133\u001b[0m         \u001b[0mdask\u001b[0m\u001b[0;34m.\u001b[0m\u001b[0mbase\u001b[0m\u001b[0;34m.\u001b[0m\u001b[0mcompute\u001b[0m\u001b[0;34m\u001b[0m\u001b[0m\n\u001b[1;32m    134\u001b[0m         \"\"\"\n\u001b[0;32m--> 135\u001b[0;31m         \u001b[0;34m(\u001b[0m\u001b[0mresult\u001b[0m\u001b[0;34m,\u001b[0m\u001b[0;34m)\u001b[0m \u001b[0;34m=\u001b[0m \u001b[0mcompute\u001b[0m\u001b[0;34m(\u001b[0m\u001b[0mself\u001b[0m\u001b[0;34m,\u001b[0m \u001b[0mtraverse\u001b[0m\u001b[0;34m=\u001b[0m\u001b[0;32mFalse\u001b[0m\u001b[0;34m,\u001b[0m \u001b[0;34m**\u001b[0m\u001b[0mkwargs\u001b[0m\u001b[0;34m)\u001b[0m\u001b[0;34m\u001b[0m\u001b[0m\n\u001b[0m\u001b[1;32m    136\u001b[0m         \u001b[0;32mreturn\u001b[0m \u001b[0mresult\u001b[0m\u001b[0;34m\u001b[0m\u001b[0m\n\u001b[1;32m    137\u001b[0m \u001b[0;34m\u001b[0m\u001b[0m\n",
      "\u001b[0;32m~/anaconda/envs/arlenv/lib/python3.6/site-packages/dask/base.py\u001b[0m in \u001b[0;36mcompute\u001b[0;34m(*args, **kwargs)\u001b[0m\n\u001b[1;32m    331\u001b[0m     postcomputes = [a.__dask_postcompute__() if is_dask_collection(a)\n\u001b[1;32m    332\u001b[0m                     else (None, a) for a in args]\n\u001b[0;32m--> 333\u001b[0;31m     \u001b[0mresults\u001b[0m \u001b[0;34m=\u001b[0m \u001b[0mget\u001b[0m\u001b[0;34m(\u001b[0m\u001b[0mdsk\u001b[0m\u001b[0;34m,\u001b[0m \u001b[0mkeys\u001b[0m\u001b[0;34m,\u001b[0m \u001b[0;34m**\u001b[0m\u001b[0mkwargs\u001b[0m\u001b[0;34m)\u001b[0m\u001b[0;34m\u001b[0m\u001b[0m\n\u001b[0m\u001b[1;32m    334\u001b[0m     \u001b[0mresults_iter\u001b[0m \u001b[0;34m=\u001b[0m \u001b[0miter\u001b[0m\u001b[0;34m(\u001b[0m\u001b[0mresults\u001b[0m\u001b[0;34m)\u001b[0m\u001b[0;34m\u001b[0m\u001b[0m\n\u001b[1;32m    335\u001b[0m     return tuple(a if f is None else f(next(results_iter), *a)\n",
      "\u001b[0;32m~/anaconda/envs/arlenv/lib/python3.6/site-packages/distributed/client.py\u001b[0m in \u001b[0;36mget\u001b[0;34m(self, dsk, keys, restrictions, loose_restrictions, resources, sync, asynchronous, **kwargs)\u001b[0m\n\u001b[1;32m   1979\u001b[0m                 \u001b[0msecede\u001b[0m\u001b[0;34m(\u001b[0m\u001b[0;34m)\u001b[0m\u001b[0;34m\u001b[0m\u001b[0m\n\u001b[1;32m   1980\u001b[0m             \u001b[0;32mtry\u001b[0m\u001b[0;34m:\u001b[0m\u001b[0;34m\u001b[0m\u001b[0m\n\u001b[0;32m-> 1981\u001b[0;31m                 \u001b[0mresults\u001b[0m \u001b[0;34m=\u001b[0m \u001b[0mself\u001b[0m\u001b[0;34m.\u001b[0m\u001b[0mgather\u001b[0m\u001b[0;34m(\u001b[0m\u001b[0mpacked\u001b[0m\u001b[0;34m,\u001b[0m \u001b[0masynchronous\u001b[0m\u001b[0;34m=\u001b[0m\u001b[0masynchronous\u001b[0m\u001b[0;34m)\u001b[0m\u001b[0;34m\u001b[0m\u001b[0m\n\u001b[0m\u001b[1;32m   1982\u001b[0m             \u001b[0;32mfinally\u001b[0m\u001b[0;34m:\u001b[0m\u001b[0;34m\u001b[0m\u001b[0m\n\u001b[1;32m   1983\u001b[0m                 \u001b[0;32mfor\u001b[0m \u001b[0mf\u001b[0m \u001b[0;32min\u001b[0m \u001b[0mfutures\u001b[0m\u001b[0;34m.\u001b[0m\u001b[0mvalues\u001b[0m\u001b[0;34m(\u001b[0m\u001b[0;34m)\u001b[0m\u001b[0;34m:\u001b[0m\u001b[0;34m\u001b[0m\u001b[0m\n",
      "\u001b[0;32m~/anaconda/envs/arlenv/lib/python3.6/site-packages/distributed/client.py\u001b[0m in \u001b[0;36mgather\u001b[0;34m(self, futures, errors, maxsize, direct, asynchronous)\u001b[0m\n\u001b[1;32m   1417\u001b[0m             return self.sync(self._gather, futures, errors=errors,\n\u001b[1;32m   1418\u001b[0m                              \u001b[0mdirect\u001b[0m\u001b[0;34m=\u001b[0m\u001b[0mdirect\u001b[0m\u001b[0;34m,\u001b[0m \u001b[0mlocal_worker\u001b[0m\u001b[0;34m=\u001b[0m\u001b[0mlocal_worker\u001b[0m\u001b[0;34m,\u001b[0m\u001b[0;34m\u001b[0m\u001b[0m\n\u001b[0;32m-> 1419\u001b[0;31m                              asynchronous=asynchronous)\n\u001b[0m\u001b[1;32m   1420\u001b[0m \u001b[0;34m\u001b[0m\u001b[0m\n\u001b[1;32m   1421\u001b[0m     \u001b[0;34m@\u001b[0m\u001b[0mgen\u001b[0m\u001b[0;34m.\u001b[0m\u001b[0mcoroutine\u001b[0m\u001b[0;34m\u001b[0m\u001b[0m\n",
      "\u001b[0;32m~/anaconda/envs/arlenv/lib/python3.6/site-packages/distributed/client.py\u001b[0m in \u001b[0;36msync\u001b[0;34m(self, func, *args, **kwargs)\u001b[0m\n\u001b[1;32m    561\u001b[0m             \u001b[0;32mreturn\u001b[0m \u001b[0mfuture\u001b[0m\u001b[0;34m\u001b[0m\u001b[0m\n\u001b[1;32m    562\u001b[0m         \u001b[0;32melse\u001b[0m\u001b[0;34m:\u001b[0m\u001b[0;34m\u001b[0m\u001b[0m\n\u001b[0;32m--> 563\u001b[0;31m             \u001b[0;32mreturn\u001b[0m \u001b[0msync\u001b[0m\u001b[0;34m(\u001b[0m\u001b[0mself\u001b[0m\u001b[0;34m.\u001b[0m\u001b[0mloop\u001b[0m\u001b[0;34m,\u001b[0m \u001b[0mfunc\u001b[0m\u001b[0;34m,\u001b[0m \u001b[0;34m*\u001b[0m\u001b[0margs\u001b[0m\u001b[0;34m,\u001b[0m \u001b[0;34m**\u001b[0m\u001b[0mkwargs\u001b[0m\u001b[0;34m)\u001b[0m\u001b[0;34m\u001b[0m\u001b[0m\n\u001b[0m\u001b[1;32m    564\u001b[0m \u001b[0;34m\u001b[0m\u001b[0m\n\u001b[1;32m    565\u001b[0m     \u001b[0;32mdef\u001b[0m \u001b[0m__repr__\u001b[0m\u001b[0;34m(\u001b[0m\u001b[0mself\u001b[0m\u001b[0;34m)\u001b[0m\u001b[0;34m:\u001b[0m\u001b[0;34m\u001b[0m\u001b[0m\n",
      "\u001b[0;32m~/anaconda/envs/arlenv/lib/python3.6/site-packages/distributed/utils.py\u001b[0m in \u001b[0;36msync\u001b[0;34m(loop, func, *args, **kwargs)\u001b[0m\n\u001b[1;32m    252\u001b[0m             \u001b[0me\u001b[0m\u001b[0;34m.\u001b[0m\u001b[0mwait\u001b[0m\u001b[0;34m(\u001b[0m\u001b[0;36m1000000\u001b[0m\u001b[0;34m)\u001b[0m\u001b[0;34m\u001b[0m\u001b[0m\n\u001b[1;32m    253\u001b[0m     \u001b[0;32mif\u001b[0m \u001b[0merror\u001b[0m\u001b[0;34m[\u001b[0m\u001b[0;36m0\u001b[0m\u001b[0;34m]\u001b[0m\u001b[0;34m:\u001b[0m\u001b[0;34m\u001b[0m\u001b[0m\n\u001b[0;32m--> 254\u001b[0;31m         \u001b[0msix\u001b[0m\u001b[0;34m.\u001b[0m\u001b[0mreraise\u001b[0m\u001b[0;34m(\u001b[0m\u001b[0;34m*\u001b[0m\u001b[0merror\u001b[0m\u001b[0;34m[\u001b[0m\u001b[0;36m0\u001b[0m\u001b[0;34m]\u001b[0m\u001b[0;34m)\u001b[0m\u001b[0;34m\u001b[0m\u001b[0m\n\u001b[0m\u001b[1;32m    255\u001b[0m     \u001b[0;32melse\u001b[0m\u001b[0;34m:\u001b[0m\u001b[0;34m\u001b[0m\u001b[0m\n\u001b[1;32m    256\u001b[0m         \u001b[0;32mreturn\u001b[0m \u001b[0mresult\u001b[0m\u001b[0;34m[\u001b[0m\u001b[0;36m0\u001b[0m\u001b[0;34m]\u001b[0m\u001b[0;34m\u001b[0m\u001b[0m\n",
      "\u001b[0;32m~/anaconda/envs/arlenv/lib/python3.6/site-packages/six.py\u001b[0m in \u001b[0;36mreraise\u001b[0;34m(tp, value, tb)\u001b[0m\n\u001b[1;32m    691\u001b[0m             \u001b[0;32mif\u001b[0m \u001b[0mvalue\u001b[0m\u001b[0;34m.\u001b[0m\u001b[0m__traceback__\u001b[0m \u001b[0;32mis\u001b[0m \u001b[0;32mnot\u001b[0m \u001b[0mtb\u001b[0m\u001b[0;34m:\u001b[0m\u001b[0;34m\u001b[0m\u001b[0m\n\u001b[1;32m    692\u001b[0m                 \u001b[0;32mraise\u001b[0m \u001b[0mvalue\u001b[0m\u001b[0;34m.\u001b[0m\u001b[0mwith_traceback\u001b[0m\u001b[0;34m(\u001b[0m\u001b[0mtb\u001b[0m\u001b[0;34m)\u001b[0m\u001b[0;34m\u001b[0m\u001b[0m\n\u001b[0;32m--> 693\u001b[0;31m             \u001b[0;32mraise\u001b[0m \u001b[0mvalue\u001b[0m\u001b[0;34m\u001b[0m\u001b[0m\n\u001b[0m\u001b[1;32m    694\u001b[0m         \u001b[0;32mfinally\u001b[0m\u001b[0;34m:\u001b[0m\u001b[0;34m\u001b[0m\u001b[0m\n\u001b[1;32m    695\u001b[0m             \u001b[0mvalue\u001b[0m \u001b[0;34m=\u001b[0m \u001b[0;32mNone\u001b[0m\u001b[0;34m\u001b[0m\u001b[0m\n",
      "\u001b[0;32m~/anaconda/envs/arlenv/lib/python3.6/site-packages/distributed/utils.py\u001b[0m in \u001b[0;36mf\u001b[0;34m()\u001b[0m\n\u001b[1;32m    236\u001b[0m             \u001b[0;32myield\u001b[0m \u001b[0mgen\u001b[0m\u001b[0;34m.\u001b[0m\u001b[0mmoment\u001b[0m\u001b[0;34m\u001b[0m\u001b[0m\n\u001b[1;32m    237\u001b[0m             \u001b[0mthread_state\u001b[0m\u001b[0;34m.\u001b[0m\u001b[0masynchronous\u001b[0m \u001b[0;34m=\u001b[0m \u001b[0;32mTrue\u001b[0m\u001b[0;34m\u001b[0m\u001b[0m\n\u001b[0;32m--> 238\u001b[0;31m             \u001b[0mresult\u001b[0m\u001b[0;34m[\u001b[0m\u001b[0;36m0\u001b[0m\u001b[0;34m]\u001b[0m \u001b[0;34m=\u001b[0m \u001b[0;32myield\u001b[0m \u001b[0mmake_coro\u001b[0m\u001b[0;34m(\u001b[0m\u001b[0;34m)\u001b[0m\u001b[0;34m\u001b[0m\u001b[0m\n\u001b[0m\u001b[1;32m    239\u001b[0m         \u001b[0;32mexcept\u001b[0m \u001b[0mException\u001b[0m \u001b[0;32mas\u001b[0m \u001b[0mexc\u001b[0m\u001b[0;34m:\u001b[0m\u001b[0;34m\u001b[0m\u001b[0m\n\u001b[1;32m    240\u001b[0m             \u001b[0mlogger\u001b[0m\u001b[0;34m.\u001b[0m\u001b[0mexception\u001b[0m\u001b[0;34m(\u001b[0m\u001b[0mexc\u001b[0m\u001b[0;34m)\u001b[0m\u001b[0;34m\u001b[0m\u001b[0m\n",
      "\u001b[0;32m~/anaconda/envs/arlenv/lib/python3.6/site-packages/tornado/gen.py\u001b[0m in \u001b[0;36mrun\u001b[0;34m(self)\u001b[0m\n\u001b[1;32m   1053\u001b[0m \u001b[0;34m\u001b[0m\u001b[0m\n\u001b[1;32m   1054\u001b[0m                     \u001b[0;32mtry\u001b[0m\u001b[0;34m:\u001b[0m\u001b[0;34m\u001b[0m\u001b[0m\n\u001b[0;32m-> 1055\u001b[0;31m                         \u001b[0mvalue\u001b[0m \u001b[0;34m=\u001b[0m \u001b[0mfuture\u001b[0m\u001b[0;34m.\u001b[0m\u001b[0mresult\u001b[0m\u001b[0;34m(\u001b[0m\u001b[0;34m)\u001b[0m\u001b[0;34m\u001b[0m\u001b[0m\n\u001b[0m\u001b[1;32m   1056\u001b[0m                     \u001b[0;32mexcept\u001b[0m \u001b[0mException\u001b[0m\u001b[0;34m:\u001b[0m\u001b[0;34m\u001b[0m\u001b[0m\n\u001b[1;32m   1057\u001b[0m                         \u001b[0mself\u001b[0m\u001b[0;34m.\u001b[0m\u001b[0mhad_exception\u001b[0m \u001b[0;34m=\u001b[0m \u001b[0;32mTrue\u001b[0m\u001b[0;34m\u001b[0m\u001b[0m\n",
      "\u001b[0;32m~/anaconda/envs/arlenv/lib/python3.6/site-packages/tornado/concurrent.py\u001b[0m in \u001b[0;36mresult\u001b[0;34m(self, timeout)\u001b[0m\n\u001b[1;32m    236\u001b[0m         \u001b[0;32mif\u001b[0m \u001b[0mself\u001b[0m\u001b[0;34m.\u001b[0m\u001b[0m_exc_info\u001b[0m \u001b[0;32mis\u001b[0m \u001b[0;32mnot\u001b[0m \u001b[0;32mNone\u001b[0m\u001b[0;34m:\u001b[0m\u001b[0;34m\u001b[0m\u001b[0m\n\u001b[1;32m    237\u001b[0m             \u001b[0;32mtry\u001b[0m\u001b[0;34m:\u001b[0m\u001b[0;34m\u001b[0m\u001b[0m\n\u001b[0;32m--> 238\u001b[0;31m                 \u001b[0mraise_exc_info\u001b[0m\u001b[0;34m(\u001b[0m\u001b[0mself\u001b[0m\u001b[0;34m.\u001b[0m\u001b[0m_exc_info\u001b[0m\u001b[0;34m)\u001b[0m\u001b[0;34m\u001b[0m\u001b[0m\n\u001b[0m\u001b[1;32m    239\u001b[0m             \u001b[0;32mfinally\u001b[0m\u001b[0;34m:\u001b[0m\u001b[0;34m\u001b[0m\u001b[0m\n\u001b[1;32m    240\u001b[0m                 \u001b[0mself\u001b[0m \u001b[0;34m=\u001b[0m \u001b[0;32mNone\u001b[0m\u001b[0;34m\u001b[0m\u001b[0m\n",
      "\u001b[0;32m~/anaconda/envs/arlenv/lib/python3.6/site-packages/tornado/util.py\u001b[0m in \u001b[0;36mraise_exc_info\u001b[0;34m(exc_info)\u001b[0m\n",
      "\u001b[0;32m~/anaconda/envs/arlenv/lib/python3.6/site-packages/tornado/gen.py\u001b[0m in \u001b[0;36mrun\u001b[0;34m(self)\u001b[0m\n\u001b[1;32m   1061\u001b[0m                     \u001b[0;32mif\u001b[0m \u001b[0mexc_info\u001b[0m \u001b[0;32mis\u001b[0m \u001b[0;32mnot\u001b[0m \u001b[0;32mNone\u001b[0m\u001b[0;34m:\u001b[0m\u001b[0;34m\u001b[0m\u001b[0m\n\u001b[1;32m   1062\u001b[0m                         \u001b[0;32mtry\u001b[0m\u001b[0;34m:\u001b[0m\u001b[0;34m\u001b[0m\u001b[0m\n\u001b[0;32m-> 1063\u001b[0;31m                             \u001b[0myielded\u001b[0m \u001b[0;34m=\u001b[0m \u001b[0mself\u001b[0m\u001b[0;34m.\u001b[0m\u001b[0mgen\u001b[0m\u001b[0;34m.\u001b[0m\u001b[0mthrow\u001b[0m\u001b[0;34m(\u001b[0m\u001b[0;34m*\u001b[0m\u001b[0mexc_info\u001b[0m\u001b[0;34m)\u001b[0m\u001b[0;34m\u001b[0m\u001b[0m\n\u001b[0m\u001b[1;32m   1064\u001b[0m                         \u001b[0;32mfinally\u001b[0m\u001b[0;34m:\u001b[0m\u001b[0;34m\u001b[0m\u001b[0m\n\u001b[1;32m   1065\u001b[0m                             \u001b[0;31m# Break up a reference to itself\u001b[0m\u001b[0;34m\u001b[0m\u001b[0;34m\u001b[0m\u001b[0m\n",
      "\u001b[0;32m~/anaconda/envs/arlenv/lib/python3.6/site-packages/distributed/client.py\u001b[0m in \u001b[0;36m_gather\u001b[0;34m(self, futures, errors, direct, local_worker)\u001b[0m\n\u001b[1;32m   1295\u001b[0m                             six.reraise(type(exception),\n\u001b[1;32m   1296\u001b[0m                                         \u001b[0mexception\u001b[0m\u001b[0;34m,\u001b[0m\u001b[0;34m\u001b[0m\u001b[0m\n\u001b[0;32m-> 1297\u001b[0;31m                                         traceback)\n\u001b[0m\u001b[1;32m   1298\u001b[0m                     \u001b[0;32mif\u001b[0m \u001b[0merrors\u001b[0m \u001b[0;34m==\u001b[0m \u001b[0;34m'skip'\u001b[0m\u001b[0;34m:\u001b[0m\u001b[0;34m\u001b[0m\u001b[0m\n\u001b[1;32m   1299\u001b[0m                         \u001b[0mbad_keys\u001b[0m\u001b[0;34m.\u001b[0m\u001b[0madd\u001b[0m\u001b[0;34m(\u001b[0m\u001b[0mkey\u001b[0m\u001b[0;34m)\u001b[0m\u001b[0;34m\u001b[0m\u001b[0m\n",
      "\u001b[0;32m~/anaconda/envs/arlenv/lib/python3.6/site-packages/six.py\u001b[0m in \u001b[0;36mreraise\u001b[0;34m(tp, value, tb)\u001b[0m\n\u001b[1;32m    690\u001b[0m                 \u001b[0mvalue\u001b[0m \u001b[0;34m=\u001b[0m \u001b[0mtp\u001b[0m\u001b[0;34m(\u001b[0m\u001b[0;34m)\u001b[0m\u001b[0;34m\u001b[0m\u001b[0m\n\u001b[1;32m    691\u001b[0m             \u001b[0;32mif\u001b[0m \u001b[0mvalue\u001b[0m\u001b[0;34m.\u001b[0m\u001b[0m__traceback__\u001b[0m \u001b[0;32mis\u001b[0m \u001b[0;32mnot\u001b[0m \u001b[0mtb\u001b[0m\u001b[0;34m:\u001b[0m\u001b[0;34m\u001b[0m\u001b[0m\n\u001b[0;32m--> 692\u001b[0;31m                 \u001b[0;32mraise\u001b[0m \u001b[0mvalue\u001b[0m\u001b[0;34m.\u001b[0m\u001b[0mwith_traceback\u001b[0m\u001b[0;34m(\u001b[0m\u001b[0mtb\u001b[0m\u001b[0;34m)\u001b[0m\u001b[0;34m\u001b[0m\u001b[0m\n\u001b[0m\u001b[1;32m    693\u001b[0m             \u001b[0;32mraise\u001b[0m \u001b[0mvalue\u001b[0m\u001b[0;34m\u001b[0m\u001b[0m\n\u001b[1;32m    694\u001b[0m         \u001b[0;32mfinally\u001b[0m\u001b[0;34m:\u001b[0m\u001b[0;34m\u001b[0m\u001b[0m\n",
      "\u001b[0;32m~/anaconda/envs/arlenv/lib/python3.6/site-packages/dask/bag/core.py\u001b[0m in \u001b[0;36mreify\u001b[0;34m()\u001b[0m\n\u001b[1;32m   1457\u001b[0m \u001b[0;32mdef\u001b[0m \u001b[0mreify\u001b[0m\u001b[0;34m(\u001b[0m\u001b[0mseq\u001b[0m\u001b[0;34m)\u001b[0m\u001b[0;34m:\u001b[0m\u001b[0;34m\u001b[0m\u001b[0m\n\u001b[1;32m   1458\u001b[0m     \u001b[0;32mif\u001b[0m \u001b[0misinstance\u001b[0m\u001b[0;34m(\u001b[0m\u001b[0mseq\u001b[0m\u001b[0;34m,\u001b[0m \u001b[0mIterator\u001b[0m\u001b[0;34m)\u001b[0m\u001b[0;34m:\u001b[0m\u001b[0;34m\u001b[0m\u001b[0m\n\u001b[0;32m-> 1459\u001b[0;31m         \u001b[0mseq\u001b[0m \u001b[0;34m=\u001b[0m \u001b[0mlist\u001b[0m\u001b[0;34m(\u001b[0m\u001b[0mseq\u001b[0m\u001b[0;34m)\u001b[0m\u001b[0;34m\u001b[0m\u001b[0m\n\u001b[0m\u001b[1;32m   1460\u001b[0m     \u001b[0;32mif\u001b[0m \u001b[0mseq\u001b[0m \u001b[0;32mand\u001b[0m \u001b[0misinstance\u001b[0m\u001b[0;34m(\u001b[0m\u001b[0mseq\u001b[0m\u001b[0;34m[\u001b[0m\u001b[0;36m0\u001b[0m\u001b[0;34m]\u001b[0m\u001b[0;34m,\u001b[0m \u001b[0mIterator\u001b[0m\u001b[0;34m)\u001b[0m\u001b[0;34m:\u001b[0m\u001b[0;34m\u001b[0m\u001b[0m\n\u001b[1;32m   1461\u001b[0m         \u001b[0mseq\u001b[0m \u001b[0;34m=\u001b[0m \u001b[0mlist\u001b[0m\u001b[0;34m(\u001b[0m\u001b[0mmap\u001b[0m\u001b[0;34m(\u001b[0m\u001b[0mlist\u001b[0m\u001b[0;34m,\u001b[0m \u001b[0mseq\u001b[0m\u001b[0;34m)\u001b[0m\u001b[0;34m)\u001b[0m\u001b[0;34m\u001b[0m\u001b[0m\n",
      "\u001b[0;32m~/anaconda/envs/arlenv/lib/python3.6/site-packages/dask/bag/core.py\u001b[0m in \u001b[0;36mmap_chunk\u001b[0;34m()\u001b[0m\n\u001b[1;32m   1617\u001b[0m     \u001b[0;32melse\u001b[0m\u001b[0;34m:\u001b[0m\u001b[0;34m\u001b[0m\u001b[0m\n\u001b[1;32m   1618\u001b[0m         \u001b[0;32mfor\u001b[0m \u001b[0ma\u001b[0m \u001b[0;32min\u001b[0m \u001b[0mzip\u001b[0m\u001b[0;34m(\u001b[0m\u001b[0;34m*\u001b[0m\u001b[0margs\u001b[0m\u001b[0;34m)\u001b[0m\u001b[0;34m:\u001b[0m\u001b[0;34m\u001b[0m\u001b[0m\n\u001b[0;32m-> 1619\u001b[0;31m             \u001b[0;32myield\u001b[0m \u001b[0mf\u001b[0m\u001b[0;34m(\u001b[0m\u001b[0;34m*\u001b[0m\u001b[0ma\u001b[0m\u001b[0;34m)\u001b[0m\u001b[0;34m\u001b[0m\u001b[0m\n\u001b[0m\u001b[1;32m   1620\u001b[0m \u001b[0;34m\u001b[0m\u001b[0m\n\u001b[1;32m   1621\u001b[0m     \u001b[0;31m# Check that all iterators are fully exhausted\u001b[0m\u001b[0;34m\u001b[0m\u001b[0;34m\u001b[0m\u001b[0m\n",
      "\u001b[0;32m<ipython-input-119-26826b7aea84>\u001b[0m in \u001b[0;36m<lambda>\u001b[0;34m()\u001b[0m\n\u001b[0;32m----> 1\u001b[0;31m \u001b[0mpp\u001b[0m\u001b[0;34m.\u001b[0m\u001b[0mpprint\u001b[0m\u001b[0;34m(\u001b[0m\u001b[0mlist\u001b[0m\u001b[0;34m(\u001b[0m\u001b[0mvis_bag\u001b[0m\u001b[0;34m.\u001b[0m\u001b[0mmap\u001b[0m\u001b[0;34m(\u001b[0m\u001b[0;32mlambda\u001b[0m \u001b[0mx\u001b[0m\u001b[0;34m:\u001b[0m \u001b[0mvisibility_scatter_time\u001b[0m\u001b[0;34m(\u001b[0m\u001b[0mx\u001b[0m\u001b[0;34m[\u001b[0m\u001b[0;36m0\u001b[0m\u001b[0;34m]\u001b[0m\u001b[0;34m)\u001b[0m\u001b[0;34m)\u001b[0m\u001b[0;34m)\u001b[0m\u001b[0;34m)\u001b[0m\u001b[0;34m\u001b[0m\u001b[0m\n\u001b[0m",
      "\u001b[0;31mKeyError\u001b[0m: 0"
     ]
    }
   ],
   "source": [
    "pp.pprint(list(vis_bag.map(lambda x: visibility_scatter_time(x[0]))))"
   ]
  },
  {
   "cell_type": "code",
   "execution_count": 110,
   "metadata": {
    "ExecuteTime": {
     "end_time": "2017-12-11T09:47:36.097887Z",
     "start_time": "2017-12-11T09:47:36.085178Z"
    }
   },
   "outputs": [
    {
     "name": "stdout",
     "output_type": "stream",
     "text": [
      "[Delayed(('from_sequence-01a5b345bb68c976943e3f89ab38ac9c', 0)),\n",
      " Delayed(('from_sequence-01a5b345bb68c976943e3f89ab38ac9c', 1)),\n",
      " Delayed(('from_sequence-01a5b345bb68c976943e3f89ab38ac9c', 2)),\n",
      " Delayed(('from_sequence-01a5b345bb68c976943e3f89ab38ac9c', 3)),\n",
      " Delayed(('from_sequence-01a5b345bb68c976943e3f89ab38ac9c', 4))]\n"
     ]
    }
   ],
   "source": [
    "pp.pprint(vis_bag.to_delayed())"
   ]
  },
  {
   "cell_type": "code",
   "execution_count": 67,
   "metadata": {
    "ExecuteTime": {
     "end_time": "2017-12-11T08:17:20.929196Z",
     "start_time": "2017-12-11T08:17:20.773452Z"
    }
   },
   "outputs": [
    {
     "name": "stdout",
     "output_type": "stream",
     "text": [
      "('freqwin', 1, <arl.data.data_models.BlockVisibility object at 0x116112780>)\n"
     ]
    }
   ],
   "source": [
    "vis_bag.map()"
   ]
  },
  {
   "cell_type": "markdown",
   "metadata": {},
   "source": [
    "Now make seven of these spanning 800MHz to 1200MHz and put them into a Dask bag."
   ]
  },
  {
   "cell_type": "code",
   "execution_count": 86,
   "metadata": {
    "ExecuteTime": {
     "end_time": "2017-12-11T08:43:09.333305Z",
     "start_time": "2017-12-11T08:43:07.498248Z"
    },
    "scrolled": false
   },
   "outputs": [
    {
     "name": "stdout",
     "output_type": "stream",
     "text": [
      "create_blockvisibility: 7 rows, 0.009 GB\n",
      "create_blockvisibility: 7 rows, 0.009 GB\n",
      "create_blockvisibility: 7 rows, 0.009 GB\n",
      "create_blockvisibility: 7 rows, 0.009 GB\n",
      "create_blockvisibility: 7 rows, 0.009 GB\n",
      "dask.bag<from_se..., npartitions=5>\n"
     ]
    }
   ],
   "source": [
    "vis_bag=bag.from_sequence([ingest_visibility(freq, init=True, block=True, add_errors=True) \n",
    "                           for f, freq in enumerate(numpy.linspace(0.8e8,1.2e8,nfreqwin))])\n",
    "print(vis_bag)"
   ]
  },
  {
   "cell_type": "code",
   "execution_count": 94,
   "metadata": {
    "ExecuteTime": {
     "end_time": "2017-12-11T09:00:38.703266Z",
     "start_time": "2017-12-11T09:00:37.454551Z"
    },
    "scrolled": false
   },
   "outputs": [
    {
     "data": {
      "text/plain": [
       "[[<arl.data.data_models.BlockVisibility at 0x115f281d0>,\n",
       "  <arl.data.data_models.BlockVisibility at 0x115f2c198>,\n",
       "  <arl.data.data_models.BlockVisibility at 0x115f2c1d0>,\n",
       "  <arl.data.data_models.BlockVisibility at 0x115f2c208>,\n",
       "  <arl.data.data_models.BlockVisibility at 0x115f2c240>,\n",
       "  <arl.data.data_models.BlockVisibility at 0x115f2c278>,\n",
       "  <arl.data.data_models.BlockVisibility at 0x115f2c2b0>],\n",
       " [<arl.data.data_models.BlockVisibility at 0x115f28208>,\n",
       "  <arl.data.data_models.BlockVisibility at 0x115f362e8>,\n",
       "  <arl.data.data_models.BlockVisibility at 0x115f36320>,\n",
       "  <arl.data.data_models.BlockVisibility at 0x115f36358>,\n",
       "  <arl.data.data_models.BlockVisibility at 0x115f36390>,\n",
       "  <arl.data.data_models.BlockVisibility at 0x115f363c8>,\n",
       "  <arl.data.data_models.BlockVisibility at 0x115f36400>],\n",
       " [<arl.data.data_models.BlockVisibility at 0x115f285f8>,\n",
       "  <arl.data.data_models.BlockVisibility at 0x115f3d438>,\n",
       "  <arl.data.data_models.BlockVisibility at 0x115f3d470>,\n",
       "  <arl.data.data_models.BlockVisibility at 0x115f3d4a8>,\n",
       "  <arl.data.data_models.BlockVisibility at 0x115f3d4e0>,\n",
       "  <arl.data.data_models.BlockVisibility at 0x115f3d518>,\n",
       "  <arl.data.data_models.BlockVisibility at 0x115f3d550>],\n",
       " [<arl.data.data_models.BlockVisibility at 0x11604c048>,\n",
       "  <arl.data.data_models.BlockVisibility at 0x115f2ca20>,\n",
       "  <arl.data.data_models.BlockVisibility at 0x115f2ca58>,\n",
       "  <arl.data.data_models.BlockVisibility at 0x115f2ca90>,\n",
       "  <arl.data.data_models.BlockVisibility at 0x115f2cac8>,\n",
       "  <arl.data.data_models.BlockVisibility at 0x115f2cb00>,\n",
       "  <arl.data.data_models.BlockVisibility at 0x115f2cb38>],\n",
       " [<arl.data.data_models.BlockVisibility at 0x115f280b8>,\n",
       "  <arl.data.data_models.BlockVisibility at 0x115f36b70>,\n",
       "  <arl.data.data_models.BlockVisibility at 0x115f36ba8>,\n",
       "  <arl.data.data_models.BlockVisibility at 0x115f36be0>,\n",
       "  <arl.data.data_models.BlockVisibility at 0x115f36c18>,\n",
       "  <arl.data.data_models.BlockVisibility at 0x115f36c50>,\n",
       "  <arl.data.data_models.BlockVisibility at 0x115f36c88>]]"
      ]
     },
     "execution_count": 94,
     "metadata": {},
     "output_type": "execute_result"
    }
   ],
   "source": [
    "from arl.visibility.gather_scatter import visibility_scatter_time, visibility_scatter_w\n",
    "list(vis_bag.map(visibility_scatter_time, timeslice='auto'))"
   ]
  },
  {
   "cell_type": "markdown",
   "metadata": {},
   "source": [
    "We need to compute the bag in order to use it. First we just need a representative data set to calculate imaging parameters."
   ]
  },
  {
   "cell_type": "code",
   "execution_count": 4,
   "metadata": {
    "ExecuteTime": {
     "end_time": "2017-12-10T13:06:51.830770Z",
     "start_time": "2017-12-10T13:06:51.645545Z"
    },
    "scrolled": true
   },
   "outputs": [
    {
     "name": "stdout",
     "output_type": "stream",
     "text": [
      "replicate_image: replicating shape (256, 256) to (1, 1, 256, 256)\n",
      "advise_wide_field: Maximum wavelength 3.747 (meters)\n",
      "advise_wide_field: Minimum wavelength 3.747 (meters)\n",
      "advise_wide_field: Maximum baseline 210.1 (wavelengths)\n",
      "advise_wide_field: Station/antenna diameter 35.0 (meters)\n",
      "advise_wide_field: Primary beam 0.107069 (rad) 6.135 (deg)\n",
      "advise_wide_field: Image field of view 0.428275 (rad) 24.538 (deg)\n",
      "advise_wide_field: Synthesized beam 0.004759 (rad) 0.273 (deg)\n",
      "advise_wide_field: Cellsize 0.001586 (rad) 0.091 (deg)\n",
      "advice_wide_field: Npixels per side = 270\n",
      "advice_wide_field: Npixels (power of 2, 3) per side = 384\n",
      "advice_wide_field: W sampling for full image = 0.3 (wavelengths)\n",
      "advice_wide_field: W sampling for primary beam = 5.6 (wavelengths)\n",
      "advice_wide_field: Time sampling for full image = 45.4 (s)\n",
      "advice_wide_field: Time sampling for primary beam = 726.9 (s)\n",
      "advice_wide_field: Frequency sampling for full image = 42066.2 (Hz)\n",
      "advice_wide_field: Frequency sampling for primary beam = 673058.5 (Hz)\n",
      "advice_wide_field: Number of planes in w stack 37\n",
      "advice_wide_field: Number of planes in w projection 1\n",
      "advice_wide_field: Recommend 2d gridding\n"
     ]
    }
   ],
   "source": [
    "npixel=256\n",
    "facets=4\n",
    "def get_LSM(vt, cellsize=0.001, reffrequency=[1e8], npixel=512):\n",
    "    model = pad_image(create_test_image(vt, cellsize=cellsize, frequency=reffrequency, \n",
    "                                        phasecentre=vt.phasecentre,\n",
    "                                        polarisation_frame=PolarisationFrame(\"stokesI\")),\n",
    "                                        shape=[1, 1, 512, 512])\n",
    "    return model\n",
    "\n",
    "vis_bag = list(vis_bag)\n",
    "model = get_LSM(vis_bag[0])\n",
    "advice=advise_wide_field(vis_bag[0], guard_band_image=4.0)\n",
    "vis_slices=101"
   ]
  },
  {
   "cell_type": "code",
   "execution_count": 5,
   "metadata": {
    "ExecuteTime": {
     "end_time": "2017-12-10T13:06:58.751787Z",
     "start_time": "2017-12-10T13:06:56.369691Z"
    }
   },
   "outputs": [
    {
     "name": "stdout",
     "output_type": "stream",
     "text": [
      "Creating LocalCluster and Dask Client\n",
      "<Client: scheduler='tcp://127.0.0.1:52977' processes=8 cores=8>\n",
      "Diagnostic pages available on port http://127.0.0.1:8787\n"
     ]
    }
   ],
   "source": [
    "client=get_dask_Client()"
   ]
  },
  {
   "cell_type": "markdown",
   "metadata": {},
   "source": [
    "Now we can set up the prediction of the visibility from the model. We scatter over w and then apply the wstack for a single w plane. Then we concatenate the visibilities back together and convert back to a block visibility.\n",
    "\n",
    "To save recomputing this, we compute it now and place it into another bag of the same name."
   ]
  },
  {
   "cell_type": "code",
   "execution_count": 10,
   "metadata": {
    "ExecuteTime": {
     "end_time": "2017-12-10T13:22:28.311274Z",
     "start_time": "2017-12-10T13:22:27.174377Z"
    },
    "scrolled": false
   },
   "outputs": [
    {
     "name": "stdout",
     "output_type": "stream",
     "text": [
      "create_blockvisibility: 7 rows, 0.009 GB\n",
      "create_blockvisibility: 7 rows, 0.009 GB\n",
      "create_blockvisibility: 7 rows, 0.009 GB\n"
     ]
    }
   ],
   "source": [
    "empty_vis_bag=bag.from_sequence([ingest_visibility(freq, init=True, block=True, add_errors=True) \n",
    "                           for freq in numpy.linspace(0.8e8,1.2e8,nfreqwin)])\n",
    "\n",
    "model_bag = empty_vis_bag.map(get_LSM)\n",
    "\n",
    "gt_bag = empty_vis_bag.map(create_gaintable_from_blockvisibility)\\\n",
    "    .map(simulate_gaintable, phase_error=1.0)"
   ]
  },
  {
   "cell_type": "code",
   "execution_count": 13,
   "metadata": {
    "ExecuteTime": {
     "end_time": "2017-12-10T13:24:44.501547Z",
     "start_time": "2017-12-10T13:23:45.304211Z"
    }
   },
   "outputs": [
    {
     "name": "stdout",
     "output_type": "stream",
     "text": [
      "<Future: status: pending, key: finalize-57cf508b614f9383ab17b0118f24aa44>\n"
     ]
    }
   ],
   "source": [
    "vis_bag = empty_vis_bag\\\n",
    "    .map(visibility_scatter_w, vis_slices=vis_slices)\\\n",
    "    .map(safe_predict_list, model, predict=predict_wstack_single)\\\n",
    "    .map(concatenate_visibility)\\\n",
    "    .map(decoalesce_visibility, empty_vis_bag)\\\n",
    "    .map(apply_gaintable, gt_bag)\n",
    "\n",
    "future=client.compute(vis_bag)\n",
    "print(future)\n",
    "vis_bag=bag.from_sequence(future.result())"
   ]
  },
  {
   "cell_type": "markdown",
   "metadata": {},
   "source": [
    "Check out the visibility function. To get the result out of the bag, we do need to compute it but this time it's just a lookup."
   ]
  },
  {
   "cell_type": "code",
   "execution_count": null,
   "metadata": {
    "ExecuteTime": {
     "end_time": "2017-12-10T11:02:12.963518Z",
     "start_time": "2017-12-10T11:02:09.062662Z"
    },
    "scrolled": false
   },
   "outputs": [],
   "source": [
    "coalesced_vis_bag=vis_bag.map(coalesce_visibility)\n",
    "vt = coalesced_vis_bag.compute()[0]\n",
    "\n",
    "# To check that we got the prediction right, plot the amplitude of the visibility.\n",
    "uvdist=numpy.sqrt(vt.data['uvw'][:,0]**2+vt.data['uvw'][:,1]**2)\n",
    "plt.clf()\n",
    "plt.plot(uvdist, numpy.abs(vt.data['vis']), '.')\n",
    "plt.xlabel('uvdist')\n",
    "plt.ylabel('Amp Visibility')\n",
    "plt.show()"
   ]
  },
  {
   "cell_type": "code",
   "execution_count": null,
   "metadata": {
    "ExecuteTime": {
     "end_time": "2017-12-10T11:07:27.194152Z",
     "start_time": "2017-12-10T11:06:15.103618Z"
    },
    "scrolled": false
   },
   "outputs": [],
   "source": [
    "from arl.graphs.bags import add_invert_results \n",
    "dirty_bag=coalesced_vis_bag\\\n",
    "    .map(visibility_scatter_w, vis_slices=vis_slices)\\\n",
    "    .map(safe_invert_list, model, invert_wstack_single, dopsf=False, normalize=True)\\\n",
    "    .map(sum_invert_bag_results)\n",
    "    \n",
    "dirty_bag.visualize('imaging-bags-dirty.svg')\n",
    "\n",
    "psf_bag=coalesced_vis_bag\\\n",
    "    .map(visibility_scatter_w, vis_slices=vis_slices)\\\n",
    "    .map(safe_invert_list, model, invert_wstack_single, dopsf=True, normalize=True)\\\n",
    "    .map(sum_invert_bag_results)\n",
    "\n",
    "    \n",
    "dirty_bag=bag.from_sequence(dirty_bag.compute())\n",
    "psf_bag=bag.from_sequence(psf_bag.compute())"
   ]
  },
  {
   "cell_type": "markdown",
   "metadata": {},
   "source": [
    "Now we can make the dirty images. As before we will scatter each of the 7 frequency windows (patitions) over w, giving a 2 level nested structure. We make a separate image for each frequency window. The image resolution noticeably improves for the high frequencies."
   ]
  },
  {
   "cell_type": "markdown",
   "metadata": {},
   "source": [
    "We deconvolve the one image and then replicate it for the subsequent selfcalibration"
   ]
  },
  {
   "cell_type": "code",
   "execution_count": null,
   "metadata": {
    "ExecuteTime": {
     "end_time": "2017-12-10T11:08:16.175485Z",
     "start_time": "2017-12-10T11:08:15.742607Z"
    },
    "scrolled": false
   },
   "outputs": [],
   "source": [
    "comp_bag=dirty_bag.take(1, compute=False)\\\n",
    "    .map(deconvolve_cube, psf_bag.take(1, compute=False), niter=1000, threshold=0.3, fractional_threshold=0.1, \n",
    "         window_shape='quarter', gain=0.7, scales=[0, 3, 10, 30])\n",
    "\n",
    "comp = comp_bag.compute()[0][0]\n",
    "print(comp)\n",
    "fig=show_image(comp)\n",
    "\n",
    "comp_bag=bag.from_sequence(nfreqwin*[comp])"
   ]
  },
  {
   "cell_type": "markdown",
   "metadata": {},
   "source": [
    "Next we can setup the self-calibration step. Note that we have to decoalesce the model visibility."
   ]
  },
  {
   "cell_type": "code",
   "execution_count": null,
   "metadata": {
    "ExecuteTime": {
     "end_time": "2017-12-06T14:54:29.334958Z",
     "start_time": "2017-12-06T14:54:29.327620Z"
    },
    "scrolled": false
   },
   "outputs": [],
   "source": [
    "model_vis_bag=coalesced_vis_bag\\\n",
    "    .map(visibility_scatter_w, vis_slices=vis_slices)\\\n",
    "    .map(safe_predict_list, comp_bag, predict=predict_wstack_single)\\\n",
    "    .map(concatenate_visibility)\n",
    "    \n",
    "# Decoalesce the model visibility\n",
    "block_model_vis_bag = model_vis_bag.map(decoalesce_visibility, empty_vis_bag)\n",
    "\n",
    "gt_bag = vis_bag\\\n",
    "    .map(solve_gaintable, block_model_vis_bag, phase_only=True)"
   ]
  },
  {
   "cell_type": "markdown",
   "metadata": {},
   "source": [
    "Correct the visibilities for the gains. Freeze them in."
   ]
  },
  {
   "cell_type": "code",
   "execution_count": null,
   "metadata": {
    "ExecuteTime": {
     "end_time": "2017-12-06T14:54:32.243942Z",
     "start_time": "2017-12-06T14:54:32.240339Z"
    }
   },
   "outputs": [],
   "source": [
    "coalesced_corrected_vis_bag = bag.from_sequence(vis_bag.map(apply_gaintable, gt_bag, inverse=True)\\\n",
    "                                                .map(coalesce_visibility).compute())"
   ]
  },
  {
   "cell_type": "markdown",
   "metadata": {},
   "source": [
    "Remake the dirty image and deconvolve again"
   ]
  },
  {
   "cell_type": "code",
   "execution_count": null,
   "metadata": {
    "ExecuteTime": {
     "end_time": "2017-12-06T14:59:19.973109Z",
     "start_time": "2017-12-06T14:58:50.791571Z"
    },
    "scrolled": false
   },
   "outputs": [],
   "source": [
    "dirty_bag=coalesced_corrected_vis_bag\\\n",
    "    .map(visibility_scatter_w, vis_slices=vis_slices)\\\n",
    "    .map(safe_invert_list, model, invert_wstack_single, dopsf=False, normalize=True)\\\n",
    "    .map(sum_invert_bag_results)\\\n",
    "    .fold(add_invert_results)\n",
    "dirty_bag=bag.from_sequence(dirty_bag.compute())\n",
    "    \n",
    "comp_bag=dirty_bag.take(1, compute=False)\\\n",
    "    .map(deconvolve_cube, psf_bag.take(1, compute=False), niter=1000, threshold=0.3, fractional_threshold=0.1, \n",
    "         window_shape='quarter', gain=0.7, scales=[0, 3, 10, 30])\n",
    "\n",
    "comp = comp_bag.compute()[0][0]\n",
    "\n",
    "comp_bag=bag.from_sequence(nfreqwin*[comp])\n"
   ]
  },
  {
   "cell_type": "markdown",
   "metadata": {},
   "source": [
    "Now we can calculate the corrected and residual visibility. "
   ]
  },
  {
   "cell_type": "code",
   "execution_count": null,
   "metadata": {
    "ExecuteTime": {
     "end_time": "2017-12-06T15:01:10.468933Z",
     "start_time": "2017-12-06T14:59:42.976281Z"
    },
    "scrolled": false
   },
   "outputs": [],
   "source": [
    "model_vis_bag=coalesced_corrected_vis_bag\\\n",
    "    .map(visibility_scatter_w, vis_slices=101)\\\n",
    "    .map(safe_predict_list, comp_bag, predict=predict_wstack_single)\\\n",
    "    .map(concatenate_visibility)\n",
    "    \n",
    "ovt = coalesced_corrected_vis_bag.compute()[0]\n",
    "\n",
    "res_vis_bag = coalesced_corrected_vis_bag.map(subtract_visibility, model_vis_bag)    \n",
    "vt = res_vis_bag.compute()[0]\n",
    "\n",
    "uvdist=numpy.sqrt(vt.data['uvw'][:,0]**2+vt.data['uvw'][:,1]**2)\n",
    "plt.clf()\n",
    "plt.plot(uvdist, numpy.abs(ovt.data['vis']), '.', color='b')\n",
    "plt.plot(uvdist, numpy.abs(vt.data['vis']), '.', color='r')\n",
    "plt.xlabel('uv distance (wavelengths)')\n",
    "plt.ylabel('Amp Visibility')\n",
    "plt.show()"
   ]
  },
  {
   "cell_type": "code",
   "execution_count": null,
   "metadata": {
    "ExecuteTime": {
     "end_time": "2017-12-06T15:21:45.827184Z",
     "start_time": "2017-12-06T15:20:31.780368Z"
    }
   },
   "outputs": [],
   "source": [
    "res_image_bag=residual_vis_bag\\\n",
    "    .map(visibility_scatter_w, vis_slices=11)\\\n",
    "    .map(safe_invert_list, model, invert_wstack_single, dopsf=False, normalize=True)\\\n",
    "    .map(sum_invert_bag_results)\n",
    "    \n",
    "res_image_bag=bag.from_sequence(res_image_bag.compute()[0])"
   ]
  },
  {
   "cell_type": "markdown",
   "metadata": {},
   "source": [
    "Now we can restore the images"
   ]
  },
  {
   "cell_type": "code",
   "execution_count": null,
   "metadata": {
    "ExecuteTime": {
     "end_time": "2017-12-06T15:23:17.073908Z",
     "start_time": "2017-12-06T15:23:15.448078Z"
    },
    "scrolled": false
   },
   "outputs": [],
   "source": [
    "print(res_image_bag.take(1, compute=False).compute())\n",
    "restore_bag = comp_bag.take(1, compute=False).map(restore_cube, \n",
    "                                   psf_bag.take(1, compute=False), \n",
    "                                   res_image_bag.take(1, compute=False))\n",
    "\n",
    "restored = restore_bag.compute()[0]\n",
    "fig = show_image(restored, title='Restored image')\n",
    "plt.show()"
   ]
  },
  {
   "cell_type": "code",
   "execution_count": null,
   "metadata": {},
   "outputs": [],
   "source": []
  }
 ],
 "metadata": {
  "kernelspec": {
   "display_name": "Python 3",
   "language": "python",
   "name": "python3"
  },
  "language_info": {
   "codemirror_mode": {
    "name": "ipython",
    "version": 3
   },
   "file_extension": ".py",
   "mimetype": "text/x-python",
   "name": "python",
   "nbconvert_exporter": "python",
   "pygments_lexer": "ipython3",
   "version": "3.6.1"
  },
  "notify_time": "30"
 },
 "nbformat": 4,
 "nbformat_minor": 1
}
