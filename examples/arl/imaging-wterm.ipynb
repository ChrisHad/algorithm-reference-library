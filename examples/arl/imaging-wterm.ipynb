{
 "cells": [
  {
   "cell_type": "markdown",
   "metadata": {},
   "source": [
    "# Wide-field imaging demonstration"
   ]
  },
  {
   "cell_type": "markdown",
   "metadata": {},
   "source": [
    "### This script makes a fake data set, fills it with a number of point components, and then images it. "
   ]
  },
  {
   "cell_type": "code",
   "execution_count": null,
   "metadata": {
    "collapsed": false
   },
   "outputs": [],
   "source": [
    "%matplotlib inline\n",
    "\n",
    "import os\n",
    "import sys\n",
    "\n",
    "sys.path.append(os.path.join('..', '..'))\n",
    "\n",
    "from matplotlib import pylab\n",
    "\n",
    "pylab.rcParams['figure.figsize'] = (8.0, 8.0)\n",
    "pylab.rcParams['image.cmap'] = 'rainbow'\n",
    "\n",
    "import numpy\n",
    "\n",
    "from astropy.coordinates import SkyCoord\n",
    "from astropy import units as u\n",
    "from astropy import constants as const\n",
    "from astropy.wcs.utils import pixel_to_skycoord\n",
    "\n",
    "from matplotlib import pyplot as plt\n",
    "\n",
    "from arl.visibility.operations import create_visibility\n",
    "from arl.skymodel.operations import create_skycomponent\n",
    "from arl.image.operations import show_image, export_image_to_fits\n",
    "from arl.image.iterators import raster_iter\n",
    "from arl.visibility.iterators import vis_timeslice_iter\n",
    "from arl.util.testing_support import create_named_configuration\n",
    "from arl.fourier_transforms.ftprocessor import invert_2d, create_image_from_visibility, \\\n",
    "    weight_visibility, predict_skycomponent_visibility, create_w_term_image, invert_by_image_partitions, \\\n",
    "    invert_timeslice, invert_wprojection\n",
    "\n",
    "import logging\n",
    "\n",
    "log = logging.getLogger()\n",
    "log.setLevel(logging.DEBUG)\n",
    "log.addHandler(logging.StreamHandler(sys.stdout))\n",
    "\n",
    "doplot = True"
   ]
  },
  {
   "cell_type": "markdown",
   "metadata": {},
   "source": [
    "### Set up imaging parameters"
   ]
  },
  {
   "cell_type": "code",
   "execution_count": null,
   "metadata": {
    "collapsed": true
   },
   "outputs": [],
   "source": [
    "params = {'npixel': 256,\n",
    "          'npol': 1,\n",
    "          'cellsize': 0.001,\n",
    "          'spectral_mode': 'channel',\n",
    "          'channelwidth': 5e7,\n",
    "          'reffrequency': 1e8,\n",
    "          'kernel':'calculated'}"
   ]
  },
  {
   "cell_type": "markdown",
   "metadata": {},
   "source": [
    "### Construct the SKA1-LOW core configuration"
   ]
  },
  {
   "cell_type": "code",
   "execution_count": null,
   "metadata": {
    "collapsed": false
   },
   "outputs": [],
   "source": [
    "lowcore = create_named_configuration('LOWBD2-CORE')"
   ]
  },
  {
   "cell_type": "markdown",
   "metadata": {},
   "source": [
    "### We create the visibility. This just makes the uvw, time, antenna1, antenna2, weight columns in a table"
   ]
  },
  {
   "cell_type": "code",
   "execution_count": null,
   "metadata": {
    "collapsed": false
   },
   "outputs": [],
   "source": [
    "times = numpy.arange(-numpy.pi, +numpy.pi, numpy.pi / 4)\n",
    "frequency = numpy.array([1e8])\n",
    "\n",
    "reffrequency = numpy.max(frequency)\n",
    "phasecentre = SkyCoord(ra=+15.0 * u.deg, dec=-60.0 * u.deg, frame='icrs', equinox=2000.0)\n",
    "vt = create_visibility(lowcore, times, frequency, weight=1.0, phasecentre=phasecentre, params=params)"
   ]
  },
  {
   "cell_type": "markdown",
   "metadata": {},
   "source": [
    "### Plot the synthesized UV coverage."
   ]
  },
  {
   "cell_type": "code",
   "execution_count": null,
   "metadata": {
    "collapsed": false,
    "scrolled": false
   },
   "outputs": [],
   "source": [
    "if doplot:\n",
    "    plt.clf()\n",
    "    for f in frequency:\n",
    "        x = f / const.c\n",
    "        plt.plot(x * vt.data['uvw'][:, 0], x * vt.data['uvw'][:, 1], '.', color='b')\n",
    "        plt.plot(-x * vt.data['uvw'][:, 0], -x * vt.data['uvw'][:, 1], '.', color='r')\n",
    "        plt.xlabel('U (wavelengths)')\n",
    "        plt.ylabel('V (wavelengths)')"
   ]
  },
  {
   "cell_type": "markdown",
   "metadata": {},
   "source": [
    "### Look at the phase term due to w. Evaluate this for the median absolute w. "
   ]
  },
  {
   "cell_type": "code",
   "execution_count": null,
   "metadata": {
    "collapsed": false
   },
   "outputs": [],
   "source": [
    "if doplot:\n",
    "    wterm = create_w_term_image(vt, params=params)\n",
    "    show_image(wterm)\n",
    "    plt.show()"
   ]
  },
  {
   "cell_type": "markdown",
   "metadata": {},
   "source": [
    "### Create a grid of components and predict each in turn, using the full phase term including w."
   ]
  },
  {
   "cell_type": "code",
   "execution_count": null,
   "metadata": {
    "collapsed": false,
    "scrolled": false
   },
   "outputs": [],
   "source": [
    "params = {'npixel': 256,\n",
    "          'npol': 1,\n",
    "          'cellsize': 0.001,\n",
    "          'spectral_mode': 'channel',\n",
    "          'channelwidth': 5e7,\n",
    "          'reffrequency': 1e8,\n",
    "          'kernel':'calculated',\n",
    "          'image_partitions':4}\n",
    "\n",
    "flux = numpy.array([[100.0]])\n",
    "vt.data['vis'] *= 0.0\n",
    "\n",
    "model = create_image_from_visibility(vt, params=params)\n",
    "spacing_pixels = params['npixel'] // params['image_partitions']\n",
    "log.info('Spacing in pixels = %s' % spacing_pixels)\n",
    "spacing = 180.0 * params['cellsize'] * spacing_pixels / numpy.pi\n",
    "centers = -1.5, -0.5, +0.5, +1.5\n",
    "for iy in centers:\n",
    "    for ix in centers:\n",
    "        pra =  int(round(params['npixel'] // 2 + ix * spacing_pixels - 1))\n",
    "        pdec = int(round(params['npixel'] // 2 + iy * spacing_pixels - 1))\n",
    "        sc = pixel_to_skycoord(pra, pdec, model.wcs)\n",
    "        log.info(\"Component at (%f, %f) %s\" % (pra, pdec, str(sc)))\n",
    "        comp = create_skycomponent(flux=flux, frequency=frequency, direction=sc)\n",
    "        predict_skycomponent_visibility(vt, comp)"
   ]
  },
  {
   "cell_type": "markdown",
   "metadata": {},
   "source": [
    "### Make the dirty image and point spread function. Note that the shape of the sources vary with position in the image. This space-variant property of the PSF arises from the w-term."
   ]
  },
  {
   "cell_type": "code",
   "execution_count": null,
   "metadata": {
    "collapsed": false
   },
   "outputs": [],
   "source": [
    "params = {'npixel': 256,\n",
    "          'npol': 1,\n",
    "          'cellsize': 0.001,\n",
    "          'spectral_mode': 'channel',\n",
    "          'channelwidth': 5e7,\n",
    "          'reffrequency': 1e8,\n",
    "          'kernel':'calculated'}\n",
    "\n",
    "dirty = create_image_from_visibility(vt, params=params)\n",
    "psf = create_image_from_visibility(vt, params=params)\n",
    "vt = weight_visibility(vt, dirty)\n",
    "dirty = invert_2d(vt, dirty, params=params)\n",
    "psf = invert_2d(vt, dirty, dopsf=True, params=params)\n",
    "psfmax = psf.data.max()\n",
    "dirty.data = dirty.data / psfmax\n",
    "psf.data = psf.data / psfmax\n",
    "\n",
    "if doplot:\n",
    "    show_image(dirty)\n",
    "\n",
    "print(\"Max, min in dirty image = %.6f, %.6f, psfmax = %f\" % (dirty.data.max(), dirty.data.min(), psfmax))\n",
    "print(\"Max, min in PSF = %.6f, %.6f, psfmax = %f\" % (psf.data.max(), psf.data.min(), psfmax))\n",
    "\n",
    "export_image_to_fits(dirty, 'imaging-wterm_dirty.fits')\n",
    "export_image_to_fits(psf, 'imaging-wterm_psf.fits')"
   ]
  },
  {
   "cell_type": "markdown",
   "metadata": {},
   "source": [
    "### Use image plane partitioning (faceting) to make the image"
   ]
  },
  {
   "cell_type": "code",
   "execution_count": null,
   "metadata": {
    "collapsed": false,
    "scrolled": false
   },
   "outputs": [],
   "source": [
    "params = {'npixel': 256,\n",
    "          'npol': 1,\n",
    "          'cellsize': 0.001,\n",
    "          'spectral_mode': 'channel',\n",
    "          'channelwidth': 5e7,\n",
    "          'reffrequency': 1e8,\n",
    "          'kernel':'calculated',\n",
    "          'image_partitions': 4}\n",
    "\n",
    "\n",
    "dirtyFacet = create_image_from_visibility(vt, params=params)\n",
    "dirtyFacet = invert_by_image_partitions(vt, dirtyFacet, image_iterator=raster_iter, params=params)\n",
    "dirtyFacet.data = dirtyFacet.data / (psfmax * params['image_partitions'] * params['image_partitions'])\n",
    "\n",
    "if doplot:\n",
    "    show_image(dirtyFacet)\n",
    "\n",
    "print(\"Max, min in dirty image = %.6f, %.6f, psfmax = %f\" % (dirtyFacet.data.max(), dirtyFacet.data.min(), psfmax))\n",
    "export_image_to_fits(dirtyFacet, 'imaging-wterm_dirtyFacet.fits')"
   ]
  },
  {
   "cell_type": "markdown",
   "metadata": {},
   "source": [
    "### That was the best case. This time, we will not arrange for the points to be at the center of the partitions."
   ]
  },
  {
   "cell_type": "code",
   "execution_count": null,
   "metadata": {
    "collapsed": false,
    "scrolled": false
   },
   "outputs": [],
   "source": [
    "params = {'npixel': 256,\n",
    "          'npol': 1,\n",
    "          'cellsize': 0.001,\n",
    "          'spectral_mode': 'channel',\n",
    "          'channelwidth': 5e7,\n",
    "          'reffrequency': 1e8,\n",
    "          'kernel':'calculated',\n",
    "          'image_partitions':2}\n",
    "\n",
    "dirtyFacet2 = create_image_from_visibility(vt, params=params)\n",
    "dirtyFacet2 = invert_by_image_partitions(vt, dirtyFacet2, image_iterator=raster_iter, params=params)\n",
    "dirtyFacet2.data = dirtyFacet2.data / (psfmax * params['image_partitions'] * params['image_partitions'])\n",
    "\n",
    "if doplot:\n",
    "    show_image(dirtyFacet2)\n",
    "\n",
    "print(\"Max, min in dirty image = %.6f, %.6f, psfmax = %f\" % (dirtyFacet2.data.max(), dirtyFacet2.data.min(), psfmax))\n",
    "export_image_to_fits(dirtyFacet2, 'imaging-wterm_dirtyFacet2.fits')"
   ]
  },
  {
   "cell_type": "markdown",
   "metadata": {},
   "source": [
    "### Look at images as a function of time. Show difference from the best facet image"
   ]
  },
  {
   "cell_type": "code",
   "execution_count": null,
   "metadata": {
    "collapsed": false,
    "scrolled": false
   },
   "outputs": [],
   "source": [
    "params = {'npixel': 256,\n",
    "          'npol': 1,\n",
    "          'cellsize': 0.001,\n",
    "          'spectral_mode': 'channel',\n",
    "          'channelwidth': 5e7,\n",
    "          'reffrequency': 1e8,\n",
    "          'kernel':'calculated',\n",
    "          'timeslice': 3600.0}\n",
    "\n",
    "for visslice in vis_timeslice_iter(vt, params):\n",
    "    dirtySnapshot = create_image_from_visibility(visslice, params=params)\n",
    "    dirtySnapshot = invert_2d(visslice, dirtySnapshot, params=params)\n",
    "\n",
    "    psfSnapshot = create_image_from_visibility(visslice, params=params)\n",
    "    psfSnapshot = invert_2d(visslice, dirtySnapshot, dopsf=True, params=params)\n",
    "    psfmax = psfSnapshot.data.max()\n",
    "\n",
    "    dirtySnapshot.data /= psfmax\n",
    "\n",
    "    print(\"Max, min in dirty image = %.6f, %.6f, psfmax = %f\" % \n",
    "          (dirtySnapshot.data.max(), dirtySnapshot.data.min(), psfmax))\n",
    "    if doplot:\n",
    "        dirtySnapshot.data -= dirtyFacet.data\n",
    "        show_image(dirtySnapshot)\n",
    "\n"
   ]
  },
  {
   "cell_type": "markdown",
   "metadata": {},
   "source": [
    "### Image by correcting each time slice and summing"
   ]
  },
  {
   "cell_type": "code",
   "execution_count": null,
   "metadata": {
    "collapsed": false,
    "scrolled": false
   },
   "outputs": [],
   "source": [
    "params = {'npixel': 256,\n",
    "          'npol': 1,\n",
    "          'cellsize': 0.001,\n",
    "          'spectral_mode': 'channel',\n",
    "          'channelwidth': 5e7,\n",
    "          'reffrequency': 1e8,\n",
    "          'timeslice': 1.0,\n",
    "          'nprocessor':1}\n",
    "\n",
    "dirtyTimeslice = create_image_from_visibility(vt, params=params)\n",
    "targetimage = invert_timeslice(vt, dirtyTimeslice, params=params)\n",
    "psfTimeslice = create_image_from_visibility(vt, params=params)\n",
    "psfTimeslice  = invert_timeslice(vt, psfTimeslice, dopsf=True, params=params)\n",
    "psfmax = psfTimeslice.data.max()\n",
    "\n",
    "dirtyTimeslice.data /= psfmax\n",
    "psfTimeslice.data /= psfmax\n",
    "\n",
    "show_image(dirtyTimeslice)\n",
    "plt.show()\n",
    "\n",
    "export_image_to_fits(dirtyTimeslice, 'imaging-wterm_dirty_Timeslice.fits')"
   ]
  },
  {
   "cell_type": "markdown",
   "metadata": {},
   "source": [
    "### Now try w projection. WProjection is implemented via invert_2d with a specialised kernel."
   ]
  },
  {
   "cell_type": "code",
   "execution_count": null,
   "metadata": {
    "collapsed": false,
    "scrolled": false
   },
   "outputs": [],
   "source": [
    "params = {'npixel': 256,\n",
    "          'npol': 1,\n",
    "          'cellsize': 0.001,\n",
    "          'spectral_mode': 'channel',\n",
    "          'channelwidth': 5e7,\n",
    "          'reffrequency': 1e8,\n",
    "          'wloss':0.05}\n",
    "\n",
    "dirtyWProjection = create_image_from_visibility(vt, params=params)\n",
    "dirtyWProjection = invert_wprojection(vt, dirtyWProjection, params=params)\n",
    "psfWProjection = create_image_from_visibility(vt, params=params)\n",
    "psfWProjection = invert_wprojection(vt, psfWProjection, dopsf=True, params=params)\n",
    "psfmax = psfWProjection.data.max()\n",
    "dirtyWProjection.data = dirtyWProjection.data / psfmax\n",
    "psfWProjection.data = psfWProjection.data / psfmax\n",
    "\n",
    "if doplot:\n",
    "    show_image(dirtyWProjection)\n",
    "\n",
    "print(\"Max, min in dirty image = %.6f, %.6f, psfmax = %f\" % (dirtyWProjection.data.max(), \n",
    "                                                             dirtyWProjection.data.min(), psfmax))\n",
    "export_image_to_fits(dirtyWProjection, 'imaging-wterm_dirty_WProjection.fits')\n",
    "export_image_to_fits(psfWProjection, 'imaging-wterm_psf_WProjection.fits')"
   ]
  },
  {
   "cell_type": "code",
   "execution_count": null,
   "metadata": {
    "collapsed": true
   },
   "outputs": [],
   "source": []
  }
 ],
 "metadata": {
  "kernelspec": {
   "display_name": "Python 3",
   "language": "python",
   "name": "python3"
  },
  "language_info": {
   "codemirror_mode": {
    "name": "ipython",
    "version": 3
   },
   "file_extension": ".py",
   "mimetype": "text/x-python",
   "name": "python",
   "nbconvert_exporter": "python",
   "pygments_lexer": "ipython3",
   "version": "3.5.1"
  },
  "widgets": {
   "state": {},
   "version": "1.1.2"
  }
 },
 "nbformat": 4,
 "nbformat_minor": 0
}
