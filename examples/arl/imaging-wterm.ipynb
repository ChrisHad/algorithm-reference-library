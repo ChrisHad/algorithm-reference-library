{
 "cells": [
  {
   "cell_type": "markdown",
   "metadata": {},
   "source": [
    "# Wide-field imaging demonstration"
   ]
  },
  {
   "cell_type": "markdown",
   "metadata": {},
   "source": [
    "### This script makes a fake data set, fills it with a number of point components, and then images it. "
   ]
  },
  {
   "cell_type": "code",
   "execution_count": null,
   "metadata": {
    "collapsed": false
   },
   "outputs": [],
   "source": [
    "%matplotlib inline\n",
    "\n",
    "import sys, os\n",
    "sys.path.append(os.path.join('..','..'))\n",
    "\n",
    "from matplotlib import pylab\n",
    "pylab.rcParams['figure.figsize'] = (12.0, 12.0)\n",
    "pylab.rcParams['image.cmap'] = 'rainbow'\n",
    "\n",
    "import numpy\n",
    "\n",
    "from astropy.coordinates import SkyCoord\n",
    "from astropy.wcs.utils import skycoord_to_pixel, pixel_to_skycoord\n",
    "from astropy import units as u\n",
    "from astropy import constants as const\n",
    "\n",
    "from matplotlib import pyplot as plt\n",
    "\n",
    "from arl.visibility.operations import create_visibility\n",
    "from arl.skymodel.operations import create_skymodel_from_image, add_component_to_skymodel, create_skycomponent, \\\n",
    "    find_skycomponent\n",
    "from arl.image.operations import show_image, import_image_from_fits, export_image_to_fits\n",
    "from arl.util.testing_support import create_named_configuration, replicate_image, create_test_image\n",
    "from arl.fourier_transforms.ftprocessor import predict_2d, invert_2d, create_image_from_visibility, \\\n",
    "    weight_visibility, predict_skycomponent_visibility, create_w_term_image\n",
    "\n",
    "\n",
    "import logging\n",
    "log = logging.getLogger()\n",
    "log.setLevel(logging.DEBUG)\n",
    "#log.addHandler(logging.StreamHandler(sys.stdout))"
   ]
  },
  {
   "cell_type": "markdown",
   "metadata": {},
   "source": [
    "### Construct the SKA1-LOW core configuration"
   ]
  },
  {
   "cell_type": "code",
   "execution_count": null,
   "metadata": {
    "collapsed": true
   },
   "outputs": [],
   "source": [
    "params = {'npixel': 512, \n",
    "          'cellsize': 0.0005, \n",
    "          'spectral_mode': 'channel', \n",
    "          'channelwidth':5e7, \n",
    "          'reffrequency':1e8}\n",
    "\n",
    "vlaa = create_named_configuration('LOWBD2-CORE')"
   ]
  },
  {
   "cell_type": "markdown",
   "metadata": {},
   "source": [
    "### We create the visibility. This just makes the uvw, time, antenna1, antenna2, weight columns in a table"
   ]
  },
  {
   "cell_type": "code",
   "execution_count": null,
   "metadata": {
    "collapsed": false
   },
   "outputs": [],
   "source": [
    "times = numpy.arange(-numpy.pi/2.0, +numpy.pi/2.0+0.02,0.05)\n",
    "frequency = numpy.array([1e8])\n",
    "\n",
    "reffrequency = numpy.max(frequency)\n",
    "phasecentre = SkyCoord(ra=+15.0 * u.deg, dec=-35.0 * u.deg, frame='icrs', equinox=2000.0)\n",
    "vt = create_visibility(vlaa, times, frequency, weight=1.0, phasecentre=phasecentre)\n",
    "uvw = vt.data['uvw']"
   ]
  },
  {
   "cell_type": "markdown",
   "metadata": {},
   "source": [
    "### Plot the synthesized UW coverage."
   ]
  },
  {
   "cell_type": "code",
   "execution_count": null,
   "metadata": {
    "collapsed": false
   },
   "outputs": [],
   "source": [
    "plt.clf()\n",
    "for f in frequency:\n",
    "    x=f/const.c\n",
    "    plt.plot(x*vt.data['uvw'][:,0], x*vt.data['uvw'][:,2], '.', color='b')\n",
    "    plt.plot(-x*vt.data['uvw'][:,0], -x*vt.data['uvw'][:,2], '.', color='r')\n",
    "    plt.xlabel('U (wavelengths)')\n",
    "    plt.ylabel('W (wavelengths)')"
   ]
  },
  {
   "cell_type": "markdown",
   "metadata": {},
   "source": [
    "### To see why this occurs, look at the phase term due to w. Evaluate this for the median absolute w."
   ]
  },
  {
   "cell_type": "code",
   "execution_count": null,
   "metadata": {
    "collapsed": false
   },
   "outputs": [],
   "source": [
    "wterm = create_w_term_image(vt, params=params)\n",
    "show_image(wterm)\n",
    "plt.show()\n"
   ]
  },
  {
   "cell_type": "markdown",
   "metadata": {},
   "source": [
    "### Create a grid of components and predict each in turn, using the full phase term including w."
   ]
  },
  {
   "cell_type": "code",
   "execution_count": null,
   "metadata": {
    "collapsed": false,
    "scrolled": false
   },
   "outputs": [],
   "source": [
    "flux = numpy.array([[100.0, 0.0, 0.0, 0.0]])\n",
    "vt.data['vis']*=0.0\n",
    "spacing=2.0\n",
    "for iy in -3,-2,-1,0,1,2,3: \n",
    "    for ix in -3,-2,-1,0,1,2,3: \n",
    "        compabsdirection = SkyCoord(ra=(15+ix*spacing) * u.deg, dec=(-35+iy*spacing) * u.deg, frame='icrs', \n",
    "                                    equinox=2000.0)\n",
    "        comp = create_skycomponent(flux=flux, frequency=frequency, direction=compabsdirection)\n",
    "        predict_skycomponent_visibility(vt, comp).data['vis']"
   ]
  },
  {
   "cell_type": "markdown",
   "metadata": {},
   "source": [
    "### To check that we got the prediction right, plot the amplitude of the visibility."
   ]
  },
  {
   "cell_type": "code",
   "execution_count": null,
   "metadata": {
    "collapsed": false,
    "scrolled": false
   },
   "outputs": [],
   "source": [
    "uvdist=numpy.sqrt(vt.data['uvw'][:,0]**2+vt.data['uvw'][:,1]**2)\n",
    "plt.clf()\n",
    "plt.plot(uvdist, numpy.abs(vt.data['vis'][:,0,0]), '.')\n",
    "plt.xlabel('uvdist')\n",
    "plt.ylabel('Amp Visibility')\n",
    "plt.show()"
   ]
  },
  {
   "cell_type": "markdown",
   "metadata": {},
   "source": [
    "### Make the dirty image and point spread function. Note that the shape of the sources vary with position in the image. This space-variant property of the PSF arises from the w-term."
   ]
  },
  {
   "cell_type": "code",
   "execution_count": null,
   "metadata": {
    "collapsed": false
   },
   "outputs": [],
   "source": [
    "model = create_image_from_visibility(vt, params=params)\n",
    "vt = weight_visibility(vt, model)\n",
    "dirty = invert_2d(vt, model, params=params)\n",
    "psf = invert_2d(vt, model, dopsf=True, params=params)\n",
    "psfmax = psf.data.max()\n",
    "dirty.data = dirty.data/psfmax\n",
    "psf.data = psf.data/psfmax\n",
    "\n",
    "show_image(dirty)\n",
    "print(\"Max, min in dirty image = %.6f, %.6f, psfmax = %f\" % (dirty.data.max(), dirty.data.min(), psfmax))\n",
    "\n",
    "print(\"Max, min in PSF = %.6f, %.6f, psfmax = %f\" % (psf.data.max(), psf.data.min(), psfmax))\n",
    "\n",
    "export_image_to_fits(dirty, 'imaging_dirty.fits')\n",
    "export_image_to_fits(psf, 'imaging_psf.fits')"
   ]
  },
  {
   "cell_type": "markdown",
   "metadata": {},
   "source": [
    "### Now switch v and w axes and remake the dirty image and PSF. With this change, the PSF is now shift-invariant but we see only a single plane of sources corresponding to m=0."
   ]
  },
  {
   "cell_type": "code",
   "execution_count": null,
   "metadata": {
    "collapsed": false,
    "scrolled": false
   },
   "outputs": [],
   "source": [
    "vt.data['uvw'][:,1] = uvw[:,2]\n",
    "vt.data['uvw'][:,2] = numpy.zeros_like(uvw[:,2]) \n",
    "\n",
    "dirtyW = invert_2d(vt, model, params=params)\n",
    "psfW = invert_2d(vt, model, dopsf=True, params=params)\n",
    "psfmax = psfW.data.max()\n",
    "dirtyW.data = dirtyW.data/psfmax\n",
    "psfW.data = psfW.data/psfmax\n",
    "\n",
    "show_image(dirtyW)\n",
    "show_image(psfW)\n",
    "plt.show()\n",
    "\n",
    "print(\"Max, min in dirty image = %.6f, %.6f, psfmax = %f\" % (dirtyW.data.max(), dirtyW.data.min(), psfmax))\n",
    "\n",
    "print(\"Max, min in PSF = %.6f, %.6f, psfmax = %f\" % (psfW.data.max(), psfW.data.min(), psfmax))\n",
    "\n",
    "export_image_to_fits(dirtyW, 'imaging_dirtyW.fits')\n",
    "export_image_to_fits(psfW, 'imaging_psfW.fits')"
   ]
  },
  {
   "cell_type": "code",
   "execution_count": null,
   "metadata": {
    "collapsed": true
   },
   "outputs": [],
   "source": []
  }
 ],
 "metadata": {
  "kernelspec": {
   "display_name": "Python 3",
   "language": "python",
   "name": "python3"
  },
  "language_info": {
   "codemirror_mode": {
    "name": "ipython",
    "version": 3
   },
   "file_extension": ".py",
   "mimetype": "text/x-python",
   "name": "python",
   "nbconvert_exporter": "python",
   "pygments_lexer": "ipython3",
   "version": "3.5.1"
  },
  "widgets": {
   "state": {},
   "version": "1.1.2"
  }
 },
 "nbformat": 4,
 "nbformat_minor": 0
}
