{
 "cells": [
  {
   "cell_type": "markdown",
   "metadata": {},
   "source": [
    "# Dask imaging demonstration\n",
    "\n",
    "This notebook explores the use of dask for parallelisation. We work through the steps of imaging, ending up with a major/minor cycle algorithm using dask.\n",
    "\n",
    "For each step, we first create a graph and then execute it to demonstrate correctness. More evolved versions of these functions are in  pipelines/dask_graphs.py"
   ]
  },
  {
   "cell_type": "code",
   "execution_count": null,
   "metadata": {
    "collapsed": true
   },
   "outputs": [],
   "source": [
    "%matplotlib inline\n",
    "\n",
    "import os\n",
    "import sys\n",
    "\n",
    "from dask import delayed\n",
    "\n",
    "sys.path.append(os.path.join('..', '..'))\n",
    "\n",
    "results_dir = './results'\n",
    "os.makedirs(results_dir, exist_ok=True)\n",
    "\n",
    "from matplotlib import pylab\n",
    "\n",
    "pylab.rcParams['figure.figsize'] = (12.0, 12.0)\n",
    "pylab.rcParams['image.cmap'] = 'rainbow'\n",
    "\n",
    "import numpy\n",
    "\n",
    "from astropy.coordinates import SkyCoord\n",
    "from astropy import units as u\n",
    "from astropy.wcs.utils import pixel_to_skycoord\n",
    "\n",
    "from matplotlib import pyplot as plt\n",
    "\n",
    "from arl.data.data_models import Image, BlockVisibility, Visibility\n",
    "from arl.data.polarisation import PolarisationFrame\n",
    "from arl.data.parameters import get_parameter\n",
    "from arl.visibility.operations import create_blockvisibility, create_visibility_from_rows, \\\n",
    "    copy_visibility\n",
    "from arl.skycomponent.operations import create_skycomponent\n",
    "from arl.image.deconvolution import deconvolve_cube, restore_cube\n",
    "from arl.image.operations import show_image, export_image_to_fits, qa_image\n",
    "from arl.image.iterators import raster_iter\n",
    "from arl.visibility.iterators import vis_timeslice_iter\n",
    "from arl.util.testing_support import create_named_configuration\n",
    "from arl.fourier_transforms.ftprocessor import predict_2d, invert_2d, \\\n",
    "    create_image_from_visibility, \\\n",
    "    predict_skycomponent_blockvisibility, residual_image, invert_timeslice_single, \\\n",
    "    predict_timeslice_single, predict_timeslice_single, advise_wide_field\n",
    "from arl.pipelines.dask_graphs import create_invert_graph\n",
    "\n",
    "import logging\n",
    "\n",
    "log = logging.getLogger()\n",
    "log.setLevel(logging.DEBUG)\n",
    "log.addHandler(logging.StreamHandler(sys.stdout))"
   ]
  },
  {
   "cell_type": "markdown",
   "metadata": {},
   "source": [
    "We create the visibility. "
   ]
  },
  {
   "cell_type": "code",
   "execution_count": null,
   "metadata": {},
   "outputs": [],
   "source": [
    "def create_visibility_graph(freq=1e8, chan_width=1e6, time=0.0):\n",
    "    lowcore = create_named_configuration('LOWBD2-CORE')\n",
    "    times = [time]\n",
    "    frequency = numpy.array([freq])\n",
    "    channel_bandwidth = numpy.array([chan_width])\n",
    "\n",
    "\n",
    "    reffrequency = numpy.max(frequency)\n",
    "    phasecentre = SkyCoord(ra=+15.0 * u.deg, dec=-45.0 * u.deg, frame='icrs', equinox=2000.0)\n",
    "    return delayed(create_blockvisibility)(lowcore, times, frequency, channel_bandwidth=channel_bandwidth,\n",
    "                                weight=1.0, phasecentre=phasecentre, polarisation_frame=PolarisationFrame(\"stokesI\"))\n",
    "\n",
    "vis_graph=create_visibility_graph()"
   ]
  },
  {
   "cell_type": "markdown",
   "metadata": {},
   "source": [
    "Create a grid of components and predict each in turn, using the full phase term including w."
   ]
  },
  {
   "cell_type": "code",
   "execution_count": null,
   "metadata": {
    "scrolled": false
   },
   "outputs": [],
   "source": [
    "def fill_model(vt):\n",
    "    npixel = 512\n",
    "    cellsize=0.001\n",
    "    flux = numpy.array([[100.0]])\n",
    "    facets = 4\n",
    "\n",
    "    model = create_image_from_visibility(vt, npixel=npixel, cellsize=cellsize, npol=1, frequency=vt.frequency,\n",
    "                                        polarisation_frame=PolarisationFrame(\"stokesI\"))\n",
    "    spacing_pixels = npixel // facets\n",
    "    log.info('Spacing in pixels = %s' % spacing_pixels)\n",
    "    spacing = 180.0 * cellsize * spacing_pixels / numpy.pi\n",
    "    centers = -1.5, -0.5, +0.5, +1.5\n",
    "    comps = list()\n",
    "    for iy in centers:\n",
    "        for ix in centers:\n",
    "            pra =  int(round(npixel // 2 + ix * spacing_pixels - 1))\n",
    "            pdec = int(round(npixel // 2 + iy * spacing_pixels - 1))\n",
    "            sc = pixel_to_skycoord(pra, pdec, model.wcs)\n",
    "            log.info(\"Component at (%f, %f) %s\" % (pra, pdec, str(sc)))\n",
    "            comps.append(create_skycomponent(flux=flux, frequency=vt.frequency, direction=sc, \n",
    "                                             polarisation_frame=PolarisationFrame(\"stokesI\")))\n",
    "    predict_skycomponent_blockvisibility(vt, comps)\n",
    "    return [model,]\n",
    "\n",
    "model_graph = delayed(fill_model, pure=True, nout=1)(vis_graph)\n",
    "\n",
    "dirty_graph=delayed(invert_timeslice_single, pure=True, nout=2)(vis_graph, model_graph, dopsf=False, \n",
    "                                                                      normalize=True)\n",
    "psf_graph=delayed(invert_timeslice_single, pure=True, nout=2)(vis_graph, model_graph, dopsf=True, normalize=True)\n",
    "dirty_graph.visualize()"
   ]
  },
  {
   "cell_type": "markdown",
   "metadata": {},
   "source": [
    "Define a Dask enabled invert looking like invert_2d but with additional arguments for the invert for a single chunk, and the iterator. The iterator is used to split the visibility up into pieces before calling the\n",
    "single chunk invert.\n",
    "\n",
    "The function invert_graph is not a graph but it takes graphs as input and emits a graph to do the calculation. The dask.delayed method compute() must be called to actually execute the graph. "
   ]
  },
  {
   "cell_type": "code",
   "execution_count": null,
   "metadata": {},
   "outputs": [],
   "source": [
    "def create_invert_graph(vis, model_graph, dopsf=False, normalize=True, invert_single=invert_timeslice_single, \n",
    "                        **kwargs):    \n",
    "    return delayed(invert_single, pure=True, nout=2)(vis_graph, model_graph[0], dopsf=dopsf, normalize=normalize, \n",
    "                                                     **kwargs)"
   ]
  },
  {
   "cell_type": "markdown",
   "metadata": {},
   "source": [
    "At this point, the model graph is just a delayed function"
   ]
  },
  {
   "cell_type": "markdown",
   "metadata": {},
   "source": [
    "So now we can make a graph for a particular context and then visualize it"
   ]
  },
  {
   "cell_type": "code",
   "execution_count": null,
   "metadata": {
    "scrolled": false
   },
   "outputs": [],
   "source": [
    "dirty_graph = create_invert_graph(vis_graph, model_graph, False, \n",
    "                                            invert_single=invert_timeslice_single, \n",
    "                                            normalize=True, \n",
    "                                            timeslice='auto', context='')\n",
    "dirty_graph.visualize()"
   ]
  },
  {
   "cell_type": "code",
   "execution_count": null,
   "metadata": {},
   "outputs": [],
   "source": [
    "dirty=dirty_graph.compute()"
   ]
  },
  {
   "cell_type": "code",
   "execution_count": null,
   "metadata": {},
   "outputs": [],
   "source": [
    "print(dirty)\n",
    "show_image(dirty[0]);plt.show()"
   ]
  },
  {
   "cell_type": "markdown",
   "metadata": {},
   "source": [
    "This will need graphs to calculate the dirty (or residual) image and the psf"
   ]
  },
  {
   "cell_type": "code",
   "execution_count": null,
   "metadata": {
    "scrolled": false
   },
   "outputs": [],
   "source": [
    "psf_graph = create_invert_graph(vis_graph, model_graph, dopsf=True, invert_single=invert_timeslice_single, \n",
    "                                 normalize=True, timeslice=10.0)\n",
    "dirty_graph = create_invert_graph(vis_graph, model_graph, False, invert_single=invert_timeslice_single, \n",
    "                                  iterator=vis_timeslice_iter, normalize=True, timeslice=10.0)"
   ]
  },
  {
   "cell_type": "markdown",
   "metadata": {},
   "source": [
    "We now create and visualize a graph to perform a deconvolution"
   ]
  },
  {
   "cell_type": "code",
   "execution_count": null,
   "metadata": {
    "collapsed": true
   },
   "outputs": [],
   "source": [
    "def create_deconvolve_graph(dirty_graph, psf_graph, model_graph, **kwargs):\n",
    "    def deconvolve_model_only(dirty, psf, model, **kwargs):\n",
    "        log.info('deconvolve_graph: Starting deconvolution')\n",
    "        result = deconvolve_cube(dirty, psf, **kwargs)\n",
    "        log.info('deconvolve_graph: Finished deconvolution')\n",
    "        result[0].data += model.data\n",
    "        return result\n",
    "    return delayed(deconvolve_model_only, pure=True, nout=2)(dirty_graph[0], psf_graph[0], model_graph[0], **kwargs)"
   ]
  },
  {
   "cell_type": "code",
   "execution_count": null,
   "metadata": {
    "scrolled": false
   },
   "outputs": [],
   "source": [
    "clean_model_graph = create_deconvolve_graph(dirty_graph, psf_graph, model_graph, niter=1000, algorithm='hogbom',\n",
    "                                    gain=0.1)\n",
    "clean_model_graph.visualize()"
   ]
  },
  {
   "cell_type": "markdown",
   "metadata": {},
   "source": [
    "Next we will need a graph to calculate residuals. For this we have added a new function in ftprocessor that \n",
    "calculates residuals per visibility chunk. This works for timeslicing and wslicing but not for faceting."
   ]
  },
  {
   "cell_type": "code",
   "execution_count": null,
   "metadata": {
    "collapsed": true
   },
   "outputs": [],
   "source": [
    "def create_residual_graph(vis_graph, model_graph, normalize=True, **kwargs):\n",
    "    def residual_image_only(vis, model, normalize=normalize, **kwargs):\n",
    "        result = residual_image(vis, model, normalize=normalize, **kwargs)\n",
    "        return [result[1]]\n",
    "    return delayed(residual_image_only, pure=True, nout=3)(vis_graph, model_graph[0], normalize=True, **kwargs)"
   ]
  },
  {
   "cell_type": "markdown",
   "metadata": {},
   "source": [
    "Note that the arguments predict_residual and invert_residual are passed to the ftprocessor.residual function."
   ]
  },
  {
   "cell_type": "code",
   "execution_count": null,
   "metadata": {
    "scrolled": false
   },
   "outputs": [],
   "source": [
    "residual_graph = create_residual_graph(vis_graph, clean_model_graph, \n",
    "                                       predict_residual=predict_timeslice_single, \n",
    "                                       invert_residual=invert_timeslice_single)\n",
    "residual_graph.visualize()"
   ]
  },
  {
   "cell_type": "markdown",
   "metadata": {},
   "source": [
    "Next we create a function that can make graphs for solve_image"
   ]
  },
  {
   "cell_type": "code",
   "execution_count": null,
   "metadata": {
    "collapsed": true
   },
   "outputs": [],
   "source": [
    "def create_solve_image_graph(vis_graph, model_graph, psf_graph,\n",
    "                             create_residual_graph=create_residual_graph, \n",
    "                             create_deconvolve_graph=create_deconvolve_graph, **kwargs):\n",
    "\n",
    "    res_graph_list = list()\n",
    "    model_graph_list = list()\n",
    "    \n",
    "    nmajor = get_parameter(kwargs, \"nmajor\", 5)\n",
    "    \n",
    "    res_graph_list.append(create_residual_graph(vis_graph, model_graph, **kwargs))    \n",
    "    model_graph_list.append(create_deconvolve_graph(res_graph_list[-1], psf_graph, model_graph, **kwargs))\n",
    "    \n",
    "    if nmajor > 1:\n",
    "        for cycle in range(1, nmajor):\n",
    "            res_graph_list.append(create_residual_graph(vis_graph, model_graph_list[-1], **kwargs))    \n",
    "            model_graph_list.append(create_deconvolve_graph(res_graph_list[-1], psf_graph, \n",
    "                                                     model_graph_list[cycle-1], **kwargs))\n",
    "    \n",
    "    return model_graph_list[-1]"
   ]
  },
  {
   "cell_type": "markdown",
   "metadata": {},
   "source": [
    "Now we can create and visualize the graph that will do the deconvolution"
   ]
  },
  {
   "cell_type": "code",
   "execution_count": null,
   "metadata": {
    "scrolled": false
   },
   "outputs": [],
   "source": [
    "solution_graph = create_solve_image_graph(vis_graph, model_graph=model_graph, psf_graph=psf_graph,\n",
    "                                          invert_residual=invert_timeslice_single, \n",
    "                                          predict_residual=predict_timeslice_single, \n",
    "                                          iterator=vis_timeslice_iter, algorithm='hogbom',\n",
    "                                          niter=1000, fractional_threshold=0.1,\n",
    "                                          threshold=1.0, nmajor=2, gain=0.1)\n",
    "solution_graph.visualize()"
   ]
  },
  {
   "cell_type": "markdown",
   "metadata": {},
   "source": [
    "We update the residual graph and create the restore graph. "
   ]
  },
  {
   "cell_type": "code",
   "execution_count": null,
   "metadata": {
    "scrolled": false
   },
   "outputs": [],
   "source": [
    "def create_restore_graph(solution_graph, psf_graph, residual_graph, **kwargs):\n",
    "    return delayed(restore_cube, pure=True)(solution_graph[0], psf_graph[0], residual_graph[0], **kwargs)\n",
    "\n",
    "residual_timeslice_graph = create_residual_graph(vis_graph, solution_graph, \n",
    "                                                 predict_residual=predict_timeslice_single, \n",
    "                                                 invert_residual=invert_timeslice_single)\n",
    "\n",
    "restore_graph = create_restore_graph(solution_graph, psf_graph, residual_timeslice_graph)\n",
    "restore_graph.visualize()"
   ]
  },
  {
   "cell_type": "markdown",
   "metadata": {},
   "source": [
    "Finally we can execute the restore_graph to obtain the result"
   ]
  },
  {
   "cell_type": "code",
   "execution_count": null,
   "metadata": {
    "scrolled": false
   },
   "outputs": [],
   "source": [
    "result = restore_graph.compute()\n",
    "print(type(result) == Image)"
   ]
  },
  {
   "cell_type": "code",
   "execution_count": null,
   "metadata": {},
   "outputs": [],
   "source": [
    "f=show_image(result, title='Restored clean image')\n",
    "print(qa_image(result, context='Restored clean image'))"
   ]
  },
  {
   "cell_type": "code",
   "execution_count": null,
   "metadata": {
    "collapsed": true
   },
   "outputs": [],
   "source": []
  }
 ],
 "metadata": {
  "kernelspec": {
   "display_name": "Python 3",
   "language": "python",
   "name": "python3"
  },
  "language_info": {
   "codemirror_mode": {
    "name": "ipython",
    "version": 3
   },
   "file_extension": ".py",
   "mimetype": "text/x-python",
   "name": "python",
   "nbconvert_exporter": "python",
   "pygments_lexer": "ipython3",
   "version": "3.6.1"
  }
 },
 "nbformat": 4,
 "nbformat_minor": 1
}
