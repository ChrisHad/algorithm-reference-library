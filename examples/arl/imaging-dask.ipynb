{
 "cells": [
  {
   "cell_type": "markdown",
   "metadata": {},
   "source": [
    "# Dask imaging demonstration\n",
    "\n",
    "This notebook explores the use of dask for parallelisation. We work through the steps of imaging using dask, ending up with a major/minor cycle algorithm without and with selfcalibration.\n",
    "\n",
    "The functions used are in pipelines/dask_graphs.py"
   ]
  },
  {
   "cell_type": "code",
   "execution_count": null,
   "metadata": {
    "collapsed": true
   },
   "outputs": [],
   "source": [
    "%matplotlib inline\n",
    "\n",
    "import os\n",
    "import sys\n",
    "\n",
    "from dask import delayed\n",
    "from distributed import progress\n",
    "\n",
    "sys.path.append(os.path.join('..', '..'))\n",
    "\n",
    "results_dir = './results'\n",
    "os.makedirs(results_dir, exist_ok=True)\n",
    "\n",
    "from matplotlib import pylab\n",
    "\n",
    "pylab.rcParams['figure.figsize'] = (12.0, 12.0)\n",
    "pylab.rcParams['image.cmap'] = 'rainbow'\n",
    "\n",
    "import numpy\n",
    "\n",
    "from astropy.coordinates import SkyCoord\n",
    "from astropy import units as u\n",
    "from astropy.wcs.utils import pixel_to_skycoord\n",
    "\n",
    "from matplotlib import pyplot as plt\n",
    "\n",
    "from arl.calibration.solvers import solve_gaintable\n",
    "from arl.calibration.operations import apply_gaintable, create_gaintable_from_blockvisibility\n",
    "from arl.data.data_models import Image, BlockVisibility, Visibility\n",
    "from arl.data.polarisation import PolarisationFrame\n",
    "from arl.data.parameters import get_parameter\n",
    "from arl.visibility.operations import create_blockvisibility, create_visibility_from_rows, \\\n",
    "    copy_visibility\n",
    "from arl.skycomponent.operations import create_skycomponent\n",
    "from arl.image.deconvolution import deconvolve_cube, restore_cube\n",
    "from arl.image.operations import show_image, export_image_to_fits, qa_image, copy_image\n",
    "from arl.image.iterators import raster_iter\n",
    "from arl.visibility.iterators import vis_timeslice_iter\n",
    "from arl.util.testing_support import create_named_configuration, simulate_gaintable\n",
    "from arl.fourier_transforms.ftprocessor import predict_2d, invert_2d, \\\n",
    "    normalize_sumwt, create_image_from_visibility, \\\n",
    "    predict_skycomponent_blockvisibility, residual_image, invert_timeslice_single, \\\n",
    "    predict_timeslice_single, predict_timeslice_single, advise_wide_field\n",
    "from arl.graphs.dask_init import get_dask_Client, kill_dask_Client\n",
    "from arl.graphs.dask_graphs import create_invert_graph, create_deconvolve_graph, \\\n",
    "    create_continuum_imaging_pipeline_graph, create_ical_pipeline_graph, create_residual_graph\n",
    "\n",
    "import logging\n",
    "\n",
    "log = logging.getLogger()\n",
    "log.setLevel(logging.DEBUG)\n",
    "log.addHandler(logging.StreamHandler(sys.stdout))"
   ]
  },
  {
   "cell_type": "code",
   "execution_count": null,
   "metadata": {
    "scrolled": false
   },
   "outputs": [],
   "source": [
    "c=get_dask_Client()\n",
    "c.scheduler_info()"
   ]
  },
  {
   "cell_type": "markdown",
   "metadata": {},
   "source": [
    "We create the visibility and fill in values with the transform of a number of point sources. "
   ]
  },
  {
   "cell_type": "code",
   "execution_count": null,
   "metadata": {
    "collapsed": true
   },
   "outputs": [],
   "source": [
    "def ingest_visibility(freq=1e8, chan_width=1e6, time=0.0):\n",
    "    lowcore = create_named_configuration('LOWBD2')\n",
    "    times = [time]\n",
    "    frequency = numpy.array([freq])\n",
    "    channel_bandwidth = numpy.array([chan_width])\n",
    "\n",
    "    phasecentre = SkyCoord(ra=+15.0 * u.deg, dec=-45.0 * u.deg, frame='icrs', equinox=2000.0)\n",
    "    vt = create_blockvisibility(lowcore, times, frequency, channel_bandwidth=channel_bandwidth,\n",
    "                                weight=1.0, phasecentre=phasecentre, \n",
    "                                polarisation_frame=PolarisationFrame(\"stokesI\"))\n",
    "    npixel = 512\n",
    "    cellsize=0.00001\n",
    "    model = create_image_from_visibility(vt, npixel=npixel, cellsize=cellsize, npol=1, frequency=vt.frequency,\n",
    "                                        polarisation_frame=PolarisationFrame(\"stokesI\"))\n",
    "    flux = numpy.array([[100.0]])\n",
    "    facets = 4\n",
    "\n",
    "    spacing_pixels = npixel // facets\n",
    "    spacing = 180.0 * cellsize * spacing_pixels / numpy.pi\n",
    "    centers = -1.5, -0.5, +0.5, +1.5\n",
    "    comps = list()\n",
    "    for iy in centers:\n",
    "        for ix in centers:\n",
    "            pra =  int(round(npixel // 2 + ix * spacing_pixels - 1))\n",
    "            pdec = int(round(npixel // 2 + iy * spacing_pixels - 1))\n",
    "            sc = pixel_to_skycoord(pra, pdec, model.wcs)\n",
    "            comps.append(create_skycomponent(flux=flux, frequency=vt.frequency, direction=sc, \n",
    "                                             polarisation_frame=PolarisationFrame(\"stokesI\")))\n",
    "    predict_skycomponent_blockvisibility(vt, comps)\n",
    "    gt = create_gaintable_from_blockvisibility(vt)\n",
    "    gt = simulate_gaintable(gt, phase_error=1.0, amplitude_error=0.0)\n",
    "    vt = apply_gaintable(vt, gt)\n",
    "    return vt"
   ]
  },
  {
   "cell_type": "code",
   "execution_count": null,
   "metadata": {
    "collapsed": true
   },
   "outputs": [],
   "source": [
    "nfreqwin=7\n",
    "vis_graph_list=list()\n",
    "for freq in numpy.linspace(0.8e8,1.2e8,nfreqwin):\n",
    "    vis_graph_list.append(delayed(ingest_visibility)(freq))"
   ]
  },
  {
   "cell_type": "markdown",
   "metadata": {},
   "source": [
    "Get the Local Sky Model. It is empty in this case."
   ]
  },
  {
   "cell_type": "code",
   "execution_count": null,
   "metadata": {
    "collapsed": true,
    "scrolled": false
   },
   "outputs": [],
   "source": [
    "def get_LSM(vt, npixel = 512, cellsize=0.00001):\n",
    "    model = create_image_from_visibility(vt, npixel=npixel, cellsize=cellsize, npol=1, frequency=vt.frequency,\n",
    "                                        polarisation_frame=PolarisationFrame(\"stokesI\"))\n",
    "    return model"
   ]
  },
  {
   "cell_type": "code",
   "execution_count": null,
   "metadata": {
    "collapsed": true
   },
   "outputs": [],
   "source": [
    "nvis=len(vis_graph_list)\n",
    "\n",
    "model_graph = delayed(get_LSM)(vis_graph_list[nvis//2])\n",
    "\n",
    "psf_graph=create_invert_graph(vis_graph_list, model_graph, dopsf=True, \n",
    "                              invert_single=invert_timeslice_single, normalize=True)"
   ]
  },
  {
   "cell_type": "markdown",
   "metadata": {},
   "source": [
    "We now create and visualize a graph to perform a deconvolution using the summed dirty image and PSF."
   ]
  },
  {
   "cell_type": "code",
   "execution_count": null,
   "metadata": {
    "scrolled": false
   },
   "outputs": [],
   "source": [
    "continuum_imaging_graph = create_continuum_imaging_pipeline_graph(vis_graph_list, model_graph=model_graph, \n",
    "                                                                  algorithm='hogbom', niter=1000, \n",
    "                                                                  fractional_threshold=0.1,\n",
    "                                                                  threshold=1.0, nmajor=3, gain=0.1)\n",
    "continuum_imaging_graph.visualize()"
   ]
  },
  {
   "cell_type": "code",
   "execution_count": null,
   "metadata": {},
   "outputs": [],
   "source": [
    "future=c.compute(continuum_imaging_graph)\n",
    "progress(future)"
   ]
  },
  {
   "cell_type": "code",
   "execution_count": null,
   "metadata": {
    "scrolled": false
   },
   "outputs": [],
   "source": [
    "deconvolved = future.result()[0]\n",
    "residual = future.result()[1]\n",
    "restored = future.result()[2]\n",
    "\n",
    "f=show_image(deconvolved, title='Clean image - no selfcal')\n",
    "print(qa_image(deconvolved, context='Clean clean image - no selfcal'))\n",
    "plt.show()\n",
    "\n",
    "f=show_image(restored, title='Restored clean image - no selfcal')\n",
    "print(qa_image(restored, context='Restored clean image - no selfcal'))\n",
    "plt.show()\n",
    "\n",
    "f=show_image(residual[0], title='Residual clean image - no selfcal')\n",
    "print(qa_image(residual[0], context='Residual clean image - no selfcal'))\n",
    "plt.show()"
   ]
  },
  {
   "cell_type": "code",
   "execution_count": null,
   "metadata": {
    "scrolled": false
   },
   "outputs": [],
   "source": [
    "ical_graph = create_ical_pipeline_graph(vis_graph_list, model_graph=model_graph, algorithm='hogbom', \n",
    "                                        niter=1000, fractional_threshold=0.1,\n",
    "                                        threshold=1.0, nmajor=3, first_selfcal=1, gain=0.1)\n",
    "g=ical_graph.visualize(filename='imaging-dask-ical-graph-%d' % (nfreqwin), format='svg')\n",
    "ical_graph.visualize()"
   ]
  },
  {
   "cell_type": "code",
   "execution_count": null,
   "metadata": {},
   "outputs": [],
   "source": [
    "future=c.compute(ical_graph)\n",
    "progress(future)"
   ]
  },
  {
   "cell_type": "code",
   "execution_count": null,
   "metadata": {
    "scrolled": false
   },
   "outputs": [],
   "source": [
    "deconvolved = future.result()[0]\n",
    "residual = future.result()[1]\n",
    "restored = future.result()[2]\n",
    "\n",
    "f=show_image(deconvolved, title='Clean image')\n",
    "print(qa_image(deconvolved, context='Clean clean image'))\n",
    "plt.show()\n",
    "\n",
    "f=show_image(restored, title='Restored clean image')\n",
    "print(qa_image(restored, context='Restored clean image'))\n",
    "plt.show()\n",
    "\n",
    "f=show_image(residual[0], title='Residual clean image')\n",
    "print(qa_image(residual[0], context='Residual clean image'))\n",
    "plt.show()"
   ]
  },
  {
   "cell_type": "code",
   "execution_count": null,
   "metadata": {},
   "outputs": [],
   "source": [
    "c.shutdown()"
   ]
  }
 ],
 "metadata": {
  "kernelspec": {
   "display_name": "Python 3",
   "language": "python",
   "name": "python3"
  },
  "language_info": {
   "codemirror_mode": {
    "name": "ipython",
    "version": 3
   },
   "file_extension": ".py",
   "mimetype": "text/x-python",
   "name": "python",
   "nbconvert_exporter": "python",
   "pygments_lexer": "ipython3",
   "version": "3.6.1"
  }
 },
 "nbformat": 4,
 "nbformat_minor": 1
}
