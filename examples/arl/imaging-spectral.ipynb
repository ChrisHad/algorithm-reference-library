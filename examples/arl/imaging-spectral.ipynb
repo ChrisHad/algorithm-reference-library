{
 "cells": [
  {
   "cell_type": "markdown",
   "metadata": {},
   "source": [
    "# Spectral line imaging demonstration\n",
    "\n",
    "Create a spectral line data set, add a grid components, multiply by the low BEAM, transform exactly to visibilities.\n",
    "\n",
    "We remove the continuum in the image plane and in the visibility plane, using a second order term in frequency.\n",
    "\n",
    "We will make use to graphs to speed the processing. These are based on dask.delayed."
   ]
  },
  {
   "cell_type": "code",
   "execution_count": null,
   "metadata": {
    "collapsed": false
   },
   "outputs": [],
   "source": [
    "%matplotlib inline\n",
    "\n",
    "import os\n",
    "import sys\n",
    "\n",
    "from dask import delayed\n",
    "\n",
    "sys.path.append(os.path.join('..', '..'))\n",
    "\n",
    "results_dir = './results'\n",
    "os.makedirs(results_dir, exist_ok=True)\n",
    "\n",
    "from matplotlib import pylab\n",
    "\n",
    "pylab.rcParams['figure.figsize'] = (12.0, 12.0)\n",
    "pylab.rcParams['image.cmap'] = 'rainbow'\n",
    "\n",
    "import numpy\n",
    "\n",
    "from scipy.interpolate import interp1d\n",
    "\n",
    "from astropy.coordinates import SkyCoord\n",
    "from astropy import units as u\n",
    "from astropy.wcs.utils import pixel_to_skycoord\n",
    "\n",
    "from matplotlib import pyplot as plt\n",
    "\n",
    "from arl.data.polarisation import PolarisationFrame\n",
    "from arl.data.parameters import get_parameter\n",
    "from arl.data.data_models import Visibility, BlockVisibility\n",
    "from arl.visibility.operations import create_visibility, create_blockvisibility, copy_visibility, \\\n",
    "    remove_continuum_blockvisibility\n",
    "from arl.visibility.coalesce import convert_blockvisibility_to_visibility\n",
    "from arl.skycomponent.operations import create_skycomponent\n",
    "from arl.skycomponent.operations import create_skycomponent, insert_skycomponent, apply_beam_to_skycomponent\n",
    "\n",
    "from arl.image.deconvolution import deconvolve_cube, restore_cube\n",
    "from arl.image.operations import show_image, export_image_to_fits, qa_image, remove_continuum_image\n",
    "from arl.image.iterators import raster_iter\n",
    "from arl.visibility.iterators import vis_timeslice_iter, vis_timeslice_iter\n",
    "from arl.util.testing_support import create_named_configuration, create_low_test_beam\n",
    "from arl.fourier_transforms.ftprocessor import predict_2d, invert_2d, create_image_from_visibility, \\\n",
    "    predict_skycomponent_visibility, predict_skycomponent_blockvisibility, residual_image, \\\n",
    "    invert_timeslice_single, invert_timeslice_single, \\\n",
    "    predict_timeslice_single, predict_timeslice_single,advise_wide_field\n",
    "from arl.pipelines.dask_graphs import create_invert_graph\n",
    "from arl.pipelines.generic_dask_graphs import create_generic_blockvisibility_graph, create_generic_image_graph\n",
    "\n",
    "import logging\n",
    "\n",
    "log = logging.getLogger()\n",
    "log.setLevel(logging.INFO)\n",
    "log.addHandler(logging.StreamHandler(sys.stdout))"
   ]
  },
  {
   "cell_type": "markdown",
   "metadata": {},
   "source": [
    "We create the visibility. "
   ]
  },
  {
   "cell_type": "code",
   "execution_count": null,
   "metadata": {
    "collapsed": false
   },
   "outputs": [],
   "source": [
    "lowcore = create_named_configuration('LOWBD2-CORE')\n",
    "times = numpy.linspace(-3,+3,7) * (numpy.pi / 12.0)\n",
    "vnchan=51\n",
    "frequency = numpy.linspace(1e8, 1.5e8, vnchan)\n",
    "fitting_mask = numpy.ones([vnchan], dtype='bool')\n",
    "fitting_mask[vnchan//4:3*vnchan//4] = False\n",
    "print(fitting_mask)\n",
    "\n",
    "channel_bandwidth = numpy.array(vnchan*[(frequency[1]-frequency[0])])\n",
    "phasecentre = SkyCoord(ra=+15.0 * u.deg, dec=-45.0 * u.deg, frame='icrs', equinox=2000.0)\n",
    "vt = create_blockvisibility(lowcore, times, frequency, channel_bandwidth=channel_bandwidth,\n",
    "                       weight=1.0, phasecentre=phasecentre, polarisation_frame=PolarisationFrame(\"stokesI\"))"
   ]
  },
  {
   "cell_type": "markdown",
   "metadata": {},
   "source": [
    "Create a grid of components"
   ]
  },
  {
   "cell_type": "code",
   "execution_count": null,
   "metadata": {
    "collapsed": false,
    "scrolled": false
   },
   "outputs": [],
   "source": [
    "npixel = 256\n",
    "cellsize=0.0007\n",
    "flux = numpy.array(vnchan*[[100.0]])\n",
    "facets = 4\n",
    "model = create_image_from_visibility(vt, npixel=npixel, cellsize=cellsize, npol=1, frequency=frequency,\n",
    "                                    polarisation_frame=PolarisationFrame(\"stokesI\"))\n",
    "model_graph=delayed(model)\n",
    "spacing_pixels = npixel // facets\n",
    "log.info('Spacing in pixels = %s' % spacing_pixels)\n",
    "spacing = 180.0 * cellsize * spacing_pixels / numpy.pi\n",
    "centers = -1.5, -0.5, +0.5, +1.5\n",
    "comps = list()\n",
    "for iy in centers:\n",
    "    for ix in centers:\n",
    "        pra =  int(round(npixel // 2 + ix * spacing_pixels - 1))\n",
    "        pdec = int(round(npixel // 2 + iy * spacing_pixels - 1))\n",
    "        sc = pixel_to_skycoord(pra, pdec, model.wcs)\n",
    "        log.info(\"Component at (%f, %f) %s\" % (pra, pdec, str(sc)))\n",
    "        comps.append(create_skycomponent(flux=flux, frequency=frequency, direction=sc, \n",
    "                                         polarisation_frame=PolarisationFrame(\"stokesI\")))\n"
   ]
  },
  {
   "cell_type": "markdown",
   "metadata": {},
   "source": [
    "Apply LOW Beam to components and make then execute and graph to predict the visibilities."
   ]
  },
  {
   "cell_type": "code",
   "execution_count": null,
   "metadata": {
    "collapsed": false
   },
   "outputs": [],
   "source": [
    "bm = create_low_test_beam(model=model)\n",
    "sc = apply_beam_to_skycomponent(comps, bm)\n",
    "vt = create_generic_blockvisibility_graph(predict_skycomponent_blockvisibility)(vt, vis_timeslice_iter, \n",
    "                                                                                comps).compute()"
   ]
  },
  {
   "cell_type": "markdown",
   "metadata": {},
   "source": [
    "To make an image we need to convert to Visibility format"
   ]
  },
  {
   "cell_type": "code",
   "execution_count": null,
   "metadata": {
    "collapsed": false
   },
   "outputs": [],
   "source": [
    "cvt, cindex=convert_blockvisibility_to_visibility(vt)"
   ]
  },
  {
   "cell_type": "markdown",
   "metadata": {},
   "source": [
    "Make and execute a graph to invert the visibility"
   ]
  },
  {
   "cell_type": "code",
   "execution_count": null,
   "metadata": {
    "collapsed": false
   },
   "outputs": [],
   "source": [
    "dirty_imlin, sumwt = create_invert_graph(cvt, model_graph, \n",
    "                                         invert_single=invert_timeslice_single).compute()"
   ]
  },
  {
   "cell_type": "markdown",
   "metadata": {},
   "source": [
    "Fit and remove the continuum in the dirty image. This is usually called IMLIN."
   ]
  },
  {
   "cell_type": "code",
   "execution_count": null,
   "metadata": {
    "collapsed": false
   },
   "outputs": [],
   "source": [
    "dirty_imlin = create_generic_image_graph(remove_continuum_image)(dirty_imlin, raster_iter, \n",
    "                                                                 deg=2, mask=fitting_mask, \n",
    "                                                                 facets=2).compute()\n",
    "print(qa_image(dirty_imlin))"
   ]
  },
  {
   "cell_type": "code",
   "execution_count": null,
   "metadata": {
    "collapsed": false,
    "scrolled": false
   },
   "outputs": [],
   "source": [
    "show_image(dirty_imlin, chan=0, title='IMLIN: Channel 0')\n",
    "plt.show()\n",
    "show_image(dirty_imlin, chan=25, title='IMLIN: Channel 25')\n",
    "plt.show()\n",
    "show_image(dirty_imlin, chan=50, title='IMLIN: Channel 50')\n",
    "plt.show()\n",
    "\n",
    "export_image_to_fits(dirty_imlin, '%s/imaging-spectral-imlin.fits' % (results_dir))"
   ]
  },
  {
   "cell_type": "markdown",
   "metadata": {},
   "source": [
    "Fit and remove the continuum in the visibility. This is usually called UVLIN."
   ]
  },
  {
   "cell_type": "code",
   "execution_count": null,
   "metadata": {
    "collapsed": false,
    "scrolled": false
   },
   "outputs": [],
   "source": [
    "vt=create_generic_blockvisibility_graph(remove_continuum_blockvisibility)(vt, \n",
    "                                                                          vis_timeslice_iter, \n",
    "                                                                          deg=2,\n",
    "                                                                          mask=fitting_mask).compute()"
   ]
  },
  {
   "cell_type": "code",
   "execution_count": null,
   "metadata": {
    "collapsed": false
   },
   "outputs": [],
   "source": [
    "cmvt, cmindex=convert_blockvisibility_to_visibility(vt)"
   ]
  },
  {
   "cell_type": "code",
   "execution_count": null,
   "metadata": {
    "collapsed": false
   },
   "outputs": [],
   "source": [
    "dirty_uvlin, sumwt=create_invert_graph(cmvt, model_graph, \n",
    "                                       invert_single=invert_timeslice_single).compute()\n",
    "print(qa_image(dirty_uvlin))"
   ]
  },
  {
   "cell_type": "code",
   "execution_count": null,
   "metadata": {
    "collapsed": false,
    "scrolled": false
   },
   "outputs": [],
   "source": [
    "show_image(dirty_uvlin, chan=0, title='UVLIN: Channel 0')\n",
    "plt.show()\n",
    "show_image(dirty_uvlin, chan=25, title='UVLIN: Channel 25')\n",
    "plt.show()\n",
    "show_image(dirty_uvlin, chan=50, title='UVLIN: Channel 50')\n",
    "plt.show()\n",
    "\n",
    "export_image_to_fits(dirty_uvlin, '%s/imaging-spectral-uvlin.fits' % (results_dir))"
   ]
  },
  {
   "cell_type": "code",
   "execution_count": null,
   "metadata": {
    "collapsed": true
   },
   "outputs": [],
   "source": []
  }
 ],
 "metadata": {
  "kernelspec": {
   "display_name": "Python 3",
   "language": "python",
   "name": "python3"
  },
  "language_info": {
   "codemirror_mode": {
    "name": "ipython",
    "version": 3
   },
   "file_extension": ".py",
   "mimetype": "text/x-python",
   "name": "python",
   "nbconvert_exporter": "python",
   "pygments_lexer": "ipython3",
   "version": "3.6.1"
  }
 },
 "nbformat": 4,
 "nbformat_minor": 0
}
