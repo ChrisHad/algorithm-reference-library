{
 "cells": [
  {
   "cell_type": "markdown",
   "metadata": {},
   "source": [
    "# Tests of the effectiveness of numba"
   ]
  },
  {
   "cell_type": "code",
   "execution_count": 1,
   "metadata": {
    "collapsed": true
   },
   "outputs": [],
   "source": [
    "import numpy\n",
    "import numba\n",
    "import random"
   ]
  },
  {
   "cell_type": "markdown",
   "metadata": {},
   "source": [
    "The following is used in coordinate.py"
   ]
  },
  {
   "cell_type": "code",
   "execution_count": 5,
   "metadata": {
    "collapsed": false
   },
   "outputs": [],
   "source": [
    "def simulate_point(uvw, s):\n",
    "    return numpy.exp(-2j * numpy.pi * numpy.dot(uvw, s))"
   ]
  },
  {
   "cell_type": "code",
   "execution_count": 6,
   "metadata": {
    "collapsed": false
   },
   "outputs": [
    {
     "name": "stdout",
     "output_type": "stream",
     "text": [
      "array(float64, 2d, C)\n",
      "array(float64, 1d, C)\n",
      "array(complex128, 1d, C)\n"
     ]
    }
   ],
   "source": [
    "uvw = numpy.random.uniform(-100.0, 100.0, [1000000, 3])\n",
    "l, m = -0.025, 0.4\n",
    "s = numpy.array([l, m, numpy.sqrt(1.0-l**2-m**2)-1.0])\n",
    "print(numba.typeof(uvw))\n",
    "print(numba.typeof(s))\n",
    "print(numba.typeof(simulate_point(uvw,s)))"
   ]
  },
  {
   "cell_type": "markdown",
   "metadata": {},
   "source": [
    "Telling numba about the signature slows down the function!"
   ]
  },
  {
   "cell_type": "code",
   "execution_count": 19,
   "metadata": {
    "collapsed": false
   },
   "outputs": [],
   "source": [
    "#@numba.jit('complex128[:](float64[:,:],float64[:])', nopython=True)\n",
    "#@numba.jit(numba.complex128[:](numba.float64[:,:],numba.float64[:]), nopython=True)\n",
    "@numba.jit(nopython=True)\n",
    "def simulate_point_jit(uvw, s):\n",
    "    return numpy.exp(-2j * numpy.pi * numpy.dot(uvw, s))"
   ]
  },
  {
   "cell_type": "code",
   "execution_count": 20,
   "metadata": {
    "collapsed": false,
    "scrolled": false
   },
   "outputs": [
    {
     "name": "stdout",
     "output_type": "stream",
     "text": [
      "10 loops, best of 3: 42.2 ms per loop\n",
      "10 loops, best of 3: 31.1 ms per loop\n",
      "0.0\n"
     ]
    }
   ],
   "source": [
    "r1 = simulate_point(uvw,s)\n",
    "%timeit simulate_point(uvw,s)\n",
    "r2 = simulate_point_jit(uvw,s)\n",
    "%timeit simulate_point_jit(uvw,s)\n",
    "print(numpy.max(numpy.abs(r1-r2)))"
   ]
  },
  {
   "cell_type": "code",
   "execution_count": null,
   "metadata": {
    "collapsed": true
   },
   "outputs": [],
   "source": []
  }
 ],
 "metadata": {
  "kernelspec": {
   "display_name": "Python 3",
   "language": "python",
   "name": "python3"
  },
  "language_info": {
   "codemirror_mode": {
    "name": "ipython",
    "version": 3
   },
   "file_extension": ".py",
   "mimetype": "text/x-python",
   "name": "python",
   "nbconvert_exporter": "python",
   "pygments_lexer": "ipython3",
   "version": "3.6.0"
  }
 },
 "nbformat": 4,
 "nbformat_minor": 2
}
