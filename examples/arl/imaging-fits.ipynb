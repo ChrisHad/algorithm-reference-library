{
 "cells": [
  {
   "cell_type": "markdown",
   "metadata": {},
   "source": [
    "## Demonstrate full circle wide field imaging\n",
    "\n",
    "This include prediction of components, inversion, point source fitting. We will compare the output images with the input models, looking for closeness in flux and position."
   ]
  },
  {
   "cell_type": "code",
   "execution_count": null,
   "metadata": {
    "ExecuteTime": {
     "end_time": "2018-04-15T13:38:25.333198Z",
     "start_time": "2018-04-15T13:38:25.256807Z"
    }
   },
   "outputs": [
    {
     "name": "stdout",
     "output_type": "stream",
     "text": [
      "backend module://ipykernel.pylab.backend_inline version unknown\n"
     ]
    }
   ],
   "source": [
    "% matplotlib inline\n",
    "\n",
    "import os\n",
    "import sys\n",
    "\n",
    "sys.path.append(os.path.join('..', '..'))\n",
    "\n",
    "results_dir = './results'\n",
    "os.makedirs(results_dir, exist_ok=True)\n",
    "\n",
    "from matplotlib import pylab\n",
    "\n",
    "pylab.rcParams['figure.figsize'] = (10.0, 10.0)\n",
    "pylab.rcParams['image.cmap'] = 'rainbow'\n",
    "\n",
    "import numpy\n",
    "\n",
    "from astropy.coordinates import SkyCoord\n",
    "from astropy.time import Time\n",
    "from astropy import units as u\n",
    "from astropy.wcs.utils import pixel_to_skycoord\n",
    "\n",
    "from arl.visibility.base import create_visibility\n",
    "from arl.visibility.operations import sum_visibility\n",
    "from arl.visibility.iterators import vis_timeslices, vis_wslices\n",
    "from arl.util.testing_support import create_named_configuration\n",
    "from arl.util.timing import timing\n",
    "\n",
    "from matplotlib import pyplot as plt\n",
    "\n",
    "from arl.skycomponent.operations import create_skycomponent, find_skycomponents, \\\n",
    "    find_nearest_component, insert_skycomponent\n",
    "from arl.image.operations import show_image, export_image_to_fits, qa_image, smooth_image\n",
    "from arl.image.iterators import image_raster_iter\n",
    "from arl.util.testing_support import create_named_configuration\n",
    "from arl.imaging import advise_wide_field, create_image_from_visibility, predict_skycomponent_visibility\n",
    "from arl.imaging.imaging_context import invert_function, predict_function\n",
    "from arl.data.polarisation import PolarisationFrame\n",
    "\n",
    "import logging\n",
    "\n",
    "log = logging.getLogger()\n",
    "log.setLevel(logging.DEBUG)\n",
    "log.addHandler(logging.StreamHandler(sys.stdout))\n"
   ]
  },
  {
   "cell_type": "markdown",
   "metadata": {},
   "source": [
    "Construct the SKA1-LOW core configuration"
   ]
  },
  {
   "cell_type": "code",
   "execution_count": 8,
   "metadata": {
    "ExecuteTime": {
     "end_time": "2018-04-15T13:38:26.538112Z",
     "start_time": "2018-04-15T13:38:26.531220Z"
    }
   },
   "outputs": [],
   "source": [
    "lowcore = create_named_configuration('LOWBD2-CORE')"
   ]
  },
  {
   "cell_type": "markdown",
   "metadata": {},
   "source": [
    "We create the visibility. This just makes the uvw, time, antenna1, antenna2, weight columns in a table"
   ]
  },
  {
   "cell_type": "code",
   "execution_count": 9,
   "metadata": {
    "ExecuteTime": {
     "end_time": "2018-04-15T13:38:28.557587Z",
     "start_time": "2018-04-15T13:38:27.854077Z"
    },
    "scrolled": false
   },
   "outputs": [
    {
     "name": "stdout",
     "output_type": "stream",
     "text": [
      "create_visibility: 95865 rows, 0.010 GB\n",
      "create_visibility: 95865 rows, 0.010 GB\n"
     ]
    }
   ],
   "source": [
    "times = numpy.array([-3.0, -2.0, -1.0, 0.0, 1.0, 2.0, 3.0]) * (numpy.pi / 12.0)\n",
    "frequency = numpy.array([1e8])\n",
    "channel_bandwidth = numpy.array([1e6])\n",
    "reffrequency = numpy.max(frequency)\n",
    "phasecentre = SkyCoord(ra=+15.0 * u.deg, dec=-45.0 * u.deg, frame='icrs', equinox='J2000')\n",
    "vt = create_visibility(lowcore, times, frequency, channel_bandwidth=channel_bandwidth,\n",
    "                       weight=1.0, phasecentre=phasecentre, \n",
    "                       polarisation_frame=PolarisationFrame('stokesI'))"
   ]
  },
  {
   "cell_type": "code",
   "execution_count": 10,
   "metadata": {
    "ExecuteTime": {
     "end_time": "2018-04-15T13:38:28.604991Z",
     "start_time": "2018-04-15T13:38:28.560994Z"
    }
   },
   "outputs": [
    {
     "name": "stdout",
     "output_type": "stream",
     "text": [
      "advise_wide_field: Maximum wavelength 2.998 (meters)\n",
      "advise_wide_field: Maximum wavelength 2.998 (meters)\n",
      "advise_wide_field: Minimum wavelength 2.998 (meters)\n",
      "advise_wide_field: Minimum wavelength 2.998 (meters)\n",
      "advise_wide_field: Maximum baseline 262.6 (wavelengths)\n",
      "advise_wide_field: Maximum baseline 262.6 (wavelengths)\n",
      "advise_wide_field: Station/antenna diameter 35.0 (meters)\n",
      "advise_wide_field: Station/antenna diameter 35.0 (meters)\n",
      "advise_wide_field: Primary beam 0.085655 (rad) 4.908 (deg)\n",
      "advise_wide_field: Primary beam 0.085655 (rad) 4.908 (deg)\n",
      "advise_wide_field: Image field of view 0.513930 (rad) 29.446 (deg)\n",
      "advise_wide_field: Image field of view 0.513930 (rad) 29.446 (deg)\n",
      "advise_wide_field: Synthesized beam 0.003808 (rad) 0.218 (deg)\n",
      "advise_wide_field: Synthesized beam 0.003808 (rad) 0.218 (deg)\n",
      "advise_wide_field: Cellsize 0.001269 (rad) 0.073 (deg)\n",
      "advise_wide_field: Cellsize 0.001269 (rad) 0.073 (deg)\n",
      "advice_wide_field: Npixels per side = 405\n",
      "advice_wide_field: Npixels per side = 405\n",
      "advice_wide_field: Npixels (power of 2, 3) per side = 512\n",
      "advice_wide_field: Npixels (power of 2, 3) per side = 512\n",
      "advice_wide_field: W sampling for full image = 0.2 (wavelengths)\n",
      "advice_wide_field: W sampling for full image = 0.2 (wavelengths)\n",
      "advice_wide_field: W sampling for primary beam = 8.7 (wavelengths)\n",
      "advice_wide_field: W sampling for primary beam = 8.7 (wavelengths)\n",
      "advice_wide_field: Time sampling for full image = 25.2 (s)\n",
      "advice_wide_field: Time sampling for full image = 25.2 (s)\n",
      "advice_wide_field: Time sampling for primary beam = 908.6 (s)\n",
      "advice_wide_field: Time sampling for primary beam = 908.6 (s)\n",
      "advice_wide_field: Frequency sampling for full image = 29212.6 (Hz)\n",
      "advice_wide_field: Frequency sampling for full image = 29212.6 (Hz)\n",
      "advice_wide_field: Frequency sampling for primary beam = 1051653.8 (Hz)\n",
      "advice_wide_field: Frequency sampling for primary beam = 1051653.8 (Hz)\n",
      "advice_wide_field: Number of planes in w stack 30\n",
      "advice_wide_field: Number of planes in w stack 30\n",
      "advice_wide_field: Number of planes in w projection 1\n",
      "advice_wide_field: Number of planes in w projection 1\n",
      "advice_wide_field: Recommend that 2d gridding (i.e. no wprojection) is used\n",
      "advice_wide_field: Recommend that 2d gridding (i.e. no wprojection) is used\n"
     ]
    }
   ],
   "source": [
    "advice = advise_wide_field(vt, wprojection_planes=1)"
   ]
  },
  {
   "cell_type": "markdown",
   "metadata": {},
   "source": [
    "Fill in the visibility with exact calculation of a number of point sources"
   ]
  },
  {
   "cell_type": "code",
   "execution_count": 11,
   "metadata": {
    "ExecuteTime": {
     "end_time": "2018-04-15T13:38:49.009517Z",
     "start_time": "2018-04-15T13:38:30.271819Z"
    },
    "scrolled": false
   },
   "outputs": [
    {
     "name": "stdout",
     "output_type": "stream",
     "text": [
      "create_image_from_visibility: Parsing parameters to get definition of WCS\n",
      "create_image_from_visibility: Parsing parameters to get definition of WCS\n",
      "create_image_from_visibility: Defining single channel Image at <SkyCoord (ICRS): (ra, dec) in deg\n",
      "    (15., -45.)>, starting frequency 100000000.0 Hz, and bandwidth 999999.99999 Hz\n",
      "create_image_from_visibility: Defining single channel Image at <SkyCoord (ICRS): (ra, dec) in deg\n",
      "    (15., -45.)>, starting frequency 100000000.0 Hz, and bandwidth 999999.99999 Hz\n",
      "create_image_from_visibility: uvmax = 262.634709 wavelengths\n",
      "create_image_from_visibility: uvmax = 262.634709 wavelengths\n",
      "create_image_from_visibility: Critical cellsize = 0.001904 radians, 0.109079 degrees\n",
      "create_image_from_visibility: Critical cellsize = 0.001904 radians, 0.109079 degrees\n",
      "create_image_from_visibility: Cellsize          = 0.001000 radians, 0.057296 degrees\n",
      "create_image_from_visibility: Cellsize          = 0.001000 radians, 0.057296 degrees\n",
      "Spacing in pixels = 32\n",
      "Spacing in pixels = 32\n",
      "Component at (240.000000, 16.000000) [0-rel] <SkyCoord (ICRS): (ra, dec) in deg\n",
      "    (4.74378292, -51.0209895)>\n",
      "Component at (240.000000, 16.000000) [0-rel] <SkyCoord (ICRS): (ra, dec) in deg\n",
      "    (4.74378292, -51.0209895)>\n",
      "insert_skycomponent: Using insert method Nearest\n",
      "insert_skycomponent: Using insert method Nearest\n",
      "Component at (208.000000, 16.000000) [0-rel] <SkyCoord (ICRS): (ra, dec) in deg\n",
      "    (7.66144755, -51.22149637)>\n",
      "Component at (208.000000, 16.000000) [0-rel] <SkyCoord (ICRS): (ra, dec) in deg\n",
      "    (7.66144755, -51.22149637)>\n",
      "insert_skycomponent: Using insert method Nearest\n",
      "insert_skycomponent: Using insert method Nearest\n",
      "Component at (176.000000, 16.000000) [0-rel] <SkyCoord (ICRS): (ra, dec) in deg\n",
      "    (10.5917361, -51.35530369)>\n",
      "Component at (176.000000, 16.000000) [0-rel] <SkyCoord (ICRS): (ra, dec) in deg\n",
      "    (10.5917361, -51.35530369)>\n",
      "insert_skycomponent: Using insert method Nearest\n",
      "insert_skycomponent: Using insert method Nearest\n",
      "Component at (144.000000, 16.000000) [0-rel] <SkyCoord (ICRS): (ra, dec) in deg\n",
      "    (13.52971731, -51.42224945)>\n",
      "Component at (144.000000, 16.000000) [0-rel] <SkyCoord (ICRS): (ra, dec) in deg\n",
      "    (13.52971731, -51.42224945)>\n",
      "insert_skycomponent: Using insert method Nearest\n",
      "insert_skycomponent: Using insert method Nearest\n",
      "Component at (112.000000, 16.000000) [0-rel] <SkyCoord (ICRS): (ra, dec) in deg\n",
      "    (16.47028269, -51.42224945)>\n",
      "Component at (112.000000, 16.000000) [0-rel] <SkyCoord (ICRS): (ra, dec) in deg\n",
      "    (16.47028269, -51.42224945)>\n",
      "insert_skycomponent: Using insert method Nearest\n",
      "insert_skycomponent: Using insert method Nearest\n",
      "Component at (80.000000, 16.000000) [0-rel] <SkyCoord (ICRS): (ra, dec) in deg\n",
      "    (19.4082639, -51.35530369)>\n",
      "Component at (80.000000, 16.000000) [0-rel] <SkyCoord (ICRS): (ra, dec) in deg\n",
      "    (19.4082639, -51.35530369)>\n",
      "insert_skycomponent: Using insert method Nearest\n",
      "insert_skycomponent: Using insert method Nearest\n",
      "Component at (48.000000, 16.000000) [0-rel] <SkyCoord (ICRS): (ra, dec) in deg\n",
      "    (22.33855245, -51.22149637)>\n",
      "Component at (48.000000, 16.000000) [0-rel] <SkyCoord (ICRS): (ra, dec) in deg\n",
      "    (22.33855245, -51.22149637)>\n",
      "insert_skycomponent: Using insert method Nearest\n",
      "insert_skycomponent: Using insert method Nearest\n",
      "Component at (16.000000, 16.000000) [0-rel] <SkyCoord (ICRS): (ra, dec) in deg\n",
      "    (25.25621708, -51.0209895)>\n",
      "Component at (16.000000, 16.000000) [0-rel] <SkyCoord (ICRS): (ra, dec) in deg\n",
      "    (25.25621708, -51.0209895)>\n",
      "insert_skycomponent: Using insert method Nearest\n",
      "insert_skycomponent: Using insert method Nearest\n",
      "Component at (208.000000, 48.000000) [0-rel] <SkyCoord (ICRS): (ra, dec) in deg\n",
      "    (7.94046978, -49.38802398)>\n",
      "Component at (208.000000, 48.000000) [0-rel] <SkyCoord (ICRS): (ra, dec) in deg\n",
      "    (7.94046978, -49.38802398)>\n",
      "insert_skycomponent: Using insert method Nearest\n",
      "insert_skycomponent: Using insert method Nearest\n",
      "Component at (176.000000, 48.000000) [0-rel] <SkyCoord (ICRS): (ra, dec) in deg\n",
      "    (10.76004686, -49.51635065)>\n",
      "Component at (176.000000, 48.000000) [0-rel] <SkyCoord (ICRS): (ra, dec) in deg\n",
      "    (10.76004686, -49.51635065)>\n",
      "insert_skycomponent: Using insert method Nearest\n",
      "insert_skycomponent: Using insert method Nearest\n",
      "Component at (144.000000, 48.000000) [0-rel] <SkyCoord (ICRS): (ra, dec) in deg\n",
      "    (13.58597172, -49.5805407)>\n",
      "Component at (144.000000, 48.000000) [0-rel] <SkyCoord (ICRS): (ra, dec) in deg\n",
      "    (13.58597172, -49.5805407)>\n",
      "insert_skycomponent: Using insert method Nearest\n",
      "insert_skycomponent: Using insert method Nearest\n",
      "Component at (112.000000, 48.000000) [0-rel] <SkyCoord (ICRS): (ra, dec) in deg\n",
      "    (16.41402828, -49.5805407)>\n",
      "Component at (112.000000, 48.000000) [0-rel] <SkyCoord (ICRS): (ra, dec) in deg\n",
      "    (16.41402828, -49.5805407)>\n",
      "insert_skycomponent: Using insert method Nearest\n",
      "insert_skycomponent: Using insert method Nearest\n",
      "Component at (80.000000, 48.000000) [0-rel] <SkyCoord (ICRS): (ra, dec) in deg\n",
      "    (19.23995314, -49.51635065)>\n",
      "Component at (80.000000, 48.000000) [0-rel] <SkyCoord (ICRS): (ra, dec) in deg\n",
      "    (19.23995314, -49.51635065)>\n",
      "insert_skycomponent: Using insert method Nearest\n",
      "insert_skycomponent: Using insert method Nearest\n",
      "Component at (48.000000, 48.000000) [0-rel] <SkyCoord (ICRS): (ra, dec) in deg\n",
      "    (22.05953022, -49.38802398)>\n",
      "Component at (48.000000, 48.000000) [0-rel] <SkyCoord (ICRS): (ra, dec) in deg\n",
      "    (22.05953022, -49.38802398)>\n",
      "insert_skycomponent: Using insert method Nearest\n",
      "insert_skycomponent: Using insert method Nearest\n",
      "Component at (16.000000, 48.000000) [0-rel] <SkyCoord (ICRS): (ra, dec) in deg\n",
      "    (24.86868384, -49.19566221)>\n",
      "Component at (16.000000, 48.000000) [0-rel] <SkyCoord (ICRS): (ra, dec) in deg\n",
      "    (24.86868384, -49.19566221)>\n",
      "insert_skycomponent: Using insert method Nearest\n",
      "insert_skycomponent: Using insert method Nearest\n",
      "Component at (176.000000, 80.000000) [0-rel] <SkyCoord (ICRS): (ra, dec) in deg\n",
      "    (10.91156133, -47.68176393)>\n",
      "Component at (176.000000, 80.000000) [0-rel] <SkyCoord (ICRS): (ra, dec) in deg\n",
      "    (10.91156133, -47.68176393)>\n",
      "insert_skycomponent: Using insert method Nearest\n",
      "insert_skycomponent: Using insert method Nearest\n",
      "Component at (144.000000, 80.000000) [0-rel] <SkyCoord (ICRS): (ra, dec) in deg\n",
      "    (13.63659973, -47.74353279)>\n",
      "Component at (144.000000, 80.000000) [0-rel] <SkyCoord (ICRS): (ra, dec) in deg\n",
      "    (13.63659973, -47.74353279)>\n",
      "insert_skycomponent: Using insert method Nearest\n",
      "insert_skycomponent: Using insert method Nearest\n",
      "Component at (112.000000, 80.000000) [0-rel] <SkyCoord (ICRS): (ra, dec) in deg\n",
      "    (16.36340027, -47.74353279)>\n",
      "Component at (112.000000, 80.000000) [0-rel] <SkyCoord (ICRS): (ra, dec) in deg\n",
      "    (16.36340027, -47.74353279)>\n",
      "insert_skycomponent: Using insert method Nearest\n",
      "insert_skycomponent: Using insert method Nearest\n",
      "Component at (80.000000, 80.000000) [0-rel] <SkyCoord (ICRS): (ra, dec) in deg\n",
      "    (19.08843867, -47.68176393)>\n",
      "Component at (80.000000, 80.000000) [0-rel] <SkyCoord (ICRS): (ra, dec) in deg\n",
      "    (19.08843867, -47.68176393)>\n",
      "insert_skycomponent: Using insert method Nearest\n",
      "insert_skycomponent: Using insert method Nearest\n",
      "Component at (48.000000, 80.000000) [0-rel] <SkyCoord (ICRS): (ra, dec) in deg\n",
      "    (21.80822877, -47.55825467)>\n",
      "Component at (48.000000, 80.000000) [0-rel] <SkyCoord (ICRS): (ra, dec) in deg\n",
      "    (21.80822877, -47.55825467)>\n",
      "insert_skycomponent: Using insert method Nearest\n",
      "insert_skycomponent: Using insert method Nearest\n",
      "Component at (16.000000, 80.000000) [0-rel] <SkyCoord (ICRS): (ra, dec) in deg\n",
      "    (24.51939763, -47.3730574)>\n",
      "Component at (16.000000, 80.000000) [0-rel] <SkyCoord (ICRS): (ra, dec) in deg\n",
      "    (24.51939763, -47.3730574)>\n",
      "insert_skycomponent: Using insert method Nearest\n",
      "insert_skycomponent: Using insert method Nearest\n",
      "Component at (144.000000, 112.000000) [0-rel] <SkyCoord (ICRS): (ra, dec) in deg\n",
      "    (13.68235336, -45.90931658)>\n",
      "Component at (144.000000, 112.000000) [0-rel] <SkyCoord (ICRS): (ra, dec) in deg\n",
      "    (13.68235336, -45.90931658)>\n",
      "insert_skycomponent: Using insert method Nearest\n",
      "insert_skycomponent: Using insert method Nearest\n",
      "Component at (112.000000, 112.000000) [0-rel] <SkyCoord (ICRS): (ra, dec) in deg\n",
      "    (16.31764664, -45.90931658)>\n"
     ]
    },
    {
     "name": "stdout",
     "output_type": "stream",
     "text": [
      "Component at (112.000000, 112.000000) [0-rel] <SkyCoord (ICRS): (ra, dec) in deg\n",
      "    (16.31764664, -45.90931658)>\n",
      "insert_skycomponent: Using insert method Nearest\n",
      "insert_skycomponent: Using insert method Nearest\n",
      "Component at (80.000000, 112.000000) [0-rel] <SkyCoord (ICRS): (ra, dec) in deg\n",
      "    (18.95148298, -45.84967813)>\n",
      "Component at (80.000000, 112.000000) [0-rel] <SkyCoord (ICRS): (ra, dec) in deg\n",
      "    (18.95148298, -45.84967813)>\n",
      "insert_skycomponent: Using insert method Nearest\n",
      "insert_skycomponent: Using insert method Nearest\n",
      "Component at (48.000000, 112.000000) [0-rel] <SkyCoord (ICRS): (ra, dec) in deg\n",
      "    (21.58097973, -45.73040913)>\n",
      "Component at (48.000000, 112.000000) [0-rel] <SkyCoord (ICRS): (ra, dec) in deg\n",
      "    (21.58097973, -45.73040913)>\n",
      "insert_skycomponent: Using insert method Nearest\n",
      "insert_skycomponent: Using insert method Nearest\n",
      "Component at (16.000000, 112.000000) [0-rel] <SkyCoord (ICRS): (ra, dec) in deg\n",
      "    (24.20334715, -45.55152143)>\n",
      "Component at (16.000000, 112.000000) [0-rel] <SkyCoord (ICRS): (ra, dec) in deg\n",
      "    (24.20334715, -45.55152143)>\n",
      "insert_skycomponent: Using insert method Nearest\n",
      "insert_skycomponent: Using insert method Nearest\n",
      "Component at (112.000000, 144.000000) [0-rel] <SkyCoord (ICRS): (ra, dec) in deg\n",
      "    (16.27614945, -44.07600819)>\n",
      "Component at (112.000000, 144.000000) [0-rel] <SkyCoord (ICRS): (ra, dec) in deg\n",
      "    (16.27614945, -44.07600819)>\n",
      "insert_skycomponent: Using insert method Nearest\n",
      "insert_skycomponent: Using insert method Nearest\n",
      "Component at (80.000000, 144.000000) [0-rel] <SkyCoord (ICRS): (ra, dec) in deg\n",
      "    (18.82724608, -44.01824481)>\n",
      "Component at (80.000000, 144.000000) [0-rel] <SkyCoord (ICRS): (ra, dec) in deg\n",
      "    (18.82724608, -44.01824481)>\n",
      "insert_skycomponent: Using insert method Nearest\n",
      "insert_skycomponent: Using insert method Nearest\n",
      "Component at (48.000000, 144.000000) [0-rel] <SkyCoord (ICRS): (ra, dec) in deg\n",
      "    (21.37476195, -43.90270873)>\n",
      "Component at (48.000000, 144.000000) [0-rel] <SkyCoord (ICRS): (ra, dec) in deg\n",
      "    (21.37476195, -43.90270873)>\n",
      "insert_skycomponent: Using insert method Nearest\n",
      "insert_skycomponent: Using insert method Nearest\n",
      "Component at (16.000000, 144.000000) [0-rel] <SkyCoord (ICRS): (ra, dec) in deg\n",
      "    (23.91639614, -43.72937783)>\n",
      "Component at (16.000000, 144.000000) [0-rel] <SkyCoord (ICRS): (ra, dec) in deg\n",
      "    (23.91639614, -43.72937783)>\n",
      "insert_skycomponent: Using insert method Nearest\n",
      "insert_skycomponent: Using insert method Nearest\n",
      "Component at (80.000000, 176.000000) [0-rel] <SkyCoord (ICRS): (ra, dec) in deg\n",
      "    (18.71420256, -42.18561677)>\n",
      "Component at (80.000000, 176.000000) [0-rel] <SkyCoord (ICRS): (ra, dec) in deg\n",
      "    (18.71420256, -42.18561677)>\n",
      "insert_skycomponent: Using insert method Nearest\n",
      "insert_skycomponent: Using insert method Nearest\n",
      "Component at (48.000000, 176.000000) [0-rel] <SkyCoord (ICRS): (ra, dec) in deg\n",
      "    (21.18706763, -42.07336315)>\n",
      "Component at (48.000000, 176.000000) [0-rel] <SkyCoord (ICRS): (ra, dec) in deg\n",
      "    (21.18706763, -42.07336315)>\n",
      "insert_skycomponent: Using insert method Nearest\n",
      "insert_skycomponent: Using insert method Nearest\n",
      "Component at (16.000000, 176.000000) [0-rel] <SkyCoord (ICRS): (ra, dec) in deg\n",
      "    (23.65510465, -41.90491964)>\n",
      "Component at (16.000000, 176.000000) [0-rel] <SkyCoord (ICRS): (ra, dec) in deg\n",
      "    (23.65510465, -41.90491964)>\n",
      "insert_skycomponent: Using insert method Nearest\n",
      "insert_skycomponent: Using insert method Nearest\n",
      "Component at (48.000000, 208.000000) [0-rel] <SkyCoord (ICRS): (ra, dec) in deg\n",
      "    (21.01580068, -40.24055692)>\n",
      "Component at (48.000000, 208.000000) [0-rel] <SkyCoord (ICRS): (ra, dec) in deg\n",
      "    (21.01580068, -40.24055692)>\n",
      "insert_skycomponent: Using insert method Nearest\n",
      "insert_skycomponent: Using insert method Nearest\n",
      "Component at (16.000000, 208.000000) [0-rel] <SkyCoord (ICRS): (ra, dec) in deg\n",
      "    (23.41659285, -40.07639948)>\n",
      "Component at (16.000000, 208.000000) [0-rel] <SkyCoord (ICRS): (ra, dec) in deg\n",
      "    (23.41659285, -40.07639948)>\n",
      "insert_skycomponent: Using insert method Nearest\n",
      "insert_skycomponent: Using insert method Nearest\n",
      "Component at (16.000000, 240.000000) [0-rel] <SkyCoord (ICRS): (ra, dec) in deg\n",
      "    (23.19843619, -38.24201755)>\n",
      "Component at (16.000000, 240.000000) [0-rel] <SkyCoord (ICRS): (ra, dec) in deg\n",
      "    (23.19843619, -38.24201755)>\n",
      "insert_skycomponent: Using insert method Nearest\n",
      "insert_skycomponent: Using insert method Nearest\n"
     ]
    },
    {
     "data": {
      "image/png": "[encoded data removed]",
      "text/plain": [
       "<Figure size 720x720 with 2 Axes>"
      ]
     },
     "metadata": {},
     "output_type": "display_data"
    }
   ],
   "source": [
    "vt.data['vis'] *= 0.0\n",
    "npixel=256\n",
    "\n",
    "model = create_image_from_visibility(vt, npixel=npixel, cellsize=0.001, nchan=1, \n",
    "                                     polarisation_frame=PolarisationFrame('stokesI'))\n",
    "centre = model.wcs.wcs.crpix-1\n",
    "spacing_pixels = npixel // 8\n",
    "log.info('Spacing in pixels = %s' % spacing_pixels)\n",
    "spacing = model.wcs.wcs.cdelt * spacing_pixels\n",
    "locations = [-3.5, -2.5, -1.5, -0.5, 0.5, 1.5, 2.5, 3.5]\n",
    "\n",
    "original_comps = []\n",
    "# We calculate the source positions in pixels and then calculate the\n",
    "# world coordinates to put in the skycomponent description\n",
    "for iy in locations:\n",
    "    for ix in locations:\n",
    "        if ix >= iy:\n",
    "            p = int(round(centre[0] + ix * spacing_pixels * numpy.sign(model.wcs.wcs.cdelt[0]))), \\\n",
    "                int(round(centre[1] + iy * spacing_pixels * numpy.sign(model.wcs.wcs.cdelt[1])))\n",
    "            sc = pixel_to_skycoord(p[0], p[1], model.wcs)\n",
    "            log.info(\"Component at (%f, %f) [0-rel] %s\" % (p[0], p[1], str(sc)))\n",
    "            flux = numpy.array([[100.0 + 2.0 * ix + iy * 20.0]])\n",
    "            comp = create_skycomponent(flux=flux, frequency=frequency, direction=sc, \n",
    "                                       polarisation_frame=PolarisationFrame('stokesI'))\n",
    "            original_comps.append(comp)\n",
    "            insert_skycomponent(model, comp)\n",
    "\n",
    "predict_skycomponent_visibility(vt, original_comps)\n",
    "\n",
    "        \n",
    "cmodel = smooth_image(model) \n",
    "show_image(cmodel)\n",
    "plt.title(\"Smoothed model image\")\n",
    "plt.show()"
   ]
  },
  {
   "cell_type": "markdown",
   "metadata": {},
   "source": [
    "Check that the skycoordinate and image coordinate system are consistent by finding the point sources."
   ]
  },
  {
   "cell_type": "code",
   "execution_count": 12,
   "metadata": {
    "ExecuteTime": {
     "end_time": "2018-04-15T13:38:51.528621Z",
     "start_time": "2018-04-15T13:38:49.011684Z"
    }
   },
   "outputs": [
    {
     "name": "stdout",
     "output_type": "stream",
     "text": [
      "find_skycomponents: Finding components in Image by segmentation\n",
      "find_skycomponents: Finding components in Image by segmentation\n",
      "find_skycomponents: Identified 36 segments\n",
      "find_skycomponents: Identified 36 segments\n"
     ]
    },
    {
     "data": {
      "image/png": "[encoded data removed]",
      "text/plain": [
       "<Figure size 720x720 with 1 Axes>"
      ]
     },
     "metadata": {},
     "output_type": "display_data"
    }
   ],
   "source": [
    "comps = find_skycomponents(cmodel, fwhm=1.0, threshold=10.0, npixels=5)\n",
    "plt.clf()\n",
    "for i in range(len(comps)):\n",
    "    ocomp = find_nearest_component(comps[i].direction, original_comps)\n",
    "    plt.plot((comps[i].direction.ra.value  - ocomp.direction.ra.value)/cmodel.wcs.wcs.cdelt[0], \n",
    "             (comps[i].direction.dec.value - ocomp.direction.dec.value)/cmodel.wcs.wcs.cdelt[1], \n",
    "             '.', color='r')  \n",
    "\n",
    "plt.xlabel('delta RA (pixels)')\n",
    "plt.ylabel('delta DEC (pixels)')\n",
    "plt.title(\"Recovered - Original position offsets\")\n",
    "plt.show()"
   ]
  },
  {
   "cell_type": "markdown",
   "metadata": {},
   "source": [
    "Predict the visibility using the different approaches."
   ]
  },
  {
   "cell_type": "code",
   "execution_count": 13,
   "metadata": {
    "ExecuteTime": {
     "end_time": "2018-04-15T13:38:57.844561Z",
     "start_time": "2018-04-15T13:38:57.838896Z"
    }
   },
   "outputs": [
    {
     "name": "stdout",
     "output_type": "stream",
     "text": [
      "dict_keys(['2d', 'facets', 'facets_timeslice', 'facets_wstack', 'timeslice', 'wstack'])\n"
     ]
    }
   ],
   "source": [
    "from arl.imaging.imaging_context import imaging_contexts, predict_function, invert_function\n",
    "contexts = imaging_contexts().keys()\n",
    "print(contexts)"
   ]
  },
  {
   "cell_type": "code",
   "execution_count": null,
   "metadata": {
    "ExecuteTime": {
     "end_time": "2018-04-15T13:49:19.300779Z",
     "start_time": "2018-04-15T13:49:10.411Z"
    },
    "scrolled": false
   },
   "outputs": [],
   "source": [
    "contexts = ['2d', 'facets', 'timeslice', 'wstack', 'wprojection']\n",
    "\n",
    "for context in contexts:\n",
    "    \n",
    "    print('Processing context %s' % context)\n",
    "   \n",
    "    vtpredict = create_visibility(lowcore, times, frequency, channel_bandwidth=channel_bandwidth,\n",
    "        weight=1.0, phasecentre=phasecentre, polarisation_frame=PolarisationFrame('stokesI'))\n",
    "\n",
    " \n",
    "    if context == 'wprojection':       \n",
    "        vtpredict = predict_function(vtpredict, model, context=context, wstep = advice['w_sampling_primary_beam'])\n",
    "    \n",
    "    elif context == 'facets':\n",
    "        vtpredict = predict_function(vtpredict, model, context=context, facets=8)\n",
    "        \n",
    "    elif context == 'timeslice':\n",
    "        vtpredict = predict_function(vtpredict, model, context=context, vis_slices=vis_timeslices(vis, 'auto'))\n",
    "\n",
    "    elif context == 'wstack':\n",
    "        vtpredict = predict_function(vtpredict, model, context=context, vis_slices=31)\n",
    "\n",
    "    else:\n",
    "        vtpredict = predict_function(vtpredict, model, context=context\n",
    "                                     )\n",
    "\n",
    "    uvdist = numpy.sqrt(vt.data['uvw'][:, 0] ** 2 + vt.data['uvw'][:, 1] ** 2)\n",
    "    plt.clf()\n",
    "    plt.plot(uvdist, numpy.abs(vt.data['vis'][:]), '.', color='r', label=\"DFT\")\n",
    "    \n",
    "    plt.plot(uvdist, numpy.abs(vtpredict.data['vis'][:]), '.', color='b', label=context)\n",
    "    plt.plot(uvdist, numpy.abs(vtpredict.data['vis'][:] - vt.data['vis'][:]), '.', color='g', label=\"Residual\")\n",
    "    plt.xlabel('uvdist')\n",
    "    plt.ylabel('Amp Visibility')\n",
    "    plt.legend()\n",
    "    plt.show()\n"
   ]
  },
  {
   "cell_type": "code",
   "execution_count": null,
   "metadata": {},
   "outputs": [],
   "source": []
  },
  {
   "cell_type": "markdown",
   "metadata": {},
   "source": [
    "Make the image using the different approaches. We will evaluate the results using a number of plots:\n",
    "\n",
    "- The error in fitted versus the radius. The ideal result is a straightline fitted: flux = DFT flux\n",
    "- The offset in RA versus the offset in DEC. The ideal result is a cluster around 0 pixels.\n",
    "\n",
    "The sampling in w is set to provide 2% decorrelation at the half power point of the primary beam.\n"
   ]
  },
  {
   "cell_type": "code",
   "execution_count": null,
   "metadata": {
    "ExecuteTime": {
     "start_time": "2018-04-15T13:32:13.299Z"
    },
    "scrolled": false
   },
   "outputs": [],
   "source": [
    "contexts = ['2d', 'facets', 'timeslice', 'wstack', 'wprojection']\n",
    "\n",
    "for context in contexts:\n",
    "\n",
    "    targetimage = create_image_from_visibility(vt, npixel=npixel, cellsize=0.001, nchan=1,\n",
    "                                               polarisation_frame=PolarisationFrame('stokesI'))\n",
    "\n",
    "\n",
    "    print('Processing context %s' % context)\n",
    "    if context == 'wprojection':       \n",
    "        targetimage, sumwt = invert_function(vt, targetimage, context=context, wstep = advice[\n",
    "            'w_sampling_primary_beam'])\n",
    "    \n",
    "    elif context == 'facets':\n",
    "        targetimage, sumwt = invert_function(vt, targetimage, context=context, facets=8)\n",
    "        \n",
    "    elif context == 'timeslice':\n",
    "        targetimage, sumwt = invert_function(vt, targetimage, context=context, vis_slices=vis_timeslices(vis, 'auto'))\n",
    "\n",
    "    elif context == 'wstack':\n",
    "        targetimage, sumwt = invert_function(vt, targetimage, context=context, vis_slices=31)\n",
    "\n",
    "    else:\n",
    "        targetimage, sumwt = invert_function(vt, targetimage, context=context)\n",
    "\n",
    "    show_image(targetimage)\n",
    "    plt.title(context)\n",
    "    plt.show()\n",
    "\n",
    "    print(\"Dirty Image %s\" % qa_image(targetimage, context=\"imaging-fits notebook, using processor %s\" % context))\n",
    "\n",
    "    export_image_to_fits(targetimage, '%s/imaging-fits_dirty_%s.fits' % (results_dir, context))\n",
    "    comps = find_skycomponents(targetimage, fwhm=1.0, threshold=10.0, npixels=5)\n",
    "\n",
    "    plt.clf()\n",
    "    for comp in comps:\n",
    "        distance = comp.direction.separation(model.phasecentre)\n",
    "        dft_flux = sum_visibility(vt, comp.direction)[0]\n",
    "        err = (comp.flux[0, 0] - dft_flux) / dft_flux\n",
    "        plt.plot(distance, err, '.', color='r')\n",
    "    plt.ylabel('Fractional error of image vs DFT')\n",
    "    plt.xlabel('Distance from phasecentre (deg)')\n",
    "    plt.title(\n",
    "        \"Fractional error in %s recovered flux vs distance from phasecentre\" %\n",
    "        context)\n",
    "    plt.show()\n",
    "\n",
    "    checkpositions = True\n",
    "    if checkpositions:\n",
    "        plt.clf()\n",
    "        for i in range(len(comps)):\n",
    "            ocomp = find_nearest_component(comps[i].direction, original_comps)\n",
    "            plt.plot(\n",
    "                (comps[i].direction.ra.value - ocomp.direction.ra.value) /\n",
    "                targetimage.wcs.wcs.cdelt[0],\n",
    "                (comps[i].direction.dec.value - ocomp.direction.dec.value) /\n",
    "                targetimage.wcs.wcs.cdelt[1],\n",
    "                '.',\n",
    "                color='r')\n",
    "\n",
    "        plt.xlabel('delta RA (pixels)')\n",
    "        plt.ylabel('delta DEC (pixels)')\n",
    "        plt.title(\"%s: Position offsets\" % context)\n",
    "        plt.show()"
   ]
  },
  {
   "cell_type": "code",
   "execution_count": null,
   "metadata": {},
   "outputs": [],
   "source": []
  }
 ],
 "metadata": {
  "kernelspec": {
   "display_name": "Python 3",
   "language": "python",
   "name": "python3"
  },
  "language_info": {
   "codemirror_mode": {
    "name": "ipython",
    "version": 3
   },
   "file_extension": ".py",
   "mimetype": "text/x-python",
   "name": "python",
   "nbconvert_exporter": "python",
   "pygments_lexer": "ipython3",
   "version": "3.6.1"
  }
 },
 "nbformat": 4,
 "nbformat_minor": 1
}
