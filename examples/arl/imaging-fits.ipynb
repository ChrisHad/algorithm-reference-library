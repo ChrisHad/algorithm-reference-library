{
 "cells": [
  {
   "cell_type": "markdown",
   "metadata": {},
   "source": [
    "# Demonstrate full circle: prediction of components, inversion, point source fitting\n",
    "\n",
    "We will compare the output images with the input models, looking for closeness in flux and position."
   ]
  },
  {
   "cell_type": "code",
   "execution_count": null,
   "metadata": {
    "collapsed": false
   },
   "outputs": [],
   "source": [
    "%matplotlib inline\n",
    "\n",
    "import os\n",
    "import sys\n",
    "import copy\n",
    "\n",
    "sys.path.append(os.path.join('..', '..'))\n",
    "\n",
    "from matplotlib import pylab\n",
    "\n",
    "pylab.rcParams['figure.figsize'] = (8.0, 8.0)\n",
    "pylab.rcParams['image.cmap'] = 'rainbow'\n",
    "\n",
    "import numpy\n",
    "\n",
    "from astropy.coordinates import SkyCoord, CartesianRepresentation\n",
    "from astropy.time import Time\n",
    "from astropy import units as u\n",
    "from astropy import constants as const\n",
    "from astropy.wcs.utils import pixel_to_skycoord\n",
    "\n",
    "from arl.visibility.operations import create_visibility, sum_visibility\n",
    "from arl.visibility.iterators import vis_timeslice_iter\n",
    "from arl.util.testing_support import create_named_configuration\n",
    "\n",
    "from matplotlib import pyplot as plt\n",
    "\n",
    "from arl.skymodel.operations import create_skycomponent, find_skycomponents, fit_skycomponent, find_nearest_component\n",
    "from arl.image.operations import show_image, export_image_to_fits, qa_image\n",
    "from arl.image.iterators import raster_iter\n",
    "from arl.util.testing_support import create_named_configuration\n",
    "from arl.fourier_transforms.ftprocessor import *\n",
    "\n",
    "import logging\n",
    "\n",
    "log = logging.getLogger()\n",
    "log.setLevel(logging.DEBUG)"
   ]
  },
  {
   "cell_type": "markdown",
   "metadata": {},
   "source": [
    "### Construct the SKA1-LOW core configuration"
   ]
  },
  {
   "cell_type": "code",
   "execution_count": null,
   "metadata": {
    "collapsed": false
   },
   "outputs": [],
   "source": [
    "lowcore = create_named_configuration('LOWBD2-CORE')"
   ]
  },
  {
   "cell_type": "markdown",
   "metadata": {},
   "source": [
    "### We create the visibility. This just makes the uvw, time, antenna1, antenna2, weight columns in a table"
   ]
  },
  {
   "cell_type": "code",
   "execution_count": null,
   "metadata": {
    "collapsed": false,
    "scrolled": false
   },
   "outputs": [],
   "source": [
    "times = numpy.arange(- numpy.pi / 4.0, + numpy.pi * 1.001 / 4.0, numpy.pi / 8.0)\n",
    "frequency = numpy.array([1e8])\n",
    "reffrequency = numpy.max(frequency)\n",
    "phasecentre = SkyCoord(ra=+180.0 * u.deg, dec=-60.0 * u.deg, frame='icrs', equinox=2000.0)\n",
    "\n",
    "params = {'npixel':256,\n",
    "          'cellsize': 0.001,\n",
    "          'npol': 1,\n",
    "          'spectral_mode': 'channel',\n",
    "          'channelwidth': 5e7,\n",
    "          'reffrequency': 1e8}\n",
    "\n",
    "vt = create_visibility(lowcore, times, frequency, weight=1.0, phasecentre=phasecentre, params=params)"
   ]
  },
  {
   "cell_type": "markdown",
   "metadata": {},
   "source": [
    "### Fill in the visibility with exact calculation of a number of point sources"
   ]
  },
  {
   "cell_type": "code",
   "execution_count": null,
   "metadata": {
    "collapsed": false,
    "scrolled": false
   },
   "outputs": [],
   "source": [
    "flux = numpy.array([[100.0]])\n",
    "vt.data['vis'] *= 0.0\n",
    "\n",
    "model = create_image_from_visibility(vt, params=params)\n",
    "centre = model.wcs.wcs.crpix-1\n",
    "spacing_pixels = params['npixel'] // 8\n",
    "log.info('Spacing in pixels = %s' % spacing_pixels)\n",
    "spacing = model.wcs.wcs.cdelt * spacing_pixels\n",
    "dopoint=False\n",
    "if dopoint:\n",
    "    centers = [-2.5]\n",
    "else:\n",
    "    centers = [-3.5, -2.5, -1.5, -0.5, 0.5, 1.5, 2.5, 3.5]\n",
    "\n",
    "original_comps = []\n",
    "# We calculate the source positions in pixels and then calculate the\n",
    "# world coordinates to put in the skycomponent description\n",
    "for iy in centers:\n",
    "    for ix in centers:\n",
    "        p = int(round(centre[0] + ix * spacing_pixels * numpy.sign(model.wcs.wcs.cdelt[0]))), \\\n",
    "            int(round(centre[0] + iy * spacing_pixels * numpy.sign(model.wcs.wcs.cdelt[1])))\n",
    "        sc = pixel_to_skycoord(p[0], p[1], model.wcs)\n",
    "        log.info(\"Component at (%f, %f) [0-rel] %s\" % (p[0], p[1], str(sc)))\n",
    "        comp = create_skycomponent(flux=flux, frequency=frequency, direction=sc)\n",
    "        original_comps.append(comp)\n",
    "        predict_skycomponent_visibility(vt, comp)"
   ]
  },
  {
   "cell_type": "markdown",
   "metadata": {},
   "source": [
    "### Make the image using the different approaches. We will evaluate the results using a number of plots:\n",
    "\n",
    "- The recovered flux versus distance from phase centre. We show two forms: the result fitted and the result from a DFT at the expected position. The ideal result would be a straight line: flux=100.0\n",
    "- The offset in RA versus the offset in DEC. The ideal result is a cluster around 0 pixels.\n",
    "- The fitted flux versus the DFT flux. The ideal result is a straightline fitted: flux = DFT flux"
   ]
  },
  {
   "cell_type": "code",
   "execution_count": null,
   "metadata": {
    "collapsed": false,
    "scrolled": false
   },
   "outputs": [],
   "source": [
    "for processor in [invert_2d, invert_timeslice, invert_by_image_partitions, invert_wprojection]:\n",
    "\n",
    "    params = {'npixel': 256,\n",
    "              'npol': 1,\n",
    "              'cellsize': 0.001,\n",
    "              'spectral_mode': 'channel',\n",
    "              'channelwidth': 5e7,\n",
    "              'reffrequency': 1e8,\n",
    "              'timeslice': 1.0,\n",
    "              'padding':2,\n",
    "              'oversampling':4,\n",
    "              'nprocessor':1,\n",
    "              'image_partitions':8,\n",
    "              'wstep':10.0, \n",
    "              'kernelwidth':32,\n",
    "              'context':\"imaging_fits, using processor %s\" %(processor.__name__)\n",
    "             }\n",
    "\n",
    "    targetimage = create_image_from_visibility(vt, params=params)\n",
    "    targetimage = processor(vt, targetimage, params=params)\n",
    "    show_image(targetimage)\n",
    "    plt.title(processor.__name__)\n",
    "    plt.show()\n",
    "    \n",
    "    psfimage = create_image_from_visibility(vt, params=params)\n",
    "    psfimage = processor(vt, psfimage, dopsf=True, params=params)\n",
    "    psfmax = psfimage.data.max()\n",
    "\n",
    "    targetimage.data /= psfmax\n",
    "    psfimage.data /= psfmax\n",
    "    \n",
    "    print(\"Dirty Image %s\" % qa_image(targetimage, params))\n",
    "    print(\"PSF %s\" % qa_image(psfimage, params))\n",
    "    \n",
    "    export_image_to_fits(targetimage, 'imaging-fits_dirty_%s.fits' %(processor.__name__))\n",
    "    export_image_to_fits(psfimage, 'imaging-fits_psf_%s.fits' %(processor.__name__))\n",
    "\n",
    "\n",
    "    psfcomps = find_skycomponents(psfimage, fwhm=1.0, threshold=0.1, npixels=5, params=None)\n",
    "\n",
    "    comps = find_skycomponents(targetimage, fwhm=1.0, threshold=10.0, npixels=5, params=None)\n",
    "    plt.clf()\n",
    "    for comp in comps:\n",
    "        distance = comp.direction.separation(model.phasecentre)\n",
    "        plt.plot(distance.deg, comp.flux[0,0], '.', color='r') \n",
    "        plt.plot(distance.deg, sum_visibility(vt, comp.direction, params=None)[0], '.', color='b')\n",
    "    plt.xlabel('Distance from phasecentre (deg)')\n",
    "    plt.ylabel('Fitted component flux (Jy)')\n",
    "    plt.title(\"%s recovered flux: DFT (blue), fit to image (red)\" % (processor.__name__))\n",
    "    plt.show()\n",
    "    plt.clf()\n",
    "\n",
    "    for comp in comps:\n",
    "        plt.plot(sum_visibility(vt, comp.direction, params=None)[0], comp.flux[0,0], '.', color='r')\n",
    "    plt.ylabel('Fitted component flux (Jy)')\n",
    "    plt.xlabel('DFT flux (Jy)')\n",
    "    plt.title(\"%s recovered flux: Fit vs DFT\" % (processor.__name__))\n",
    "    plt.show()\n",
    "\n",
    "\n",
    "    plt.clf()\n",
    "    for i in range(len(comps)):\n",
    "        ocomp = find_nearest_component(comps[i].direction, original_comps)\n",
    "        plt.plot((comps[i].direction.ra.value  - ocomp.direction.ra.value)/targetimage.wcs.wcs.cdelt[0], \n",
    "                 (comps[i].direction.dec.value - ocomp.direction.dec.value)/targetimage.wcs.wcs.cdelt[1], \n",
    "                 '.', color='r')  \n",
    "\n",
    "    plt.xlabel('delta RA (pixels)')\n",
    "    plt.ylabel('delta DEC (pixels)')\n",
    "    plt.title(\"%s: Position offsets\" % (processor.__name__))\n",
    "    plt.show()\n",
    "    \n"
   ]
  },
  {
   "cell_type": "code",
   "execution_count": null,
   "metadata": {
    "collapsed": true
   },
   "outputs": [],
   "source": []
  }
 ],
 "metadata": {
  "kernelspec": {
   "display_name": "Python 3",
   "language": "python",
   "name": "python3"
  },
  "language_info": {
   "codemirror_mode": {
    "name": "ipython",
    "version": 3
   },
   "file_extension": ".py",
   "mimetype": "text/x-python",
   "name": "python",
   "nbconvert_exporter": "python",
   "pygments_lexer": "ipython3",
   "version": "3.5.1"
  },
  "widgets": {
   "state": {},
   "version": "1.1.2"
  }
 },
 "nbformat": 4,
 "nbformat_minor": 0
}
