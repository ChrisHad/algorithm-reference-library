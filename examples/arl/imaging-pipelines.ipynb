{
 "cells": [
  {
   "cell_type": "markdown",
   "metadata": {},
   "source": [
    "# Dask imaging demonstration\n",
    "\n",
    "This notebook explores the use of dask for parallelisation. We work through the steps of imaging using dask, ending up with a major/minor cycle algorithm without and with selfcalibration.\n",
    "\n",
    "The functions used are in pipelines/dask_graphs.py"
   ]
  },
  {
   "cell_type": "code",
   "execution_count": null,
   "metadata": {
    "collapsed": true
   },
   "outputs": [],
   "source": [
    "%matplotlib inline\n",
    "\n",
    "import os\n",
    "import sys\n",
    "\n",
    "results_dir = './results'\n",
    "os.makedirs(results_dir, exist_ok=True)\n",
    "\n",
    "from functools import partial\n",
    "from dask import delayed\n",
    "from distributed import progress\n",
    "import dask.bag as bag\n",
    "\n",
    "sys.path.append(os.path.join('..', '..'))\n",
    "\n",
    "results_dir = './results'\n",
    "os.makedirs(results_dir, exist_ok=True)\n",
    "\n",
    "from matplotlib import pylab\n",
    "\n",
    "pylab.rcParams['figure.figsize'] = (12.0, 12.0)\n",
    "pylab.rcParams['image.cmap'] = 'rainbow'\n",
    "\n",
    "import numpy\n",
    "\n",
    "from astropy.coordinates import SkyCoord\n",
    "from astropy import units as u\n",
    "from astropy.wcs.utils import pixel_to_skycoord\n",
    "\n",
    "from matplotlib import pyplot as plt\n",
    "\n",
    "from arl.calibration.solvers import solve_gaintable\n",
    "from arl.calibration.operations import apply_gaintable, create_gaintable_from_blockvisibility\n",
    "from arl.data.data_models import Image, BlockVisibility, Visibility\n",
    "from arl.data.polarisation import PolarisationFrame\n",
    "from arl.data.parameters import get_parameter\n",
    "from arl.visibility.operations import create_blockvisibility, create_visibility_from_rows, \\\n",
    "    copy_visibility\n",
    "from arl.skycomponent.operations import create_skycomponent\n",
    "from arl.image.deconvolution import deconvolve_cube, restore_cube\n",
    "from arl.image.operations import show_image, export_image_to_fits, qa_image, copy_image, create_empty_image_like\n",
    "from arl.image.gather_scatter import image_gather, image_scatter\n",
    "from arl.image.iterators import raster_iter\n",
    "from arl.visibility.iterators import vis_timeslice_iter\n",
    "from arl.util.testing_support import create_named_configuration, simulate_gaintable, \\\n",
    "    create_low_test_image_from_gleam, create_low_test_beam\n",
    "from arl.fourier_transforms.ftprocessor import predict_2d, invert_2d, predict_timeslice, invert_timeslice, \\\n",
    "    normalize_sumwt, create_image_from_visibility, \\\n",
    "    predict_skycomponent_blockvisibility, residual_image, invert_timeslice_single, \\\n",
    "    predict_timeslice_single, predict_timeslice_single, advise_wide_field\n",
    "from arl.graphs.dask_init import get_dask_Client, kill_dask_Client\n",
    "from arl.graphs.dask_graphs import create_invert_wstack_graph, create_deconvolve_facet_graph\n",
    "\n",
    "from arl.graphs.generic_dask_graphs import create_generic_image_graph\n",
    "from arl.util.dask_graph_support import create_simulate_vis_graph, \\\n",
    "    create_predict_gleam_model_graph, create_corrupt_vis_graph, \\\n",
    "    create_dump_vis_graph, create_load_vis_graph\n",
    "from arl.pipelines.pipeline_dask_graphs import create_continuum_imaging_pipeline_graph, \\\n",
    "    create_ical_pipeline_graph    \n",
    "from arl.graphs.vis import simple_vis\n",
    "\n",
    "import logging\n",
    "\n",
    "log = logging.getLogger()\n",
    "log.setLevel(logging.DEBUG)\n",
    "log.addHandler(logging.StreamHandler(sys.stdout))"
   ]
  },
  {
   "cell_type": "code",
   "execution_count": null,
   "metadata": {
    "scrolled": false
   },
   "outputs": [],
   "source": [
    "c=get_dask_Client()\n",
    "print(c)"
   ]
  },
  {
   "cell_type": "markdown",
   "metadata": {},
   "source": [
    "We create a graph to make the visibility "
   ]
  },
  {
   "cell_type": "code",
   "execution_count": null,
   "metadata": {
    "collapsed": true,
    "scrolled": false
   },
   "outputs": [],
   "source": [
    "nfreqwin=7\n",
    "ntimes=11\n",
    "frequency=numpy.linspace(0.8e8,1.2e8,nfreqwin)\n",
    "channel_bandwidth=numpy.array(nfreqwin*[frequency[1]-frequency[0]])\n",
    "times = numpy.linspace(-numpy.pi/3.0, numpy.pi/3.0, ntimes)\n",
    "phasecentre=SkyCoord(ra=+30.0 * u.deg, dec=-60.0 * u.deg, frame='icrs', equinox=2000.0)\n",
    "\n",
    "vis_graph_list=create_simulate_vis_graph(frequency=frequency, \n",
    "                                         channel_bandwidth=channel_bandwidth,\n",
    "                                         times=times,\n",
    "                                         phasecentre=phasecentre)"
   ]
  },
  {
   "cell_type": "markdown",
   "metadata": {},
   "source": [
    "Now make a graph to fill with a model drawn from GLEAM "
   ]
  },
  {
   "cell_type": "code",
   "execution_count": null,
   "metadata": {
    "scrolled": false
   },
   "outputs": [],
   "source": [
    "advice=advise_wide_field(vis_graph_list[0].compute(), guard_band_image=4.0, delA=0.2,\n",
    "                         wprojection_planes=1)\n",
    "wstep=advice['w_sampling_primary_beam']\n",
    "vis_slices = advice['vis_slices']\n",
    "wprojection_planes = advice['wprojection_planes']\n",
    "kernel=advice['kernel']"
   ]
  },
  {
   "cell_type": "code",
   "execution_count": null,
   "metadata": {
    "scrolled": false
   },
   "outputs": [],
   "source": [
    "predicted_vis_graph_list = create_predict_gleam_model_graph(vis_graph_list, \n",
    "                                                            vis_slices=vis_slices, \n",
    "                                                            wstep=wstep, \n",
    "                                                            kernel=kernel)\n",
    "\n",
    "corrupted_vis_graph_list = create_predict_gleam_model_graph(vis_graph_list, \n",
    "                                                            vis_slices=vis_slices, \n",
    "                                                            wstep=wstep, \n",
    "                                                            kernel=kernel,\n",
    "                                                            phase_error=1.0,)\n",
    "\n",
    "\n",
    "\n",
    "simple_vis(predicted_vis_graph_list[0])"
   ]
  },
  {
   "cell_type": "markdown",
   "metadata": {},
   "source": [
    "Get the LSM. This is currently blank."
   ]
  },
  {
   "cell_type": "code",
   "execution_count": null,
   "metadata": {
    "collapsed": true,
    "scrolled": false
   },
   "outputs": [],
   "source": [
    "def get_LSM(vt, npixel = 512, cellsize=0.001, reffrequency=[1e8]):\n",
    "    model = create_image_from_visibility(vt, npixel=npixel, cellsize=cellsize, \n",
    "                                         npol=1, frequency=reffrequency,\n",
    "                                         polarisation_frame=PolarisationFrame(\"stokesI\"))\n",
    "    return model\n",
    "\n",
    "model_graph=delayed(get_LSM)(vis_graph_list[len(vis_graph_list)//2])"
   ]
  },
  {
   "cell_type": "markdown",
   "metadata": {},
   "source": [
    "Create a graph to make the dirty image "
   ]
  },
  {
   "cell_type": "code",
   "execution_count": null,
   "metadata": {
    "scrolled": false
   },
   "outputs": [],
   "source": [
    "dirty_graph = create_invert_wstack_graph(predicted_vis_graph_list, \n",
    "                                         model_graph, \n",
    "                                         vis_slices=vis_slices,\n",
    "                                         wstep=wstep, \n",
    "                                         kernel=kernel, \n",
    "                                         dopsf=False)\n",
    "simple_vis(dirty_graph)"
   ]
  },
  {
   "cell_type": "code",
   "execution_count": null,
   "metadata": {
    "scrolled": false
   },
   "outputs": [],
   "source": [
    "dirty=dirty_graph.compute()\n",
    "show_image(dirty[0])\n",
    "plt.show()"
   ]
  },
  {
   "cell_type": "code",
   "execution_count": null,
   "metadata": {
    "collapsed": true
   },
   "outputs": [],
   "source": [
    "continuum_imaging_graph = \\\n",
    "    create_continuum_imaging_pipeline_graph(predicted_vis_graph_list, \n",
    "                                            model_graph=model_graph, \n",
    "                                            c_deconvolve_graph=create_deconvolve_facet_graph,\n",
    "                                            facets=1,\n",
    "                                            c_invert_graph=create_invert_wstack_graph,\n",
    "                                            vis_slices=vis_slices, wstep=wstep,\n",
    "                                            kernel=kernel,\n",
    "                                            algorithm='hogbom', niter=1000, \n",
    "                                            fractional_threshold=0.1,\n",
    "                                            threshold=0.1, nmajor=5, gain=0.1)"
   ]
  },
  {
   "cell_type": "code",
   "execution_count": null,
   "metadata": {
    "collapsed": true
   },
   "outputs": [],
   "source": [
    "future=c.compute(continuum_imaging_graph)"
   ]
  },
  {
   "cell_type": "code",
   "execution_count": null,
   "metadata": {
    "scrolled": false
   },
   "outputs": [],
   "source": [
    "deconvolved = future.result()[0]\n",
    "residual = future.result()[1]\n",
    "restored = future.result()[2]\n",
    "\n",
    "f=show_image(deconvolved, title='Clean image - no selfcal')\n",
    "print(qa_image(deconvolved, context='Clean image - no selfcal'))\n",
    "\n",
    "plt.show()\n",
    "\n",
    "f=show_image(restored, title='Restored clean image - no selfcal')\n",
    "print(qa_image(restored, context='Restored clean image - no selfcal'))\n",
    "plt.show()\n",
    "export_image_to_fits(restored, '%s/imaging-dask_continuum_imaging_restored.fits' \n",
    "                     %(results_dir))\n",
    "\n",
    "f=show_image(residual[0], title='Residual clean image - no selfcal')\n",
    "print(qa_image(residual[0], context='Residual clean image - no selfcal'))\n",
    "plt.show()\n",
    "export_image_to_fits(residual[0], '%s/imaging-dask_continuum_imaging_residual.fits' \n",
    "                     %(results_dir))"
   ]
  },
  {
   "cell_type": "code",
   "execution_count": null,
   "metadata": {},
   "outputs": [],
   "source": [
    "corrupted_vis_graph_list = create_predict_gleam_model_graph(vis_graph_list, \n",
    "                                                            vis_slices=vis_slices, \n",
    "                                                            wstep=wstep, kernel=kernel,\n",
    "                                                            phase_error=1.0)\n",
    "\n",
    "ical_graph = create_ical_pipeline_graph(corrupted_vis_graph_list, \n",
    "                                        model_graph=model_graph,  \n",
    "                                        c_deconvolve_graph=create_deconvolve_facet_graph,\n",
    "                                        c_invert_graph=create_invert_wstack_graph,\n",
    "                                        vis_slices=vis_slices, wstep=wstep,\n",
    "                                        kernel=kernel,\n",
    "                                        algorithm='hogbom', niter=1000, \n",
    "                                        fractional_threshold=0.1,\n",
    "                                        threshold=0.1, nmajor=5, \n",
    "                                        gain=0.1, first_selfcal=1)"
   ]
  },
  {
   "cell_type": "code",
   "execution_count": null,
   "metadata": {
    "collapsed": true
   },
   "outputs": [],
   "source": [
    "future=c.compute(ical_graph)"
   ]
  },
  {
   "cell_type": "code",
   "execution_count": null,
   "metadata": {
    "scrolled": false
   },
   "outputs": [],
   "source": [
    "deconvolved = future.result()[0]\n",
    "residual = future.result()[1]\n",
    "restored = future.result()[2]\n",
    "\n",
    "f=show_image(deconvolved, title='Clean image')\n",
    "print(qa_image(deconvolved, context='Clean image'))\n",
    "plt.show()\n",
    "\n",
    "f=show_image(restored, title='Restored clean image')\n",
    "print(qa_image(restored, context='Restored clean image'))\n",
    "plt.show()\n",
    "export_image_to_fits(restored, '%s/imaging-dask_ical_restored.fits' \n",
    "                     %(results_dir))\n",
    "\n",
    "\n",
    "\n",
    "f=show_image(residual[0], title='Residual clean image')\n",
    "print(qa_image(residual[0], context='Residual clean image'))\n",
    "plt.show()\n",
    "export_image_to_fits(residual[0], '%s/imaging-dask_ical_residual.fits' \n",
    "                     %(results_dir))"
   ]
  },
  {
   "cell_type": "code",
   "execution_count": null,
   "metadata": {
    "collapsed": true,
    "scrolled": true
   },
   "outputs": [],
   "source": [
    "c.shutdown()"
   ]
  }
 ],
 "metadata": {
  "kernelspec": {
   "display_name": "Python 3",
   "language": "python",
   "name": "python3"
  },
  "language_info": {
   "codemirror_mode": {
    "name": "ipython",
    "version": 3
   },
   "file_extension": ".py",
   "mimetype": "text/x-python",
   "name": "python",
   "nbconvert_exporter": "python",
   "pygments_lexer": "ipython3",
   "version": "3.6.1"
  }
 },
 "nbformat": 4,
 "nbformat_minor": 1
}
