{
 "cells": [
  {
   "cell_type": "markdown",
   "metadata": {},
   "source": [
    "# Pipeline processing using Dask\n",
    "\n",
    "This notebook demonstrates the continuum imaging and ICAL pipelines."
   ]
  },
  {
   "cell_type": "code",
   "execution_count": null,
   "metadata": {
    "ExecuteTime": {
     "end_time": "2018-03-27T15:20:42.457576Z",
     "start_time": "2018-03-27T15:20:40.424877Z"
    },
    "scrolled": true
   },
   "outputs": [],
   "source": [
    "%matplotlib inline\n",
    "\n",
    "import os\n",
    "import sys\n",
    "sys.path.append(os.path.join('..','..'))\n",
    "\n",
    "results_dir = './results'\n",
    "os.makedirs(results_dir, exist_ok=True)\n",
    "\n",
    "from dask import delayed\n",
    "import dask\n",
    "import dask.distributed\n",
    "\n",
    "results_dir = './results'\n",
    "os.makedirs(results_dir, exist_ok=True)\n",
    "\n",
    "from matplotlib import pylab\n",
    "\n",
    "pylab.rcParams['figure.figsize'] = (12.0, 12.0)\n",
    "pylab.rcParams['image.cmap'] = 'rainbow'\n",
    "\n",
    "import numpy\n",
    "\n",
    "\n",
    "import pprint\n",
    "\n",
    "from astropy.coordinates import SkyCoord\n",
    "from astropy import units as u\n",
    "from astropy.wcs.utils import pixel_to_skycoord\n",
    "\n",
    "from matplotlib import pyplot as plt\n",
    "\n",
    "from arl.calibration.solvers import solve_gaintable\n",
    "from arl.calibration.operations import apply_gaintable\n",
    "from arl.calibration.calibration_control import create_calibration_controls\n",
    "from arl.data.data_models import Image\n",
    "from arl.data.polarisation import PolarisationFrame\n",
    "from arl.data.parameters import get_parameter\n",
    "from arl.visibility.base import create_blockvisibility\n",
    "from arl.skycomponent.operations import create_skycomponent\n",
    "from arl.image.deconvolution import deconvolve_cube\n",
    "from arl.image.operations import show_image, export_image_to_fits, qa_image, copy_image, create_empty_image_like\n",
    "from arl.visibility.iterators import vis_timeslice_iter\n",
    "from arl.util.testing_support import create_named_configuration, create_low_test_beam\n",
    "from arl.imaging import predict_2d, create_image_from_visibility, advise_wide_field\n",
    "\n",
    "from arl.graphs.dask_init import get_dask_Client\n",
    "from arl.graphs.delayed import create_invert_graph, create_predict_graph, create_deconvolve_graph, \\\n",
    "    create_residual_graph, compute_list\n",
    "from arl.imaging.imaging_context import imaging_context\n",
    "from arl.graphs.generic_graphs import create_generic_image_graph\n",
    "from arl.util.delayed_support import create_simulate_vis_graph, \\\n",
    "    create_low_test_image_from_gleam, create_corrupt_vis_graph\n",
    "from arl.pipelines.delayed import create_continuum_imaging_pipeline_graph, \\\n",
    "    create_ical_pipeline_graph    \n",
    "    \n",
    "import pprint\n",
    "\n",
    "import logging\n",
    "\n",
    "log = logging.getLogger()\n",
    "log.setLevel(logging.DEBUG)\n",
    "log.addHandler(logging.StreamHandler(sys.stdout))"
   ]
  },
  {
   "cell_type": "code",
   "execution_count": null,
   "metadata": {
    "ExecuteTime": {
     "end_time": "2018-03-27T15:20:42.462878Z",
     "start_time": "2018-03-27T15:20:42.459519Z"
    }
   },
   "outputs": [],
   "source": [
    "pp = pprint.PrettyPrinter()\n",
    "pylab.rcParams['figure.figsize'] = (12.0, 12.0)\n",
    "pylab.rcParams['image.cmap'] = 'rainbow'\n"
   ]
  },
  {
   "cell_type": "markdown",
   "metadata": {},
   "source": [
    "Make a Dask client to manage the processing. Diagnostics are available at the URL given. Try the Status entry."
   ]
  },
  {
   "cell_type": "code",
   "execution_count": null,
   "metadata": {
    "ExecuteTime": {
     "end_time": "2018-03-27T15:20:46.845711Z",
     "start_time": "2018-03-27T15:20:44.330383Z"
    },
    "scrolled": true
   },
   "outputs": [],
   "source": [
    "c=get_dask_Client()"
   ]
  },
  {
   "cell_type": "markdown",
   "metadata": {},
   "source": [
    "We create a graph to make the visibility. The parameter rmax determines the distance of the furthest antenna/stations used. All over parameters are determined from this number."
   ]
  },
  {
   "cell_type": "code",
   "execution_count": null,
   "metadata": {
    "ExecuteTime": {
     "end_time": "2018-03-27T15:21:01.083241Z",
     "start_time": "2018-03-27T15:20:58.921911Z"
    },
    "scrolled": true
   },
   "outputs": [],
   "source": [
    "nfreqwin=7\n",
    "ntimes=11\n",
    "rmax=300.0\n",
    "frequency=numpy.linspace(0.9e8,1.1e8,nfreqwin)\n",
    "channel_bandwidth=numpy.array(nfreqwin*[frequency[1]-frequency[0]])\n",
    "times = numpy.linspace(-numpy.pi/3.0, numpy.pi/3.0, ntimes)\n",
    "phasecentre=SkyCoord(ra=+30.0 * u.deg, dec=-60.0 * u.deg, frame='icrs', equinox='J2000')\n",
    "\n",
    "vis_graph_list=create_simulate_vis_graph('LOWBD2',\n",
    "                                         frequency=frequency, \n",
    "                                         channel_bandwidth=channel_bandwidth,\n",
    "                                         times=times,\n",
    "                                         phasecentre=phasecentre,\n",
    "                                         order='frequency',\n",
    "                                        rmax=rmax)\n",
    "print('%d elements in vis_graph_list' % len(vis_graph_list))\n",
    "vis_graph_list = compute_list(c, vis_graph_list)"
   ]
  },
  {
   "cell_type": "code",
   "execution_count": null,
   "metadata": {
    "ExecuteTime": {
     "end_time": "2018-03-27T15:21:02.241279Z",
     "start_time": "2018-03-27T15:21:01.087669Z"
    },
    "scrolled": false
   },
   "outputs": [],
   "source": [
    "wprojection_planes=1\n",
    "advice_low=advise_wide_field(vis_graph_list[0], guard_band_image=8.0, delA=0.02,\n",
    "                             wprojection_planes=wprojection_planes)\n",
    "\n",
    "advice_high=advise_wide_field(vis_graph_list[-1], guard_band_image=8.0, delA=0.02,\n",
    "                              wprojection_planes=wprojection_planes)\n",
    "\n",
    "vis_slices = advice_low['vis_slices']\n",
    "npixel=advice_high['npixels2']\n",
    "cellsize=min(advice_low['cellsize'], advice_high['cellsize'])"
   ]
  },
  {
   "cell_type": "markdown",
   "metadata": {},
   "source": [
    "Now make a graph to fill with a model drawn from GLEAM "
   ]
  },
  {
   "cell_type": "code",
   "execution_count": null,
   "metadata": {
    "ExecuteTime": {
     "end_time": "2018-03-27T15:21:57.190227Z",
     "start_time": "2018-03-27T15:21:04.110174Z"
    },
    "scrolled": false
   },
   "outputs": [],
   "source": [
    "gleam_model_graph = [delayed(create_low_test_image_from_gleam)(npixel=npixel,\n",
    "                                                               frequency=[frequency[f]],\n",
    "                                                               channel_bandwidth=[channel_bandwidth[f]],\n",
    "                                                               cellsize=cellsize,\n",
    "                                                               phasecentre=phasecentre,\n",
    "                                                               polarisation_frame=PolarisationFrame(\"stokesI\"),\n",
    "                                                               flux_limit=1.0,\n",
    "                                                               applybeam=True)\n",
    "                     for f, freq in enumerate(frequency)]\n",
    "from arl.graphs.delayed import compute_list\n",
    "gleam_model_graph = compute_list(c, gleam_model_graph)\n",
    "future_gleam_model_graph = c.scatter(gleam_model_graph)"
   ]
  },
  {
   "cell_type": "code",
   "execution_count": null,
   "metadata": {
    "ExecuteTime": {
     "end_time": "2018-03-27T15:22:24.779456Z",
     "start_time": "2018-03-27T15:21:57.192429Z"
    },
    "scrolled": true
   },
   "outputs": [],
   "source": [
    "future_vis_graph = c.scatter(vis_graph_list)\n",
    "predicted_vis_graph_list = create_predict_graph(future_vis_graph, future_gleam_model_graph,  \n",
    "                                                context='wstack', vis_slices=vis_slices)\n",
    "predicted_vis_graph_list = compute_list(c, predicted_vis_graph_list)\n",
    "corrupted_vis_graph_list = create_corrupt_vis_graph(predicted_vis_graph_list, phase_error=1.0)\n",
    "corrupted_vis_graph_list = compute_list(c, corrupted_vis_graph_list)\n",
    "future_predicted_vis_graph_list=c.scatter(predicted_vis_graph_list)"
   ]
  },
  {
   "cell_type": "markdown",
   "metadata": {},
   "source": [
    "Get the LSM. This is currently blank."
   ]
  },
  {
   "cell_type": "code",
   "execution_count": null,
   "metadata": {
    "ExecuteTime": {
     "end_time": "2018-03-27T15:22:30.834806Z",
     "start_time": "2018-03-27T15:22:30.827659Z"
    },
    "scrolled": true
   },
   "outputs": [],
   "source": [
    "model_graph = [delayed(create_image_from_visibility)(vis_graph_list[f],\n",
    "                                                     npixel=npixel,\n",
    "                                                     frequency=[frequency[f]],\n",
    "                                                     channel_bandwidth=[channel_bandwidth[f]],\n",
    "                                                     cellsize=cellsize,\n",
    "                                                     phasecentre=phasecentre,\n",
    "                                                     polarisation_frame=PolarisationFrame(\"stokesI\"))\n",
    "               for f, freq in enumerate(frequency)]"
   ]
  },
  {
   "cell_type": "code",
   "execution_count": null,
   "metadata": {
    "ExecuteTime": {
     "end_time": "2018-03-27T14:57:19.661317Z",
     "start_time": "2018-03-27T14:57:19.407108Z"
    }
   },
   "outputs": [],
   "source": [
    "future_predicted_vis_graph_list=c.scatter(predicted_vis_graph_list)\n",
    "dirty_graph = create_invert_graph(future_predicted_vis_graph_list, model_graph, \n",
    "                                  context='wstack',\n",
    "                                  vis_slices=vis_slices, dopsf=False)\n",
    "psf_graph = create_invert_graph(future_predicted_vis_graph_list, model_graph, \n",
    "                                context='wstack',\n",
    "                                vis_slices=vis_slices, dopsf=True)"
   ]
  },
  {
   "cell_type": "markdown",
   "metadata": {},
   "source": [
    "Create and execute graphs to make the dirty image and PSF"
   ]
  },
  {
   "cell_type": "code",
   "execution_count": null,
   "metadata": {
    "ExecuteTime": {
     "end_time": "2018-03-27T14:57:59.214616Z",
     "start_time": "2018-03-27T14:57:19.663855Z"
    },
    "scrolled": false
   },
   "outputs": [],
   "source": [
    "dirty_graph = c.compute(dirty_graph, sync=True)\n",
    "psf_graph = c.compute(psf_graph, sync=True)\n",
    "result = c.compute(dirty_graph, sync=True)\n",
    "dirty = result[0][0]\n",
    "print(dirty)\n",
    "show_image(dirty)\n",
    "plt.show()\n",
    "\n",
    "result = c.compute(psf_graph, sync=True)\n",
    "psf = result[0][0]\n",
    "show_image(psf)\n",
    "plt.show()"
   ]
  },
  {
   "cell_type": "markdown",
   "metadata": {},
   "source": [
    "Now deconvolve using msclean"
   ]
  },
  {
   "cell_type": "code",
   "execution_count": null,
   "metadata": {
    "ExecuteTime": {
     "end_time": "2018-03-27T14:58:06.808215Z",
     "start_time": "2018-03-27T14:57:59.216974Z"
    },
    "scrolled": false
   },
   "outputs": [],
   "source": [
    "deconvolve_graph = \\\n",
    "    create_deconvolve_graph(dirty_graph, psf_graph, model_graph=model_graph, \n",
    "                            deconvolve_facets=8, deconvolve_overlap=32, scales=[0, 3, 10],\n",
    "                            algorithm='msclean', niter=1000, \n",
    "                            fractional_threshold=0.1,\n",
    "                            threshold=0.1, ain=0.1, psf_support=64)\n",
    "    \n",
    "deconvolve_graph.visualize('%s/imaging-pipelines-deconvolve-facet-graph.svg' %(results_dir))\n",
    "\n",
    "deconvolved = c.compute(deconvolve_graph, sync=True)\n",
    "show_image(deconvolved[0])\n",
    "plt.show()"
   ]
  },
  {
   "cell_type": "code",
   "execution_count": null,
   "metadata": {
    "ExecuteTime": {
     "end_time": "2018-03-27T14:58:12.124940Z",
     "start_time": "2018-03-27T14:58:06.816248Z"
    },
    "scrolled": false
   },
   "outputs": [],
   "source": [
    "continuum_imaging_graph = \\\n",
    "    create_continuum_imaging_pipeline_graph(predicted_vis_graph_list, \n",
    "                                            model_graph=model_graph, \n",
    "                                            context='wstack', vis_slices=vis_slices, \n",
    "                                            scales=[0, 3, 10], algorithm='mmclean', \n",
    "                                            nmoment=3, niter=1000, \n",
    "                                            fractional_threshold=0.1,\n",
    "                                            threshold=0.1, nmajor=5, gain=0.1,\n",
    "                                            deconvolve_facets = 8, deconvolve_overlap=32, \n",
    "                                            psf_support=64)\n",
    "    \n",
    "#continuum_imaging_graph.visualize('%s/imaging-pipelines-continuum_imaging-graph.svg' %(results_dir))"
   ]
  },
  {
   "cell_type": "code",
   "execution_count": null,
   "metadata": {
    "ExecuteTime": {
     "end_time": "2018-03-27T15:04:47.369228Z",
     "start_time": "2018-03-27T14:58:12.126669Z"
    },
    "scrolled": false
   },
   "outputs": [],
   "source": [
    "future=c.compute(continuum_imaging_graph)\n",
    "deconvolved = future.result()[0][0]\n",
    "residual = future.result()[1][0]\n",
    "restored = future.result()[2][0]\n",
    "\n",
    "f=show_image(deconvolved, title='Clean image - no selfcal')\n",
    "print(qa_image(deconvolved, context='Clean image - no selfcal'))\n",
    "\n",
    "plt.show()\n",
    "\n",
    "f=show_image(restored, title='Restored clean image - no selfcal')\n",
    "print(qa_image(restored, context='Restored clean image - no selfcal'))\n",
    "plt.show()\n",
    "export_image_to_fits(restored, '%s/imaging-dask_continuum_imaging_restored.fits' \n",
    "                     %(results_dir))\n",
    "\n",
    "f=show_image(residual[0], title='Residual clean image - no selfcal')\n",
    "print(qa_image(residual[0], context='Residual clean image - no selfcal'))\n",
    "plt.show()\n",
    "export_image_to_fits(residual[0], '%s/imaging-dask_continuum_imaging_residual.fits' \n",
    "                     %(results_dir))"
   ]
  },
  {
   "cell_type": "code",
   "execution_count": null,
   "metadata": {
    "ExecuteTime": {
     "end_time": "2018-03-27T15:04:56.984061Z",
     "start_time": "2018-03-27T15:04:47.372510Z"
    },
    "scrolled": false
   },
   "outputs": [],
   "source": [
    "for chan in range(nfreqwin):\n",
    "    residual = residual = future.result()[1][chan]\n",
    "    show_image(residual[0], title='Channel %d' % chan)\n",
    "    plt.show()"
   ]
  },
  {
   "cell_type": "code",
   "execution_count": null,
   "metadata": {
    "ExecuteTime": {
     "end_time": "2018-03-27T15:22:43.918671Z",
     "start_time": "2018-03-27T15:22:43.905693Z"
    }
   },
   "outputs": [],
   "source": [
    "controls = create_calibration_controls()\n",
    "        \n",
    "controls['T']['first_selfcal'] = 1\n",
    "controls['G']['first_selfcal'] = 3\n",
    "controls['B']['first_selfcal'] = 4\n",
    "\n",
    "controls['T']['timescale'] = 'auto'\n",
    "controls['G']['timescale'] = 'auto'\n",
    "controls['B']['timescale'] = 1e5\n",
    "\n",
    "pp.pprint(controls)"
   ]
  },
  {
   "cell_type": "code",
   "execution_count": null,
   "metadata": {
    "ExecuteTime": {
     "end_time": "2018-03-27T15:22:55.819344Z",
     "start_time": "2018-03-27T15:22:52.736517Z"
    },
    "scrolled": true
   },
   "outputs": [],
   "source": [
    "future_corrupted_vis_graph_list = c.scatter(corrupted_vis_graph_list)\n",
    "ical_graph = create_ical_pipeline_graph(future_corrupted_vis_graph_list, \n",
    "                                        model_graph=model_graph,  \n",
    "                                        context='wstack', \n",
    "                                        calibration_context = 'TG', \n",
    "                                        controls=controls,\n",
    "                                        scales=[0, 3, 10], algorithm='mmclean', \n",
    "                                        nmoment=3, niter=1000, \n",
    "                                        fractional_threshold=0.1,\n",
    "                                        threshold=0.1, nmajor=5, gain=0.1,\n",
    "                                        deconvolve_facets = 8, \n",
    "                                        deconvolve_overlap=16,\n",
    "                                        vis_slices=ntimes,\n",
    "                                        timeslice='auto',\n",
    "                                        global_solution=False, \n",
    "                                        psf_support=64,\n",
    "                                        do_selfcal=True)"
   ]
  },
  {
   "cell_type": "code",
   "execution_count": null,
   "metadata": {
    "ExecuteTime": {
     "end_time": "2018-03-27T15:29:24.847939Z",
     "start_time": "2018-03-27T15:22:57.621148Z"
    },
    "scrolled": true
   },
   "outputs": [],
   "source": [
    "future=c.compute(ical_graph)\n",
    "deconvolved = future.result()[0][0]\n",
    "residual = future.result()[1][0]\n",
    "restored = future.result()[2][0]\n",
    "\n",
    "\n",
    "f=show_image(deconvolved, title='Clean image')\n",
    "print(qa_image(deconvolved, context='Clean image'))\n",
    "plt.show()\n",
    "\n",
    "f=show_image(restored, title='Restored clean image')\n",
    "print(qa_image(restored, context='Restored clean image'))\n",
    "plt.show()\n",
    "export_image_to_fits(restored, '%s/imaging-dask_ical_restored.fits' \n",
    "                     %(results_dir))\n",
    "\n",
    "\n",
    "\n",
    "f=show_image(residual[0], title='Residual clean image')\n",
    "print(qa_image(residual[0], context='Residual clean image'))\n",
    "plt.show()\n",
    "export_image_to_fits(residual[0], '%s/imaging-dask_ical_residual.fits' \n",
    "                     %(results_dir))"
   ]
  },
  {
   "cell_type": "code",
   "execution_count": null,
   "metadata": {
    "ExecuteTime": {
     "end_time": "2018-03-27T15:11:32.745516Z",
     "start_time": "2018-03-27T15:11:32.624556Z"
    },
    "scrolled": false
   },
   "outputs": [],
   "source": [
    "c.close()"
   ]
  },
  {
   "cell_type": "code",
   "execution_count": null,
   "metadata": {},
   "outputs": [],
   "source": []
  },
  {
   "cell_type": "code",
   "execution_count": null,
   "metadata": {},
   "outputs": [],
   "source": []
  }
 ],
 "metadata": {
  "kernelspec": {
   "display_name": "Python 3",
   "language": "python",
   "name": "python3"
  },
  "language_info": {
   "codemirror_mode": {
    "name": "ipython",
    "version": 3
   },
   "file_extension": ".py",
   "mimetype": "text/x-python",
   "name": "python",
   "nbconvert_exporter": "python",
   "pygments_lexer": "ipython3",
   "version": "3.6.1"
  }
 },
 "nbformat": 4,
 "nbformat_minor": 2
}
