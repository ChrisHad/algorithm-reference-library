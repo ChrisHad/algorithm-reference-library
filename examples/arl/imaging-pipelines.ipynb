{
 "cells": [
  {
   "cell_type": "markdown",
   "metadata": {},
   "source": [
    "# Pipeline processing using Dask\n",
    "\n",
    "This notebook demonstrates the continuum imaging and ICAL pipelines."
   ]
  },
  {
   "cell_type": "code",
   "execution_count": 1,
   "metadata": {
    "ExecuteTime": {
     "end_time": "2018-03-13T14:54:07.460241Z",
     "start_time": "2018-03-13T14:54:05.694950Z"
    },
    "scrolled": true
   },
   "outputs": [],
   "source": [
    "%matplotlib inline\n",
    "\n",
    "import os\n",
    "import sys\n",
    "sys.path.append(os.path.join('..','..'))\n",
    "\n",
    "results_dir = './results'\n",
    "os.makedirs(results_dir, exist_ok=True)\n",
    "\n",
    "from dask import delayed\n",
    "import dask\n",
    "import dask.distributed\n",
    "\n",
    "results_dir = './results'\n",
    "os.makedirs(results_dir, exist_ok=True)\n",
    "\n",
    "from matplotlib import pylab\n",
    "\n",
    "pylab.rcParams['figure.figsize'] = (12.0, 12.0)\n",
    "pylab.rcParams['image.cmap'] = 'rainbow'\n",
    "\n",
    "import numpy\n",
    "\n",
    "\n",
    "import pprint\n",
    "\n",
    "from astropy.coordinates import SkyCoord\n",
    "from astropy import units as u\n",
    "from astropy.wcs.utils import pixel_to_skycoord\n",
    "\n",
    "from matplotlib import pyplot as plt\n",
    "\n",
    "from arl.calibration.solvers import solve_gaintable\n",
    "from arl.calibration.operations import apply_gaintable\n",
    "from arl.calibration.calibration_control import create_calibration_controls\n",
    "from arl.data.data_models import Image\n",
    "from arl.data.polarisation import PolarisationFrame\n",
    "from arl.data.parameters import get_parameter\n",
    "from arl.visibility.base import create_blockvisibility\n",
    "from arl.skycomponent.operations import create_skycomponent\n",
    "from arl.image.deconvolution import deconvolve_cube\n",
    "from arl.image.operations import show_image, export_image_to_fits, qa_image, copy_image, create_empty_image_like\n",
    "from arl.visibility.iterators import vis_timeslice_iter\n",
    "from arl.util.testing_support import create_named_configuration, create_low_test_beam\n",
    "from arl.imaging import predict_2d, create_image_from_visibility, advise_wide_field\n",
    "\n",
    "from arl.graphs.dask_init import get_dask_Client\n",
    "from arl.graphs.delayed import create_invert_graph, create_predict_graph, create_deconvolve_facet_graph, \\\n",
    "    create_residual_graph, compute_list\n",
    "from arl.imaging.imaging_context import imaging_context\n",
    "from arl.graphs.generic_graphs import create_generic_image_graph\n",
    "from arl.util.delayed_support import create_simulate_vis_graph, \\\n",
    "    create_low_test_image_from_gleam, create_corrupt_vis_graph\n",
    "from arl.pipelines.delayed import create_continuum_imaging_pipeline_graph, \\\n",
    "    create_ical_pipeline_graph    \n",
    "\n",
    "import logging\n",
    "\n",
    "log = logging.getLogger()\n",
    "log.setLevel(logging.DEBUG)\n",
    "log.addHandler(logging.StreamHandler(sys.stdout))"
   ]
  },
  {
   "cell_type": "code",
   "execution_count": 2,
   "metadata": {
    "ExecuteTime": {
     "end_time": "2018-03-13T14:54:07.476032Z",
     "start_time": "2018-03-13T14:54:07.467700Z"
    }
   },
   "outputs": [],
   "source": [
    "from arl import arl_default_args\n",
    "from arl.data.parameters import set_parameters, get_parameter\n",
    "\n",
    "arl_default_args('imaging-pipelines.ini')"
   ]
  },
  {
   "cell_type": "code",
   "execution_count": 3,
   "metadata": {
    "ExecuteTime": {
     "end_time": "2018-03-13T14:54:08.701217Z",
     "start_time": "2018-03-13T14:54:08.698094Z"
    }
   },
   "outputs": [],
   "source": [
    "pp = pprint.PrettyPrinter()"
   ]
  },
  {
   "cell_type": "markdown",
   "metadata": {},
   "source": [
    "Make a Dask client to manage the processing. Diagnostics are available at the URL given. Try the Status entry."
   ]
  },
  {
   "cell_type": "code",
   "execution_count": 4,
   "metadata": {
    "ExecuteTime": {
     "end_time": "2018-03-13T14:54:13.004824Z",
     "start_time": "2018-03-13T14:54:10.456805Z"
    },
    "scrolled": true
   },
   "outputs": [
    {
     "name": "stdout",
     "output_type": "stream",
     "text": [
      "Creating LocalCluster and Dask Client\n",
      "<Client: scheduler='tcp://127.0.0.1:60897' processes=8 cores=8>\n",
      "Diagnostic pages available on port http://127.0.0.1:8787\n"
     ]
    }
   ],
   "source": [
    "c=get_dask_Client()"
   ]
  },
  {
   "cell_type": "markdown",
   "metadata": {},
   "source": [
    "We create a graph to make the visibility. The parameter rmax determines the distance of the furthest antenna/stations used. All over parameters are determined from this number."
   ]
  },
  {
   "cell_type": "code",
   "execution_count": 5,
   "metadata": {
    "ExecuteTime": {
     "end_time": "2018-03-13T14:54:18.839045Z",
     "start_time": "2018-03-13T14:54:16.433481Z"
    },
    "scrolled": true
   },
   "outputs": [
    {
     "name": "stdout",
     "output_type": "stream",
     "text": [
      "create_configuration_from_file: Maximum radius 300.0 m includes 94 antennas/stations\n",
      "create_simulate_vis_graph: Simulating distribution in frequency\n",
      "7 elements in vis_graph_list\n"
     ]
    }
   ],
   "source": [
    "nfreqwin=7\n",
    "ntimes=11\n",
    "rmax=300.0\n",
    "frequency=numpy.linspace(0.8e8,1.2e8,nfreqwin)\n",
    "channel_bandwidth=numpy.array(nfreqwin*[frequency[1]-frequency[0]])\n",
    "times = numpy.linspace(-numpy.pi/3.0, numpy.pi/3.0, ntimes)\n",
    "phasecentre=SkyCoord(ra=+30.0 * u.deg, dec=-60.0 * u.deg, frame='icrs', equinox='J2000')\n",
    "\n",
    "vis_graph_list=create_simulate_vis_graph('LOWBD2',\n",
    "                                         frequency=frequency, \n",
    "                                         channel_bandwidth=channel_bandwidth,\n",
    "                                         times=times,\n",
    "                                         phasecentre=phasecentre,\n",
    "                                         order='frequency',\n",
    "                                        rmax=rmax)\n",
    "print('%d elements in vis_graph_list' % len(vis_graph_list))\n",
    "vis_graph_list = compute_list(c, vis_graph_list)"
   ]
  },
  {
   "cell_type": "code",
   "execution_count": 6,
   "metadata": {
    "ExecuteTime": {
     "end_time": "2018-03-13T14:54:28.003800Z",
     "start_time": "2018-03-13T14:54:26.880970Z"
    },
    "scrolled": false
   },
   "outputs": [
    {
     "name": "stdout",
     "output_type": "stream",
     "text": [
      "convert_visibility: Original 11 rows, 0.004 GB, converted 48081 rows, 0.005 GB\n",
      "advise_wide_field: Maximum wavelength 3.747 (meters)\n",
      "advise_wide_field: Minimum wavelength 3.747 (meters)\n",
      "advise_wide_field: Maximum baseline 152.4 (wavelengths)\n",
      "advise_wide_field: Station/antenna diameter 35.0 (meters)\n",
      "advise_wide_field: Primary beam 0.107069 (rad) 6.135 (deg)\n",
      "advise_wide_field: Image field of view 0.428275 (rad) 24.538 (deg)\n",
      "advise_wide_field: Synthesized beam 0.006560 (rad) 0.376 (deg)\n",
      "advise_wide_field: Cellsize 0.002187 (rad) 0.125 (deg)\n",
      "advice_wide_field: Npixels per side = 196\n",
      "advice_wide_field: Npixels (power of 2, 3) per side = 256\n",
      "advice_wide_field: W sampling for full image = 0.3 (wavelengths)\n",
      "advice_wide_field: W sampling for primary beam = 5.6 (wavelengths)\n",
      "advice_wide_field: Time sampling for full image = 62.6 (s)\n",
      "advice_wide_field: Time sampling for primary beam = 1002.0 (s)\n",
      "advice_wide_field: Frequency sampling for full image = 57983.7 (Hz)\n",
      "advice_wide_field: Frequency sampling for primary beam = 927739.5 (Hz)\n",
      "advice_wide_field: Number of planes in w stack 27\n",
      "advice_wide_field: Number of planes in w projection 1\n",
      "advice_wide_field: Recommend that 2d gridding (i.e. no wprojection) is used\n",
      "convert_visibility: Original 11 rows, 0.004 GB, converted 48081 rows, 0.005 GB\n",
      "advise_wide_field: Maximum wavelength 2.498 (meters)\n",
      "advise_wide_field: Minimum wavelength 2.498 (meters)\n",
      "advise_wide_field: Maximum baseline 228.6 (wavelengths)\n",
      "advise_wide_field: Station/antenna diameter 35.0 (meters)\n",
      "advise_wide_field: Primary beam 0.071379 (rad) 4.090 (deg)\n",
      "advise_wide_field: Image field of view 0.285517 (rad) 16.359 (deg)\n",
      "advise_wide_field: Synthesized beam 0.004374 (rad) 0.251 (deg)\n",
      "advise_wide_field: Cellsize 0.001458 (rad) 0.084 (deg)\n",
      "advice_wide_field: Npixels per side = 196\n",
      "advice_wide_field: Npixels (power of 2, 3) per side = 256\n",
      "advice_wide_field: W sampling for full image = 0.8 (wavelengths)\n",
      "advice_wide_field: W sampling for primary beam = 12.5 (wavelengths)\n",
      "advice_wide_field: Time sampling for full image = 93.9 (s)\n",
      "advice_wide_field: Time sampling for primary beam = 1502.9 (s)\n",
      "advice_wide_field: Frequency sampling for full image = 130463.4 (Hz)\n",
      "advice_wide_field: Frequency sampling for primary beam = 2087414.0 (Hz)\n",
      "advice_wide_field: Number of planes in w stack 18\n",
      "advice_wide_field: Number of planes in w projection 1\n",
      "advice_wide_field: Recommend that 2d gridding (i.e. no wprojection) is used\n"
     ]
    }
   ],
   "source": [
    "wprojection_planes=1\n",
    "advice_low=advise_wide_field(vis_graph_list[0], guard_band_image=4.0, delA=0.02,\n",
    "                             wprojection_planes=wprojection_planes)\n",
    "\n",
    "advice_high=advise_wide_field(vis_graph_list[-1], guard_band_image=4.0, delA=0.02,\n",
    "                              wprojection_planes=wprojection_planes)\n",
    "\n",
    "vis_slices = advice_low['vis_slices']\n",
    "npixel=advice_high['npixels2']\n",
    "cellsize=min(advice_low['cellsize'], advice_high['cellsize'])"
   ]
  },
  {
   "cell_type": "markdown",
   "metadata": {},
   "source": [
    "Now make a graph to fill with a model drawn from GLEAM "
   ]
  },
  {
   "cell_type": "code",
   "execution_count": 7,
   "metadata": {
    "ExecuteTime": {
     "end_time": "2018-03-13T14:54:38.774083Z",
     "start_time": "2018-03-13T14:54:38.698011Z"
    },
    "scrolled": false
   },
   "outputs": [],
   "source": [
    "gleam_model_graph = [delayed(create_low_test_image_from_gleam)(npixel=npixel,\n",
    "                                                               frequency=[frequency[f]],\n",
    "                                                               channel_bandwidth=[channel_bandwidth[f]],\n",
    "                                                               cellsize=cellsize,\n",
    "                                                               phasecentre=phasecentre,\n",
    "                                                               polarisation_frame=PolarisationFrame(\"stokesI\"),\n",
    "                                                               flux_limit=0.1,\n",
    "                                                               applybeam=True)\n",
    "                     for f, freq in enumerate(frequency)]"
   ]
  },
  {
   "cell_type": "code",
   "execution_count": 8,
   "metadata": {
    "ExecuteTime": {
     "end_time": "2018-03-13T15:02:58.633936Z",
     "start_time": "2018-03-13T14:57:52.118605Z"
    },
    "scrolled": true
   },
   "outputs": [
    {
     "name": "stderr",
     "output_type": "stream",
     "text": [
      "/Users/timcornwell/anaconda/envs/arlenv/lib/python3.6/site-packages/distributed/worker.py:739: UserWarning: Large object of size 4.68 MB detected in task graph: \n",
      "  (<arl.data.data_models.BlockVisibility object at 0x11863b358>,)\n",
      "Consider scattering large objects ahead of time\n",
      "with client.scatter to reduce scheduler burden and \n",
      "keep data on workers\n",
      "\n",
      "    future = client.submit(func, big_data)    # bad\n",
      "\n",
      "    big_future = client.scatter(big_data)     # good\n",
      "    future = client.submit(func, big_future)  # good\n",
      "  % (format_bytes(len(b)), s))\n"
     ]
    },
    {
     "ename": "TypeError",
     "evalue": "predict_wstack_single() got an unexpected keyword argument 'context'",
     "output_type": "error",
     "traceback": [
      "\u001b[0;31m---------------------------------------------------------------------------\u001b[0m",
      "\u001b[0;31mTypeError\u001b[0m                                 Traceback (most recent call last)",
      "\u001b[0;32m<ipython-input-8-309d405f6035>\u001b[0m in \u001b[0;36m<module>\u001b[0;34m()\u001b[0m\n\u001b[1;32m      2\u001b[0m predicted_vis_graph_list = create_predict_graph(vis_graph_list, gleam_model_graph, context='wstack',\n\u001b[1;32m      3\u001b[0m                                                arl_config='imaging-pipelines.ini')\n\u001b[0;32m----> 4\u001b[0;31m \u001b[0mpredicted_vis_graph_list\u001b[0m \u001b[0;34m=\u001b[0m \u001b[0mcompute_list\u001b[0m\u001b[0;34m(\u001b[0m\u001b[0mc\u001b[0m\u001b[0;34m,\u001b[0m \u001b[0mpredicted_vis_graph_list\u001b[0m\u001b[0;34m)\u001b[0m\u001b[0;34m\u001b[0m\u001b[0m\n\u001b[0m\u001b[1;32m      5\u001b[0m \u001b[0mcorrupted_vis_graph_list\u001b[0m \u001b[0;34m=\u001b[0m \u001b[0mcreate_corrupt_vis_graph\u001b[0m\u001b[0;34m(\u001b[0m\u001b[0mpredicted_vis_graph_list\u001b[0m\u001b[0;34m,\u001b[0m \u001b[0marl_config\u001b[0m\u001b[0;34m=\u001b[0m\u001b[0;34m'imaging-pipelines.ini'\u001b[0m\u001b[0;34m)\u001b[0m\u001b[0;34m\u001b[0m\u001b[0m\n\u001b[1;32m      6\u001b[0m \u001b[0mcorrupted_vis_graph_list\u001b[0m \u001b[0;34m=\u001b[0m \u001b[0mcompute_list\u001b[0m\u001b[0;34m(\u001b[0m\u001b[0mc\u001b[0m\u001b[0;34m,\u001b[0m \u001b[0mcorrupted_vis_graph_list\u001b[0m\u001b[0;34m)\u001b[0m\u001b[0;34m\u001b[0m\u001b[0m\n",
      "\u001b[0;32m~/Code/algorithm-reference-library/arl/graphs/delayed.py\u001b[0m in \u001b[0;36mcompute_list\u001b[0;34m(client, graph_list, arl_config)\u001b[0m\n\u001b[1;32m     72\u001b[0m     \u001b[0;32massert\u001b[0m \u001b[0mnworkers_final\u001b[0m \u001b[0;34m>=\u001b[0m \u001b[0mnworkers_initial\u001b[0m\u001b[0;34m,\u001b[0m \u001b[0;34m\"Lost workers: started with %d, now have %d\"\u001b[0m \u001b[0;34m%\u001b[0m\u001b[0;31m \u001b[0m\u001b[0;31m\\\u001b[0m\u001b[0;34m\u001b[0m\u001b[0m\n\u001b[1;32m     73\u001b[0m                                                \u001b[0;34m(\u001b[0m\u001b[0mnworkers_initial\u001b[0m\u001b[0;34m,\u001b[0m \u001b[0mnworkers_final\u001b[0m\u001b[0;34m)\u001b[0m\u001b[0;34m\u001b[0m\u001b[0m\n\u001b[0;32m---> 74\u001b[0;31m     \u001b[0;32mreturn\u001b[0m \u001b[0;34m[\u001b[0m\u001b[0mf\u001b[0m\u001b[0;34m.\u001b[0m\u001b[0mresult\u001b[0m\u001b[0;34m(\u001b[0m\u001b[0;34m)\u001b[0m \u001b[0;32mfor\u001b[0m \u001b[0mf\u001b[0m \u001b[0;32min\u001b[0m \u001b[0mfutures\u001b[0m\u001b[0;34m]\u001b[0m\u001b[0;34m\u001b[0m\u001b[0m\n\u001b[0m\u001b[1;32m     75\u001b[0m \u001b[0;34m\u001b[0m\u001b[0m\n\u001b[1;32m     76\u001b[0m \u001b[0;34m\u001b[0m\u001b[0m\n",
      "\u001b[0;32m~/Code/algorithm-reference-library/arl/graphs/delayed.py\u001b[0m in \u001b[0;36m<listcomp>\u001b[0;34m(.0)\u001b[0m\n\u001b[1;32m     72\u001b[0m     \u001b[0;32massert\u001b[0m \u001b[0mnworkers_final\u001b[0m \u001b[0;34m>=\u001b[0m \u001b[0mnworkers_initial\u001b[0m\u001b[0;34m,\u001b[0m \u001b[0;34m\"Lost workers: started with %d, now have %d\"\u001b[0m \u001b[0;34m%\u001b[0m\u001b[0;31m \u001b[0m\u001b[0;31m\\\u001b[0m\u001b[0;34m\u001b[0m\u001b[0m\n\u001b[1;32m     73\u001b[0m                                                \u001b[0;34m(\u001b[0m\u001b[0mnworkers_initial\u001b[0m\u001b[0;34m,\u001b[0m \u001b[0mnworkers_final\u001b[0m\u001b[0;34m)\u001b[0m\u001b[0;34m\u001b[0m\u001b[0m\n\u001b[0;32m---> 74\u001b[0;31m     \u001b[0;32mreturn\u001b[0m \u001b[0;34m[\u001b[0m\u001b[0mf\u001b[0m\u001b[0;34m.\u001b[0m\u001b[0mresult\u001b[0m\u001b[0;34m(\u001b[0m\u001b[0;34m)\u001b[0m \u001b[0;32mfor\u001b[0m \u001b[0mf\u001b[0m \u001b[0;32min\u001b[0m \u001b[0mfutures\u001b[0m\u001b[0;34m]\u001b[0m\u001b[0;34m\u001b[0m\u001b[0m\n\u001b[0m\u001b[1;32m     75\u001b[0m \u001b[0;34m\u001b[0m\u001b[0m\n\u001b[1;32m     76\u001b[0m \u001b[0;34m\u001b[0m\u001b[0m\n",
      "\u001b[0;32m~/anaconda/envs/arlenv/lib/python3.6/site-packages/distributed/client.py\u001b[0m in \u001b[0;36mresult\u001b[0;34m(self, timeout)\u001b[0m\n\u001b[1;32m    168\u001b[0m                                   raiseit=False)\n\u001b[1;32m    169\u001b[0m         \u001b[0;32mif\u001b[0m \u001b[0mself\u001b[0m\u001b[0;34m.\u001b[0m\u001b[0mstatus\u001b[0m \u001b[0;34m==\u001b[0m \u001b[0;34m'error'\u001b[0m\u001b[0;34m:\u001b[0m\u001b[0;34m\u001b[0m\u001b[0m\n\u001b[0;32m--> 170\u001b[0;31m             \u001b[0msix\u001b[0m\u001b[0;34m.\u001b[0m\u001b[0mreraise\u001b[0m\u001b[0;34m(\u001b[0m\u001b[0;34m*\u001b[0m\u001b[0mresult\u001b[0m\u001b[0;34m)\u001b[0m\u001b[0;34m\u001b[0m\u001b[0m\n\u001b[0m\u001b[1;32m    171\u001b[0m         \u001b[0;32melif\u001b[0m \u001b[0mself\u001b[0m\u001b[0;34m.\u001b[0m\u001b[0mstatus\u001b[0m \u001b[0;34m==\u001b[0m \u001b[0;34m'cancelled'\u001b[0m\u001b[0;34m:\u001b[0m\u001b[0;34m\u001b[0m\u001b[0m\n\u001b[1;32m    172\u001b[0m             \u001b[0;32mraise\u001b[0m \u001b[0mresult\u001b[0m\u001b[0;34m\u001b[0m\u001b[0m\n",
      "\u001b[0;32m~/anaconda/envs/arlenv/lib/python3.6/site-packages/six.py\u001b[0m in \u001b[0;36mreraise\u001b[0;34m(tp, value, tb)\u001b[0m\n\u001b[1;32m    690\u001b[0m                 \u001b[0mvalue\u001b[0m \u001b[0;34m=\u001b[0m \u001b[0mtp\u001b[0m\u001b[0;34m(\u001b[0m\u001b[0;34m)\u001b[0m\u001b[0;34m\u001b[0m\u001b[0m\n\u001b[1;32m    691\u001b[0m             \u001b[0;32mif\u001b[0m \u001b[0mvalue\u001b[0m\u001b[0;34m.\u001b[0m\u001b[0m__traceback__\u001b[0m \u001b[0;32mis\u001b[0m \u001b[0;32mnot\u001b[0m \u001b[0mtb\u001b[0m\u001b[0;34m:\u001b[0m\u001b[0;34m\u001b[0m\u001b[0m\n\u001b[0;32m--> 692\u001b[0;31m                 \u001b[0;32mraise\u001b[0m \u001b[0mvalue\u001b[0m\u001b[0;34m.\u001b[0m\u001b[0mwith_traceback\u001b[0m\u001b[0;34m(\u001b[0m\u001b[0mtb\u001b[0m\u001b[0;34m)\u001b[0m\u001b[0;34m\u001b[0m\u001b[0m\n\u001b[0m\u001b[1;32m    693\u001b[0m             \u001b[0;32mraise\u001b[0m \u001b[0mvalue\u001b[0m\u001b[0;34m\u001b[0m\u001b[0m\n\u001b[1;32m    694\u001b[0m         \u001b[0;32mfinally\u001b[0m\u001b[0;34m:\u001b[0m\u001b[0;34m\u001b[0m\u001b[0m\n",
      "\u001b[0;32m~/Code/algorithm-reference-library/arl/graphs/delayed.py\u001b[0m in \u001b[0;36mpredict_ignore_none\u001b[0;34m()\u001b[0m\n\u001b[1;32m    287\u001b[0m         \u001b[0;32mif\u001b[0m \u001b[0mvis\u001b[0m \u001b[0;32mis\u001b[0m \u001b[0;32mnot\u001b[0m \u001b[0;32mNone\u001b[0m\u001b[0;34m:\u001b[0m\u001b[0;34m\u001b[0m\u001b[0m\n\u001b[1;32m    288\u001b[0m             \u001b[0mpredicted\u001b[0m \u001b[0;34m=\u001b[0m \u001b[0mcopy_visibility\u001b[0m\u001b[0;34m(\u001b[0m\u001b[0mvis\u001b[0m\u001b[0;34m)\u001b[0m\u001b[0;34m\u001b[0m\u001b[0m\n\u001b[0;32m--> 289\u001b[0;31m             \u001b[0mpredicted\u001b[0m \u001b[0;34m=\u001b[0m \u001b[0mpredict\u001b[0m\u001b[0;34m(\u001b[0m\u001b[0mpredicted\u001b[0m\u001b[0;34m,\u001b[0m \u001b[0mmodel\u001b[0m\u001b[0;34m,\u001b[0m \u001b[0mcontext\u001b[0m\u001b[0;34m=\u001b[0m\u001b[0mcontext\u001b[0m\u001b[0;34m,\u001b[0m \u001b[0marl_config\u001b[0m\u001b[0;34m=\u001b[0m\u001b[0marl_config\u001b[0m\u001b[0;34m)\u001b[0m\u001b[0;34m\u001b[0m\u001b[0m\n\u001b[0m\u001b[1;32m    290\u001b[0m             \u001b[0;32mreturn\u001b[0m \u001b[0mpredicted\u001b[0m\u001b[0;34m\u001b[0m\u001b[0m\n\u001b[1;32m    291\u001b[0m         \u001b[0;32melse\u001b[0m\u001b[0;34m:\u001b[0m\u001b[0;34m\u001b[0m\u001b[0m\n",
      "\u001b[0;31mTypeError\u001b[0m: predict_wstack_single() got an unexpected keyword argument 'context'"
     ]
    }
   ],
   "source": [
    "set_parameters('imaging-pipelines.ini', {'vis_slices':51, 'phase_error':1.0})\n",
    "predicted_vis_graph_list = create_predict_graph(vis_graph_list, gleam_model_graph, context='wstack',\n",
    "                                               arl_config='imaging-pipelines.ini')\n",
    "predicted_vis_graph_list = compute_list(c, predicted_vis_graph_list)\n",
    "corrupted_vis_graph_list = create_corrupt_vis_graph(predicted_vis_graph_list, arl_config='imaging-pipelines.ini')\n",
    "corrupted_vis_graph_list = compute_list(c, corrupted_vis_graph_list)"
   ]
  },
  {
   "cell_type": "markdown",
   "metadata": {},
   "source": [
    "Get the LSM. This is currently blank."
   ]
  },
  {
   "cell_type": "code",
   "execution_count": null,
   "metadata": {
    "ExecuteTime": {
     "end_time": "2018-01-31T15:25:50.550306Z",
     "start_time": "2018-01-31T15:25:50.539405Z"
    },
    "scrolled": true
   },
   "outputs": [],
   "source": [
    "model_graph = [delayed(create_image_from_visibility)(vis_graph_list[f],\n",
    "                                                     npixel=npixel,\n",
    "                                                     frequency=[frequency[f]],\n",
    "                                                     channel_bandwidth=[channel_bandwidth[f]],\n",
    "                                                     cellsize=cellsize,\n",
    "                                                     phasecentre=phasecentre,\n",
    "                                                     polarisation_frame=PolarisationFrame(\"stokesI\"))\n",
    "               for f, freq in enumerate(frequency)]"
   ]
  },
  {
   "cell_type": "markdown",
   "metadata": {},
   "source": [
    "Create a graph to make the dirty image "
   ]
  },
  {
   "cell_type": "code",
   "execution_count": null,
   "metadata": {
    "ExecuteTime": {
     "end_time": "2018-01-31T15:25:54.851614Z",
     "start_time": "2018-01-31T15:25:54.030371Z"
    },
    "scrolled": true
   },
   "outputs": [],
   "source": [
    "dirty_graph = create_invert_graph(predicted_vis_graph_list, model_graph, context='wstack',\n",
    "                                  arl_config='imaging-pipelines.ini')\n",
    "dirty_graph[0].visualize()"
   ]
  },
  {
   "cell_type": "code",
   "execution_count": null,
   "metadata": {
    "ExecuteTime": {
     "end_time": "2018-01-31T15:26:02.110085Z",
     "start_time": "2018-01-31T15:25:56.646275Z"
    },
    "scrolled": false
   },
   "outputs": [],
   "source": [
    "from arl.graphs.dask_init import get_dask_Client\n",
    "client = get_dask_Client()\n",
    "dirty, sumwt = client.compute(dirty_graph[0], sync=True)\n",
    "print(dirty)\n",
    "show_image(dirty)\n",
    "plt.show()"
   ]
  },
  {
   "cell_type": "code",
   "execution_count": null,
   "metadata": {
    "ExecuteTime": {
     "end_time": "2018-01-31T15:26:17.239845Z",
     "start_time": "2018-01-31T15:26:16.235628Z"
    },
    "scrolled": true
   },
   "outputs": [],
   "source": [
    "set_parameters('imaging-pipelines.ini', {'facets':1, 'vis_slices':vis_slices}, 'imaging')\n",
    "\n",
    "set_parameters('imaging-pipelines.ini', {'algorithm':'hogbom', 'niter':1000, 'fractional_threshold':0.1,\n",
    "                                         'threshold':0.1, 'nmajor':5, 'gain':0.1}, 'deconvolution')\n",
    "\n",
    "continuum_imaging_graph = \\\n",
    "    create_continuum_imaging_pipeline_graph(predicted_vis_graph_list, \n",
    "                                            model_graph=model_graph, \n",
    "                                            c_deconvolve_graph=create_deconvolve_facet_graph,\n",
    "                                            arl_config='imaging-pipelines.ini'\n",
    "                                            context='wstack', facets=1, vis_slices=vis_slices, \n",
    "                                            algorithm='hogbom', niter=1000, \n",
    "                                            fractional_threshold=0.1,\n",
    "                                            threshold=0.1, nmajor=5, gain=0.1)"
   ]
  },
  {
   "cell_type": "code",
   "execution_count": null,
   "metadata": {
    "ExecuteTime": {
     "end_time": "2018-01-31T15:26:19.448434Z",
     "start_time": "2018-01-31T15:26:18.641057Z"
    },
    "scrolled": true
   },
   "outputs": [],
   "source": [
    "future=c.compute(continuum_imaging_graph)"
   ]
  },
  {
   "cell_type": "code",
   "execution_count": null,
   "metadata": {
    "ExecuteTime": {
     "end_time": "2018-01-31T15:29:09.313801Z",
     "start_time": "2018-01-31T15:26:20.739612Z"
    },
    "scrolled": false
   },
   "outputs": [],
   "source": [
    "deconvolved = future.result()[0][0]\n",
    "residual = future.result()[1][0]\n",
    "restored = future.result()[2][0]\n",
    "\n",
    "f=show_image(deconvolved, title='Clean image - no selfcal')\n",
    "print(qa_image(deconvolved, context='Clean image - no selfcal'))\n",
    "\n",
    "plt.show()\n",
    "\n",
    "f=show_image(restored, title='Restored clean image - no selfcal')\n",
    "print(qa_image(restored, context='Restored clean image - no selfcal'))\n",
    "plt.show()\n",
    "export_image_to_fits(restored, '%s/imaging-dask_continuum_imaging_restored.fits' \n",
    "                     %(results_dir))\n",
    "\n",
    "f=show_image(residual[0], title='Residual clean image - no selfcal')\n",
    "print(qa_image(residual[0], context='Residual clean image - no selfcal'))\n",
    "plt.show()\n",
    "export_image_to_fits(residual[0], '%s/imaging-dask_continuum_imaging_residual.fits' \n",
    "                     %(results_dir))"
   ]
  },
  {
   "cell_type": "code",
   "execution_count": null,
   "metadata": {
    "ExecuteTime": {
     "end_time": "2018-01-31T15:29:09.336617Z",
     "start_time": "2018-01-31T15:29:09.317325Z"
    }
   },
   "outputs": [],
   "source": [
    "controls = create_calibration_controls()\n",
    "        \n",
    "controls['T']['first_selfcal'] = 2\n",
    "controls['G']['first_selfcal'] = 3\n",
    "controls['B']['first_selfcal'] = 4\n",
    "\n",
    "controls['T']['timescale'] = 'auto'\n",
    "controls['G']['timescale'] = 'auto'\n",
    "controls['B']['timescale'] = 1e5\n",
    "\n",
    "pp.pprint(controls)"
   ]
  },
  {
   "cell_type": "code",
   "execution_count": null,
   "metadata": {
    "ExecuteTime": {
     "end_time": "2018-01-31T15:29:10.210454Z",
     "start_time": "2018-01-31T15:29:09.339070Z"
    },
    "scrolled": true
   },
   "outputs": [],
   "source": [
    "ical_graph = create_ical_pipeline_graph(corrupted_vis_graph_list, \n",
    "                                        model_graph=model_graph,  \n",
    "                                        vis_slices=vis_slices,\n",
    "                                        context='wstack',\n",
    "                                        timeslice='auto',\n",
    "                                        algorithm='hogbom', niter=1000, \n",
    "                                        fractional_threshold=0.1,\n",
    "                                        threshold=0.1, nmajor=5, \n",
    "                                        gain=0.1, controls=controls,\n",
    "                                        global_solution=False)"
   ]
  },
  {
   "cell_type": "code",
   "execution_count": null,
   "metadata": {
    "ExecuteTime": {
     "end_time": "2018-01-31T15:32:03.844910Z",
     "start_time": "2018-01-31T15:29:10.213462Z"
    },
    "scrolled": false
   },
   "outputs": [],
   "source": [
    "future=c.compute(ical_graph)\n",
    "deconvolved = future.result()[0][0]\n",
    "residual = future.result()[1][0]\n",
    "restored = future.result()[2][0]\n",
    "\n",
    "\n",
    "f=show_image(deconvolved, title='Clean image')\n",
    "print(qa_image(deconvolved, context='Clean image'))\n",
    "plt.show()\n",
    "\n",
    "f=show_image(restored, title='Restored clean image')\n",
    "print(qa_image(restored, context='Restored clean image'))\n",
    "plt.show()\n",
    "export_image_to_fits(restored, '%s/imaging-dask_ical_restored.fits' \n",
    "                     %(results_dir))\n",
    "\n",
    "\n",
    "\n",
    "f=show_image(residual[0], title='Residual clean image')\n",
    "print(qa_image(residual[0], context='Residual clean image'))\n",
    "plt.show()\n",
    "export_image_to_fits(residual[0], '%s/imaging-dask_ical_residual.fits' \n",
    "                     %(results_dir))"
   ]
  },
  {
   "cell_type": "code",
   "execution_count": null,
   "metadata": {
    "ExecuteTime": {
     "end_time": "2018-01-31T15:32:03.944826Z",
     "start_time": "2018-01-31T15:32:03.848765Z"
    },
    "scrolled": false
   },
   "outputs": [],
   "source": [
    "c.shutdown()"
   ]
  },
  {
   "cell_type": "code",
   "execution_count": null,
   "metadata": {},
   "outputs": [],
   "source": []
  }
 ],
 "metadata": {
  "kernelspec": {
   "display_name": "Python 3",
   "language": "python",
   "name": "python3"
  },
  "language_info": {
   "codemirror_mode": {
    "name": "ipython",
    "version": 3
   },
   "file_extension": ".py",
   "mimetype": "text/x-python",
   "name": "python",
   "nbconvert_exporter": "python",
   "pygments_lexer": "ipython3",
   "version": "3.6.1"
  }
 },
 "nbformat": 4,
 "nbformat_minor": 1
}
