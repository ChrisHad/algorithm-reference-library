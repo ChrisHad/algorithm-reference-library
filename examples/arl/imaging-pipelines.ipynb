{
 "cells": [
  {
   "cell_type": "markdown",
   "metadata": {},
   "source": [
    "# Pipeline processing using Dask\n",
    "\n",
    "This notebook demonstrates the continuum imaging and ICAL pipelines."
   ]
  },
  {
   "cell_type": "code",
   "execution_count": 1,
   "metadata": {},
   "outputs": [],
   "source": [
    "%matplotlib inline\n",
    "\n",
    "import os\n",
    "import sys\n",
    "\n",
    "results_dir = './results'\n",
    "os.makedirs(results_dir, exist_ok=True)\n",
    "\n",
    "from dask import delayed\n",
    "import dask.bag as bag\n",
    "\n",
    "sys.path.append(os.path.join('..', '..'))\n",
    "\n",
    "results_dir = './results'\n",
    "os.makedirs(results_dir, exist_ok=True)\n",
    "\n",
    "from matplotlib import pylab\n",
    "\n",
    "pylab.rcParams['figure.figsize'] = (12.0, 12.0)\n",
    "pylab.rcParams['image.cmap'] = 'rainbow'\n",
    "\n",
    "import numpy\n",
    "\n",
    "from astropy.coordinates import SkyCoord\n",
    "from astropy import units as u\n",
    "from astropy.wcs.utils import pixel_to_skycoord\n",
    "\n",
    "from matplotlib import pyplot as plt\n",
    "\n",
    "from arl.calibration.solvers import solve_gaintable\n",
    "from arl.calibration.operations import apply_gaintable\n",
    "from arl.data.data_models import Image\n",
    "from arl.data.polarisation import PolarisationFrame\n",
    "from arl.data.parameters import get_parameter\n",
    "from arl.visibility.base import create_blockvisibility\n",
    "from arl.skycomponent.operations import create_skycomponent\n",
    "from arl.image.deconvolution import deconvolve_cube\n",
    "from arl.image.operations import show_image, export_image_to_fits, qa_image, copy_image, create_empty_image_like\n",
    "from arl.image.gather_scatter import image_gather\n",
    "from arl.image.iterators import raster_iter\n",
    "from arl.visibility.iterators import vis_timeslice_iter\n",
    "from arl.util.testing_support import create_named_configuration\n",
    "from arl.imaging import predict_2d, create_image_from_visibility, advise_wide_field\n",
    "from arl.graphs.dask_init import get_dask_Client\n",
    "from arl.graphs.graphs import create_invert_wstack_graph, create_deconvolve_facet_graph, \\\n",
    "    create_residual_wstack_graph\n",
    "\n",
    "from arl.graphs.generic_graphs import create_generic_image_graph\n",
    "from arl.util.graph_support import create_simulate_vis_graph, \\\n",
    "    create_predict_gleam_model_graph\n",
    "from arl.pipelines.graphs import create_continuum_imaging_pipeline_graph, \\\n",
    "    create_ical_pipeline_graph    \n",
    "from arl.graphs.vis import simple_vis\n",
    "\n",
    "import logging\n",
    "\n",
    "log = logging.getLogger()\n",
    "log.setLevel(logging.DEBUG)\n",
    "log.addHandler(logging.StreamHandler(sys.stdout))"
   ]
  },
  {
   "cell_type": "markdown",
   "metadata": {},
   "source": [
    "Make a Dask client to manage the processing. Diagnostics are available at the URL given. Try the Status entry."
   ]
  },
  {
   "cell_type": "code",
   "execution_count": 3,
   "metadata": {
    "collapsed": true,
    "scrolled": false
   },
   "outputs": [
    {
     "name": "stdout",
     "output_type": "stream",
     "text": [
      "Creating Dask Client\n"
     ]
    },
    {
     "name": "stdout",
     "output_type": "stream",
     "text": [
      "<Client: scheduler='tcp://127.0.0.1:64109' processes=8 cores=8>\nDiagnostic pages available on port http://127.0.0.1:8787\n"
     ]
    }
   ],
   "source": [
    "c=get_dask_Client()"
   ]
  },
  {
   "cell_type": "markdown",
   "metadata": {},
   "source": [
    "We create a graph to make the visibility "
   ]
  },
  {
   "cell_type": "code",
   "execution_count": 4,
   "metadata": {
    "collapsed": true,
    "scrolled": false
   },
   "outputs": [],
   "source": [
    "nfreqwin=7\n",
    "ntimes=11\n",
    "frequency=numpy.linspace(0.8e8,1.2e8,nfreqwin)\n",
    "channel_bandwidth=numpy.array(nfreqwin*[frequency[1]-frequency[0]])\n",
    "times = numpy.linspace(-numpy.pi/3.0, numpy.pi/3.0, ntimes)\n",
    "phasecentre=SkyCoord(ra=+30.0 * u.deg, dec=-60.0 * u.deg, frame='icrs', equinox='J2000')\n",
    "\n",
    "vis_graph_list=create_simulate_vis_graph('LOWBD2-CORE',\n",
    "                                         frequency=frequency, \n",
    "                                         channel_bandwidth=channel_bandwidth,\n",
    "                                         times=times,\n",
    "                                         phasecentre=phasecentre)"
   ]
  },
  {
   "cell_type": "markdown",
   "metadata": {},
   "source": [
    "Now make a graph to fill with a model drawn from GLEAM "
   ]
  },
  {
   "cell_type": "code",
   "execution_count": 5,
   "metadata": {
    "collapsed": true,
    "scrolled": true
   },
   "outputs": [
    {
     "name": "stdout",
     "output_type": "stream",
     "text": [
      "advise_wide_field: Maximum wavelength 3.747 (meters)\n"
     ]
    },
    {
     "name": "stdout",
     "output_type": "stream",
     "text": [
      "advise_wide_field: Maximum baseline 210.1 (wavelengths)\n"
     ]
    },
    {
     "name": "stdout",
     "output_type": "stream",
     "text": [
      "advise_wide_field: Station/antenna diameter 35.0 (meters)\n"
     ]
    },
    {
     "name": "stdout",
     "output_type": "stream",
     "text": [
      "advise_wide_field: Primary beam 0.107069 (rad) 6.135 (deg)\n"
     ]
    },
    {
     "name": "stdout",
     "output_type": "stream",
     "text": [
      "advise_wide_field: Image field of view 0.428275 (rad) 24.538 (deg)\n"
     ]
    },
    {
     "name": "stdout",
     "output_type": "stream",
     "text": [
      "advise_wide_field: Synthesized beam 0.004759 (rad) 0.273 (deg)\n"
     ]
    },
    {
     "name": "stdout",
     "output_type": "stream",
     "text": [
      "advise_wide_field: Cellsize 0.001586 (rad) 0.091 (deg)\n"
     ]
    },
    {
     "name": "stdout",
     "output_type": "stream",
     "text": [
      "advice_wide_field: Npixels per side = 270\n"
     ]
    },
    {
     "name": "stdout",
     "output_type": "stream",
     "text": [
      "advice_wide_field: W sampling for full image = 0.3 (wavelengths)\n"
     ]
    },
    {
     "name": "stdout",
     "output_type": "stream",
     "text": [
      "advice_wide_field: W sampling for primary beam = 5.6 (wavelengths)\n"
     ]
    },
    {
     "name": "stdout",
     "output_type": "stream",
     "text": [
      "advice_wide_field: Time sampling for full image = 45.4 (s)\n"
     ]
    },
    {
     "name": "stdout",
     "output_type": "stream",
     "text": [
      "advice_wide_field: Time sampling for primary beam = 726.9 (s)\n"
     ]
    },
    {
     "name": "stdout",
     "output_type": "stream",
     "text": [
      "advice_wide_field: Frequency sampling for full image = 42066.2 (Hz)\n"
     ]
    },
    {
     "name": "stdout",
     "output_type": "stream",
     "text": [
      "advice_wide_field: Frequency sampling for primary beam = 673058.5 (Hz)\n"
     ]
    },
    {
     "name": "stdout",
     "output_type": "stream",
     "text": [
      "advice_wide_field: Number of planes in w stack 37\n"
     ]
    },
    {
     "name": "stdout",
     "output_type": "stream",
     "text": [
      "advice_wide_field: Number of planes in w projection 1\n"
     ]
    },
    {
     "name": "stdout",
     "output_type": "stream",
     "text": [
      "advice_wide_field: Recommend 2d gridding\n"
     ]
    }
   ],
   "source": [
    "wprojection_planes=1\n",
    "advice=advise_wide_field(vis_graph_list[0].compute(), guard_band_image=4.0, delA=0.02,\n",
    "                         wprojection_planes=wprojection_planes)\n",
    "vis_slices = advice['vis_slices']"
   ]
  },
  {
   "cell_type": "code",
   "execution_count": 6,
   "metadata": {
    "collapsed": true
   },
   "outputs": [],
   "source": [
    "def compute_list(c, vis_graph_list: delayed):\n",
    "    \"\"\" Compute all elements in list\n",
    "    \n",
    "    :param vis_graph_list:\n",
    "    :return: list\n",
    "    \"\"\"\n",
    "    future = c.compute(vis_graph_list)\n",
    "    return [f.result() for f in future]"
   ]
  },
  {
   "cell_type": "code",
   "execution_count": 8,
   "metadata": {
    "collapsed": true,
    "scrolled": false
   },
   "outputs": [],
   "source": [
    "predicted_vis_graph_list = create_predict_gleam_model_graph(vis_graph_list, \n",
    "                                                            vis_slices=advice['vis_slices'])\n",
    "\n",
    "predicted_vis_graph_list = compute_list(c, predicted_vis_graph_list)"
   ]
  },
  {
   "cell_type": "markdown",
   "metadata": {},
   "source": [
    "Compute the data sets so the work does not show up in our subsequent graphs"
   ]
  },
  {
   "cell_type": "code",
   "execution_count": null,
   "metadata": {
    "collapsed": true
   },
   "outputs": [],
   "source": [
    "corrupted_vis_graph_list = create_predict_gleam_model_graph(vis_graph_list, \n",
    "                                                            vis_slices=advice['vis_slices'],\n",
    "                                                            phase_error=1.0)\n",
    "corrupted_vis_graph_list=compute_list(c, corrupted_vis_graph_list)"
   ]
  },
  {
   "cell_type": "markdown",
   "metadata": {},
   "source": [
    "Get the LSM. This is currently blank."
   ]
  },
  {
   "cell_type": "code",
   "execution_count": null,
   "metadata": {
    "collapsed": true,
    "scrolled": false
   },
   "outputs": [],
   "source": [
    "def get_LSM(vt, npixel = 512, cellsize=0.001, reffrequency=[1e8]):\n",
    "    model = create_image_from_visibility(vt, npixel=npixel, cellsize=cellsize, \n",
    "                                         npol=1, frequency=reffrequency,\n",
    "                                         polarisation_frame=PolarisationFrame(\"stokesI\"))\n",
    "    return model\n",
    "\n",
    "model_graph=delayed(get_LSM)(vis_graph_list[len(vis_graph_list)//2])"
   ]
  },
  {
   "cell_type": "markdown",
   "metadata": {},
   "source": [
    "Create a graph to make the dirty image "
   ]
  },
  {
   "cell_type": "code",
   "execution_count": null,
   "metadata": {
    "collapsed": true,
    "scrolled": false
   },
   "outputs": [],
   "source": [
    "dirty_graph = create_invert_wstack_graph(predicted_vis_graph_list, model_graph, \n",
    "                                         vis_slices=advice['vis_slices'], dopsf=False)"
   ]
  },
  {
   "cell_type": "code",
   "execution_count": null,
   "metadata": {
    "collapsed": true,
    "scrolled": false
   },
   "outputs": [],
   "source": [
    "dirty=dirty_graph.compute()\n",
    "show_image(dirty[0])\n",
    "plt.show()"
   ]
  },
  {
   "cell_type": "code",
   "execution_count": null,
   "metadata": {
    "collapsed": true
   },
   "outputs": [],
   "source": [
    "continuum_imaging_graph = \\\n",
    "    create_continuum_imaging_pipeline_graph(predicted_vis_graph_list, \n",
    "                                            model_graph=model_graph, \n",
    "                                            c_deconvolve_graph=create_deconvolve_facet_graph,\n",
    "                                            facets=1,\n",
    "                                            c_invert_graph=create_invert_wstack_graph,\n",
    "                                            c_residual_graph=create_residual_wstack_graph,\n",
    "                                            vis_slices=advice['vis_slices'], \n",
    "                                            algorithm='hogbom', niter=1000, \n",
    "                                            fractional_threshold=0.1,\n",
    "                                            threshold=0.1, nmajor=5, gain=0.1)"
   ]
  },
  {
   "cell_type": "code",
   "execution_count": null,
   "metadata": {
    "collapsed": true
   },
   "outputs": [],
   "source": [
    "future=c.compute(continuum_imaging_graph)"
   ]
  },
  {
   "cell_type": "code",
   "execution_count": null,
   "metadata": {
    "collapsed": true,
    "scrolled": false
   },
   "outputs": [],
   "source": [
    "deconvolved = future.result()[0]\n",
    "residual = future.result()[1]\n",
    "restored = future.result()[2]\n",
    "\n",
    "f=show_image(deconvolved, title='Clean image - no selfcal')\n",
    "print(qa_image(deconvolved, context='Clean image - no selfcal'))\n",
    "\n",
    "plt.show()\n",
    "\n",
    "f=show_image(restored, title='Restored clean image - no selfcal')\n",
    "print(qa_image(restored, context='Restored clean image - no selfcal'))\n",
    "plt.show()\n",
    "export_image_to_fits(restored, '%s/imaging-dask_continuum_imaging_restored.fits' \n",
    "                     %(results_dir))\n",
    "\n",
    "f=show_image(residual[0], title='Residual clean image - no selfcal')\n",
    "print(qa_image(residual[0], context='Residual clean image - no selfcal'))\n",
    "plt.show()\n",
    "export_image_to_fits(residual[0], '%s/imaging-dask_continuum_imaging_residual.fits' \n",
    "                     %(results_dir))"
   ]
  },
  {
   "cell_type": "code",
   "execution_count": null,
   "metadata": {
    "collapsed": true
   },
   "outputs": [],
   "source": [
    "ical_graph = create_ical_pipeline_graph(corrupted_vis_graph_list, \n",
    "                                        model_graph=model_graph,  \n",
    "                                        c_deconvolve_graph=create_deconvolve_facet_graph,\n",
    "                                        c_invert_graph=create_invert_wstack_graph,\n",
    "                                        c_residual_graph=create_residual_wstack_graph,\n",
    "                                        vis_slices=vis_slices, \n",
    "                                        algorithm='hogbom', niter=1000, \n",
    "                                        fractional_threshold=0.1,\n",
    "                                        threshold=0.1, nmajor=5, \n",
    "                                        gain=0.1, first_selfcal=1)"
   ]
  },
  {
   "cell_type": "code",
   "execution_count": null,
   "metadata": {
    "collapsed": true,
    "scrolled": true
   },
   "outputs": [],
   "source": [
    "future=c.compute(ical_graph)\n",
    "deconvolved = future.result()[0]\n",
    "residual = future.result()[1]\n",
    "restored = future.result()[2]\n",
    "\n",
    "f=show_image(deconvolved, title='Clean image')\n",
    "print(qa_image(deconvolved, context='Clean image'))\n",
    "plt.show()\n",
    "\n",
    "f=show_image(restored, title='Restored clean image')\n",
    "print(qa_image(restored, context='Restored clean image'))\n",
    "plt.show()\n",
    "export_image_to_fits(restored, '%s/imaging-dask_ical_restored.fits' \n",
    "                     %(results_dir))\n",
    "\n",
    "\n",
    "\n",
    "f=show_image(residual[0], title='Residual clean image')\n",
    "print(qa_image(residual[0], context='Residual clean image'))\n",
    "plt.show()\n",
    "export_image_to_fits(residual[0], '%s/imaging-dask_ical_residual.fits' \n",
    "                     %(results_dir))"
   ]
  },
  {
   "cell_type": "code",
   "execution_count": null,
   "metadata": {
    "collapsed": true,
    "scrolled": true
   },
   "outputs": [],
   "source": [
    "c.shutdown()"
   ]
  },
  {
   "cell_type": "code",
   "execution_count": null,
   "metadata": {
    "collapsed": true
   },
   "outputs": [],
   "source": [
    ""
   ]
  }
 ],
 "metadata": {
  "kernelspec": {
   "display_name": "Python 3",
   "language": "python",
   "name": "python3"
  },
  "language_info": {
   "codemirror_mode": {
    "name": "ipython",
    "version": 3.0
   },
   "file_extension": ".py",
   "mimetype": "text/x-python",
   "name": "python",
   "nbconvert_exporter": "python",
   "pygments_lexer": "ipython3",
   "version": "3.6.1"
  }
 },
 "nbformat": 4,
 "nbformat_minor": 0
}