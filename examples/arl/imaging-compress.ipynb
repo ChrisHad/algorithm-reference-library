{
 "cells": [
  {
   "cell_type": "markdown",
   "metadata": {},
   "source": [
    "# Investigation of compression for LOW data"
   ]
  },
  {
   "cell_type": "markdown",
   "metadata": {},
   "source": [
    "Baseline dependent averaging is a form of data compression. In this script, we use a gridded approach to BDA. We create a critically sampled snapshot of a LOW data set, and then compress and decompress it to see what errors result."
   ]
  },
  {
   "cell_type": "code",
   "execution_count": null,
   "metadata": {
    "collapsed": false
   },
   "outputs": [],
   "source": [
    "%matplotlib inline\n",
    "\n",
    "import os\n",
    "import sys\n",
    "\n",
    "from time import clock\n",
    "\n",
    "sys.path.append(os.path.join('..', '..'))\n",
    "\n",
    "from matplotlib import pylab\n",
    "\n",
    "pylab.rcParams['agg.path.chunksize'] = 10000\n",
    "pylab.rcParams['figure.figsize'] = (10.0, 10.0)\n",
    "pylab.rcParams['image.cmap'] = 'rainbow'\n",
    "\n",
    "import numpy\n",
    "\n",
    "from astropy.coordinates import SkyCoord\n",
    "from astropy import units as u\n",
    "from astropy import constants as const\n",
    "from astropy.wcs.utils import pixel_to_skycoord\n",
    "\n",
    "from matplotlib import pyplot as plt\n",
    "from matplotlib.pyplot import cm \n",
    "\n",
    "from arl.visibility.operations import create_visibility\n",
    "from arl.skymodel.operations import create_skycomponent, insert_skycomponent\n",
    "from arl.image.operations import show_image, export_image_to_fits, qa_image, create_image_from_array, reproject_image\n",
    "from arl.fourier_transforms.fft_support import extract_mid\n",
    "from arl.visibility.compress import compress_visibility, decompress_visibility\n",
    "from arl.image.iterators import raster_iter\n",
    "from arl.visibility.iterators import vis_timeslice_iter\n",
    "from arl.util.testing_support import create_named_configuration\n",
    "from arl.fourier_transforms.ftprocessor import *\n",
    "\n",
    "import logging\n",
    "log = logging.getLogger()\n",
    "log.setLevel(logging.DEBUG)\n",
    "log.addHandler(logging.StreamHandler(sys.stdout))"
   ]
  },
  {
   "cell_type": "markdown",
   "metadata": {},
   "source": [
    "Construct the SKA1-LOW configuration"
   ]
  },
  {
   "cell_type": "code",
   "execution_count": null,
   "metadata": {
    "collapsed": false
   },
   "outputs": [],
   "source": [
    "low = create_named_configuration('LOWBD2')"
   ]
  },
  {
   "cell_type": "code",
   "execution_count": null,
   "metadata": {
    "collapsed": false
   },
   "outputs": [],
   "source": [
    "oversampling = 2\n",
    "sampling_time = 35.0 / (oversampling * 8e4)\n",
    "log.info(\"Critical sampling time = %.5f (radians) %.2f (seconds)\" % \n",
    "         (sampling_time, sampling_time * 43200.0 / numpy.pi))\n",
    "sampling_frequency = 1e8 * 35.0 / (oversampling * 8e4) \n",
    "log.info(\"Critical sampling frequency = %.5f (Hz) \" % (sampling_frequency))\n",
    "times = numpy.arange(- sampling_time, + 1.01 * sampling_time, sampling_time)\n",
    "frequency = numpy.linspace(1e8 - sampling_frequency, 1e8 + sampling_frequency, 3)\n",
    "print(\"Observing frequencies %s Hz\" % (frequency))"
   ]
  },
  {
   "cell_type": "markdown",
   "metadata": {},
   "source": [
    "We create the visibility holding the vis, uvw, time, antenna1, antenna2, weight columns in a table. The actual visibility values are zero."
   ]
  },
  {
   "cell_type": "code",
   "execution_count": null,
   "metadata": {
    "collapsed": false
   },
   "outputs": [],
   "source": [
    "reffrequency = numpy.max(frequency)\n",
    "phasecentre = SkyCoord(ra=+180.0 * u.deg, dec=-60.0 * u.deg, frame='icrs', equinox=2000.0)\n",
    "vt = create_visibility(low, times, frequency, weight=1.0, phasecentre=phasecentre, npol=1)"
   ]
  },
  {
   "cell_type": "code",
   "execution_count": null,
   "metadata": {
    "collapsed": false,
    "scrolled": false
   },
   "outputs": [],
   "source": [
    "plt.clf()\n",
    "for chan in range(len(frequency)):\n",
    "    plt.plot(+vt.uvw_lambda(chan)[:,0], +vt.uvw_lambda(chan)[:,1], '.', color='r')\n",
    "    plt.plot(-vt.uvw_lambda(chan)[:,0], -vt.uvw_lambda(chan)[:,1], '.', color='b')\n",
    "plt.title('Original uv coverage')\n",
    "plt.xlabel('U (m)')\n",
    "plt.ylabel('V (m)')\n",
    "plt.show()"
   ]
  },
  {
   "cell_type": "markdown",
   "metadata": {},
   "source": [
    "Fill the LOW field of view with sources. We create an image just to do the WCS book keeping"
   ]
  },
  {
   "cell_type": "code",
   "execution_count": null,
   "metadata": {
    "collapsed": false,
    "scrolled": false
   },
   "outputs": [],
   "source": [
    "vt.data['vis'] *= 0.0\n",
    "npixel=16384\n",
    "\n",
    "model = create_image_from_visibility(vt, npixel=npixel, cellsize=0.00001, npol=1, nchan=len(frequency))\n",
    "centre = model.wcs.wcs.crpix-1\n",
    "spacing_pixels = npixel // 16\n",
    "log.info('Spacing in pixels = %s' % spacing_pixels)\n",
    "spacing = model.wcs.wcs.cdelt * spacing_pixels\n",
    "locations = [-3.5, -2.5, -1.5, -0.5, 0.5, 1.5, 2.5, 3.5]\n",
    "\n",
    "# We calculate the source positions in pixels and then calculate the\n",
    "# world coordinates to put in the skycomponent description\n",
    "for iy in locations:\n",
    "    for ix in locations:\n",
    "        if ix >= iy:\n",
    "            p = int(round(centre[0] + ix * spacing_pixels * numpy.sign(model.wcs.wcs.cdelt[0]))), \\\n",
    "                int(round(centre[1] + iy * spacing_pixels * numpy.sign(model.wcs.wcs.cdelt[1])))\n",
    "            sc = pixel_to_skycoord(p[0], p[1], model.wcs)\n",
    "            log.info(\"Component at (%f, %f) [0-rel] %s\" % (p[0], p[1], str(sc)))\n",
    "            flux = numpy.array([len(frequency)*[100.0 + 2.0 * ix + iy * 20.0]]).transpose()\n",
    "            comp = create_skycomponent(flux=flux, frequency=frequency, direction=sc)\n",
    "            predict_skycomponent_visibility(vt, comp)"
   ]
  },
  {
   "cell_type": "markdown",
   "metadata": {},
   "source": [
    "Select the shortest uvw points and form a new visibility set. It is this that we will compress using a grid in u,v space."
   ]
  },
  {
   "cell_type": "code",
   "execution_count": null,
   "metadata": {
    "collapsed": false,
    "scrolled": false
   },
   "outputs": [],
   "source": [
    "boundary = 0.01\n",
    "visr = numpy.sqrt(vt.u**2+vt.v**2)\n",
    "uvmax = numpy.max(visr)\n",
    "inner_rows = (numpy.abs(visr)  < boundary * uvmax)\n",
    "vts = create_visibility_from_rows(vt, inner_rows)\n",
    "plt.clf()\n",
    "plt.plot(vts.u, vts.v, '.')\n",
    "plt.title('Original inner uv coverage')\n",
    "plt.xlabel('U (m)')\n",
    "plt.ylabel('V (m)')\n",
    "\n",
    "plt.show()"
   ]
  },
  {
   "cell_type": "markdown",
   "metadata": {},
   "source": [
    "Create a model to serve as the image specification for the compression. We set the cellsize correspondingly larger so that the sampling of the grid in uv is much finer."
   ]
  },
  {
   "cell_type": "code",
   "execution_count": null,
   "metadata": {
    "collapsed": false,
    "scrolled": false
   },
   "outputs": [],
   "source": [
    "errors = []\n",
    "signals = []\n",
    "t_compresses = []\n",
    "t_decompresses = []\n",
    "\n",
    "npixels = [128, 256, 512, 1024, 2048, 4096, 8192]\n",
    "\n",
    "for npixel in npixels:\n",
    "    model = create_image_from_visibility(vts, npixel=npixel, npol=1, image_nchan=1, cellsize=0.00001/boundary)\n",
    "\n",
    "    ts = clock()\n",
    "    cvts = compress_visibility(vts, model)\n",
    "    t_compress = clock() - ts\n",
    "    t_compresses.append(t_compress)\n",
    "    log.debug(\"Compression using npixel = %d took %.1f seconds\" % (npixel, t_compress))\n",
    "\n",
    "\n",
    "    plt.clf()\n",
    "    plt.plot(cvts.u, cvts.v, '.')\n",
    "    plt.title('Compressed uv coverage')\n",
    "    plt.xlabel('U (m)')\n",
    "    plt.ylabel('V (m)')\n",
    "    plt.show()\n",
    "\n",
    "    template_vis = copy.deepcopy(vts)\n",
    "    template_vis.data['vis']*=0.0\n",
    "    ts = clock()\n",
    "    dcvts = decompress_visibility(cvts, template_vis, model)\n",
    "    t_decompress = clock() - ts\n",
    "    t_decompresses.append(t_decompress)\n",
    "    log.debug(\"Decompression using npixel = %d took %.1f seconds\" % (npixel, t_decompress))\n",
    "\n",
    "\n",
    "    plt.clf()\n",
    "    signal = numpy.sqrt(numpy.average(numpy.abs(vts.vis[...,0,0])**2))\n",
    "    error  = numpy.sqrt(numpy.average(numpy.abs(vts.vis[...,0,0]-dcvts.vis[...,0,0])))\n",
    "    signals.append(signal)\n",
    "    errors.append(error)\n",
    "    plt.plot(vts.vis[...,0,0].real, vts.vis[...,0,0].imag, '.', color='g', label='Visibility')\n",
    "    plt.plot(vts.vis[...,0,0].real - dcvts.vis[...,0,0].real,  \n",
    "         vts.vis[...,0,0].imag - dcvts.vis[...,0,0].imag, '.', color='r', label='Error in recovery')\n",
    "    plt.title(\"Error in visibility recovery: npixel %d rms signal, error = %.2f, %.2f\" % (npixel, signal, error))\n",
    "    plt.xlabel('Real part of error')\n",
    "    plt.ylabel('Imaginary part of error')\n",
    "    plt.show()\n",
    "\n"
   ]
  },
  {
   "cell_type": "code",
   "execution_count": null,
   "metadata": {
    "collapsed": false
   },
   "outputs": [],
   "source": [
    "plt.clf()\n",
    "plt.semilogy(npixels, errors, color='r', label='RMS Error')\n",
    "plt.semilogy(npixels, signals, color='b', label='RMS Visibility')\n",
    "plt.title('RMS compression/decompression')\n",
    "plt.xlabel('Number of pixels')\n",
    "plt.ylabel('RMS')\n",
    "plt.legend()\n",
    "plt.show()\n",
    "plt.semilogy(npixels, t_compresses, color='r', label='compression')\n",
    "plt.semilogy(npixels, t_decompresses, color='b', label='decompression')\n",
    "plt.legend()\n",
    "plt.title('Time for compression and decompression')\n",
    "plt.xlabel('Number of pixels')\n",
    "plt.ylabel('Time (s)')\n",
    "\n",
    "plt.show()\n",
    "\n"
   ]
  },
  {
   "cell_type": "code",
   "execution_count": null,
   "metadata": {
    "collapsed": true
   },
   "outputs": [],
   "source": []
  }
 ],
 "metadata": {
  "kernelspec": {
   "display_name": "Python 3",
   "language": "python",
   "name": "python3"
  },
  "language_info": {
   "codemirror_mode": {
    "name": "ipython",
    "version": 3
   },
   "file_extension": ".py",
   "mimetype": "text/x-python",
   "name": "python",
   "nbconvert_exporter": "python",
   "pygments_lexer": "ipython3",
   "version": "3.5.1"
  },
  "widgets": {
   "state": {},
   "version": "1.1.2"
  }
 },
 "nbformat": 4,
 "nbformat_minor": 0
}
