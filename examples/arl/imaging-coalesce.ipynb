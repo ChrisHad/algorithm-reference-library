{
 "cells": [
  {
   "cell_type": "markdown",
   "metadata": {},
   "source": [
    "# Investigation of coalesence for LOW data"
   ]
  },
  {
   "cell_type": "markdown",
   "metadata": {},
   "source": [
    "Baseline dependent averaging is a form of data coalescence. In this script, we create a critically sampled snapshot of a LOW data set, and then coalesce and decoalesce it to see what errors result. We look at the time required for all steps."
   ]
  },
  {
   "cell_type": "code",
   "execution_count": 1,
   "metadata": {},
   "outputs": [],
   "source": [
    "%matplotlib inline\n",
    "\n",
    "import os\n",
    "import sys\n",
    "\n",
    "from matplotlib import pylab\n",
    "\n",
    "pylab.rcParams['agg.path.chunksize'] = 10000\n",
    "pylab.rcParams['figure.figsize'] = (12.0, 12.0)\n",
    "pylab.rcParams['image.cmap'] = 'rainbow'\n",
    "\n",
    "import numpy\n",
    "\n",
    "from astropy.convolution import Gaussian2DKernel, convolve\n",
    "\n",
    "from astropy.coordinates import SkyCoord\n",
    "from astropy import units as u\n",
    "from astropy import constants as const\n",
    "from astropy.wcs.utils import pixel_to_skycoord\n",
    "\n",
    "from matplotlib import pyplot as plt\n",
    "from matplotlib.pyplot import cm \n",
    "\n",
    "from arl.data.polarisation import PolarisationFrame\n",
    "from arl.visibility.base import create_blockvisibility, copy_visibility\n",
    "from arl.skycomponent.operations import create_skycomponent, insert_skycomponent, apply_beam_to_skycomponent\n",
    "from arl.image.operations import show_image, smooth_image\n",
    "from arl.imaging.base import create_image_from_visibility, predict_skycomponent_visibility \n",
    "from arl.fourier_transforms.fft_support import extract_mid\n",
    "from arl.visibility.coalesce import coalesce_visibility, decoalesce_visibility\n",
    "from arl.image.iterators import image_raster_iter\n",
    "from arl.visibility.iterators import vis_timeslice_iter\n",
    "from arl.util.testing_support import create_named_configuration, create_low_test_beam, \\\n",
    "    create_low_test_skycomponents_from_gleam\n",
    "from arl.imaging import *\n",
    "\n",
    "import logging\n",
    "log = logging.getLogger()\n",
    "log.setLevel(logging.DEBUG)\n",
    "log.addHandler(logging.StreamHandler(sys.stdout))"
   ]
  },
  {
   "cell_type": "markdown",
   "metadata": {},
   "source": [
    "Construct the configuration and fill in the appropriate sampling values"
   ]
  },
  {
   "cell_type": "code",
   "execution_count": 2,
   "metadata": {},
   "outputs": [
    {
     "name": "stdout",
     "output_type": "stream",
     "text": [
      "Critical sampling time = 0.00027 (radians) 3.76 (seconds)\n"
     ]
    },
    {
     "name": "stdout",
     "output_type": "stream",
     "text": [
      "Critical sampling frequency = 27343.75000 (Hz) \n"
     ]
    },
    {
     "name": "stdout",
     "output_type": "stream",
     "text": [
      "Observing frequencies [  9.99726562e+07   1.00000000e+08   1.00027344e+08] Hz\n"
     ]
    },
    {
     "name": "stdout",
     "output_type": "stream",
     "text": [
      "Cellsize = 0.001000 radians\n"
     ]
    }
   ],
   "source": [
    "config = 'core'\n",
    "if config == 'full':\n",
    "    low = create_named_configuration('LOWBD2')\n",
    "    b = 8e4\n",
    "    cellsize = 0.00001\n",
    "    npixel=8192\n",
    "    nsnapshots = 30\n",
    "\n",
    "else:\n",
    "    low = create_named_configuration('LOWBD2-CORE')\n",
    "    b = 4e3\n",
    "    cellsize = 0.001\n",
    "    npixel=512\n",
    "    nsnapshots = 300\n",
    "\n",
    "    \n",
    "oversampling = 32\n",
    "\n",
    "sampling_time = 35.0 / (oversampling * b)\n",
    "log.info(\"Critical sampling time = %.5f (radians) %.2f (seconds)\" % \n",
    "         (sampling_time, sampling_time * 43200.0 / numpy.pi))\n",
    "sampling_frequency = 1e8 * 35.0 / (oversampling * b) \n",
    "log.info(\"Critical sampling frequency = %.5f (Hz) \" % (sampling_frequency))\n",
    "times = numpy.arange(0.0, + nsnapshots * sampling_time, sampling_time)\n",
    "frequency = numpy.linspace(1e8 - sampling_frequency, 1e8 + sampling_frequency, 3)\n",
    "channel_bandwidth = numpy.full_like(frequency, sampling_frequency)\n",
    "\n",
    "log.info(\"Observing frequencies %s Hz\" % (frequency))\n",
    "\n",
    "log.info(\"Cellsize = %.6f radians\" % (cellsize))"
   ]
  },
  {
   "cell_type": "markdown",
   "metadata": {},
   "source": [
    "We create the visibility holding the vis, uvw, time, antenna1, antenna2, weight columns in a table. The actual visibility values are zero."
   ]
  },
  {
   "cell_type": "code",
   "execution_count": 3,
   "metadata": {
    "scrolled": false
   },
   "outputs": [
    {
     "name": "stdout",
     "output_type": "stream",
     "text": [
      "create_blockvisibility: 300 rows, 0.739 GB\n"
     ]
    }
   ],
   "source": [
    "phasecentre = SkyCoord(ra=+355.0 * u.deg, dec=-10.0 * u.deg, frame='icrs', equinox='J2000')\n",
    "vt = create_blockvisibility(low, times, frequency, channel_bandwidth=channel_bandwidth,\n",
    "                       weight=1.0, phasecentre=phasecentre, polarisation_frame=PolarisationFrame('stokesI'))"
   ]
  },
  {
   "cell_type": "markdown",
   "metadata": {},
   "source": [
    "Create components from GLEAM "
   ]
  },
  {
   "cell_type": "code",
   "execution_count": 4,
   "metadata": {},
   "outputs": [
    {
     "name": "stdout",
     "output_type": "stream",
     "text": [
      "create_low_test_skycomponents_from_gleam: 74 sources above flux limit 5.000\n"
     ]
    }
   ],
   "source": [
    "comps = create_low_test_skycomponents_from_gleam(flux_limit=5.0, polarisation_frame=PolarisationFrame(\"stokesI\"),\n",
    "                                             frequency=frequency, phasecentre=phasecentre, radius=0.5)"
   ]
  },
  {
   "cell_type": "markdown",
   "metadata": {},
   "source": [
    "Create the low beam and apply it to the components, only those within the field of view."
   ]
  },
  {
   "cell_type": "code",
   "execution_count": 5,
   "metadata": {
    "scrolled": false
   },
   "outputs": [
    {
     "name": "stdout",
     "output_type": "stream",
     "text": [
      "create_image_from_visibility: Parsing parameters to get definition of WCS\n"
     ]
    },
    {
     "name": "stdout",
     "output_type": "stream",
     "text": [
      "create_image_from_visibility: Defining 3 channel Image at <SkyCoord (ICRS): (ra, dec) in deg\n    ( 355., -10.)>, starting frequency 99972656.25 Hz, and bandwidth 27343.749999726562 Hz\n"
     ]
    },
    {
     "name": "stdout",
     "output_type": "stream",
     "text": [
      "create_image_from_visibility: uvmax = 132.219821 wavelengths\n"
     ]
    },
    {
     "name": "stdout",
     "output_type": "stream",
     "text": [
      "create_image_from_visibility: Critical cellsize = 0.003782 radians, 0.216669 degrees\n"
     ]
    },
    {
     "name": "stdout",
     "output_type": "stream",
     "text": [
      "create_image_from_visibility: Cellsize          = 0.001000 radians, 0.057296 degrees\n"
     ]
    },
    {
     "name": "stdout",
     "output_type": "stream",
     "text": [
      "import_image_from_fits: created >f4 image of shape (1, 1, 256, 256), size 0.000 (GB)\n"
     ]
    },
    {
     "name": "stdout",
     "output_type": "stream",
     "text": [
      "import_image_from_fits: Max, min in /Users/timcornwell/Code/algorithm-reference-library/data/models/SKA1_LOW_beam.fits = 0.997918, 0.000000\n"
     ]
    },
    {
     "name": "stdout",
     "output_type": "stream",
     "text": [
      "create_low_test_beam: primary beam is defined at 100.000 MHz\n"
     ]
    },
    {
     "name": "stdout",
     "output_type": "stream",
     "text": [
      "apply_beam_to_skycomponent: Processing 74 components\n"
     ]
    },
    {
     "name": "stdout",
     "output_type": "stream",
     "text": [
      "apply_beam_to_skycomponent: 28 components with total flux [[ 12.08116783]\n [ 12.07359312]\n [ 12.06603449]]\n"
     ]
    },
    {
     "name": "stdout",
     "output_type": "stream",
     "text": [
      "insert_skycomponent: Using insert method Nearest\n"
     ]
    }
   ],
   "source": [
    "model = create_image_from_visibility(vt, npixel=npixel, cellsize=cellsize, frequency=frequency,\n",
    "                                     polarisation_frame=PolarisationFrame('stokesI'),\n",
    "                                     phasecentre=phasecentre, nchan=len(frequency))\n",
    "beam=create_low_test_beam(model)\n",
    "comps = apply_beam_to_skycomponent(comps, beam)\n",
    "model = insert_skycomponent(model, comps)"
   ]
  },
  {
   "cell_type": "code",
   "execution_count": 6,
   "metadata": {},
   "outputs": [
    {
     "data": {
      "image/png": "[encoded data removed]",
      "text/plain": [
       "<matplotlib.figure.Figure at 0x115de7390>"
      ]
     },
     "metadata": {},
     "output_type": "display_data"
    }
   ],
   "source": [
    "show_image(beam)\n",
    "plt.title(\"Beam\")\n",
    "plt.show()"
   ]
  },
  {
   "cell_type": "code",
   "execution_count": 7,
   "metadata": {
    "scrolled": false
   },
   "outputs": [
    {
     "data": {
      "image/png": "[encoded data removed]",
      "text/plain": [
       "<matplotlib.figure.Figure at 0x110979e80>"
      ]
     },
     "metadata": {},
     "output_type": "display_data"
    }
   ],
   "source": [
    "cmodel = smooth_image(model)\n",
    "show_image(cmodel)\n",
    "plt.title(\"Smoothed model image\")\n",
    "plt.show()"
   ]
  },
  {
   "cell_type": "markdown",
   "metadata": {},
   "source": [
    "Since we are using a BlockVisibility, we can only predict the visibility from sky components. "
   ]
  },
  {
   "cell_type": "code",
   "execution_count": 8,
   "metadata": {},
   "outputs": [],
   "source": [
    "vt = predict_skycomponent_blockvisibility(vt, comps)"
   ]
  },
  {
   "cell_type": "markdown",
   "metadata": {},
   "source": [
    "Now we coalesce the data"
   ]
  },
  {
   "cell_type": "code",
   "execution_count": 9,
   "metadata": {
    "scrolled": false
   },
   "outputs": [
    {
     "ename": "KeyboardInterrupt",
     "evalue": "",
     "traceback": [
      "\u001b[0;31m---------------------------------------------------------------------------\u001b[0m",
      "\u001b[0;31mKeyboardInterrupt\u001b[0m                         Traceback (most recent call last)",
      "\u001b[0;32m<ipython-input-9-f0f9ddc6d4a8>\u001b[0m in \u001b[0;36m<module>\u001b[0;34m()\u001b[0m\n\u001b[1;32m      5\u001b[0m \u001b[0;34m\u001b[0m\u001b[0m\n\u001b[1;32m      6\u001b[0m \u001b[0;34m\u001b[0m\u001b[0m\n\u001b[0;32m----> 7\u001b[0;31m \u001b[0mcvt\u001b[0m \u001b[0;34m=\u001b[0m \u001b[0mcoalesce_visibility\u001b[0m\u001b[0;34m(\u001b[0m\u001b[0mvt\u001b[0m\u001b[0;34m,\u001b[0m \u001b[0mtime_coal\u001b[0m\u001b[0;34m=\u001b[0m\u001b[0mtime_coal\u001b[0m\u001b[0;34m,\u001b[0m \u001b[0mfrequency_coal\u001b[0m\u001b[0;34m=\u001b[0m\u001b[0mfrequency_coal\u001b[0m\u001b[0;34m)\u001b[0m\u001b[0;34m\u001b[0m\u001b[0m\n\u001b[0m\u001b[1;32m      8\u001b[0m \u001b[0mplt\u001b[0m\u001b[0;34m.\u001b[0m\u001b[0mclf\u001b[0m\u001b[0;34m(\u001b[0m\u001b[0;34m)\u001b[0m\u001b[0;34m\u001b[0m\u001b[0m\n\u001b[1;32m      9\u001b[0m \u001b[0mplt\u001b[0m\u001b[0;34m.\u001b[0m\u001b[0mplot\u001b[0m\u001b[0;34m(\u001b[0m\u001b[0;34m+\u001b[0m\u001b[0mcvt\u001b[0m\u001b[0;34m.\u001b[0m\u001b[0muvw\u001b[0m\u001b[0;34m[\u001b[0m\u001b[0;34m:\u001b[0m\u001b[0;34m,\u001b[0m\u001b[0;36m0\u001b[0m\u001b[0;34m]\u001b[0m\u001b[0;34m,\u001b[0m\u001b[0;34m+\u001b[0m\u001b[0mcvt\u001b[0m\u001b[0;34m.\u001b[0m\u001b[0muvw\u001b[0m\u001b[0;34m[\u001b[0m\u001b[0;34m:\u001b[0m\u001b[0;34m,\u001b[0m\u001b[0;36m1\u001b[0m\u001b[0;34m]\u001b[0m\u001b[0;34m,\u001b[0m \u001b[0;34m'.'\u001b[0m\u001b[0;34m,\u001b[0m \u001b[0mcolor\u001b[0m\u001b[0;34m=\u001b[0m\u001b[0;34m'b'\u001b[0m\u001b[0;34m)\u001b[0m\u001b[0;34m\u001b[0m\u001b[0m\n",
      "\u001b[0;32m~/Code/algorithm-reference-library/arl/visibility/coalesce.py\u001b[0m in \u001b[0;36mcoalesce_visibility\u001b[0;34m(vis, **kwargs)\u001b[0m\n\u001b[1;32m     61\u001b[0m         = average_in_blocks(vis.data['vis'], vis.data['uvw'], vis.data['weight'], vis.time, vis.integration_time,\n\u001b[1;32m     62\u001b[0m                             \u001b[0mvis\u001b[0m\u001b[0;34m.\u001b[0m\u001b[0mfrequency\u001b[0m\u001b[0;34m,\u001b[0m \u001b[0mvis\u001b[0m\u001b[0;34m.\u001b[0m\u001b[0mchannel_bandwidth\u001b[0m\u001b[0;34m,\u001b[0m \u001b[0mtime_coal\u001b[0m\u001b[0;34m,\u001b[0m \u001b[0mmax_time_coal\u001b[0m\u001b[0;34m,\u001b[0m\u001b[0;34m\u001b[0m\u001b[0m\n\u001b[0;32m---> 63\u001b[0;31m                             frequency_coal, max_frequency_coal)\n\u001b[0m\u001b[1;32m     64\u001b[0m     \u001b[0mcimwt\u001b[0m \u001b[0;34m=\u001b[0m \u001b[0mnumpy\u001b[0m\u001b[0;34m.\u001b[0m\u001b[0mones\u001b[0m\u001b[0;34m(\u001b[0m\u001b[0mcvis\u001b[0m\u001b[0;34m.\u001b[0m\u001b[0mshape\u001b[0m\u001b[0;34m)\u001b[0m\u001b[0;34m\u001b[0m\u001b[0m\n\u001b[1;32m     65\u001b[0m     coalesced_vis = Visibility(uvw=cuvw, time=ctime, frequency=cfrequency,\n",
      "\u001b[0;32m~/Code/algorithm-reference-library/arl/visibility/coalesce.py\u001b[0m in \u001b[0;36maverage_in_blocks\u001b[0;34m(vis, uvw, wts, times, integration_time, frequency, channel_bandwidth, time_coal, max_time_coal, frequency_coal, max_frequency_coal)\u001b[0m\n\u001b[1;32m    258\u001b[0m                     \u001b[0;32mreturn\u001b[0m \u001b[0mresult\u001b[0m\u001b[0;34m[\u001b[0m\u001b[0;36m0\u001b[0m\u001b[0;34m]\u001b[0m \u001b[0;34m*\u001b[0m \u001b[0mresult\u001b[0m\u001b[0;34m[\u001b[0m\u001b[0;36m0\u001b[0m\u001b[0;34m]\u001b[0m\u001b[0;34m.\u001b[0m\u001b[0msize\u001b[0m\u001b[0;34m\u001b[0m\u001b[0m\n\u001b[1;32m    259\u001b[0m \u001b[0;34m\u001b[0m\u001b[0m\n\u001b[0;32m--> 260\u001b[0;31m                 \u001b[0mcintegration_time\u001b[0m\u001b[0;34m[\u001b[0m\u001b[0mrows\u001b[0m\u001b[0;34m]\u001b[0m \u001b[0;34m=\u001b[0m \u001b[0msum_from_grid\u001b[0m\u001b[0;34m(\u001b[0m\u001b[0mintegration_time_grid\u001b[0m\u001b[0;34m)\u001b[0m\u001b[0;34m.\u001b[0m\u001b[0mflatten\u001b[0m\u001b[0;34m(\u001b[0m\u001b[0;34m)\u001b[0m\u001b[0;34m\u001b[0m\u001b[0m\n\u001b[0m\u001b[1;32m    261\u001b[0m                 \u001b[0mcchannel_bandwidth\u001b[0m\u001b[0;34m[\u001b[0m\u001b[0mrows\u001b[0m\u001b[0;34m]\u001b[0m \u001b[0;34m=\u001b[0m \u001b[0msum_from_grid\u001b[0m\u001b[0;34m(\u001b[0m\u001b[0mchannel_bandwidth_grid\u001b[0m\u001b[0;34m)\u001b[0m\u001b[0;34m.\u001b[0m\u001b[0mflatten\u001b[0m\u001b[0;34m(\u001b[0m\u001b[0;34m)\u001b[0m\u001b[0;34m\u001b[0m\u001b[0m\n\u001b[1;32m    262\u001b[0m \u001b[0;34m\u001b[0m\u001b[0m\n",
      "\u001b[0;32m~/Code/algorithm-reference-library/arl/visibility/coalesce.py\u001b[0m in \u001b[0;36msum_from_grid\u001b[0;34m(arr)\u001b[0m\n\u001b[1;32m    255\u001b[0m                 \u001b[0;32mdef\u001b[0m \u001b[0msum_from_grid\u001b[0m\u001b[0;34m(\u001b[0m\u001b[0marr\u001b[0m\u001b[0;34m)\u001b[0m\u001b[0;34m:\u001b[0m\u001b[0;34m\u001b[0m\u001b[0m\n\u001b[1;32m    256\u001b[0m                     result = average_chunks2(arr, allpwtsgrid[:, a2, a1, :],\n\u001b[0;32m--> 257\u001b[0;31m                                              (time_average[a2, a1], frequency_average[a2, a1]))\n\u001b[0m\u001b[1;32m    258\u001b[0m                     \u001b[0;32mreturn\u001b[0m \u001b[0mresult\u001b[0m\u001b[0;34m[\u001b[0m\u001b[0;36m0\u001b[0m\u001b[0;34m]\u001b[0m \u001b[0;34m*\u001b[0m \u001b[0mresult\u001b[0m\u001b[0;34m[\u001b[0m\u001b[0;36m0\u001b[0m\u001b[0;34m]\u001b[0m\u001b[0;34m.\u001b[0m\u001b[0msize\u001b[0m\u001b[0;34m\u001b[0m\u001b[0m\n\u001b[1;32m    259\u001b[0m \u001b[0;34m\u001b[0m\u001b[0m\n",
      "\u001b[0;32m~/Code/algorithm-reference-library/arl/util/array_functions.py\u001b[0m in \u001b[0;36maverage_chunks2\u001b[0;34m(arr, wts, chunksize)\u001b[0m\n\u001b[1;32m     96\u001b[0m     \u001b[0mtempchunks\u001b[0m \u001b[0;34m*=\u001b[0m \u001b[0mtempwt\u001b[0m\u001b[0;34m\u001b[0m\u001b[0m\n\u001b[1;32m     97\u001b[0m     \u001b[0;32mfor\u001b[0m \u001b[0mi\u001b[0m \u001b[0;32min\u001b[0m \u001b[0mrange\u001b[0m\u001b[0;34m(\u001b[0m\u001b[0marr\u001b[0m\u001b[0;34m.\u001b[0m\u001b[0mshape\u001b[0m\u001b[0;34m[\u001b[0m\u001b[0;36m0\u001b[0m\u001b[0;34m]\u001b[0m\u001b[0;34m)\u001b[0m\u001b[0;34m:\u001b[0m\u001b[0;34m\u001b[0m\u001b[0m\n\u001b[0;32m---> 98\u001b[0;31m         \u001b[0mresult\u001b[0m \u001b[0;34m=\u001b[0m \u001b[0maverage_chunks\u001b[0m\u001b[0;34m(\u001b[0m\u001b[0marr\u001b[0m\u001b[0;34m[\u001b[0m\u001b[0mi\u001b[0m\u001b[0;34m,\u001b[0m \u001b[0;34m:\u001b[0m\u001b[0;34m]\u001b[0m\u001b[0;34m,\u001b[0m \u001b[0mwts\u001b[0m\u001b[0;34m[\u001b[0m\u001b[0mi\u001b[0m\u001b[0;34m,\u001b[0m \u001b[0;34m:\u001b[0m\u001b[0;34m]\u001b[0m\u001b[0;34m,\u001b[0m \u001b[0mchunksize\u001b[0m\u001b[0;34m[\u001b[0m\u001b[0;36m1\u001b[0m\u001b[0;34m]\u001b[0m\u001b[0;34m)\u001b[0m\u001b[0;34m\u001b[0m\u001b[0m\n\u001b[0m\u001b[1;32m     99\u001b[0m         \u001b[0mtempchunks\u001b[0m\u001b[0;34m[\u001b[0m\u001b[0mi\u001b[0m\u001b[0;34m,\u001b[0m \u001b[0;34m:\u001b[0m\u001b[0;34m]\u001b[0m\u001b[0;34m,\u001b[0m \u001b[0mtempwt\u001b[0m\u001b[0;34m[\u001b[0m\u001b[0mi\u001b[0m\u001b[0;34m,\u001b[0m \u001b[0;34m:\u001b[0m\u001b[0;34m]\u001b[0m \u001b[0;34m=\u001b[0m \u001b[0mresult\u001b[0m\u001b[0;34m[\u001b[0m\u001b[0;36m0\u001b[0m\u001b[0;34m]\u001b[0m\u001b[0;34m.\u001b[0m\u001b[0mflatten\u001b[0m\u001b[0;34m(\u001b[0m\u001b[0;34m)\u001b[0m\u001b[0;34m,\u001b[0m \u001b[0mresult\u001b[0m\u001b[0;34m[\u001b[0m\u001b[0;36m1\u001b[0m\u001b[0;34m]\u001b[0m\u001b[0;34m.\u001b[0m\u001b[0mflatten\u001b[0m\u001b[0;34m(\u001b[0m\u001b[0;34m)\u001b[0m\u001b[0;34m\u001b[0m\u001b[0m\n\u001b[1;32m    100\u001b[0m \u001b[0;34m\u001b[0m\u001b[0m\n",
      "\u001b[0;31mKeyboardInterrupt\u001b[0m: "
     ],
     "output_type": "error"
    }
   ],
   "source": [
    "time_coal=1.0\n",
    "max_time_coal=100\n",
    "frequency_coal=0.0\n",
    "max_frequency_coal=1\n",
    "\n",
    "\n",
    "cvt = coalesce_visibility(vt, time_coal=time_coal, frequency_coal=frequency_coal)\n",
    "plt.clf()\n",
    "plt.plot(+cvt.uvw[:,0],+cvt.uvw[:,1], '.', color='b')\n",
    "plt.plot(-cvt.uvw[:,0],-cvt.uvw[:,1], '.', color='b')\n",
    "plt.title('Coalesced uv coverage')\n",
    "plt.xlabel('U (lambda)')\n",
    "plt.ylabel('V (lambda)')\n",
    "plt.show()"
   ]
  },
  {
   "cell_type": "markdown",
   "metadata": {},
   "source": [
    "Check that we did not coalesce in frequency and that we did in time"
   ]
  },
  {
   "cell_type": "code",
   "execution_count": null,
   "metadata": {},
   "outputs": [],
   "source": [
    "numpy.unique(cvt.frequency)==vt.frequency"
   ]
  },
  {
   "cell_type": "code",
   "execution_count": null,
   "metadata": {},
   "outputs": [],
   "source": [
    "numpy.unique(cvt.time).size > vt.time.size"
   ]
  },
  {
   "cell_type": "markdown",
   "metadata": {},
   "source": [
    "Make the dirty image from coalesced data"
   ]
  },
  {
   "cell_type": "code",
   "execution_count": null,
   "metadata": {
    "scrolled": false
   },
   "outputs": [],
   "source": [
    "dirtyimage, sumwt = invert_2d(cvt, model)"
   ]
  },
  {
   "cell_type": "code",
   "execution_count": null,
   "metadata": {},
   "outputs": [],
   "source": [
    "show_image(dirtyimage, cm='rainbow')\n",
    "plt.title('Coalesced data image')\n",
    "plt.show()"
   ]
  },
  {
   "cell_type": "code",
   "execution_count": null,
   "metadata": {},
   "outputs": [],
   "source": [
    "cvtpred = copy_visibility(cvt, zero=True)\n",
    "cvtpred.data['vis'][...] = 0.0\n",
    "cvtpred = predict_skycomponent_visibility(cvtpred, comps)"
   ]
  },
  {
   "cell_type": "code",
   "execution_count": null,
   "metadata": {
    "scrolled": false
   },
   "outputs": [],
   "source": [
    "plt.clf()\n",
    "plt.plot(vt.vis.real.flatten(), vt.vis.imag.flatten(), '.', color='g', label='BlockVisibility')\n",
    "plt.xlabel('Real')\n",
    "plt.ylabel('Imaginary')\n",
    "plt.title('Original visibility')\n",
    "plt.legend()\n",
    "plt.show()\n",
    "\n",
    "plt.clf()\n",
    "plt.plot(cvt.vis.real.flatten()-cvtpred.vis.real.flatten(), \n",
    "         cvt.vis.imag.flatten()-cvtpred.vis.imag.flatten(), '.', color='r', label='Error')\n",
    "plt.title('Error between coalesce/predict and predict/coalesce')\n",
    "plt.xlabel('Real')\n",
    "plt.ylabel('Imaginary')\n",
    "plt.legend()\n",
    "plt.show()"
   ]
  },
  {
   "cell_type": "code",
   "execution_count": null,
   "metadata": {
    "collapsed": true
   },
   "outputs": [],
   "source": [
    ""
   ]
  },
  {
   "cell_type": "code",
   "execution_count": null,
   "metadata": {
    "collapsed": true
   },
   "outputs": [],
   "source": [
    ""
   ]
  }
 ],
 "metadata": {
  "kernelspec": {
   "display_name": "Python 3",
   "language": "python",
   "name": "python3"
  },
  "language_info": {
   "codemirror_mode": {
    "name": "ipython",
    "version": 3
   },
   "file_extension": ".py",
   "mimetype": "text/x-python",
   "name": "python",
   "nbconvert_exporter": "python",
   "pygments_lexer": "ipython3",
   "version": "3.6.1"
  }
 },
 "nbformat": 4,
 "nbformat_minor": 0
}
