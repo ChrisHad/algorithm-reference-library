{
 "cells": [
  {
   "cell_type": "markdown",
   "metadata": {},
   "source": [
    "# Investigation of coalesence for LOW data"
   ]
  },
  {
   "cell_type": "markdown",
   "metadata": {},
   "source": [
    "Baseline dependent averaging is a form of data coalescence. In this script, we create a critically sampled snapshot of a LOW data set, and then coalesce and decoalesce it to see what errors result. We look at the time required for all steps."
   ]
  },
  {
   "cell_type": "code",
   "execution_count": null,
   "metadata": {
    "collapsed": false
   },
   "outputs": [],
   "source": [
    "%matplotlib inline\n",
    "\n",
    "import os\n",
    "import sys\n",
    "\n",
    "from time import clock\n",
    "\n",
    "sys.path.append(os.path.join('..', '..'))\n",
    "\n",
    "from matplotlib import pylab\n",
    "\n",
    "pylab.rcParams['agg.path.chunksize'] = 10000\n",
    "pylab.rcParams['figure.figsize'] = (12.0, 12.0)\n",
    "pylab.rcParams['image.cmap'] = 'rainbow'\n",
    "\n",
    "import numpy\n",
    "\n",
    "from astropy.convolution import Gaussian2DKernel, convolve\n",
    "\n",
    "from astropy.coordinates import SkyCoord\n",
    "from astropy import units as u\n",
    "from astropy import constants as const\n",
    "from astropy.wcs.utils import pixel_to_skycoord\n",
    "\n",
    "from matplotlib import pyplot as plt\n",
    "from matplotlib.pyplot import cm \n",
    "\n",
    "from arl.visibility.operations import create_visibility, vis_summary, copy_visibility\n",
    "from arl.skymodel.operations import create_skycomponent, insert_skycomponent\n",
    "from arl.image.operations import show_image, export_image_to_fits, import_image_from_fits, qa_image, \\\n",
    "    create_image_from_array, reproject_image, copy_image\n",
    "from arl.fourier_transforms.fft_support import extract_mid\n",
    "from arl.visibility.coalesce import coalesce_visibility, decoalesce_visibility\n",
    "from arl.image.iterators import raster_iter\n",
    "from arl.visibility.iterators import vis_timeslice_iter\n",
    "from arl.util.testing_support import create_named_configuration, create_low_test_image, create_low_test_beam\n",
    "from arl.fourier_transforms.ftprocessor import *\n",
    "\n",
    "import logging\n",
    "log = logging.getLogger()\n",
    "log.setLevel(logging.DEBUG)\n",
    "log.addHandler(logging.StreamHandler(sys.stdout))"
   ]
  },
  {
   "cell_type": "markdown",
   "metadata": {},
   "source": [
    "Construct the configuration and fill in the appropriate sampling values"
   ]
  },
  {
   "cell_type": "code",
   "execution_count": null,
   "metadata": {
    "collapsed": false
   },
   "outputs": [],
   "source": [
    "config = 'core'\n",
    "if config == 'full':\n",
    "    low = create_named_configuration('LOWBD2')\n",
    "    b = 8e4\n",
    "    cellsize = 0.00001\n",
    "    npixel=8192\n",
    "    nsnapshots = 30\n",
    "\n",
    "else:\n",
    "    low = create_named_configuration('LOWBD2-CORE')\n",
    "    b = 4e3\n",
    "    cellsize = 0.001\n",
    "    npixel=256\n",
    "    nsnapshots = 300\n",
    "\n",
    "    \n",
    "oversampling = 32\n",
    "\n",
    "sampling_time = 35.0 / (oversampling * b)\n",
    "log.info(\"Critical sampling time = %.5f (radians) %.2f (seconds)\" % \n",
    "         (sampling_time, sampling_time * 43200.0 / numpy.pi))\n",
    "sampling_frequency = 1e8 * 35.0 / (oversampling * b) \n",
    "log.info(\"Critical sampling frequency = %.5f (Hz) \" % (sampling_frequency))\n",
    "times = numpy.arange(0.0, + nsnapshots * sampling_time, sampling_time)\n",
    "frequency = numpy.linspace(1e8 - sampling_frequency, 1e8 + sampling_frequency, 3)\n",
    "\n",
    "log.info(\"Observing frequencies %s Hz\" % (frequency))\n",
    "\n",
    "log.info(\"Cellsize = %.6f radians\" % (cellsize))"
   ]
  },
  {
   "cell_type": "markdown",
   "metadata": {},
   "source": [
    "We create the visibility holding the vis, uvw, time, antenna1, antenna2, weight columns in a table. The actual visibility values are zero."
   ]
  },
  {
   "cell_type": "code",
   "execution_count": null,
   "metadata": {
    "collapsed": false
   },
   "outputs": [],
   "source": [
    "phasecentre = SkyCoord(ra=+0.0 * u.deg, dec=-26.7 * u.deg, frame='icrs', equinox=2000.0)\n",
    "vt = create_visibility(low, times, frequency, weight=1.0, phasecentre=phasecentre, npol=1)"
   ]
  },
  {
   "cell_type": "markdown",
   "metadata": {},
   "source": [
    "Create the standard LOW test image"
   ]
  },
  {
   "cell_type": "code",
   "execution_count": null,
   "metadata": {
    "collapsed": false
   },
   "outputs": [],
   "source": [
    "model = create_low_test_image(npixel=npixel, cellsize=cellsize, phasecentre=phasecentre, frequency=frequency[0])\n",
    "model.data[model.data>10]=0.0"
   ]
  },
  {
   "cell_type": "markdown",
   "metadata": {},
   "source": [
    "Create the low beam and apply it to the model"
   ]
  },
  {
   "cell_type": "code",
   "execution_count": null,
   "metadata": {
    "collapsed": false,
    "scrolled": false
   },
   "outputs": [],
   "source": [
    "beam=create_low_test_beam(model)\n",
    "model.data*=beam.data\n",
    "show_image(beam)\n",
    "mask = copy_image(beam)\n",
    "mask.data[beam.data>0.1]=1.0\n",
    "mask.data[beam.data<=0.1]=0.0"
   ]
  },
  {
   "cell_type": "code",
   "execution_count": null,
   "metadata": {
    "collapsed": false
   },
   "outputs": [],
   "source": [
    "cmodel = create_image_from_array(convolve(model.data[0,0,:,:], Gaussian2DKernel(1.5), normalize_kernel=True), \n",
    "                                 model.wcs)\n",
    "norm = numpy.max(model.data)/numpy.max(cmodel.data)\n",
    "cmodel.data *= norm\n",
    "show_image(cmodel)\n",
    "plt.title(\"Smoothed model image\")\n",
    "plt.show()"
   ]
  },
  {
   "cell_type": "markdown",
   "metadata": {},
   "source": [
    "Fill in with the visibility of the model"
   ]
  },
  {
   "cell_type": "code",
   "execution_count": null,
   "metadata": {
    "collapsed": false
   },
   "outputs": [],
   "source": [
    "vt.data['vis'] *= 0.0\n",
    "vt.data['uvw'][:,2] = 0\n",
    "\n",
    "\n",
    "vt = predict_2d(vt, model)"
   ]
  },
  {
   "cell_type": "markdown",
   "metadata": {},
   "source": [
    "coalesce and plot the uv coverage"
   ]
  },
  {
   "cell_type": "code",
   "execution_count": null,
   "metadata": {
    "collapsed": false,
    "scrolled": false
   },
   "outputs": [],
   "source": [
    "coalescence_factor=1.0\n",
    "\n",
    "cvt, cindex = coalesce_visibility(vt, coalescence_factor=coalescence_factor, max_coalescence=10)\n",
    "plt.clf()\n",
    "plt.plot(+cvt.uvw[:,0],+cvt.uvw[:,1], '.', color='b')\n",
    "plt.plot(-cvt.uvw[:,0],-cvt.uvw[:,1], '.', color='b')\n",
    "plt.title('Coalesced uv coverage')\n",
    "plt.xlabel('U (lambda)')\n",
    "plt.ylabel('V (lambda)')\n",
    "plt.show()"
   ]
  },
  {
   "cell_type": "markdown",
   "metadata": {},
   "source": [
    "Make the dirty images from original and coalesced data"
   ]
  },
  {
   "cell_type": "code",
   "execution_count": null,
   "metadata": {
    "collapsed": false,
    "scrolled": false
   },
   "outputs": [],
   "source": [
    "dirtyimage, sumwt = invert_2d(vt, model)\n",
    "dirtyimage=normalize_sumwt(dirtyimage, sumwt)\n",
    "show_image(dirtyimage)\n",
    "plt.title('Original data image')\n",
    "plt.show()\n",
    "\n",
    "cdirtyimage, csumwt=invert_2d(cvt, model)\n",
    "cdirtyimage=normalize_sumwt(cdirtyimage, csumwt)\n",
    "show_image(cdirtyimage)\n",
    "plt.title('Coalesced data image')\n",
    "plt.show()"
   ]
  },
  {
   "cell_type": "markdown",
   "metadata": {},
   "source": [
    "Decoalesce and make the dirty image"
   ]
  },
  {
   "cell_type": "code",
   "execution_count": null,
   "metadata": {
    "collapsed": false,
    "scrolled": false
   },
   "outputs": [],
   "source": [
    "dcvt = decoalesce_visibility(cvt, vt, cindex=cindex)\n",
    "\n",
    "dcdirtyimage, dcsumwt=invert_2d(dcvt, model)\n",
    "dcdirtyimage=normalize_sumwt(dcdirtyimage, dcsumwt)\n",
    "show_image(dcdirtyimage)\n",
    "plt.title('Decoalesced data image')\n",
    "plt.show()\n",
    "\n",
    "dcdirtyimage.data -= dirtyimage.data\n",
    "show_image(dcdirtyimage)\n",
    "plt.title('Recovery error')\n",
    "plt.show()"
   ]
  },
  {
   "cell_type": "code",
   "execution_count": null,
   "metadata": {
    "collapsed": false,
    "scrolled": false
   },
   "outputs": [],
   "source": [
    "signal=numpy.std(numpy.abs(vt.vis[:]))\n",
    "error=numpy.std(numpy.abs(vt.vis[:]-dcvt.vis[:]))\n",
    "uvdist=numpy.sqrt(vt.u**2+vt.v**2)\n",
    "plt.clf()\n",
    "plt.plot(vt.vis.real[:], vt.vis.imag[:], '.', color='b', label='Original')\n",
    "plt.plot(dcvt.vis.real[:]-vt.vis.real[:], dcvt.vis.imag[:]-vt.vis.imag[:],\n",
    "         '.', color='r', label='error')\n",
    "plt.xlabel('Real')\n",
    "plt.ylabel('Imaginary')\n",
    "plt.legend()\n",
    "plt.title(\"coalescence = %.3f, rms signal = %.3f, rms error = %.3f\" %(coalescence_factor, signal, error))\n",
    "plt.show()"
   ]
  },
  {
   "cell_type": "markdown",
   "metadata": {},
   "source": [
    "Now do a range of coalescence factors to see how the recovery error varies. We coalesce and decoalesce and difference the images"
   ]
  },
  {
   "cell_type": "code",
   "execution_count": null,
   "metadata": {
    "collapsed": false,
    "scrolled": false
   },
   "outputs": [],
   "source": [
    "ts = clock()\n",
    "dirtyimage, sumwt = invert_2d(vt, model)\n",
    "dirtyimage=normalize_sumwt(dirtyimage, sumwt)\n",
    "t_full = clock() - ts\n",
    "show_image(dirtyimage)\n",
    "plt.show()\n",
    "\n",
    "qa = qa_image(dirtyimage, mask=mask)\n",
    "print(\"Original image\", qa)\n",
    "\n",
    "template_vis = copy_visibility(vt)\n",
    "\n",
    "signal = []\n",
    "error_peak = []\n",
    "error_medianabs = []\n",
    "t_invert = []\n",
    "t_coalescees = []\n",
    "t_decoalescees = []\n",
    "\n",
    "coalescence_factors = [4.0, 2.0, 1.0, 0.5, 0.25, 0.0]\n",
    "\n",
    "for coalescence_factor in coalescence_factors:\n",
    "    ts = clock()\n",
    "    cvt, cindex = coalesce_visibility(vt, coalescence='tb', coalescence_factor=coalescence_factor, max_coalescence=100)\n",
    "    t_coalesce = clock() - ts\n",
    "    t_coalescees.append(t_coalesce)\n",
    "    log.debug(\"coalescence using coalescence_factor = %.3f took %.1f seconds\" % (coalescence_factor, t_coalesce))\n",
    "\n",
    "    template_vis.data['vis']*=0.0\n",
    "    ts = clock()\n",
    "    dcvt = dcvt = decoalesce_visibility(cvt, vt, cindex=cindex, coalescence='tb')\n",
    "    t_decoalesce = clock() - ts\n",
    "    t_decoalescees.append(t_decoalesce)\n",
    "    log.debug(\"Decoalescence took %.1f seconds\" % (t_decoalesce))\n",
    "    \n",
    "    ts = clock()\n",
    "    dcdirtyimage, dcsumwt=invert_2d(dcvt, model)\n",
    "    dcdirtyimage=normalize_sumwt(dcdirtyimage, dcsumwt)\n",
    "    t_invert.append(clock() - ts)\n",
    "\n",
    "    dcdirtyimage.data -= dirtyimage.data\n",
    "    show_image(dcdirtyimage)\n",
    "    plt.title('Recovery error')\n",
    "    plt.show()\n",
    "    dcqa = qa_image(dcdirtyimage, mask=mask)\n",
    "    \n",
    "    print(\"Decoalesced coalesced image\", dcqa)\n",
    "    signal.append(qa.data['max'])\n",
    "    error_peak.append(dcqa.data['max'])\n",
    "    error_medianabs.append(dcqa.data['medianabs'])\n",
    "    \n",
    "    plt.clf()\n",
    "    plt.plot(vt.vis.real[:], vt.vis.imag[:], '.', color='b', label='Original')\n",
    "    plt.plot(dcvt.vis.real[:]-vt.vis.real[:], dcvt.vis.imag[:]-vt.vis.imag[:],\n",
    "         '.', color='r', label='error')\n",
    "    plt.xlabel('Real')\n",
    "    plt.ylabel('Imaginary')\n",
    "    plt.legend()\n",
    "    plt.title(\"coalescence = %.3f\" %(coalescence_factor))\n",
    "    plt.show()"
   ]
  },
  {
   "cell_type": "code",
   "execution_count": null,
   "metadata": {
    "collapsed": false
   },
   "outputs": [],
   "source": [
    "plt.clf()\n",
    "plt.semilogy(coalescence_factors, signal, color='r', label='Image peak')\n",
    "plt.semilogy(coalescence_factors, error_peak, color='b', label='Maximum error in image')\n",
    "plt.semilogy(coalescence_factors, error_medianabs, color='g', label='Median abs error in image')\n",
    "plt.title('Error after coalescence and decoalescence')\n",
    "plt.xlabel('coalescence factor')\n",
    "plt.ylabel('Error')\n",
    "plt.legend()\n",
    "plt.show()\n",
    "plt.plot(coalescence_factors, t_coalescees, color='r', label='coalescence')\n",
    "plt.plot(coalescence_factors, t_decoalescees, color='b', label='Decoalescence')\n",
    "plt.plot(coalescence_factors, t_invert, color='g', label='Invert coalesceed data')\n",
    "plt.plot(coalescence_factors, numpy.array(t_invert)+numpy.array(t_coalescees), linestyle='dashed',\n",
    "         color='black', label='coalesce + Invert')\n",
    "plt.axhline(t_full, color='black', label='Invert full data')\n",
    "plt.legend()\n",
    "plt.title('Time for coalesce, decoalesce, and invert')\n",
    "plt.xlabel('coalescence factor')\n",
    "plt.ylabel('Time (s)')\n",
    "\n",
    "plt.show()\n",
    "\n"
   ]
  },
  {
   "cell_type": "code",
   "execution_count": null,
   "metadata": {
    "collapsed": true
   },
   "outputs": [],
   "source": []
  }
 ],
 "metadata": {
  "kernelspec": {
   "display_name": "Python 3",
   "language": "python",
   "name": "python3"
  },
  "language_info": {
   "codemirror_mode": {
    "name": "ipython",
    "version": 3
   },
   "file_extension": ".py",
   "mimetype": "text/x-python",
   "name": "python",
   "nbconvert_exporter": "python",
   "pygments_lexer": "ipython3",
   "version": "3.6.0"
  }
 },
 "nbformat": 4,
 "nbformat_minor": 0
}
