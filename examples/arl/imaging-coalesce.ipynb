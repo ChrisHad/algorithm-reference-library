{
 "cells": [
  {
   "cell_type": "markdown",
   "metadata": {},
   "source": [
    "# Investigation of coalesence for LOW data"
   ]
  },
  {
   "cell_type": "markdown",
   "metadata": {},
   "source": [
    "Baseline dependent averaging is a form of data coalescence. In this script, we create a critically sampled snapshot of a LOW data set, and then coalesce and decoalesce it to see what errors result. We look at the time required for all steps."
   ]
  },
  {
   "cell_type": "code",
   "execution_count": 4,
   "metadata": {
    "collapsed": false
   },
   "outputs": [],
   "source": [
    "%matplotlib inline\n",
    "\n",
    "import os\n",
    "import sys\n",
    "\n",
    "from time import clock\n",
    "\n",
    "sys.path.append(os.path.join('..', '..'))\n",
    "\n",
    "from matplotlib import pylab\n",
    "\n",
    "pylab.rcParams['agg.path.chunksize'] = 10000\n",
    "pylab.rcParams['figure.figsize'] = (12.0, 12.0)\n",
    "pylab.rcParams['image.cmap'] = 'rainbow'\n",
    "\n",
    "import numpy\n",
    "\n",
    "from astropy.convolution import Gaussian2DKernel, convolve\n",
    "\n",
    "from astropy.coordinates import SkyCoord\n",
    "from astropy import units as u\n",
    "from astropy import constants as const\n",
    "from astropy.wcs.utils import pixel_to_skycoord\n",
    "\n",
    "from matplotlib import pyplot as plt\n",
    "from matplotlib.pyplot import cm \n",
    "\n",
    "from arl.visibility.operations import create_blockvisibility, vis_summary, copy_visibility\n",
    "from arl.skycomponent.operations import create_skycomponent, insert_skycomponent, apply_beam_to_skycomponent\n",
    "from arl.image.operations import show_image, export_image_to_fits, import_image_from_fits, qa_image, \\\n",
    "    create_image_from_array, copy_image, smooth_image\n",
    "from arl.fourier_transforms.ftprocessor_base import create_image_from_visibility, predict_skycomponent_visibility \n",
    "from arl.fourier_transforms.fft_support import extract_mid\n",
    "from arl.visibility.coalesce import coalesce_visibility, decoalesce_visibility\n",
    "from arl.image.iterators import raster_iter\n",
    "from arl.visibility.iterators import vis_timeslice_iter\n",
    "from arl.util.testing_support import create_named_configuration, create_low_test_image, create_low_test_beam, \\\n",
    "    create_low_test_image_from_gleam, create_low_test_skycomponents_from_gleam\n",
    "from arl.fourier_transforms.ftprocessor import *\n",
    "\n",
    "import logging\n",
    "log = logging.getLogger()\n",
    "log.setLevel(logging.DEBUG)\n",
    "log.addHandler(logging.StreamHandler(sys.stdout))"
   ]
  },
  {
   "cell_type": "markdown",
   "metadata": {},
   "source": [
    "Construct the configuration and fill in the appropriate sampling values"
   ]
  },
  {
   "cell_type": "code",
   "execution_count": 5,
   "metadata": {
    "collapsed": false
   },
   "outputs": [
    {
     "name": "stdout",
     "output_type": "stream",
     "text": [
      "Critical sampling time = 0.00027 (radians) 3.76 (seconds)\n",
      "Critical sampling time = 0.00027 (radians) 3.76 (seconds)\n",
      "Critical sampling frequency = 27343.75000 (Hz) \n",
      "Critical sampling frequency = 27343.75000 (Hz) \n",
      "Observing frequencies [  9.99726562e+07   1.00000000e+08   1.00027344e+08] Hz\n",
      "Observing frequencies [  9.99726562e+07   1.00000000e+08   1.00027344e+08] Hz\n",
      "Cellsize = 0.001000 radians\n",
      "Cellsize = 0.001000 radians\n"
     ]
    }
   ],
   "source": [
    "config = 'core'\n",
    "if config == 'full':\n",
    "    low = create_named_configuration('LOWBD2')\n",
    "    b = 8e4\n",
    "    cellsize = 0.00001\n",
    "    npixel=8192\n",
    "    nsnapshots = 30\n",
    "\n",
    "else:\n",
    "    low = create_named_configuration('LOWBD2-CORE')\n",
    "    b = 4e3\n",
    "    cellsize = 0.001\n",
    "    npixel=256\n",
    "    nsnapshots = 300\n",
    "\n",
    "    \n",
    "oversampling = 32\n",
    "\n",
    "sampling_time = 35.0 / (oversampling * b)\n",
    "log.info(\"Critical sampling time = %.5f (radians) %.2f (seconds)\" % \n",
    "         (sampling_time, sampling_time * 43200.0 / numpy.pi))\n",
    "sampling_frequency = 1e8 * 35.0 / (oversampling * b) \n",
    "log.info(\"Critical sampling frequency = %.5f (Hz) \" % (sampling_frequency))\n",
    "times = numpy.arange(0.0, + nsnapshots * sampling_time, sampling_time)\n",
    "frequency = numpy.linspace(1e8 - sampling_frequency, 1e8 + sampling_frequency, 3)\n",
    "channel_bandwidth = numpy.full_like(frequency, sampling_frequency)\n",
    "\n",
    "log.info(\"Observing frequencies %s Hz\" % (frequency))\n",
    "\n",
    "log.info(\"Cellsize = %.6f radians\" % (cellsize))"
   ]
  },
  {
   "cell_type": "markdown",
   "metadata": {},
   "source": [
    "We create the visibility holding the vis, uvw, time, antenna1, antenna2, weight columns in a table. The actual visibility values are zero."
   ]
  },
  {
   "cell_type": "code",
   "execution_count": 6,
   "metadata": {
    "collapsed": false
   },
   "outputs": [
    {
     "name": "stdout",
     "output_type": "stream",
     "text": [
      "create_blockvisibility: 300 rows, 0.739 GB\n",
      "create_blockvisibility: 300 rows, 0.739 GB\n"
     ]
    }
   ],
   "source": [
    "phasecentre = SkyCoord(ra=+0.0 * u.deg, dec=-35.0 * u.deg, frame='icrs', equinox=2000.0)\n",
    "vt = create_blockvisibility(low, times, frequency, channel_bandwidth=channel_bandwidth,\n",
    "                       weight=1.0, phasecentre=phasecentre, polarisation_frame=PolarisationFrame('stokesI'))\n"
   ]
  },
  {
   "cell_type": "markdown",
   "metadata": {},
   "source": [
    "Create components from GLEAM"
   ]
  },
  {
   "cell_type": "code",
   "execution_count": 7,
   "metadata": {
    "collapsed": false
   },
   "outputs": [
    {
     "name": "stdout",
     "output_type": "stream",
     "text": [
      "create_low_test_skycomponents_from_gleam: 4734 sources above flux limit 1.000\n",
      "create_low_test_skycomponents_from_gleam: 4734 sources above flux limit 1.000\n"
     ]
    }
   ],
   "source": [
    "comps = create_low_test_skycomponents_from_gleam(flux_limit=1.0, polarisation_frame=PolarisationFrame(\"stokesI\"),\n",
    "                                             frequency=frequency, phasecentre=phasecentre)"
   ]
  },
  {
   "cell_type": "markdown",
   "metadata": {},
   "source": [
    "Create the low beam and apply it to the components, only those within the field of view."
   ]
  },
  {
   "cell_type": "code",
   "execution_count": 8,
   "metadata": {
    "collapsed": false,
    "scrolled": false
   },
   "outputs": [
    {
     "name": "stdout",
     "output_type": "stream",
     "text": [
      "create_image_from_visibility: Parsing parameters to get definition of WCS\n",
      "create_image_from_visibility: Parsing parameters to get definition of WCS\n",
      "create_image_from_visibility: Defining 3 channel Image at <SkyCoord (ICRS): (ra, dec) in deg\n",
      "    ( 0., -35.)>, starting frequency 99972656.25 Hz, and bandwidth 27343.75 Hz\n",
      "create_image_from_visibility: Defining 3 channel Image at <SkyCoord (ICRS): (ra, dec) in deg\n",
      "    ( 0., -35.)>, starting frequency 99972656.25 Hz, and bandwidth 27343.75 Hz\n",
      "create_image_from_visibility: uvmax = 396.276693 wavelengths\n",
      "create_image_from_visibility: uvmax = 396.276693 wavelengths\n",
      "create_image_from_visibility: Critical cellsize = 0.001262 radians, 0.072293 degrees\n",
      "create_image_from_visibility: Critical cellsize = 0.001262 radians, 0.072293 degrees\n",
      "create_image_from_visibility: Cellsize          = 0.001000 radians, 0.057296 degrees\n",
      "create_image_from_visibility: Cellsize          = 0.001000 radians, 0.057296 degrees\n",
      "FITSFixedWarning: 'datfix' made the change 'Changed '' to '2000-01-01T12:00:00''.\n",
      "FITSFixedWarning: 'datfix' made the change 'Changed '' to '2000-01-01T12:00:00''.\n",
      "import_image_from_fits: created image of shape (1, 1, 256, 256), size 0.000 (GB)\n",
      "import_image_from_fits: created image of shape (1, 1, 256, 256), size 0.000 (GB)\n",
      "import_image_from_fits: Max, min in /Users/timcornwell/Code/algorithm-reference-library/data/models/SKA1_LOW_beam.fits = 0.997918, 0.000000\n",
      "import_image_from_fits: Max, min in /Users/timcornwell/Code/algorithm-reference-library/data/models/SKA1_LOW_beam.fits = 0.997918, 0.000000\n",
      "create_low_test_beam: primary beam is defined at 100.000 MHz\n",
      "create_low_test_beam: primary beam is defined at 100.000 MHz\n",
      "create_low_test_beam: scaling to model frequency 99.973 MHz\n",
      "create_low_test_beam: scaling to model frequency 99.973 MHz\n"
     ]
    },
    {
     "name": "stderr",
     "output_type": "stream",
     "text": [
      "WARNING: FITSFixedWarning: 'datfix' made the change 'Changed '' to '2000-01-01T12:00:00''. [astropy.wcs.wcs]\n"
     ]
    },
    {
     "name": "stdout",
     "output_type": "stream",
     "text": [
      "apply_beam_to_skycomponent: Processing 4734 components\n",
      "apply_beam_to_skycomponent: Processing 4734 components\n",
      "apply_beam_to_skycomponent: 113 components with total flux [[ 78.51011272]\n",
      " [ 78.46047871]\n",
      " [ 78.41092839]]\n",
      "apply_beam_to_skycomponent: 113 components with total flux [[ 78.51011272]\n",
      " [ 78.46047871]\n",
      " [ 78.41092839]]\n"
     ]
    }
   ],
   "source": [
    "model = create_image_from_visibility(vt, npixel=npixel, cellsize=cellsize, frequency=frequency,\n",
    "                                     polarisation_frame=PolarisationFrame('stokesI'),\n",
    "                                     phasecentre=phasecentre, nchan=len(frequency))\n",
    "beam=create_low_test_beam(model)\n",
    "comps = apply_beam_to_skycomponent(comps, beam)\n",
    "model = insert_skycomponent(model, comps)"
   ]
  },
  {
   "cell_type": "code",
   "execution_count": 9,
   "metadata": {
    "collapsed": false,
    "scrolled": false
   },
   "outputs": [
    {
     "data": {
      "image/png": "[encoded data removed]",
      "text/plain": [
       "<matplotlib.figure.Figure at 0x111bb5080>"
      ]
     },
     "metadata": {},
     "output_type": "display_data"
    }
   ],
   "source": [
    "cmodel = smooth_image(model)\n",
    "show_image(cmodel)\n",
    "plt.title(\"Smoothed model image\")\n",
    "plt.show()"
   ]
  },
  {
   "cell_type": "markdown",
   "metadata": {},
   "source": [
    "Since we are using a BlockVisibility, we can only predict the visibility from sky components. We set w to zero to\n",
    "keep the imaging time down."
   ]
  },
  {
   "cell_type": "code",
   "execution_count": 10,
   "metadata": {
    "collapsed": false
   },
   "outputs": [],
   "source": [
    "vt.data['vis'][...] = 0.0\n",
    "vt.data['uvw'][:,2] = 0\n",
    "vt = predict_skycomponent_blockvisibility(vt, comps)"
   ]
  },
  {
   "cell_type": "markdown",
   "metadata": {},
   "source": [
    "Now we coalesce the data"
   ]
  },
  {
   "cell_type": "code",
   "execution_count": 11,
   "metadata": {
    "collapsed": false,
    "scrolled": false
   },
   "outputs": [
    {
     "ename": "ValueError",
     "evalue": "could not broadcast input array from shape (900) into shape (1)",
     "output_type": "error",
     "traceback": [
      "\u001b[0;31m---------------------------------------------------------------------------\u001b[0m",
      "\u001b[0;31mValueError\u001b[0m                                Traceback (most recent call last)",
      "\u001b[0;32m<ipython-input-11-8a3ab7598685>\u001b[0m in \u001b[0;36m<module>\u001b[0;34m()\u001b[0m\n\u001b[1;32m      1\u001b[0m \u001b[0mcoalescence_factor\u001b[0m\u001b[0;34m=\u001b[0m\u001b[0;36m1.0\u001b[0m\u001b[0;34m\u001b[0m\u001b[0m\n\u001b[1;32m      2\u001b[0m \u001b[0;34m\u001b[0m\u001b[0m\n\u001b[0;32m----> 3\u001b[0;31m \u001b[0mcvt\u001b[0m\u001b[0;34m,\u001b[0m \u001b[0mcindex\u001b[0m \u001b[0;34m=\u001b[0m \u001b[0mcoalesce_visibility\u001b[0m\u001b[0;34m(\u001b[0m\u001b[0mvt\u001b[0m\u001b[0;34m,\u001b[0m \u001b[0mcoalescence_factor\u001b[0m\u001b[0;34m=\u001b[0m\u001b[0mcoalescence_factor\u001b[0m\u001b[0;34m,\u001b[0m \u001b[0mmax_coalescence\u001b[0m\u001b[0;34m=\u001b[0m\u001b[0;36m10\u001b[0m\u001b[0;34m)\u001b[0m\u001b[0;34m\u001b[0m\u001b[0m\n\u001b[0m\u001b[1;32m      4\u001b[0m \u001b[0mplt\u001b[0m\u001b[0;34m.\u001b[0m\u001b[0mclf\u001b[0m\u001b[0;34m(\u001b[0m\u001b[0;34m)\u001b[0m\u001b[0;34m\u001b[0m\u001b[0m\n\u001b[1;32m      5\u001b[0m \u001b[0mplt\u001b[0m\u001b[0;34m.\u001b[0m\u001b[0mplot\u001b[0m\u001b[0;34m(\u001b[0m\u001b[0;34m+\u001b[0m\u001b[0mcvt\u001b[0m\u001b[0;34m.\u001b[0m\u001b[0muvw\u001b[0m\u001b[0;34m[\u001b[0m\u001b[0;34m:\u001b[0m\u001b[0;34m,\u001b[0m\u001b[0;36m0\u001b[0m\u001b[0;34m]\u001b[0m\u001b[0;34m,\u001b[0m\u001b[0;34m+\u001b[0m\u001b[0mcvt\u001b[0m\u001b[0;34m.\u001b[0m\u001b[0muvw\u001b[0m\u001b[0;34m[\u001b[0m\u001b[0;34m:\u001b[0m\u001b[0;34m,\u001b[0m\u001b[0;36m1\u001b[0m\u001b[0;34m]\u001b[0m\u001b[0;34m,\u001b[0m \u001b[0;34m'.'\u001b[0m\u001b[0;34m,\u001b[0m \u001b[0mcolor\u001b[0m\u001b[0;34m=\u001b[0m\u001b[0;34m'b'\u001b[0m\u001b[0;34m)\u001b[0m\u001b[0;34m\u001b[0m\u001b[0m\n",
      "\u001b[0;32m/Users/timcornwell/Code/algorithm-reference-library/arl/visibility/coalesce.py\u001b[0m in \u001b[0;36mcoalesce_visibility\u001b[0;34m(vis, coalescence_factor, max_coalescence)\u001b[0m\n\u001b[1;32m     37\u001b[0m                             \u001b[0mvis\u001b[0m\u001b[0;34m.\u001b[0m\u001b[0mtime\u001b[0m\u001b[0;34m,\u001b[0m \u001b[0mvis\u001b[0m\u001b[0;34m.\u001b[0m\u001b[0mintegration_time\u001b[0m\u001b[0;34m,\u001b[0m\u001b[0;34m\u001b[0m\u001b[0m\n\u001b[1;32m     38\u001b[0m                             \u001b[0mvis\u001b[0m\u001b[0;34m.\u001b[0m\u001b[0mfrequency\u001b[0m\u001b[0;34m,\u001b[0m \u001b[0mvis\u001b[0m\u001b[0;34m.\u001b[0m\u001b[0mchannel_bandwidth\u001b[0m\u001b[0;34m,\u001b[0m\u001b[0;34m\u001b[0m\u001b[0m\n\u001b[0;32m---> 39\u001b[0;31m                             coalescence_factor, max_coalescence)\n\u001b[0m\u001b[1;32m     40\u001b[0m     \u001b[0mcimwt\u001b[0m \u001b[0;34m=\u001b[0m \u001b[0mnumpy\u001b[0m\u001b[0;34m.\u001b[0m\u001b[0mones\u001b[0m\u001b[0;34m(\u001b[0m\u001b[0mcvis\u001b[0m\u001b[0;34m.\u001b[0m\u001b[0mshape\u001b[0m\u001b[0;34m)\u001b[0m\u001b[0;34m\u001b[0m\u001b[0m\n\u001b[1;32m     41\u001b[0m     coalesced_vis = Visibility(uvw=cuvw, time=ctime, frequency=cfrequency,\n",
      "\u001b[0;32m/Users/timcornwell/Code/algorithm-reference-library/arl/visibility/coalesce.py\u001b[0m in \u001b[0;36maverage_in_blocks\u001b[0;34m(vis, uvw, wts, times, integration_time, frequency, channel_bandwidth, coalescence_factor, max_coalescence)\u001b[0m\n\u001b[1;32m    195\u001b[0m                                            (time_average[a2, a1], frequency_average[a2, a1]))[0]\n\u001b[1;32m    196\u001b[0m \u001b[0;34m\u001b[0m\u001b[0m\n\u001b[0;32m--> 197\u001b[0;31m                 \u001b[0mctime\u001b[0m\u001b[0;34m[\u001b[0m\u001b[0mrows\u001b[0m\u001b[0;34m]\u001b[0m \u001b[0;34m=\u001b[0m \u001b[0maverage_from_grid\u001b[0m\u001b[0;34m(\u001b[0m\u001b[0mtimesgrid\u001b[0m\u001b[0;34m)\u001b[0m\u001b[0;34m.\u001b[0m\u001b[0mflatten\u001b[0m\u001b[0;34m(\u001b[0m\u001b[0;34m)\u001b[0m\u001b[0;34m\u001b[0m\u001b[0m\n\u001b[0m\u001b[1;32m    198\u001b[0m                 \u001b[0mcfrequency\u001b[0m\u001b[0;34m[\u001b[0m\u001b[0mrows\u001b[0m\u001b[0;34m]\u001b[0m \u001b[0;34m=\u001b[0m \u001b[0maverage_from_grid\u001b[0m\u001b[0;34m(\u001b[0m\u001b[0mfrequencygrid\u001b[0m\u001b[0;34m)\u001b[0m\u001b[0;34m.\u001b[0m\u001b[0mflatten\u001b[0m\u001b[0;34m(\u001b[0m\u001b[0;34m)\u001b[0m\u001b[0;34m\u001b[0m\u001b[0m\n\u001b[1;32m    199\u001b[0m \u001b[0;34m\u001b[0m\u001b[0m\n",
      "\u001b[0;31mValueError\u001b[0m: could not broadcast input array from shape (900) into shape (1)"
     ]
    }
   ],
   "source": [
    "coalescence_factor=1.0\n",
    "\n",
    "cvt, cindex = coalesce_visibility(vt, coalescence_factor=coalescence_factor, max_coalescence=10)\n",
    "plt.clf()\n",
    "plt.plot(+cvt.uvw[:,0],+cvt.uvw[:,1], '.', color='b')\n",
    "plt.plot(-cvt.uvw[:,0],-cvt.uvw[:,1], '.', color='b')\n",
    "plt.title('Coalesced uv coverage')\n",
    "plt.xlabel('U (lambda)')\n",
    "plt.ylabel('V (lambda)')\n",
    "plt.show()"
   ]
  },
  {
   "cell_type": "markdown",
   "metadata": {},
   "source": [
    "Make the dirty images from original and coalesced data"
   ]
  },
  {
   "cell_type": "code",
   "execution_count": null,
   "metadata": {
    "collapsed": false,
    "scrolled": false
   },
   "outputs": [],
   "source": [
    "dirtyimage, sumwt = invert_2d(vt, model)\n",
    "dirtyimage=normalize_sumwt(dirtyimage, sumwt)\n",
    "show_image(dirtyimage)\n",
    "plt.title('Original data image')\n",
    "plt.show()\n",
    "\n",
    "cdirtyimage, csumwt=invert_2d(cvt, model)\n",
    "cdirtyimage=normalize_sumwt(cdirtyimage, csumwt)\n",
    "show_image(cdirtyimage)\n",
    "plt.title('Coalesced data image')\n",
    "plt.show()"
   ]
  },
  {
   "cell_type": "markdown",
   "metadata": {},
   "source": [
    "Decoalesce and make the dirty image"
   ]
  },
  {
   "cell_type": "code",
   "execution_count": null,
   "metadata": {
    "collapsed": false,
    "scrolled": false
   },
   "outputs": [],
   "source": [
    "dcvt = decoalesce_visibility(cvt, vt, cindex=cindex)\n",
    "\n",
    "dcdirtyimage, dcsumwt=invert_2d(dcvt, model)\n",
    "dcdirtyimage=normalize_sumwt(dcdirtyimage, dcsumwt)\n",
    "show_image(dcdirtyimage)\n",
    "plt.title('Decoalesced data image')\n",
    "plt.show()\n",
    "\n",
    "dcdirtyimage.data -= dirtyimage.data\n",
    "show_image(dcdirtyimage)\n",
    "plt.title('Recovery error')\n",
    "plt.show()"
   ]
  },
  {
   "cell_type": "code",
   "execution_count": null,
   "metadata": {
    "collapsed": false,
    "scrolled": false
   },
   "outputs": [],
   "source": [
    "signal=numpy.std(numpy.abs(vt.vis[:]))\n",
    "error=numpy.std(numpy.abs(vt.vis[:]-dcvt.vis[:]))\n",
    "uvdist=numpy.sqrt(vt.u**2+vt.v**2)\n",
    "plt.clf()\n",
    "plt.plot(vt.vis.real[:], vt.vis.imag[:], '.', color='b', label='Original')\n",
    "plt.plot(dcvt.vis.real[:]-vt.vis.real[:], dcvt.vis.imag[:]-vt.vis.imag[:],\n",
    "         '.', color='r', label='error')\n",
    "plt.xlabel('Real')\n",
    "plt.ylabel('Imaginary')\n",
    "plt.legend()\n",
    "plt.title(\"coalescence = %.3f, rms signal = %.3f, rms error = %.3f\" %(coalescence_factor, signal, error))\n",
    "plt.show()"
   ]
  },
  {
   "cell_type": "markdown",
   "metadata": {},
   "source": [
    "Now do a range of coalescence factors to see how the recovery error varies. We coalesce and decoalesce and difference the images"
   ]
  },
  {
   "cell_type": "code",
   "execution_count": null,
   "metadata": {
    "collapsed": false,
    "scrolled": false
   },
   "outputs": [],
   "source": [
    "ts = clock()\n",
    "dirtyimage, sumwt = invert_2d(vt, model)\n",
    "dirtyimage=normalize_sumwt(dirtyimage, sumwt)\n",
    "t_full = clock() - ts\n",
    "show_image(dirtyimage)\n",
    "plt.show()\n",
    "\n",
    "qa = qa_image(dirtyimage, mask=mask)\n",
    "print(\"Original image\", qa)\n",
    "\n",
    "template_vis = copy_visibility(vt)\n",
    "\n",
    "signal = []\n",
    "error_peak = []\n",
    "error_medianabs = []\n",
    "t_invert = []\n",
    "t_coalescees = []\n",
    "t_decoalescees = []\n",
    "\n",
    "coalescence_factors = [4.0, 2.0, 1.0, 0.5, 0.25, 0.0]\n",
    "\n",
    "for coalescence_factor in coalescence_factors:\n",
    "    ts = clock()\n",
    "    cvt, cindex = coalesce_visibility(vt, coalescence='tb', coalescence_factor=coalescence_factor, max_coalescence=100)\n",
    "    t_coalesce = clock() - ts\n",
    "    t_coalescees.append(t_coalesce)\n",
    "    log.debug(\"coalescence using coalescence_factor = %.3f took %.1f seconds\" % (coalescence_factor, t_coalesce))\n",
    "\n",
    "    template_vis.data['vis']*=0.0\n",
    "    ts = clock()\n",
    "    dcvt = dcvt = decoalesce_visibility(cvt, vt, cindex=cindex)\n",
    "    t_decoalesce = clock() - ts\n",
    "    t_decoalescees.append(t_decoalesce)\n",
    "    log.debug(\"Decoalescence took %.1f seconds\" % (t_decoalesce))\n",
    "    \n",
    "    ts = clock()\n",
    "    dcdirtyimage, dcsumwt=invert_2d(dcvt, model)\n",
    "    dcdirtyimage=normalize_sumwt(dcdirtyimage, dcsumwt)\n",
    "    t_invert.append(clock() - ts)\n",
    "\n",
    "    dcdirtyimage.data -= dirtyimage.data\n",
    "    show_image(dcdirtyimage)\n",
    "    plt.title('Recovery error')\n",
    "    plt.show()\n",
    "    dcqa = qa_image(dcdirtyimage, mask=mask)\n",
    "    \n",
    "    print(\"Decoalesced coalesced image\", dcqa)\n",
    "    signal.append(qa.data['max'])\n",
    "    error_peak.append(dcqa.data['max'])\n",
    "    error_medianabs.append(dcqa.data['medianabs'])\n",
    "    \n",
    "    plt.clf()\n",
    "    plt.plot(vt.vis.real[:], vt.vis.imag[:], '.', color='b', label='Original')\n",
    "    plt.plot(dcvt.vis.real[:]-vt.vis.real[:], dcvt.vis.imag[:]-vt.vis.imag[:],\n",
    "         '.', color='r', label='error')\n",
    "    plt.xlabel('Real')\n",
    "    plt.ylabel('Imaginary')\n",
    "    plt.legend()\n",
    "    plt.title(\"coalescence = %.3f\" %(coalescence_factor))\n",
    "    plt.show()"
   ]
  },
  {
   "cell_type": "code",
   "execution_count": null,
   "metadata": {
    "collapsed": false
   },
   "outputs": [],
   "source": [
    "plt.clf()\n",
    "plt.semilogy(coalescence_factors, signal, color='r', label='Image peak')\n",
    "plt.semilogy(coalescence_factors, error_peak, color='b', label='Maximum error in image')\n",
    "plt.semilogy(coalescence_factors, error_medianabs, color='g', label='Median abs error in image')\n",
    "plt.title('Error after coalescence and decoalescence')\n",
    "plt.xlabel('coalescence factor')\n",
    "plt.ylabel('Error')\n",
    "plt.legend()\n",
    "plt.show()\n",
    "plt.plot(coalescence_factors, t_coalescees, color='r', label='coalescence')\n",
    "plt.plot(coalescence_factors, t_decoalescees, color='b', label='Decoalescence')\n",
    "plt.plot(coalescence_factors, t_invert, color='g', label='Invert coalesceed data')\n",
    "plt.plot(coalescence_factors, numpy.array(t_invert)+numpy.array(t_coalescees), linestyle='dashed',\n",
    "         color='black', label='coalesce + Invert')\n",
    "plt.axhline(t_full, color='black', label='Invert full data')\n",
    "plt.legend()\n",
    "plt.title('Time for coalesce, decoalesce, and invert')\n",
    "plt.xlabel('coalescence factor')\n",
    "plt.ylabel('Time (s)')\n",
    "\n",
    "plt.show()\n",
    "\n"
   ]
  },
  {
   "cell_type": "code",
   "execution_count": null,
   "metadata": {
    "collapsed": true
   },
   "outputs": [],
   "source": []
  }
 ],
 "metadata": {
  "kernelspec": {
   "display_name": "Python 3",
   "language": "python",
   "name": "python3"
  },
  "language_info": {
   "codemirror_mode": {
    "name": "ipython",
    "version": 3
   },
   "file_extension": ".py",
   "mimetype": "text/x-python",
   "name": "python",
   "nbconvert_exporter": "python",
   "pygments_lexer": "ipython3",
   "version": "3.6.0"
  }
 },
 "nbformat": 4,
 "nbformat_minor": 0
}
