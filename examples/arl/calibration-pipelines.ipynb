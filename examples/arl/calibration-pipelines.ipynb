{
 "cells": [
  {
   "cell_type": "markdown",
   "metadata": {},
   "source": [
    "# Calibration using graphs"
   ]
  },
  {
   "cell_type": "code",
   "execution_count": 6,
   "metadata": {
    "ExecuteTime": {
     "end_time": "2018-01-18T09:29:02.927519Z",
     "start_time": "2018-01-18T09:29:02.829760Z"
    }
   },
   "outputs": [],
   "source": [
    "%matplotlib inline\n",
    "\n",
    "import os\n",
    "import sys\n",
    "\n",
    "results_dir = './results'\n",
    "os.makedirs(results_dir, exist_ok=True)\n",
    "\n",
    "from functools import partial\n",
    "from dask import delayed\n",
    "from distributed import progress\n",
    "import dask.bag as bag\n",
    "\n",
    "sys.path.append(os.path.join('..', '..'))\n",
    "\n",
    "results_dir = './results'\n",
    "os.makedirs(results_dir, exist_ok=True)\n",
    "\n",
    "from matplotlib import pylab\n",
    "\n",
    "pylab.rcParams['figure.figsize'] = (12.0, 12.0)\n",
    "pylab.rcParams['image.cmap'] = 'rainbow'\n",
    "\n",
    "import numpy\n",
    "\n",
    "from astropy.coordinates import SkyCoord\n",
    "from astropy import units as u\n",
    "from astropy.wcs.utils import pixel_to_skycoord\n",
    "\n",
    "from matplotlib import pyplot as plt\n",
    "\n",
    "from arl.calibration.solvers import solve_gaintable\n",
    "from arl.calibration.operations import apply_gaintable\n",
    "from arl.data.data_models import Image\n",
    "from arl.data.polarisation import PolarisationFrame\n",
    "from arl.data.parameters import get_parameter\n",
    "from arl.visibility.base import create_blockvisibility\n",
    "from arl.skycomponent.operations import create_skycomponent\n",
    "from arl.image.deconvolution import deconvolve_cube\n",
    "from arl.image.operations import show_image\n",
    "from arl.image.iterators import  image_raster_iter\n",
    "from arl.visibility.iterators import vis_timeslice_iter\n",
    "from arl.util.testing_support import create_named_configuration\n",
    "from arl.imaging import predict_2d, advise_wide_field\n",
    "    \n",
    "from arl.graphs.dask_init import get_dask_Client\n",
    "from arl.imaging.imaging_context import imaging_context, invert_function, predict_function\n",
    "from arl.graphs.delayed import create_invert_graph, create_predict_graph, \\\n",
    "    create_selfcal_graph_list\n",
    "from arl.graphs.generic_graphs import create_generic_image_graph\n",
    "from arl.util.delayed_support import create_simulate_vis_graph, \\\n",
    "    create_predict_gleam_model_graph, create_corrupt_vis_graph\n",
    "from arl.pipelines.delayed import create_continuum_imaging_pipeline_graph\n",
    "from arl.graphs.vis import simple_vis\n",
    "\n",
    "import logging\n",
    "\n",
    "log = logging.getLogger()\n",
    "log.setLevel(logging.DEBUG)\n",
    "log.addHandler(logging.StreamHandler(sys.stdout))"
   ]
  },
  {
   "cell_type": "code",
   "execution_count": 7,
   "metadata": {
    "ExecuteTime": {
     "end_time": "2018-01-18T09:29:06.675007Z",
     "start_time": "2018-01-18T09:29:04.318731Z"
    },
    "scrolled": false
   },
   "outputs": [
    {
     "name": "stdout",
     "output_type": "stream",
     "text": [
      "Creating LocalCluster and Dask Client\n",
      "<Client: scheduler='tcp://127.0.0.1:60567' processes=8 cores=8>\n",
      "Diagnostic pages available on port http://127.0.0.1:8787\n"
     ]
    }
   ],
   "source": [
    "c=get_dask_Client()"
   ]
  },
  {
   "cell_type": "markdown",
   "metadata": {},
   "source": [
    "We create a graph to make the visibility "
   ]
  },
  {
   "cell_type": "code",
   "execution_count": 8,
   "metadata": {
    "ExecuteTime": {
     "end_time": "2018-01-18T09:29:09.541759Z",
     "start_time": "2018-01-18T09:29:09.474662Z"
    },
    "scrolled": false
   },
   "outputs": [
    {
     "name": "stderr",
     "output_type": "stream",
     "text": [
      "DEBUG:arl.util.testing_support:create_configuration_from_file: Maximum radius 1000.0 m includes 166 antennas/stations\n"
     ]
    },
    {
     "name": "stdout",
     "output_type": "stream",
     "text": [
      "create_configuration_from_file: Maximum radius 1000.0 m includes 166 antennas/stations\n"
     ]
    },
    {
     "name": "stderr",
     "output_type": "stream",
     "text": [
      "DEBUG:arl.util.delayed_support:create_simulate_vis_graph: Simulating distribution in frequency\n"
     ]
    },
    {
     "name": "stdout",
     "output_type": "stream",
     "text": [
      "create_simulate_vis_graph: Simulating distribution in frequency\n"
     ]
    }
   ],
   "source": [
    "nfreqwin=3\n",
    "ntimes=5\n",
    "frequency=numpy.linspace(0.8e8,1.2e8,nfreqwin)\n",
    "if nfreqwin > 1:\n",
    "    channel_bandwidth=numpy.array(nfreqwin*[frequency[1]-frequency[0]])\n",
    "else:\n",
    "    channel_bandwidth=numpy.array([1e7])\n",
    "times = numpy.linspace(-numpy.pi/3.0, numpy.pi/3.0, ntimes)\n",
    "phasecentre=SkyCoord(ra=+30.0 * u.deg, dec=-60.0 * u.deg, frame='icrs', equinox='J2000')\n",
    "\n",
    "vis_graph_list=create_simulate_vis_graph('LOWBD2-CORE',\n",
    "                                         frequency=frequency, \n",
    "                                         channel_bandwidth=channel_bandwidth,\n",
    "                                         times=times,\n",
    "                                         phasecentre=phasecentre)"
   ]
  },
  {
   "cell_type": "markdown",
   "metadata": {},
   "source": [
    "Find the optimum values for wide field imaging"
   ]
  },
  {
   "cell_type": "code",
   "execution_count": 9,
   "metadata": {
    "ExecuteTime": {
     "end_time": "2018-01-18T09:29:23.315931Z",
     "start_time": "2018-01-18T09:29:21.497053Z"
    },
    "scrolled": false
   },
   "outputs": [
    {
     "name": "stderr",
     "output_type": "stream",
     "text": [
      "DEBUG:arl.visibility.coalesce:convert_visibility: Original 5 rows, 0.006 GB, converted 68475 rows, 0.007 GB\n"
     ]
    },
    {
     "name": "stdout",
     "output_type": "stream",
     "text": [
      "convert_visibility: Original 5 rows, 0.006 GB, converted 68475 rows, 0.007 GB\n"
     ]
    },
    {
     "name": "stderr",
     "output_type": "stream",
     "text": [
      "INFO:arl.imaging.params:advise_wide_field: Maximum wavelength 3.747 (meters)\n"
     ]
    },
    {
     "name": "stdout",
     "output_type": "stream",
     "text": [
      "advise_wide_field: Maximum wavelength 3.747 (meters)\n"
     ]
    },
    {
     "name": "stderr",
     "output_type": "stream",
     "text": [
      "INFO:arl.imaging.params:advise_wide_field: Minimum wavelength 3.747 (meters)\n"
     ]
    },
    {
     "name": "stdout",
     "output_type": "stream",
     "text": [
      "advise_wide_field: Minimum wavelength 3.747 (meters)\n"
     ]
    },
    {
     "name": "stderr",
     "output_type": "stream",
     "text": [
      "INFO:arl.imaging.params:advise_wide_field: Maximum baseline 210.1 (wavelengths)\n"
     ]
    },
    {
     "name": "stdout",
     "output_type": "stream",
     "text": [
      "advise_wide_field: Maximum baseline 210.1 (wavelengths)\n"
     ]
    },
    {
     "name": "stderr",
     "output_type": "stream",
     "text": [
      "INFO:arl.imaging.params:advise_wide_field: Station/antenna diameter 35.0 (meters)\n"
     ]
    },
    {
     "name": "stdout",
     "output_type": "stream",
     "text": [
      "advise_wide_field: Station/antenna diameter 35.0 (meters)\n"
     ]
    },
    {
     "name": "stderr",
     "output_type": "stream",
     "text": [
      "INFO:arl.imaging.params:advise_wide_field: Primary beam 0.107069 (rad) 6.135 (deg)\n"
     ]
    },
    {
     "name": "stdout",
     "output_type": "stream",
     "text": [
      "advise_wide_field: Primary beam 0.107069 (rad) 6.135 (deg)\n"
     ]
    },
    {
     "name": "stderr",
     "output_type": "stream",
     "text": [
      "INFO:arl.imaging.params:advise_wide_field: Image field of view 0.428275 (rad) 24.538 (deg)\n"
     ]
    },
    {
     "name": "stdout",
     "output_type": "stream",
     "text": [
      "advise_wide_field: Image field of view 0.428275 (rad) 24.538 (deg)\n"
     ]
    },
    {
     "name": "stderr",
     "output_type": "stream",
     "text": [
      "INFO:arl.imaging.params:advise_wide_field: Synthesized beam 0.004759 (rad) 0.273 (deg)\n"
     ]
    },
    {
     "name": "stdout",
     "output_type": "stream",
     "text": [
      "advise_wide_field: Synthesized beam 0.004759 (rad) 0.273 (deg)\n"
     ]
    },
    {
     "name": "stderr",
     "output_type": "stream",
     "text": [
      "INFO:arl.imaging.params:advise_wide_field: Cellsize 0.001586 (rad) 0.091 (deg)\n"
     ]
    },
    {
     "name": "stdout",
     "output_type": "stream",
     "text": [
      "advise_wide_field: Cellsize 0.001586 (rad) 0.091 (deg)\n"
     ]
    },
    {
     "name": "stderr",
     "output_type": "stream",
     "text": [
      "INFO:arl.imaging.params:advice_wide_field: Npixels per side = 270\n"
     ]
    },
    {
     "name": "stdout",
     "output_type": "stream",
     "text": [
      "advice_wide_field: Npixels per side = 270\n"
     ]
    },
    {
     "name": "stderr",
     "output_type": "stream",
     "text": [
      "INFO:arl.imaging.params:advice_wide_field: Npixels (power of 2, 3) per side = 384\n"
     ]
    },
    {
     "name": "stdout",
     "output_type": "stream",
     "text": [
      "advice_wide_field: Npixels (power of 2, 3) per side = 384\n"
     ]
    },
    {
     "name": "stderr",
     "output_type": "stream",
     "text": [
      "INFO:arl.imaging.params:advice_wide_field: W sampling for full image = 0.3 (wavelengths)\n"
     ]
    },
    {
     "name": "stdout",
     "output_type": "stream",
     "text": [
      "advice_wide_field: W sampling for full image = 0.3 (wavelengths)\n"
     ]
    },
    {
     "name": "stderr",
     "output_type": "stream",
     "text": [
      "INFO:arl.imaging.params:advice_wide_field: W sampling for primary beam = 5.6 (wavelengths)\n"
     ]
    },
    {
     "name": "stdout",
     "output_type": "stream",
     "text": [
      "advice_wide_field: W sampling for primary beam = 5.6 (wavelengths)\n"
     ]
    },
    {
     "name": "stderr",
     "output_type": "stream",
     "text": [
      "INFO:arl.imaging.params:advice_wide_field: Time sampling for full image = 45.4 (s)\n"
     ]
    },
    {
     "name": "stdout",
     "output_type": "stream",
     "text": [
      "advice_wide_field: Time sampling for full image = 45.4 (s)\n"
     ]
    },
    {
     "name": "stderr",
     "output_type": "stream",
     "text": [
      "INFO:arl.imaging.params:advice_wide_field: Time sampling for primary beam = 726.9 (s)\n"
     ]
    },
    {
     "name": "stdout",
     "output_type": "stream",
     "text": [
      "advice_wide_field: Time sampling for primary beam = 726.9 (s)\n"
     ]
    },
    {
     "name": "stderr",
     "output_type": "stream",
     "text": [
      "INFO:arl.imaging.params:advice_wide_field: Frequency sampling for full image = 42066.2 (Hz)\n"
     ]
    },
    {
     "name": "stdout",
     "output_type": "stream",
     "text": [
      "advice_wide_field: Frequency sampling for full image = 42066.2 (Hz)\n"
     ]
    },
    {
     "name": "stderr",
     "output_type": "stream",
     "text": [
      "INFO:arl.imaging.params:advice_wide_field: Frequency sampling for primary beam = 673058.5 (Hz)\n"
     ]
    },
    {
     "name": "stdout",
     "output_type": "stream",
     "text": [
      "advice_wide_field: Frequency sampling for primary beam = 673058.5 (Hz)\n"
     ]
    },
    {
     "name": "stderr",
     "output_type": "stream",
     "text": [
      "INFO:arl.imaging.params:advice_wide_field: Number of planes in w stack 37\n"
     ]
    },
    {
     "name": "stdout",
     "output_type": "stream",
     "text": [
      "advice_wide_field: Number of planes in w stack 37\n"
     ]
    },
    {
     "name": "stderr",
     "output_type": "stream",
     "text": [
      "INFO:arl.imaging.params:advice_wide_field: Number of planes in w projection 1\n"
     ]
    },
    {
     "name": "stdout",
     "output_type": "stream",
     "text": [
      "advice_wide_field: Number of planes in w projection 1\n"
     ]
    },
    {
     "name": "stderr",
     "output_type": "stream",
     "text": [
      "INFO:arl.imaging.params:advice_wide_field: Recommend that 2d gridding (i.e. no wprojection) is used\n"
     ]
    },
    {
     "name": "stdout",
     "output_type": "stream",
     "text": [
      "advice_wide_field: Recommend that 2d gridding (i.e. no wprojection) is used\n"
     ]
    }
   ],
   "source": [
    "wprojection_planes=1\n",
    "advice=advise_wide_field(vis_graph_list[0].compute(), guard_band_image=4.0, delA=0.02,\n",
    "                         wprojection_planes=wprojection_planes)\n",
    "vis_slices = advice['vis_slices']"
   ]
  },
  {
   "cell_type": "markdown",
   "metadata": {},
   "source": [
    "Now make a graph to fill with a model drawn from GLEAM. We then add phase errors of off 1 radian rms to each station. We will compute this graph in order not to confuse it's processing with the imaging. "
   ]
  },
  {
   "cell_type": "code",
   "execution_count": 11,
   "metadata": {
    "ExecuteTime": {
     "end_time": "2018-01-18T09:58:45.356423Z",
     "start_time": "2018-01-18T09:58:45.217558Z"
    }
   },
   "outputs": [],
   "source": [
    "corrupted_vis_graph_list = create_predict_gleam_model_graph(vis_graph_list,\n",
    "                                                            frequency=[frequency[len(frequency)//2]],\n",
    "                                                            channel_bandwidth=[channel_bandwidth[len(frequency)//2]],\n",
    "                                                            context='wstack',\n",
    "                                                                vis_slices=vis_slices)\n",
    "corrupted_vis_graph_list = create_corrupt_vis_graph(corrupted_vis_graph_list, \n",
    "                                                    phase_error=1.0)\n",
    "corrupted_vis_graph_list=c.compute(corrupted_vis_graph_list)"
   ]
  },
  {
   "cell_type": "markdown",
   "metadata": {},
   "source": [
    "Now make a graph to construct the LSM. The LSM is drawn from GLEAM as well but only includes sources brighter than 1 Jy"
   ]
  },
  {
   "cell_type": "code",
   "execution_count": 19,
   "metadata": {
    "ExecuteTime": {
     "end_time": "2018-01-18T11:06:15.236650Z",
     "start_time": "2018-01-18T11:06:15.225586Z"
    },
    "scrolled": false
   },
   "outputs": [
    {
     "name": "stdout",
     "output_type": "stream",
     "text": [
      "dict_keys(['kernel', 'vis_slices', 'wstep', 'freq_sampling_primary_beam', 'freq_sampling_image', 'time_sampling_primary_beam', 'time_sampling_image', 'w_sampling_primary_beam', 'w_sampling_image', 'npixels2', 'npixels', 'pwr23', 'cellsize', 'synthesized_beam', 'facet_fov', 'image_fov', 'primary_beam_fov', 'diameter', 'maximum_baseline', 'min_wavelength', 'max_wavelength', 'svis', 'wprojection_planes', 'facets', 'guard_band_image', 'oversampling_synthesised_beam', 'delA', 'vis'])\n"
     ]
    }
   ],
   "source": [
    "print(advice.keys())\n",
    "from arl.util.bag_support import create_low_test_image_from_gleam\n",
    "npixel = advice['npixels2']\n",
    "cellsize = advice['cellsize']\n",
    "gleam_model_graph = [\n",
    "    delayed(create_low_test_image_from_gleam)(\n",
    "        npixel=npixel,\n",
    "        frequency=[frequency[f]],\n",
    "        channel_bandwidth=[channel_bandwidth[f]],\n",
    "        cellsize=cellsize,\n",
    "        phasecentre=phasecentre,\n",
    "        polarisation_frame=PolarisationFrame(\"stokesI\"),\n",
    "        flux_limit=0.1,\n",
    "        applybeam=True) for f, freq in enumerate(frequency)\n",
    "]"
   ]
  },
  {
   "cell_type": "markdown",
   "metadata": {},
   "source": [
    "Now make a dirty image to see the effect of the phase errors introduced"
   ]
  },
  {
   "cell_type": "code",
   "execution_count": 24,
   "metadata": {
    "ExecuteTime": {
     "end_time": "2018-01-18T11:08:28.993522Z",
     "start_time": "2018-01-18T11:08:28.682693Z"
    },
    "scrolled": false
   },
   "outputs": [
    {
     "name": "stdout",
     "output_type": "stream",
     "text": [
      "[Delayed('sum_invert_results-2d466902-6247-4672-ba40-3a67595b1bae'), Delayed('sum_invert_results-84701943-efbf-40b3-b7fe-e84d6aab3f1d'), Delayed('sum_invert_results-7d2d7dbc-ebf3-4d6e-aa30-583141fe8e56')]\n"
     ]
    },
    {
     "ename": "TypeError",
     "evalue": "create_low_test_image_from_gleam() got multiple values for argument 'npixel'",
     "output_type": "error",
     "traceback": [
      "\u001b[0;31m---------------------------------------------------------------------------\u001b[0m",
      "\u001b[0;31mTypeError\u001b[0m                                 Traceback (most recent call last)",
      "\u001b[0;32m<ipython-input-24-8d27d9785bb6>\u001b[0m in \u001b[0;36m<module>\u001b[0;34m()\u001b[0m\n\u001b[1;32m      3\u001b[0m \u001b[0mprint\u001b[0m\u001b[0;34m(\u001b[0m\u001b[0mdirty_graph\u001b[0m\u001b[0;34m)\u001b[0m\u001b[0;34m\u001b[0m\u001b[0m\n\u001b[1;32m      4\u001b[0m \u001b[0mfuture\u001b[0m\u001b[0;34m=\u001b[0m\u001b[0mc\u001b[0m\u001b[0;34m.\u001b[0m\u001b[0mcompute\u001b[0m\u001b[0;34m(\u001b[0m\u001b[0mdirty_graph\u001b[0m\u001b[0;34m)\u001b[0m\u001b[0;34m\u001b[0m\u001b[0m\n\u001b[0;32m----> 5\u001b[0;31m \u001b[0mprint\u001b[0m\u001b[0;34m(\u001b[0m\u001b[0mfuture\u001b[0m\u001b[0;34m[\u001b[0m\u001b[0;36m0\u001b[0m\u001b[0;34m]\u001b[0m\u001b[0;34m.\u001b[0m\u001b[0mresult\u001b[0m\u001b[0;34m(\u001b[0m\u001b[0;34m)\u001b[0m\u001b[0;34m)\u001b[0m\u001b[0;34m\u001b[0m\u001b[0m\n\u001b[0m\u001b[1;32m      6\u001b[0m \u001b[0mdirty\u001b[0m\u001b[0;34m=\u001b[0m\u001b[0mfuture\u001b[0m\u001b[0;34m.\u001b[0m\u001b[0mresult\u001b[0m\u001b[0;34m(\u001b[0m\u001b[0;34m)\u001b[0m\u001b[0;34m[\u001b[0m\u001b[0;36m0\u001b[0m\u001b[0;34m]\u001b[0m\u001b[0;34m\u001b[0m\u001b[0m\n\u001b[1;32m      7\u001b[0m \u001b[0mshow_image\u001b[0m\u001b[0;34m(\u001b[0m\u001b[0mdirty\u001b[0m\u001b[0;34m,\u001b[0m \u001b[0mtitle\u001b[0m\u001b[0;34m=\u001b[0m\u001b[0;34m'No selfcal'\u001b[0m\u001b[0;34m)\u001b[0m\u001b[0;34m\u001b[0m\u001b[0m\n",
      "\u001b[0;32m~/anaconda/envs/arlenv/lib/python3.6/site-packages/distributed/client.py\u001b[0m in \u001b[0;36mresult\u001b[0;34m(self, timeout)\u001b[0m\n\u001b[1;32m    162\u001b[0m                                   raiseit=False)\n\u001b[1;32m    163\u001b[0m         \u001b[0;32mif\u001b[0m \u001b[0mself\u001b[0m\u001b[0;34m.\u001b[0m\u001b[0mstatus\u001b[0m \u001b[0;34m==\u001b[0m \u001b[0;34m'error'\u001b[0m\u001b[0;34m:\u001b[0m\u001b[0;34m\u001b[0m\u001b[0m\n\u001b[0;32m--> 164\u001b[0;31m             \u001b[0msix\u001b[0m\u001b[0;34m.\u001b[0m\u001b[0mreraise\u001b[0m\u001b[0;34m(\u001b[0m\u001b[0;34m*\u001b[0m\u001b[0mresult\u001b[0m\u001b[0;34m)\u001b[0m\u001b[0;34m\u001b[0m\u001b[0m\n\u001b[0m\u001b[1;32m    165\u001b[0m         \u001b[0;32melif\u001b[0m \u001b[0mself\u001b[0m\u001b[0;34m.\u001b[0m\u001b[0mstatus\u001b[0m \u001b[0;34m==\u001b[0m \u001b[0;34m'cancelled'\u001b[0m\u001b[0;34m:\u001b[0m\u001b[0;34m\u001b[0m\u001b[0m\n\u001b[1;32m    166\u001b[0m             \u001b[0;32mraise\u001b[0m \u001b[0mresult\u001b[0m\u001b[0;34m\u001b[0m\u001b[0m\n",
      "\u001b[0;32m~/anaconda/envs/arlenv/lib/python3.6/site-packages/six.py\u001b[0m in \u001b[0;36mreraise\u001b[0;34m(tp, value, tb)\u001b[0m\n\u001b[1;32m    690\u001b[0m                 \u001b[0mvalue\u001b[0m \u001b[0;34m=\u001b[0m \u001b[0mtp\u001b[0m\u001b[0;34m(\u001b[0m\u001b[0;34m)\u001b[0m\u001b[0;34m\u001b[0m\u001b[0m\n\u001b[1;32m    691\u001b[0m             \u001b[0;32mif\u001b[0m \u001b[0mvalue\u001b[0m\u001b[0;34m.\u001b[0m\u001b[0m__traceback__\u001b[0m \u001b[0;32mis\u001b[0m \u001b[0;32mnot\u001b[0m \u001b[0mtb\u001b[0m\u001b[0;34m:\u001b[0m\u001b[0;34m\u001b[0m\u001b[0m\n\u001b[0;32m--> 692\u001b[0;31m                 \u001b[0;32mraise\u001b[0m \u001b[0mvalue\u001b[0m\u001b[0;34m.\u001b[0m\u001b[0mwith_traceback\u001b[0m\u001b[0;34m(\u001b[0m\u001b[0mtb\u001b[0m\u001b[0;34m)\u001b[0m\u001b[0;34m\u001b[0m\u001b[0m\n\u001b[0m\u001b[1;32m    693\u001b[0m             \u001b[0;32mraise\u001b[0m \u001b[0mvalue\u001b[0m\u001b[0;34m\u001b[0m\u001b[0m\n\u001b[1;32m    694\u001b[0m         \u001b[0;32mfinally\u001b[0m\u001b[0;34m:\u001b[0m\u001b[0;34m\u001b[0m\u001b[0m\n",
      "\u001b[0;32m~/anaconda/envs/arlenv/lib/python3.6/site-packages/dask/compatibility.py\u001b[0m in \u001b[0;36mapply\u001b[0;34m()\u001b[0m\n\u001b[1;32m     46\u001b[0m     \u001b[0;32mdef\u001b[0m \u001b[0mapply\u001b[0m\u001b[0;34m(\u001b[0m\u001b[0mfunc\u001b[0m\u001b[0;34m,\u001b[0m \u001b[0margs\u001b[0m\u001b[0;34m,\u001b[0m \u001b[0mkwargs\u001b[0m\u001b[0;34m=\u001b[0m\u001b[0;32mNone\u001b[0m\u001b[0;34m)\u001b[0m\u001b[0;34m:\u001b[0m\u001b[0;34m\u001b[0m\u001b[0m\n\u001b[1;32m     47\u001b[0m         \u001b[0;32mif\u001b[0m \u001b[0mkwargs\u001b[0m\u001b[0;34m:\u001b[0m\u001b[0;34m\u001b[0m\u001b[0m\n\u001b[0;32m---> 48\u001b[0;31m             \u001b[0;32mreturn\u001b[0m \u001b[0mfunc\u001b[0m\u001b[0;34m(\u001b[0m\u001b[0;34m*\u001b[0m\u001b[0margs\u001b[0m\u001b[0;34m,\u001b[0m \u001b[0;34m**\u001b[0m\u001b[0mkwargs\u001b[0m\u001b[0;34m)\u001b[0m\u001b[0;34m\u001b[0m\u001b[0m\n\u001b[0m\u001b[1;32m     49\u001b[0m         \u001b[0;32melse\u001b[0m\u001b[0;34m:\u001b[0m\u001b[0;34m\u001b[0m\u001b[0m\n\u001b[1;32m     50\u001b[0m             \u001b[0;32mreturn\u001b[0m \u001b[0mfunc\u001b[0m\u001b[0;34m(\u001b[0m\u001b[0;34m*\u001b[0m\u001b[0margs\u001b[0m\u001b[0;34m)\u001b[0m\u001b[0;34m\u001b[0m\u001b[0m\n",
      "\u001b[0;31mTypeError\u001b[0m: create_low_test_image_from_gleam() got multiple values for argument 'npixel'"
     ]
    }
   ],
   "source": [
    "dirty_graph = create_invert_graph(corrupted_vis_graph_list, gleam_model_graph, context='wstack',\n",
    "                                         vis_slices=vis_slices, dopsf=False)\n",
    "print(dirty_graph)\n",
    "future=c.compute(dirty_graph)\n",
    "print(future[0].result())\n",
    "dirty=future.result()[0]\n",
    "show_image(dirty, title='No selfcal')\n",
    "plt.show()"
   ]
  },
  {
   "cell_type": "markdown",
   "metadata": {},
   "source": [
    "First make a selfcal graph in which the different Visibility's are selfcal'ed independently. We will look at the graph for just one Visibility."
   ]
  },
  {
   "cell_type": "code",
   "execution_count": null,
   "metadata": {
    "scrolled": false
   },
   "outputs": [],
   "source": [
    "selfcal_vis_graph_list = create_selfcal_graph_list(corrupted_vis_graph_list, LSM_graph, context='wstack',\n",
    "                                                   vis_slices=vis_slices,\n",
    "                                                   global_solution=False)\n",
    "simple_vis(selfcal_vis_graph_list[0])"
   ]
  },
  {
   "cell_type": "markdown",
   "metadata": {},
   "source": [
    "The graph for making the dirty image now shows a global synchronisation point. We alleviate this by only sending averaged visibilities to the gather step before averaging over the solution interval, the model visibility is divided out. Only the gaintable is sent back for application."
   ]
  },
  {
   "cell_type": "code",
   "execution_count": null,
   "metadata": {
    "scrolled": false
   },
   "outputs": [],
   "source": [
    "dirty_graph = create_invert_graph(selfcal_vis_graph_list, LSM_graph, context='wstack',\n",
    "                                         vis_slices=vis_slices, dopsf=False)\n",
    "simple_vis(dirty_graph)"
   ]
  },
  {
   "cell_type": "code",
   "execution_count": null,
   "metadata": {
    "scrolled": false
   },
   "outputs": [],
   "source": [
    "future=c.compute(dirty_graph)\n",
    "dirty=future.result()[0]\n",
    "show_image(dirty, title='With selfcal')\n",
    "plt.show()"
   ]
  },
  {
   "cell_type": "code",
   "execution_count": null,
   "metadata": {
    "scrolled": true
   },
   "outputs": [],
   "source": [
    "c.shutdown()"
   ]
  },
  {
   "cell_type": "code",
   "execution_count": null,
   "metadata": {},
   "outputs": [],
   "source": []
  }
 ],
 "metadata": {
  "kernelspec": {
   "display_name": "Python 3",
   "language": "python",
   "name": "python3"
  },
  "language_info": {
   "codemirror_mode": {
    "name": "ipython",
    "version": 3
   },
   "file_extension": ".py",
   "mimetype": "text/x-python",
   "name": "python",
   "nbconvert_exporter": "python",
   "pygments_lexer": "ipython3",
   "version": "3.6.1"
  }
 },
 "nbformat": 4,
 "nbformat_minor": 1
}
