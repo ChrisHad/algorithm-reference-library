{
 "cells": [
  {
   "cell_type": "markdown",
   "metadata": {},
   "source": [
    "# Investigation of alternative to baseline-dependent averaging."
   ]
  },
  {
   "cell_type": "markdown",
   "metadata": {},
   "source": [
    "The idea is to partition the visibility into two parts dependent on the density of samples in each grid cell. If the grid cell has many samples in it then we use a coarse gridding such as nearest neighbour. Only if there are few samples in a grid cell do we have to be careful about gridding. In this notebook, we investigate the consequences of imaging in this way."
   ]
  },
  {
   "cell_type": "code",
   "execution_count": null,
   "metadata": {
    "collapsed": false
   },
   "outputs": [],
   "source": [
    "%matplotlib inline\n",
    "\n",
    "import os\n",
    "import sys\n",
    "\n",
    "from time import clock\n",
    "\n",
    "sys.path.append(os.path.join('..', '..'))\n",
    "\n",
    "from matplotlib import pylab\n",
    "\n",
    "pylab.rcParams['agg.path.chunksize'] = 10000\n",
    "pylab.rcParams['figure.figsize'] = (8.0, 8.0)\n",
    "pylab.rcParams['image.cmap'] = 'rainbow'\n",
    "\n",
    "import numpy\n",
    "\n",
    "from astropy.coordinates import SkyCoord\n",
    "from astropy import units as u\n",
    "from astropy import constants as const\n",
    "from astropy.wcs.utils import pixel_to_skycoord\n",
    "\n",
    "from matplotlib import pyplot as plt\n",
    "from matplotlib.pyplot import cm \n",
    "\n",
    "from arl.visibility.operations import create_visibility\n",
    "from arl.skymodel.operations import create_skycomponent\n",
    "from arl.image.operations import show_image, export_image_to_fits, qa_image\n",
    "from arl.image.iterators import raster_iter\n",
    "from arl.visibility.iterators import vis_timeslice_iter\n",
    "from arl.util.testing_support import create_named_configuration\n",
    "from arl.fourier_transforms.ftprocessor import *\n",
    "\n",
    "import logging\n",
    "\n",
    "log = logging.getLogger()\n",
    "log.setLevel(logging.DEBUG)\n",
    "log.addHandler(logging.StreamHandler(sys.stdout))\n",
    "\n",
    "doplot = True"
   ]
  },
  {
   "cell_type": "markdown",
   "metadata": {},
   "source": [
    "Set up imaging parameters"
   ]
  },
  {
   "cell_type": "code",
   "execution_count": null,
   "metadata": {
    "collapsed": true
   },
   "outputs": [],
   "source": [
    "params = {'npol': 1,\n",
    "          'cellsize': 0.001,\n",
    "          'spectral_mode': 'channel',\n",
    "          'channelwidth': 5e7,\n",
    "          'reffrequency': 1e8,\n",
    "          'kernel':'calculated'}"
   ]
  },
  {
   "cell_type": "markdown",
   "metadata": {},
   "source": [
    "Construct the SKA1-LOW core configuration"
   ]
  },
  {
   "cell_type": "code",
   "execution_count": null,
   "metadata": {
    "collapsed": false
   },
   "outputs": [],
   "source": [
    "lowcore = create_named_configuration('LOWBD2-CORE')"
   ]
  },
  {
   "cell_type": "markdown",
   "metadata": {},
   "source": [
    "We create the visibility holding the vis, uvw, time, antenna1, antenna2, weight columns in a table. The actual visibility values are zero."
   ]
  },
  {
   "cell_type": "code",
   "execution_count": null,
   "metadata": {
    "collapsed": false
   },
   "outputs": [],
   "source": [
    "times = numpy.arange(- numpy.pi / 4.0, + numpy.pi * 1.001 / 4.0, numpy.pi / 160)\n",
    "frequency = numpy.array([1e8])\n",
    "\n",
    "reffrequency = numpy.max(frequency)\n",
    "phasecentre = SkyCoord(ra=+15.0 * u.deg, dec=-45.0 * u.deg, frame='icrs', equinox=2000.0)\n",
    "vt = create_visibility(lowcore, times, frequency, weight=1.0, phasecentre=phasecentre, params=params)"
   ]
  },
  {
   "cell_type": "code",
   "execution_count": null,
   "metadata": {
    "collapsed": false,
    "scrolled": false
   },
   "outputs": [],
   "source": [
    "params = {'npixel': 512,\n",
    "          'npol': 1,\n",
    "          'cellsize': 0.001,\n",
    "          'spectral_mode': 'channel',\n",
    "          'channelwidth': 5e7,\n",
    "          'reffrequency': 1e8,}\n",
    "\n",
    "model = create_image_from_visibility(vt, params=params)"
   ]
  },
  {
   "cell_type": "markdown",
   "metadata": {},
   "source": [
    "Now calculate the density of samples in the Fourier plane"
   ]
  },
  {
   "cell_type": "code",
   "execution_count": null,
   "metadata": {
    "collapsed": false
   },
   "outputs": [],
   "source": [
    "vts, density, densitygrid = weight_visibility(vt, model, params)\n",
    "print(density.shape)\n",
    "plt.clf()\n",
    "uvdist = numpy.sqrt(vts.u*vts.u+vts.v*vts.v)\n",
    "plt.plot(uvdist, density[:,0,0], '.')\n",
    "plt.xlabel('UV distance (m)')\n",
    "plt.ylabel('Density (weight per cell)')\n",
    "plt.show()"
   ]
  },
  {
   "cell_type": "code",
   "execution_count": null,
   "metadata": {
    "collapsed": false,
    "scrolled": false
   },
   "outputs": [],
   "source": [
    "plt.clf()\n",
    "plt.imshow(numpy.log(1e-3+densitygrid[0,0,...]))\n",
    "plt.show()"
   ]
  },
  {
   "cell_type": "markdown",
   "metadata": {},
   "source": [
    "Now make the PSF for the full data set and the dense and sparse data"
   ]
  },
  {
   "cell_type": "code",
   "execution_count": null,
   "metadata": {
    "collapsed": false,
    "scrolled": false
   },
   "outputs": [],
   "source": [
    "\n",
    "max_density = numpy.max(densitygrid)\n",
    "\n",
    "params['kernel']='2d'  \n",
    "\n",
    "ts = clock()\n",
    "full_psf, full_sumwt = invert_2d(vt, model, dopsf=True, params=params)\n",
    "full_psf.data /= full_sumwt\n",
    "qa_full = qa_image(full_psf)\n",
    "criterion = 'medianabs'\n",
    "\n",
    "t_full = clock() - ts\n",
    "\n",
    "for padding in [1, 2, 4, 8]:\n",
    "    thresholds = []\n",
    "    criteria = []\n",
    "    t_2ds = []\n",
    "    t_boxs = []\n",
    "\n",
    "    for threshold in max_density * numpy.linspace(0., 1.0, 10)[1:]:\n",
    "        vt_dense  = vt.select_rows(numpy.where(density[:,0,0]>threshold))\n",
    "        vt_sparse = vt.select_rows(numpy.where(density[:,0,0]<=threshold))\n",
    "\n",
    "        ts = clock()\n",
    "        params['kernel']='2d' \n",
    "        params['padding']=2\n",
    "        sparse_psf, sparse_sumwt = invert_2d(vt_sparse, model, dopsf=True, params=params)\n",
    "        if sparse_sumwt > 0.0:\n",
    "            sparse_psf.data /= sparse_sumwt\n",
    "        t_2d = clock() - ts\n",
    "\n",
    "        ts = clock()\n",
    "        params['kernel']='box'\n",
    "        params['padding']=padding\n",
    "        dense_psf, dense_sumwt = invert_2d(vt_dense, model, dopsf=True, params=params)\n",
    "        if dense_sumwt > 0.0:\n",
    "            dense_psf.data /= dense_sumwt\n",
    "        t_box = clock() - ts\n",
    "\n",
    "\n",
    "        error_psf = copy.deepcopy(full_psf)\n",
    "        error_psf.data -= (vt_dense.nvis * dense_psf.data + vt_sparse.nvis * sparse_psf.data) \\\n",
    "            / (vt_dense.nvis + vt_sparse.nvis)\n",
    "    \n",
    "        qa = qa_image(error_psf)\n",
    "        t_boxs.append(t_box)\n",
    "        t_2ds.append(t_2d)\n",
    "        criteria.append(qa.data[criterion])\n",
    "        thresholds.append(threshold)\n",
    "\n",
    "    plt.clf()\n",
    "    plt.subplot(121)\n",
    "    t_2ds = numpy.array(t_2ds)\n",
    "    t_boxs = numpy.array(t_boxs)\n",
    "    plt.plot(thresholds, criteria/qa_full.data[criterion])\n",
    "    plt.xlabel('Threshold (density)')\n",
    "    plt.ylabel('Fractional %s' % (criterion))\n",
    "    plt.title('Padding = %d' % (padding))\n",
    "    \n",
    "    plt.subplot(122)\n",
    "    plt.plot(thresholds, t_2ds, color='r', label='sparse via 2d')\n",
    "    plt.plot(thresholds, t_boxs, color='b', label='dense via box')\n",
    "    plt.plot(thresholds, t_boxs+t_2ds, color='g', label='total')    \n",
    "    plt.xlabel('Threshold (density)')\n",
    "    plt.ylabel('Clock time (s)')\n",
    "    plt.axhline(t_full, color='y', label='2d')\n",
    "    plt.legend(loc='best')\n",
    "    plt.title('Padding = %d' % (padding))\n",
    "    plt.show()\n",
    "\n"
   ]
  },
  {
   "cell_type": "markdown",
   "metadata": {},
   "source": [
    "We can see that for large padding, the constant FFT time starts to dominate and the approach becomes counterproductive."
   ]
  },
  {
   "cell_type": "code",
   "execution_count": null,
   "metadata": {
    "collapsed": true
   },
   "outputs": [],
   "source": []
  }
 ],
 "metadata": {
  "kernelspec": {
   "display_name": "Python 3",
   "language": "python",
   "name": "python3"
  },
  "language_info": {
   "codemirror_mode": {
    "name": "ipython",
    "version": 3
   },
   "file_extension": ".py",
   "mimetype": "text/x-python",
   "name": "python",
   "nbconvert_exporter": "python",
   "pygments_lexer": "ipython3",
   "version": "3.5.1"
  },
  "widgets": {
   "state": {},
   "version": "1.1.2"
  }
 },
 "nbformat": 4,
 "nbformat_minor": 0
}
