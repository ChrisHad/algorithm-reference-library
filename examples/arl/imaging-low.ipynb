{
 "cells": [
  {
   "cell_type": "markdown",
   "metadata": {},
   "source": [
    "# Imaging and deconvolution demonstration"
   ]
  },
  {
   "cell_type": "markdown",
   "metadata": {},
   "source": [
    "This script makes a fake data set and then deconvolves it. Finally the full and residual visibility are plotted."
   ]
  },
  {
   "cell_type": "code",
   "execution_count": null,
   "metadata": {
    "collapsed": false
   },
   "outputs": [],
   "source": [
    "%matplotlib inline\n",
    "\n",
    "import os\n",
    "import sys\n",
    "\n",
    "sys.path.append(os.path.join('..', '..'))\n",
    "\n",
    "from matplotlib import pylab\n",
    "\n",
    "pylab.rcParams['figure.figsize'] = (8.0, 8.0)\n",
    "pylab.rcParams['image.cmap'] = 'rainbow'\n",
    "\n",
    "import numpy\n",
    "\n",
    "from astropy.coordinates import SkyCoord\n",
    "from astropy import units as u\n",
    "from astropy import constants as const\n",
    "from astropy.wcs.utils import pixel_to_skycoord\n",
    "\n",
    "from matplotlib import pyplot as plt\n",
    "\n",
    "from arl.visibility.operations import create_visibility\n",
    "from arl.skymodel.operations import create_skycomponent\n",
    "from arl.image.operations import show_image, export_image_to_fits\n",
    "from arl.image.deconvolution import deconvolve_cube\n",
    "from arl.image.iterators import raster_iter\n",
    "from arl.visibility.iterators import vis_timeslice_iter\n",
    "from arl.util.testing_support import create_named_configuration, create_test_image\n",
    "from arl.fourier_transforms.ftprocessor import *\n",
    "\n",
    "import logging\n",
    "\n",
    "log = logging.getLogger()\n",
    "log.setLevel(logging.DEBUG)\n",
    "log.addHandler(logging.StreamHandler(sys.stdout))\n",
    "\n",
    "doplot = True"
   ]
  },
  {
   "cell_type": "code",
   "execution_count": null,
   "metadata": {
    "collapsed": true
   },
   "outputs": [],
   "source": [
    "params = {'npol': 1,\n",
    "          'spectral_mode': 'channel',\n",
    "          'channelwidth': 5e7,\n",
    "          'reffrequency': 1e8}"
   ]
  },
  {
   "cell_type": "markdown",
   "metadata": {},
   "source": [
    "Construct LOW core configuration"
   ]
  },
  {
   "cell_type": "code",
   "execution_count": null,
   "metadata": {
    "collapsed": true
   },
   "outputs": [],
   "source": [
    "lowcore = create_named_configuration('LOWBD2')"
   ]
  },
  {
   "cell_type": "markdown",
   "metadata": {},
   "source": [
    "We create the visibility. This just makes the uvw, time, antenna1, antenna2, weight columns in a table"
   ]
  },
  {
   "cell_type": "code",
   "execution_count": null,
   "metadata": {
    "collapsed": false
   },
   "outputs": [],
   "source": [
    "times = numpy.arange(- numpy.pi / 4.0, + numpy.pi * 1.001 / 4.0, numpy.pi / 64.0)\n",
    "frequency = numpy.array([0.8e8, 0.9e8, 1e8, 1.1e8, 1.2e8])\n",
    "\n",
    "reffrequency = numpy.max(frequency)\n",
    "phasecentre = SkyCoord(ra=+180.0 * u.deg, dec=-60.0 * u.deg, frame='icrs', equinox=2000.0)\n",
    "vt = create_visibility(lowcore, times, frequency, weight=1.0, phasecentre=phasecentre, params=params)"
   ]
  },
  {
   "cell_type": "markdown",
   "metadata": {},
   "source": [
    "Plot the synthesized uv coverage, including for MFS"
   ]
  },
  {
   "cell_type": "code",
   "execution_count": null,
   "metadata": {
    "collapsed": false,
    "scrolled": false
   },
   "outputs": [],
   "source": [
    "plt.clf()\n",
    "plt.plot(vt.uvw_lambda()[:,0],   vt.uvw_lambda()[:,1], '.', color='b')\n",
    "plt.plot(-vt.uvw_lambda()[:,0], -vt.uvw_lambda()[:,1], '.', color='r')\n",
    "plt.xlabel(\"U (wavelengths)\")\n",
    "plt.ylabel(\"V (wavelengths)\")\n",
    "plt.show()"
   ]
  },
  {
   "cell_type": "markdown",
   "metadata": {},
   "source": [
    "Read the venerable test image, constructing an image"
   ]
  },
  {
   "cell_type": "code",
   "execution_count": null,
   "metadata": {
    "collapsed": false
   },
   "outputs": [],
   "source": [
    "params={}\n",
    "params['cellsize']=0.00001\n",
    "\n",
    "m31image = create_test_image(npol=1, nchan=len(frequency), cellsize=params['cellsize'])\n",
    "nchan, npol, ny, nx = m31image.data.shape\n",
    "m31image.wcs.wcs.crval[0] = vt.phasecentre.ra.deg\n",
    "m31image.wcs.wcs.crval[1] = vt.phasecentre.dec.deg\n",
    "m31image.wcs.wcs.crpix[0] = float(nx // 2)\n",
    "m31image.wcs.wcs.crpix[1] = float(ny // 2)\n",
    "\n",
    "fig=show_image(m31image)"
   ]
  },
  {
   "cell_type": "code",
   "execution_count": null,
   "metadata": {
    "collapsed": false,
    "scrolled": false
   },
   "outputs": [],
   "source": [
    "params={}\n",
    "params['npixel']=4096\n",
    "params['cellsize']=0.00001\n",
    "params['timeslice']=1.0\n",
    "params['nprocessor']=4\n",
    "\n",
    "vt = predict_timeslice(vt, m31image, params=params)\n",
    "\n",
    "# To check that we got the prediction right, plot the amplitude of the visibility.\n",
    "uvdist=numpy.sqrt(vt.data['uvw'][:,0]**2+vt.data['uvw'][:,1]**2)\n",
    "plt.clf()\n",
    "plt.plot(uvdist, numpy.abs(vt.data['vis'][:,0,0]), '.')\n",
    "plt.xlabel('uvdist')\n",
    "plt.ylabel('Amp Visibility')\n",
    "plt.show()"
   ]
  },
  {
   "cell_type": "markdown",
   "metadata": {},
   "source": [
    "Use uniform weighting, and show the density of weights"
   ]
  },
  {
   "cell_type": "code",
   "execution_count": null,
   "metadata": {
    "collapsed": false
   },
   "outputs": [],
   "source": [
    "params={}\n",
    "params['npixel']=4096\n",
    "params['cellsize']=0.00001\n",
    "params['timeslice']=1.0\n",
    "\n",
    "model = create_image_from_visibility(vt, params=params)\n",
    "vt, density, densitygrid = weight_visibility(vt, model)\n",
    "plt.clf()\n",
    "plt.imshow(numpy.log(1e-3+densitygrid[0,0,:,:]))\n",
    "plt.title('UV density')"
   ]
  },
  {
   "cell_type": "markdown",
   "metadata": {},
   "source": [
    "Make the dirty image and point spread function"
   ]
  },
  {
   "cell_type": "code",
   "execution_count": null,
   "metadata": {
    "collapsed": false,
    "scrolled": false
   },
   "outputs": [],
   "source": [
    "params={}\n",
    "params['npixel']=4096\n",
    "params['cellsize']=0.00001\n",
    "params['timeslice']=1.0\n",
    "params['nprocessor']=4\n",
    "dirty, sumwt = invert_timeslice(vt, model, params=params)\n",
    "psf, sumwt = invert_timeslice(vt, model, dopsf=True, params=params)\n",
    "dirty.data = dirty.data/sumwt\n",
    "psf.data = psf.data/sumwt\n",
    "\n",
    "show_image(dirty)\n",
    "print(\"Max, min in dirty image = %.6f, %.6f, sumwt = %f\" % (dirty.data.max(), dirty.data.min(), sumwt))\n",
    "\n",
    "print(\"Max, min in PSF         = %.6f, %.6f, sumwt = %f\" % (psf.data.max(), psf.data.min(), sumwt))\n",
    "\n",
    "export_image_to_fits(dirty, 'imaging_dirty.fits')\n",
    "export_image_to_fits(psf, 'imaging_psf.fits')"
   ]
  },
  {
   "cell_type": "markdown",
   "metadata": {},
   "source": [
    "Deconvolve using clean"
   ]
  },
  {
   "cell_type": "code",
   "execution_count": null,
   "metadata": {
    "collapsed": false,
    "scrolled": false
   },
   "outputs": [],
   "source": [
    "params={'niter':100, 'threshold':0.001, 'fracthresh':0.01, 'scales':[0, 3, 10, 30]}\n",
    "comp, residual = deconvolve_cube(dirty, psf, params)\n",
    "\n",
    "# Show the results\n",
    "\n",
    "fig=show_image(comp)\n",
    "fig=show_image(residual)"
   ]
  },
  {
   "cell_type": "markdown",
   "metadata": {
    "collapsed": false
   },
   "source": [
    "Predict the visibility of the model"
   ]
  },
  {
   "cell_type": "code",
   "execution_count": null,
   "metadata": {
    "collapsed": false
   },
   "outputs": [],
   "source": [
    "vtmodel = create_visibility(lowcore, times, frequency, weight=1.0, phasecentre=phasecentre)\n",
    "vtmodel=predict_timeslice(vtmodel, comp, params=params)"
   ]
  },
  {
   "cell_type": "markdown",
   "metadata": {
    "collapsed": true
   },
   "source": [
    "Now we will plot the original visibility and the residual visibility."
   ]
  },
  {
   "cell_type": "code",
   "execution_count": null,
   "metadata": {
    "collapsed": false
   },
   "outputs": [],
   "source": [
    "uvdist=numpy.sqrt(vt.data['uvw'][:,0]**2+vt.data['uvw'][:,1]**2)\n",
    "plt.clf()\n",
    "plt.plot(uvdist, numpy.abs(vt.data['vis'][:,0,0]-vtmodel.data['vis'][:,0,0]), '.', color='r', label='Residual')\n",
    "plt.plot(uvdist, numpy.abs(vt.data['vis'][:,0,0]), '.', color='b', label='Original')\n",
    "\n",
    "plt.xlabel('uvdist')\n",
    "plt.ylabel('Amp Visibility')\n",
    "plt.legend()\n",
    "plt.show()"
   ]
  },
  {
   "cell_type": "code",
   "execution_count": null,
   "metadata": {
    "collapsed": true
   },
   "outputs": [],
   "source": []
  }
 ],
 "metadata": {
  "kernelspec": {
   "display_name": "Python 3",
   "language": "python",
   "name": "python3"
  },
  "language_info": {
   "codemirror_mode": {
    "name": "ipython",
    "version": 3
   },
   "file_extension": ".py",
   "mimetype": "text/x-python",
   "name": "python",
   "nbconvert_exporter": "python",
   "pygments_lexer": "ipython3",
   "version": "3.5.1"
  },
  "widgets": {
   "state": {},
   "version": "1.1.2"
  }
 },
 "nbformat": 4,
 "nbformat_minor": 0
}
