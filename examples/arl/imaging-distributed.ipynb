{
 "cells": [
  {
   "cell_type": "markdown",
   "metadata": {},
   "source": [
    "# Dask imaging demonstration with progress bars\n",
    "\n",
    "This notebook explores the use of dask for parallelisation. We work through the steps of imaging, generating graphs, ending up with a major/minor cycle algorithm using dask. When run interactively, progress bars are shown."
   ]
  },
  {
   "cell_type": "code",
   "execution_count": null,
   "metadata": {
    "collapsed": true
   },
   "outputs": [],
   "source": [
    "%matplotlib inline\n",
    "\n",
    "import os\n",
    "import sys\n",
    "\n",
    "from distributed import Client, progress\n",
    "from dask import delayed\n",
    "import dask\n",
    "\n",
    "sys.path.append(os.path.join('..', '..'))\n",
    "\n",
    "results_dir = './results'\n",
    "os.makedirs(results_dir, exist_ok=True)\n",
    "\n",
    "from matplotlib import pylab\n",
    "\n",
    "pylab.rcParams['figure.figsize'] = (12.0, 12.0)\n",
    "pylab.rcParams['image.cmap'] = 'rainbow'\n",
    "\n",
    "import numpy\n",
    "\n",
    "from astropy.coordinates import SkyCoord\n",
    "from astropy import units as u\n",
    "from astropy.wcs.utils import pixel_to_skycoord\n",
    "\n",
    "from matplotlib import pyplot as plt\n",
    "\n",
    "from arl.data.polarisation import PolarisationFrame\n",
    "from arl.data.parameters import get_parameter\n",
    "from arl.visibility.operations import create_blockvisibility, create_visibility_from_rows, \\\n",
    "    copy_visibility\n",
    "from arl.skycomponent.operations import create_skycomponent\n",
    "from arl.image.deconvolution import deconvolve_cube, restore_cube\n",
    "from arl.image.operations import show_image, export_image_to_fits, qa_image\n",
    "from arl.image.iterators import raster_iter\n",
    "from arl.visibility.iterators import vis_timeslice_iter, vis_timeslice_iter\n",
    "from arl.util.testing_support import create_named_configuration\n",
    "from arl.fourier_transforms.ftprocessor import predict_2d, invert_2d, \\\n",
    "    create_image_from_visibility, predict_skycomponent_visibility, residual_image, \\\n",
    "    invert_timeslice_single, invert_timeslice_single, \\\n",
    "    predict_timeslice_single, predict_timeslice_single, advise_wide_field\n",
    "\n",
    "from arl.fourier_transforms.ftprocessor import predict_2d, invert_2d, \\\n",
    "    create_image_from_visibility, \\\n",
    "    predict_skycomponent_visibility, residual_image, invert_timeslice_single, \\\n",
    "    predict_timeslice_single, advise_wide_field\n",
    "\n",
    "from arl.pipelines.dask_graphs import *\n",
    "from arl.pipelines.generic_dask_graphs import *\n",
    "\n",
    "import logging\n",
    "\n",
    "log = logging.getLogger()\n",
    "log.setLevel(logging.INFO)\n",
    "log.addHandler(logging.StreamHandler(sys.stdout))"
   ]
  },
  {
   "cell_type": "markdown",
   "metadata": {},
   "source": [
    "We create the visibility. "
   ]
  },
  {
   "cell_type": "code",
   "execution_count": null,
   "metadata": {},
   "outputs": [],
   "source": [
    "lowcore = create_named_configuration('LOWBD2-CORE')\n",
    "times = numpy.linspace(-3,+3,13) * (numpy.pi / 12.0)\n",
    "frequency = numpy.array([1e8])\n",
    "channel_bandwidth = numpy.array([1e7])\n",
    "\n",
    "\n",
    "reffrequency = numpy.max(frequency)\n",
    "phasecentre = SkyCoord(ra=+15.0 * u.deg, dec=-45.0 * u.deg, frame='icrs', equinox=2000.0)\n",
    "vt = create_blockvisibility(lowcore, times, frequency, channel_bandwidth=channel_bandwidth,\n",
    "                       weight=1.0, phasecentre=phasecentre, \n",
    "                       polarisation_frame=PolarisationFrame(\"stokesI\"))"
   ]
  },
  {
   "cell_type": "markdown",
   "metadata": {},
   "source": [
    "Create a grid of components and predict each in turn, using the full phase term including w."
   ]
  },
  {
   "cell_type": "code",
   "execution_count": null,
   "metadata": {
    "scrolled": false
   },
   "outputs": [],
   "source": [
    "npixel = 512\n",
    "cellsize=0.001\n",
    "flux = numpy.array([[100.0]])\n",
    "facets = 4\n",
    "\n",
    "model = create_image_from_visibility(vt, npixel=npixel, cellsize=cellsize, npol=1,\n",
    "                                    polarisation_frame=PolarisationFrame(\"stokesI\"))\n",
    "spacing_pixels = npixel // facets\n",
    "log.info('Spacing in pixels = %s' % spacing_pixels)\n",
    "spacing = 180.0 * cellsize * spacing_pixels / numpy.pi\n",
    "centers = -1.5, -0.5, +0.5, +1.5\n",
    "comps = list()\n",
    "for iy in centers:\n",
    "    for ix in centers:\n",
    "        pra =  int(round(npixel // 2 + ix * spacing_pixels - 1))\n",
    "        pdec = int(round(npixel // 2 + iy * spacing_pixels - 1))\n",
    "        sc = pixel_to_skycoord(pra, pdec, model.wcs)\n",
    "        log.info(\"Component at (%f, %f) %s\" % (pra, pdec, str(sc)))\n",
    "        comps.append(create_skycomponent(flux=flux, frequency=frequency, direction=sc, \n",
    "                                         polarisation_frame=PolarisationFrame(\"stokesI\")))\n",
    "vt = predict_skycomponent_blockvisibility(vt, comps)"
   ]
  },
  {
   "cell_type": "code",
   "execution_count": null,
   "metadata": {
    "scrolled": true
   },
   "outputs": [],
   "source": [
    "model_graph = delayed(create_image_from_visibility)(vt, npixel=512, cellsize=0.001, npol=1)\n",
    "psf_graph = create_invert_graph(vt, model_graph, dopsf=True, \n",
    "                                invert_single=invert_timeslice_single, \n",
    "                                iterator=vis_timeslice_iter, \n",
    "                                normalize=False, timeslice=10.0)\n",
    "psf_graph.visualize()\n",
    "psf, sumwt = psf_graph.compute()"
   ]
  },
  {
   "cell_type": "code",
   "execution_count": null,
   "metadata": {},
   "outputs": [],
   "source": [
    "show_image(psf);plt.show()"
   ]
  },
  {
   "cell_type": "code",
   "execution_count": null,
   "metadata": {},
   "outputs": [],
   "source": [
    "residual_timeslice_graph = create_residual_graph(vt, model_graph, \n",
    "                                                 predict_residual=predict_timeslice_single, \n",
    "                                                 invert_residual=invert_timeslice_single, \n",
    "                                                 iterator=vis_timeslice_iter)\n",
    "\n",
    "solution_graph = create_solve_image_graph(vt, model_graph=model_graph, \n",
    "                                          invert_residual=invert_timeslice_single, \n",
    "                                          predict_residual=predict_timeslice_single, \n",
    "                                          iterator=vis_timeslice_iter, algorithm='hogbom',\n",
    "                                          niter=1000, fractional_threshold=0.1,\n",
    "                                          threshold=1.0, nmajor=3, gain=0.1)\n",
    "residual_timeslice_graph = create_residual_graph(vt, solution_graph, \n",
    "                                                 predict_residual=predict_timeslice_single, \n",
    "                                                 invert_residual=invert_timeslice_single, \n",
    "                                                 iterator=vis_timeslice_iter)\n",
    "\n",
    "\n",
    "restore_graph = create_restore_graph(solution_graph, psf_graph, residual_timeslice_graph)\n",
    "restore_graph.visualize()"
   ]
  },
  {
   "cell_type": "markdown",
   "metadata": {},
   "source": [
    "Create a Client to talk to a scheduler (automatically created) and a number of workers."
   ]
  },
  {
   "cell_type": "code",
   "execution_count": null,
   "metadata": {
    "scrolled": false
   },
   "outputs": [],
   "source": [
    "c=Client()\n",
    "c.scheduler_info()"
   ]
  },
  {
   "cell_type": "markdown",
   "metadata": {},
   "source": [
    "Now we can use the client to execute the graph."
   ]
  },
  {
   "cell_type": "code",
   "execution_count": null,
   "metadata": {
    "scrolled": true
   },
   "outputs": [],
   "source": [
    "future=c.compute(restore_graph);progress(future)"
   ]
  },
  {
   "cell_type": "markdown",
   "metadata": {},
   "source": [
    "future.result will wait until the result is ready"
   ]
  },
  {
   "cell_type": "code",
   "execution_count": null,
   "metadata": {},
   "outputs": [],
   "source": [
    "restored_image=future.result()"
   ]
  },
  {
   "cell_type": "code",
   "execution_count": null,
   "metadata": {},
   "outputs": [],
   "source": [
    "show_image(restored_image)\n",
    "plt.show()"
   ]
  },
  {
   "cell_type": "code",
   "execution_count": null,
   "metadata": {
    "collapsed": true
   },
   "outputs": [],
   "source": []
  }
 ],
 "metadata": {
  "kernelspec": {
   "display_name": "Python 3",
   "language": "python",
   "name": "python3"
  },
  "language_info": {
   "codemirror_mode": {
    "name": "ipython",
    "version": 3
   },
   "file_extension": ".py",
   "mimetype": "text/x-python",
   "name": "python",
   "nbconvert_exporter": "python",
   "pygments_lexer": "ipython3",
   "version": "3.6.1"
  }
 },
 "nbformat": 4,
 "nbformat_minor": 1
}
