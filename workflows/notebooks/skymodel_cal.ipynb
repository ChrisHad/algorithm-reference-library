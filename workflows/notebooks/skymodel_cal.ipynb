{
 "cells": [
  {
   "cell_type": "markdown",
   "metadata": {},
   "source": [
    "# Calibration of non-isoplanatic low frequency data\n",
    "\n",
    "This uses an implementation of the SageCAL algorithm to calibrate a simulated SKA1LOW observation in which sources inside the primary beam have one set of calibration errors and sources outside have different errors.\n",
    "\n",
    "In this example, the peeler sources are held fixed in strength and location and only the gains solved. The other sources, inside the primary beam, are partitioned into weak (<5Jy) and strong (>5Jy). The weak sources are processed collectively as an image. The bright sources are processed individually.\n"
   ]
  },
  {
   "cell_type": "code",
   "execution_count": null,
   "metadata": {
    "ExecuteTime": {
     "end_time": "2018-03-01T14:24:30.226437Z",
     "start_time": "2018-03-01T14:24:28.805013Z"
    },
    "scrolled": false
   },
   "outputs": [],
   "source": [
    "% matplotlib inline\n",
    "\n",
    "import os\n",
    "import sys\n",
    "\n",
    "sys.path.append(os.path.join('..', '..'))\n",
    "\n",
    "from data_models.parameters import arl_path\n",
    "\n",
    "results_dir = arl_path('test_results')\n",
    "\n",
    "import numpy\n",
    "\n",
    "from astropy.coordinates import SkyCoord\n",
    "from astropy import units as u\n",
    "from astropy.wcs.utils import pixel_to_skycoord\n",
    "\n",
    "from matplotlib import pyplot as plt\n",
    "\n",
    "from processing_components.component_support.arlexecute import arlexecute\n",
    "\n",
    "from libs.skycomponent.operations import find_skycomponents\n",
    "from libs.calibration.solvers import solve_gaintable\n",
    "from libs.calibration.operations import apply_gaintable, create_gaintable_from_blockvisibility\n",
    "from data_models.polarisation import PolarisationFrame\n",
    "from libs.visibility.base import create_blockvisibility, copy_visibility\n",
    "from libs.image.deconvolution import restore_cube\n",
    "from libs.skycomponent.operations import select_components_by_separation, insert_skycomponent, \\\n",
    "    select_components_by_flux\n",
    "from libs.image.operations import show_image, qa_image, copy_image, create_empty_image_like\n",
    "from libs.visibility.iterators import vis_timeslice_iter\n",
    "from libs.visibility.coalesce import convert_visibility_to_blockvisibility\n",
    "from libs.util.testing_support import create_named_configuration, create_low_test_beam, \\\n",
    "    simulate_gaintable, create_low_test_skycomponents_from_gleam\n",
    "from libs.skycomponent.operations import apply_beam_to_skycomponent, find_skycomponent_matches\n",
    "from data_models.memory_data_models import SkyModel\n",
    "from libs.imaging import create_image_from_visibility, advise_wide_field, predict_skycomponent_visibility\n",
    "from libs.imaging.imaging_functions import invert_function\n",
    "\n",
    "from libs.calibration.calskymodel import calskymodel_solve\n",
    "from processing_components.components.calskymodel_components import calskymodel_solve_component\n",
    "\n",
    "from processing_components.component_support.dask_init import get_dask_Client\n",
    "from libs.image.operations import export_image_to_fits\n",
    "\n",
    "import logging\n",
    "\n",
    "def init_logging():\n",
    "    log = logging.getLogger()\n",
    "    logging.basicConfig(filename='%s/skymodel_cal.log' % results_dir,\n",
    "                        filemode='a',\n",
    "                        format='%(thread)s %(asctime)s,%(msecs)d %(name)s %(levelname)s %(message)s',\n",
    "                        datefmt='%H:%M:%S',\n",
    "                        level=logging.INFO)\n",
    "log = logging.getLogger()\n",
    "logging.info(\"Starting skymodel_cal\")\n"
   ]
  },
  {
   "cell_type": "markdown",
   "metadata": {},
   "source": [
    "Use Dask throughout"
   ]
  },
  {
   "cell_type": "code",
   "execution_count": null,
   "metadata": {},
   "outputs": [],
   "source": [
    "arlexecute.set_client(get_dask_Client())\n",
    "arlexecute.client.run(init_logging)"
   ]
  },
  {
   "cell_type": "markdown",
   "metadata": {},
   "source": [
    "We make the visibility. The parameter rmax determines the distance of the furthest antenna/stations used. All over parameters are determined from this number.\n",
    "\n",
    "We set the w coordinate to be zero for all visibilities so as not to have to do full w-term processing. This speeds up the imaging steps."
   ]
  },
  {
   "cell_type": "code",
   "execution_count": null,
   "metadata": {
    "ExecuteTime": {
     "end_time": "2018-03-01T14:24:30.344610Z",
     "start_time": "2018-03-01T14:24:30.227987Z"
    }
   },
   "outputs": [],
   "source": [
    "nfreqwin = 1\n",
    "ntimes = 1\n",
    "rmax = 750\n",
    "frequency = numpy.linspace(0.8e8, 1.2e8, nfreqwin)\n",
    "if nfreqwin > 1:\n",
    "    channel_bandwidth = numpy.array(nfreqwin * [frequency[1] - frequency[0]])\n",
    "else:\n",
    "    channel_bandwidth = [0.4e8]\n",
    "times = numpy.linspace(-numpy.pi / 3.0, numpy.pi / 3.0, ntimes)\n",
    "\n",
    "phasecentre=SkyCoord(ra=+30.0 * u.deg, dec=-45.0 * u.deg, frame='icrs', equinox='J2000')\n",
    "lowcore = create_named_configuration('LOWBD2', rmax=rmax)\n",
    "\n",
    "block_vis = create_blockvisibility(lowcore, times, frequency=frequency,\n",
    "    channel_bandwidth=channel_bandwidth, weight=1.0, phasecentre=phasecentre,\n",
    "    polarisation_frame=PolarisationFrame(\"stokesI\"), zerow=True)"
   ]
  },
  {
   "cell_type": "code",
   "execution_count": null,
   "metadata": {
    "ExecuteTime": {
     "end_time": "2018-03-01T14:24:30.666903Z",
     "start_time": "2018-03-01T14:24:30.347002Z"
    },
    "scrolled": false
   },
   "outputs": [],
   "source": [
    "wprojection_planes=1\n",
    "advice=advise_wide_field(block_vis, guard_band_image=5.0, delA=0.02, \n",
    "                         wprojection_planes=wprojection_planes)\n",
    "\n",
    "vis_slices = advice['vis_slices']\n",
    "npixel=advice['npixels2']\n",
    "cellsize=advice['cellsize']"
   ]
  },
  {
   "cell_type": "markdown",
   "metadata": {},
   "source": [
    "Generate the model from the GLEAM catalog, including application of the primary beam."
   ]
  },
  {
   "cell_type": "code",
   "execution_count": null,
   "metadata": {
    "ExecuteTime": {
     "end_time": "2018-03-01T14:24:42.767905Z",
     "start_time": "2018-03-01T14:24:30.672049Z"
    }
   },
   "outputs": [],
   "source": [
    "beam = create_image_from_visibility(block_vis, npixel=npixel, frequency=frequency,\n",
    "    nchan=nfreqwin, cellsize=cellsize, phasecentre=phasecentre)\n",
    "\n",
    "original_gleam_components = create_low_test_skycomponents_from_gleam(flux_limit=1.0,\n",
    "    phasecentre=phasecentre, frequency=frequency, \n",
    "    polarisation_frame=PolarisationFrame('stokesI'),\n",
    "    radius=npixel * cellsize/2.0)\n",
    "\n",
    "beam = create_low_test_beam(beam)\n",
    "pb_gleam_components = apply_beam_to_skycomponent(original_gleam_components, beam, \n",
    "                                                       flux_limit=0.5)\n",
    "from matplotlib import pylab\n",
    "pylab.rcParams['figure.figsize'] = (12.0, 12.0)\n",
    "pylab.rcParams['image.cmap'] = 'rainbow'\n",
    "\n",
    "\n",
    "show_image(beam, components=pb_gleam_components, cm='Greys', title='Primary beam plus GLEAM components')\n",
    "print(\"Number of components %d\" % len(pb_gleam_components))"
   ]
  },
  {
   "cell_type": "markdown",
   "metadata": {
    "ExecuteTime": {
     "end_time": "2018-02-07T15:50:29.575949Z",
     "start_time": "2018-02-07T15:50:29.572226Z"
    }
   },
   "source": [
    "Generate the template image"
   ]
  },
  {
   "cell_type": "code",
   "execution_count": null,
   "metadata": {
    "ExecuteTime": {
     "end_time": "2018-03-01T14:24:42.796639Z",
     "start_time": "2018-03-01T14:24:42.770174Z"
    },
    "scrolled": false
   },
   "outputs": [],
   "source": [
    "model = create_image_from_visibility(block_vis, npixel=npixel, \n",
    "                                     frequency=[numpy.average(frequency)], \n",
    "                                     nchan=1,\n",
    "                                     channel_bandwidth=[numpy.sum(channel_bandwidth)], \n",
    "                                     cellsize=cellsize, phasecentre=phasecentre)"
   ]
  },
  {
   "cell_type": "markdown",
   "metadata": {},
   "source": [
    "Create sources to be peeled"
   ]
  },
  {
   "cell_type": "code",
   "execution_count": null,
   "metadata": {},
   "outputs": [],
   "source": [
    "peel_distance = 0.16\n",
    "peelers = select_components_by_separation(phasecentre, pb_gleam_components, \n",
    "                                          min=peel_distance)\n",
    "gleam_components = select_components_by_separation(phasecentre, pb_gleam_components, \n",
    "                                          max=peel_distance)\n",
    "print(\"There are %d sources inside the primary beam and %d sources outside\"\n",
    "     % (len(gleam_components), len(peelers)))"
   ]
  },
  {
   "cell_type": "markdown",
   "metadata": {},
   "source": [
    "Create the model visibilities, applying a different gain table for peeled sources and other components"
   ]
  },
  {
   "cell_type": "code",
   "execution_count": null,
   "metadata": {
    "ExecuteTime": {
     "end_time": "2018-03-01T14:24:48.239275Z",
     "start_time": "2018-03-01T14:24:42.799091Z"
    }
   },
   "outputs": [],
   "source": [
    "corrupted_vis = copy_visibility(block_vis, zero=True)\n",
    "gt = create_gaintable_from_blockvisibility(block_vis, timeslice='auto')\n",
    "\n",
    "components_errors = [(p, 1.0) for p in peelers]\n",
    "components_errors.append((pb_gleam_components, 0.1))\n",
    "\n",
    "for sc, phase_error in components_errors:\n",
    "    component_vis = copy_visibility(block_vis, zero=True)\n",
    "    gt = simulate_gaintable(gt, amplitude_error=0.0, phase_error=phase_error)\n",
    "    component_vis = predict_skycomponent_visibility(component_vis, sc)\n",
    "    component_vis = apply_gaintable(component_vis, gt)\n",
    "    corrupted_vis.data['vis'][...]+=component_vis.data['vis'][...]\n",
    "    \n",
    "dirty, sumwt = invert_function(corrupted_vis, model, context='2d')\n",
    "qa=qa_image(dirty)\n",
    "vmax=qa.data['medianabs']*20.0\n",
    "vmin=-qa.data['medianabs']\n",
    "print(qa)\n",
    "export_image_to_fits(dirty, '%s/calskymodel_before_dirty.fits' % results_dir)\n",
    "show_image(dirty, cm='Greys', components=peelers, vmax=vmax, vmin=vmin, title='Peelers')\n",
    "show_image(dirty, cm='Greys', components=gleam_components, vmax=vmax, vmin=vmin, title='Targets')\n",
    "plt.show()"
   ]
  },
  {
   "cell_type": "markdown",
   "metadata": {},
   "source": [
    "Find the components above the threshold"
   ]
  },
  {
   "cell_type": "code",
   "execution_count": null,
   "metadata": {
    "ExecuteTime": {
     "end_time": "2018-03-01T14:24:49.955466Z",
     "start_time": "2018-03-01T14:24:49.010353Z"
    },
    "scrolled": false
   },
   "outputs": [],
   "source": [
    "qa = qa_image(dirty)\n",
    "vmax=qa.data['medianabs']*20.0\n",
    "vmin=-qa.data['medianabs']*2.0\n",
    "print(qa)\n",
    "threshold = 10.0*qa.data['medianabs']\n",
    "print(\"Selecting sources brighter than %f\" % threshold)\n",
    "initial_found_components= find_skycomponents(dirty, threshold=threshold)\n",
    "show_image(dirty, components=initial_found_components, cm='Greys', vmax=vmax, vmin=vmin,\n",
    "           title='Dirty image plus found components')\n",
    "plt.show()"
   ]
  },
  {
   "cell_type": "code",
   "execution_count": null,
   "metadata": {},
   "outputs": [],
   "source": [
    "peel_distance = 0.16\n",
    "flux_threshold=5.0\n",
    "peelers = select_components_by_separation(phasecentre, initial_found_components, \n",
    "                                          min=peel_distance)\n",
    "\n",
    "inbeam_components = select_components_by_separation(phasecentre, initial_found_components, \n",
    "                                          max=peel_distance)\n",
    "\n",
    "bright_components = select_components_by_flux(inbeam_components, fmin=flux_threshold)\n",
    "faint_components = select_components_by_flux(inbeam_components, fmax=flux_threshold)\n",
    "\n",
    "print(\"%d sources will be peeled (i.e. held fixed but gain solved)\" % len(peelers))\n",
    "print(\"%d bright sources will be processed as components (solved both as component and for gain)\" % len(bright_components))\n",
    "print(\"%d faint sources will be processed collectively as a fixed image and gain solved\" % len(faint_components))\n",
    "\n",
    "faint_model = create_empty_image_like(model)\n",
    "faint_model = insert_skycomponent(faint_model, faint_components, insert_method='Lanczos')\n",
    "\n",
    "show_image(faint_model,  cm='Greys', title='Model for faint sources', vmax=0.3, vmin=-0.03)\n",
    "plt.show()\n",
    "                  \n",
    "calskymodel_graph = [arlexecute.execute(SkyModel, nout=1)(components=[p], fixed=True) for p in peelers] \\\n",
    "    + [arlexecute.execute(SkyModel, nout=1)(components=[b], fixed=False) for b in bright_components] \\\n",
    "    + [arlexecute.execute(SkyModel, nout=1)(images=[faint_model], fixed=True)]"
   ]
  },
  {
   "cell_type": "markdown",
   "metadata": {},
   "source": [
    "Run skymodel_cal using dask"
   ]
  },
  {
   "cell_type": "code",
   "execution_count": null,
   "metadata": {
    "ExecuteTime": {
     "end_time": "2018-03-01T14:27:37.265914Z",
     "start_time": "2018-03-01T14:24:53.019827Z"
    },
    "scrolled": false
   },
   "outputs": [],
   "source": [
    "corrupted_vis = arlexecute.client.scatter(corrupted_vis)\n",
    "graph = create_calskymodel_solve_graph(corrupted_vis, calskymodel_graph, niter=30, \n",
    "                                        gain=0.25, tol=1e-8)\n",
    "calskymodel, residual_vis = arlexecute.compute(graph).result()"
   ]
  },
  {
   "cell_type": "markdown",
   "metadata": {},
   "source": [
    "Combine all components for display"
   ]
  },
  {
   "cell_type": "code",
   "execution_count": null,
   "metadata": {},
   "outputs": [],
   "source": [
    "skymodel_components = list()\n",
    "for csm in calskymodel:\n",
    "    skymodel_components += csm[0].components"
   ]
  },
  {
   "cell_type": "markdown",
   "metadata": {},
   "source": [
    "Check that the peeled sources are not altered"
   ]
  },
  {
   "cell_type": "code",
   "execution_count": null,
   "metadata": {},
   "outputs": [],
   "source": [
    "recovered_peelers = find_skycomponent_matches(peelers, skymodel_components, 1e-5)\n",
    "ok = True\n",
    "for p in recovered_peelers:\n",
    "    ok = ok and numpy.abs(peelers[p[0]].flux[0,0] - skymodel_components[p[1]].flux[0,0]) < 1e-7\n",
    "print(\"Peeler sources flux unchanged: %s\" % ok)\n",
    "ok = True\n",
    "for p in recovered_peelers:\n",
    "    ok = ok and peelers[p[0]].direction.separation(skymodel_components[p[1]].direction).rad < 1e-15\n",
    "print(\"Peeler sources directions unchanged: %s\" % ok)"
   ]
  },
  {
   "cell_type": "markdown",
   "metadata": {},
   "source": [
    "Now we find the components in the residual image and add those to the existing model"
   ]
  },
  {
   "cell_type": "code",
   "execution_count": null,
   "metadata": {
    "ExecuteTime": {
     "end_time": "2018-03-01T14:30:09.635456Z",
     "start_time": "2018-03-01T14:30:06.505579Z"
    },
    "scrolled": false
   },
   "outputs": [],
   "source": [
    "residual, sumwt = invert_function(residual_vis, model, context='2d')\n",
    "qa = qa_image(residual)\n",
    "vmax=qa.data['medianabs']*30.0\n",
    "vmin=-qa.data['medianabs']*3.0\n",
    "print(qa)\n",
    "threshold = 20.0*qa.data['medianabs']\n",
    "print(\"Selecting sources brighter than %f\" % threshold)\n",
    "\n",
    "final_found_components = find_skycomponents(residual, threshold=threshold)\n",
    "show_image(residual, components=final_found_components, cm='Greys', \n",
    "           title='Residual image after Sagecal with newly identified components', vmax=vmax, vmin=vmin)\n",
    "\n",
    "plt.show()\n",
    "\n",
    "final_components= skymodel_components + final_found_components"
   ]
  },
  {
   "cell_type": "markdown",
   "metadata": {},
   "source": [
    "Make a restored image"
   ]
  },
  {
   "cell_type": "code",
   "execution_count": null,
   "metadata": {},
   "outputs": [],
   "source": [
    "psf, _ = invert_function(residual_vis, model, dopsf=True, context='2d')\n",
    "\n",
    "component_image = copy_image(faint_model)\n",
    "component_image = insert_skycomponent(component_image, final_components)\n",
    "restored = restore_cube(component_image, psf, residual)\n",
    "export_image_to_fits(restored, '%s/calskymodel_restored.fits' % results_dir)\n",
    "\n",
    "qa=qa_image(restored, context='Restored image after SageCal')\n",
    "print(qa)\n",
    "\n",
    "show_image(restored, components=final_components, cm='Greys', \n",
    "           title='Restored image after SageCal', vmax=vmax, vmin=vmin)\n",
    "plt.show()"
   ]
  },
  {
   "cell_type": "markdown",
   "metadata": {},
   "source": [
    "Now match the recovered components to the originals"
   ]
  },
  {
   "cell_type": "code",
   "execution_count": null,
   "metadata": {},
   "outputs": [],
   "source": [
    "original_bright_components = peelers + bright_components\n",
    "matches = find_skycomponent_matches(final_components, original_bright_components, 3*cellsize)"
   ]
  },
  {
   "cell_type": "markdown",
   "metadata": {},
   "source": [
    "Look at the range of separations found"
   ]
  },
  {
   "cell_type": "code",
   "execution_count": null,
   "metadata": {},
   "outputs": [],
   "source": [
    "separations = [match[2] for match in matches]\n",
    "plt.clf()\n",
    "plt.hist(separations/cellsize, bins=50)\n",
    "plt.title('Separation between input and recovered source in pixels')\n",
    "plt.xlabel('Separation in cells (cellsize = %g radians)' % cellsize)\n",
    "plt.ylabel('Number')\n",
    "plt.show()"
   ]
  },
  {
   "cell_type": "markdown",
   "metadata": {},
   "source": [
    "Now look at the matches between the original components and those recovered."
   ]
  },
  {
   "cell_type": "code",
   "execution_count": null,
   "metadata": {},
   "outputs": [],
   "source": [
    "totalfluxin = numpy.sum([c.flux[0,0] for c in pb_gleam_components]) \n",
    "totalfluxout = numpy.sum([c.flux[0,0] for c in final_components]) + numpy.sum(faint_model.data)\n",
    "print(\"Recovered %.3f (Jy) of original %.3f (Jy)\" % (totalfluxout, totalfluxin))\n",
    "found = [match[1] for match in matches]\n",
    "notfound = list()\n",
    "for c in range(len(original_bright_components)):\n",
    "    if c not in found:\n",
    "        notfound.append(c)\n",
    "        \n",
    "print(\"The following original components were not found\", notfound)"
   ]
  },
  {
   "cell_type": "markdown",
   "metadata": {},
   "source": [
    "Look at the recovered flux and the location of the unmatched components. From the image display these seem to be blends of close components."
   ]
  },
  {
   "cell_type": "code",
   "execution_count": null,
   "metadata": {},
   "outputs": [],
   "source": [
    "fluxin = [original_bright_components[match[1]].flux[0,0] for match in matches]\n",
    "fluxout = [final_components[match[0]].flux[0,0] for match in matches]\n",
    "missed_components = [original_bright_components[c] for c in notfound]\n",
    "missed_flux = [match.flux[0,0] for match in missed_components]\n",
    "    \n",
    "plt.clf()\n",
    "plt.plot(fluxin, fluxout, '.', color='blue')\n",
    "plt.plot(missed_flux, len(missed_flux)*[0.0], '.', color='red')\n",
    "\n",
    "plt.title('Recovered flux')\n",
    "plt.xlabel('Component input flux')\n",
    "plt.ylabel('Component recovered flux')\n",
    "plt.show()\n",
    "\n",
    "show_image(restored, components=missed_components, cm='Greys', \n",
    "           title='Restored original model with missing components', vmax=vmax, vmin=vmin)\n",
    "plt.show()\n"
   ]
  },
  {
   "cell_type": "code",
   "execution_count": null,
   "metadata": {},
   "outputs": [],
   "source": []
  }
 ],
 "metadata": {
  "kernelspec": {
   "display_name": "Python 3",
   "language": "python",
   "name": "python3"
  },
  "language_info": {
   "codemirror_mode": {
    "name": "ipython",
    "version": 3
   },
   "file_extension": ".py",
   "mimetype": "text/x-python",
   "name": "python",
   "nbconvert_exporter": "python",
   "pygments_lexer": "ipython3",
   "version": "3.6.1"
  }
 },
 "nbformat": 4,
 "nbformat_minor": 2
}
