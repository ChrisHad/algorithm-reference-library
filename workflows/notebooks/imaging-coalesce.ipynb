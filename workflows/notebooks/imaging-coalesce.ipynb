{
 "cells": [
  {
   "cell_type": "markdown",
   "metadata": {},
   "source": [
    "# Investigation of coalesence for LOW data"
   ]
  },
  {
   "cell_type": "markdown",
   "metadata": {},
   "source": [
    "Baseline dependent averaging is a form of data coalescence. In this script, we create a critically sampled snapshot of a LOW data set, and then coalesce and decoalesce it to see what errors result. We look at the time required for all steps."
   ]
  },
  {
   "cell_type": "code",
   "execution_count": null,
   "metadata": {
    "ExecuteTime": {
     "end_time": "2018-01-19T11:57:32.205483Z",
     "start_time": "2018-01-19T11:57:30.760386Z"
    }
   },
   "outputs": [],
   "source": [
    "% matplotlib inline\n",
    "\n",
    "import os\n",
    "import sys\n",
    "\n",
    "sys.path.append(os.path.join('..', '..'))\n",
    "\n",
    "from matplotlib import pylab\n",
    "\n",
    "pylab.rcParams['agg.path.chunksize'] = 10000\n",
    "\n",
    "from libs.data.parameters import arl_path\n",
    "results_dir = arl_path('test_results')\n",
    "\n",
    "\n",
    "\n",
    "import numpy\n",
    "\n",
    "from astropy.convolution import Gaussian2DKernel\n",
    "\n",
    "from astropy.coordinates import SkyCoord\n",
    "from astropy import units as u\n",
    "from astropy.wcs.utils import pixel_to_skycoord\n",
    "\n",
    "from matplotlib import pyplot as plt\n",
    "from matplotlib.pyplot import cm\n",
    "\n",
    "from libs.data.polarisation import PolarisationFrame\n",
    "from libs.visibility.base import create_blockvisibility, copy_visibility\n",
    "from libs.skycomponent.operations import create_skycomponent, insert_skycomponent, apply_beam_to_skycomponent\n",
    "from libs.image.operations import show_image, smooth_image\n",
    "from libs.imaging.base import create_image_from_visibility\n",
    "from libs.fourier_transforms.fft_support import extract_mid\n",
    "from libs.visibility.coalesce import coalesce_visibility\n",
    "from libs.image.iterators import image_raster_iter\n",
    "from libs.visibility.iterators import vis_timeslice_iter\n",
    "from libs.util.testing_support import create_named_configuration, create_low_test_beam, \\\n",
    "    create_low_test_skycomponents_from_gleam\n",
    "from libs.imaging import *\n",
    "\n",
    "import logging\n",
    "\n",
    "def init_logging():\n",
    "    log = logging.getLogger()\n",
    "    logging.basicConfig(filename='%s/imaging-coalesce.log' % results_dir,\n",
    "                        filemode='a',\n",
    "                        format='%(thread)s %(asctime)s,%(msecs)d %(name)s %(levelname)s %(message)s',\n",
    "                        datefmt='%H:%M:%S',\n",
    "                        level=logging.INFO)\n",
    "log = logging.getLogger()\n",
    "logging.info(\"Starting imaging-coalesce\")\n"
   ]
  },
  {
   "cell_type": "code",
   "execution_count": null,
   "metadata": {},
   "outputs": [],
   "source": [
    "pylab.rcParams['figure.figsize'] = (12.0, 12.0)\n",
    "pylab.rcParams['image.cmap'] = 'Greys'"
   ]
  },
  {
   "cell_type": "markdown",
   "metadata": {},
   "source": [
    "Construct the configuration and fill in the appropriate sampling values"
   ]
  },
  {
   "cell_type": "code",
   "execution_count": null,
   "metadata": {
    "ExecuteTime": {
     "end_time": "2018-01-19T12:54:01.711489Z",
     "start_time": "2018-01-19T12:54:00.806937Z"
    }
   },
   "outputs": [],
   "source": [
    "config = 'core'\n",
    "if config == 'full':\n",
    "    b = 8e4\n",
    "    low = create_named_configuration('LOWBD2', rmax=b)\n",
    "    cellsize = 0.00001\n",
    "    npixel=8192\n",
    "    nsnapshots = 30\n",
    "\n",
    "else:\n",
    "    b = 1e3\n",
    "    low = create_named_configuration('LOWBD2', rmax=b)\n",
    "    cellsize = 0.0003\n",
    "    npixel=1024\n",
    "    nsnapshots = 30\n",
    "\n",
    "    \n",
    "oversampling = 2\n",
    "\n",
    "sampling_time = 35.0 / (oversampling * b)\n",
    "log.info(\"Critical sampling time = %.5f (radians) %.2f (seconds)\" % \n",
    "         (sampling_time, sampling_time * 43200.0 / numpy.pi))\n",
    "sampling_frequency = 1e8 * 35.0 / (oversampling * b) \n",
    "log.info(\"Critical sampling frequency = %.5f (Hz) \" % (sampling_frequency))\n",
    "times = numpy.arange(0.0, + nsnapshots * sampling_time, sampling_time)\n",
    "frequency = numpy.linspace(1e8 - sampling_frequency, 1e8 + sampling_frequency, 3)\n",
    "channel_bandwidth = numpy.full_like(frequency, sampling_frequency)\n",
    "\n",
    "log.info(\"Observing frequencies %s Hz\" % (frequency))\n",
    "\n",
    "log.info(\"Cellsize = %.6f radians\" % (cellsize))"
   ]
  },
  {
   "cell_type": "markdown",
   "metadata": {},
   "source": [
    "We create the visibility holding the vis, uvw, time, antenna1, antenna2, weight columns in a table. The actual visibility values are zero."
   ]
  },
  {
   "cell_type": "code",
   "execution_count": null,
   "metadata": {
    "ExecuteTime": {
     "end_time": "2018-01-19T12:54:46.359190Z",
     "start_time": "2018-01-19T12:54:08.815844Z"
    },
    "scrolled": false
   },
   "outputs": [],
   "source": [
    "phasecentre = SkyCoord(ra=+355.0 * u.deg, dec=-10.0 * u.deg, frame='icrs', equinox='J2000')\n",
    "vt = create_blockvisibility(low, times, frequency, channel_bandwidth=channel_bandwidth,\n",
    "                       weight=1.0, phasecentre=phasecentre, polarisation_frame=PolarisationFrame('stokesI'))"
   ]
  },
  {
   "cell_type": "markdown",
   "metadata": {},
   "source": [
    "Create components from GLEAM "
   ]
  },
  {
   "cell_type": "code",
   "execution_count": null,
   "metadata": {
    "ExecuteTime": {
     "end_time": "2018-01-19T12:54:51.165524Z",
     "start_time": "2018-01-19T12:54:46.364819Z"
    }
   },
   "outputs": [],
   "source": [
    "comps = create_low_test_skycomponents_from_gleam(flux_limit=1.0, polarisation_frame=PolarisationFrame(\"stokesI\"),\n",
    "                                             frequency=frequency, phasecentre=phasecentre, \n",
    "                                                 radius=0.2)"
   ]
  },
  {
   "cell_type": "code",
   "execution_count": null,
   "metadata": {
    "ExecuteTime": {
     "end_time": "2018-01-19T12:54:52.259936Z",
     "start_time": "2018-01-19T12:54:51.167618Z"
    },
    "scrolled": false
   },
   "outputs": [],
   "source": [
    "model = create_image_from_visibility(vt, npixel=npixel, cellsize=cellsize, frequency=frequency,\n",
    "                                     polarisation_frame=PolarisationFrame('stokesI'),\n",
    "                                     phasecentre=phasecentre, nchan=len(frequency))\n",
    "beam=create_low_test_beam(model)\n",
    "comps = apply_beam_to_skycomponent(comps, beam)\n",
    "model = insert_skycomponent(model, comps)"
   ]
  },
  {
   "cell_type": "code",
   "execution_count": null,
   "metadata": {
    "ExecuteTime": {
     "end_time": "2018-01-19T11:58:38.380921Z",
     "start_time": "2018-01-19T11:58:37.812259Z"
    }
   },
   "outputs": [],
   "source": [
    "show_image(beam, cm='Greys', components=comps, vmax=1.0, vmin=0.0)\n",
    "plt.title(\"Beam\")\n",
    "plt.show()"
   ]
  },
  {
   "cell_type": "code",
   "execution_count": null,
   "metadata": {
    "ExecuteTime": {
     "end_time": "2018-01-19T11:58:38.879268Z",
     "start_time": "2018-01-19T11:58:38.382543Z"
    },
    "scrolled": false
   },
   "outputs": [],
   "source": [
    "cmodel = smooth_image(model)\n",
    "show_image(cmodel, vmax=1, vmin=0.0, cm='Greys')\n",
    "plt.title(\"Smoothed model image\")\n",
    "plt.show()"
   ]
  },
  {
   "cell_type": "markdown",
   "metadata": {},
   "source": [
    "Since we are using a BlockVisibility, we can only predict the visibility from sky components. "
   ]
  },
  {
   "cell_type": "code",
   "execution_count": null,
   "metadata": {
    "ExecuteTime": {
     "end_time": "2018-01-19T12:00:03.419002Z",
     "start_time": "2018-01-19T11:58:38.881391Z"
    }
   },
   "outputs": [],
   "source": [
    "vt = predict_skycomponent_visibility(vt, comps)"
   ]
  },
  {
   "cell_type": "markdown",
   "metadata": {},
   "source": [
    "Now we coalesce the data"
   ]
  },
  {
   "cell_type": "code",
   "execution_count": null,
   "metadata": {
    "ExecuteTime": {
     "end_time": "2018-01-19T12:16:40.388953Z",
     "start_time": "2018-01-19T12:00:03.424304Z"
    },
    "scrolled": false
   },
   "outputs": [],
   "source": [
    "time_coal=1.0\n",
    "max_time_coal=100\n",
    "frequency_coal=0.0\n",
    "max_frequency_coal=1\n",
    "\n",
    "cvt = coalesce_visibility(vt, time_coal=time_coal, frequency_coal=frequency_coal)\n",
    "plt.clf()\n",
    "plt.plot(+cvt.uvw[:,0],+cvt.uvw[:,1], '.', color='b')\n",
    "plt.plot(-cvt.uvw[:,0],-cvt.uvw[:,1], '.', color='b')\n",
    "plt.title('Coalesced uv coverage')\n",
    "plt.xlabel('U (lambda)')\n",
    "plt.ylabel('V (lambda)')\n",
    "plt.show()"
   ]
  },
  {
   "cell_type": "markdown",
   "metadata": {},
   "source": [
    "Check that we did not coalesce in frequency and that we did in time"
   ]
  },
  {
   "cell_type": "code",
   "execution_count": null,
   "metadata": {
    "ExecuteTime": {
     "end_time": "2018-01-19T12:16:41.486178Z",
     "start_time": "2018-01-19T12:16:40.392168Z"
    }
   },
   "outputs": [],
   "source": [
    "numpy.unique(cvt.frequency)==vt.frequency"
   ]
  },
  {
   "cell_type": "code",
   "execution_count": null,
   "metadata": {
    "ExecuteTime": {
     "end_time": "2018-01-19T12:16:42.805856Z",
     "start_time": "2018-01-19T12:16:41.488195Z"
    }
   },
   "outputs": [],
   "source": [
    "numpy.unique(cvt.time).size > vt.time.size"
   ]
  },
  {
   "cell_type": "markdown",
   "metadata": {},
   "source": [
    "Make the dirty image from coalesced data"
   ]
  },
  {
   "cell_type": "code",
   "execution_count": null,
   "metadata": {
    "ExecuteTime": {
     "end_time": "2018-01-19T12:18:24.841371Z",
     "start_time": "2018-01-19T12:16:42.807387Z"
    },
    "scrolled": false
   },
   "outputs": [],
   "source": [
    "from libs.imaging import advise_wide_field\n",
    "advise_wide_field(cvt)\n",
    "dirtyimage, sumwt = invert_2d(cvt, model)"
   ]
  },
  {
   "cell_type": "code",
   "execution_count": null,
   "metadata": {
    "ExecuteTime": {
     "end_time": "2018-01-19T12:18:24.842290Z",
     "start_time": "2018-01-19T11:58:10.339Z"
    }
   },
   "outputs": [],
   "source": [
    "show_image(dirtyimage, vmax=1.0, vmin=-0.1, cm='Greys')\n",
    "plt.title('Coalesced data image')\n",
    "plt.show()"
   ]
  },
  {
   "cell_type": "code",
   "execution_count": null,
   "metadata": {
    "ExecuteTime": {
     "end_time": "2018-01-19T12:18:24.842996Z",
     "start_time": "2018-01-19T11:58:11.350Z"
    }
   },
   "outputs": [],
   "source": [
    "cvtpred = copy_visibility(cvt, zero=True)\n",
    "cvtpred = predict_skycomponent_visibility(cvtpred, comps)"
   ]
  },
  {
   "cell_type": "code",
   "execution_count": null,
   "metadata": {
    "ExecuteTime": {
     "end_time": "2018-01-19T12:18:24.844852Z",
     "start_time": "2018-01-19T11:58:13.733Z"
    },
    "scrolled": false
   },
   "outputs": [],
   "source": [
    "plt.clf()\n",
    "plt.plot(vt.vis.real.flatten(), vt.vis.imag.flatten(), '.', color='g', label='BlockVisibility')\n",
    "plt.xlabel('Real')\n",
    "plt.ylabel('Imaginary')\n",
    "plt.title('Original visibility')\n",
    "plt.legend()\n",
    "plt.show()\n",
    "\n",
    "plt.clf()\n",
    "plt.plot(cvt.vis.real.flatten()-cvtpred.vis.real.flatten(), \n",
    "         cvt.vis.imag.flatten()-cvtpred.vis.imag.flatten(), '.', color='r', label='Error')\n",
    "plt.title('Error between coalesce/predict and predict/coalesce')\n",
    "plt.xlabel('Real')\n",
    "plt.ylabel('Imaginary')\n",
    "plt.legend()\n",
    "plt.show()"
   ]
  },
  {
   "cell_type": "code",
   "execution_count": null,
   "metadata": {},
   "outputs": [],
   "source": []
  },
  {
   "cell_type": "code",
   "execution_count": null,
   "metadata": {},
   "outputs": [],
   "source": []
  }
 ],
 "metadata": {
  "kernelspec": {
   "display_name": "Python 3",
   "language": "python",
   "name": "python3"
  },
  "language_info": {
   "codemirror_mode": {
    "name": "ipython",
    "version": 3
   },
   "file_extension": ".py",
   "mimetype": "text/x-python",
   "name": "python",
   "nbconvert_exporter": "python",
   "pygments_lexer": "ipython3",
   "version": "3.6.1"
  }
 },
 "nbformat": 4,
 "nbformat_minor": 2
}
