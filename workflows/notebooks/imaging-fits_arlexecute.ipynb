{
 "cells": [
  {
   "cell_type": "markdown",
   "metadata": {},
   "source": [
    "## Demonstrate full circle wide field imaging\n",
    "\n",
    "This include prediction of components, inversion, point source fitting. We will compare the output images with the input models, looking for closeness in flux and position."
   ]
  },
  {
   "cell_type": "code",
   "execution_count": 1,
   "metadata": {
    "ExecuteTime": {
     "end_time": "2018-09-19T07:52:29.223964Z",
     "start_time": "2018-09-19T07:52:23.727826Z"
    }
   },
   "outputs": [
    {
     "name": "stdout",
     "output_type": "stream",
     "text": [
      "backend module://ipykernel.pylab.backend_inline version unknown\n"
     ]
    }
   ],
   "source": [
    "%matplotlib inline\n",
    "\n",
    "import os\n",
    "import sys\n",
    "\n",
    "sys.path.append(os.path.join('..', '..'))\n",
    "\n",
    "from data_models.parameters import arl_path\n",
    "results_dir = arl_path('test_results')\n",
    "\n",
    "from matplotlib import pylab\n",
    "\n",
    "pylab.rcParams['figure.figsize'] = (10.0, 10.0)\n",
    "pylab.rcParams['image.cmap'] = 'rainbow'\n",
    "\n",
    "\n",
    "from matplotlib import pyplot as plt\n",
    "\n",
    "import numpy\n",
    "\n",
    "from astropy.coordinates import SkyCoord\n",
    "from astropy.time import Time\n",
    "from astropy import units as u\n",
    "from astropy.wcs.utils import pixel_to_skycoord\n",
    "\n",
    "from data_models.polarisation import PolarisationFrame\n",
    "\n",
    "from wrappers.serial.image.iterators import image_raster_iter\n",
    "\n",
    "from wrappers.serial.visibility.base import create_visibility\n",
    "from wrappers.serial.visibility.operations import sum_visibility\n",
    "from wrappers.serial.visibility.iterators import vis_timeslices, vis_wslices\n",
    "from wrappers.serial.simulation.testing_support import create_named_configuration\n",
    "from wrappers.serial.skycomponent.operations import create_skycomponent, find_skycomponents, \\\n",
    "    find_nearest_skycomponent, insert_skycomponent\n",
    "from wrappers.serial.image.operations import show_image, export_image_to_fits, qa_image, smooth_image\n",
    "from wrappers.serial.simulation.testing_support import create_named_configuration\n",
    "from wrappers.serial.imaging.base import advise_wide_field, create_image_from_visibility, \\\n",
    "    predict_skycomponent_visibility\n",
    "\n",
    "from wrappers.arlexecute.griddata.kernels import create_awterm_convolutionfunction\n",
    "from wrappers.arlexecute.griddata.convolution_functions import apply_bounding_box_convolutionfunction\n",
    "\n",
    "# Use workflows for imaging\n",
    "from wrappers.arlexecute.execution_support.arlexecute import arlexecute\n",
    "from workflows.shared.imaging.imaging_shared import imaging_contexts\n",
    "from workflows.arlexecute.imaging.imaging_arlexecute import predict_list_arlexecute_workflow, \\\n",
    "    invert_list_arlexecute_workflow\n",
    "import logging\n",
    "\n",
    "log = logging.getLogger()\n",
    "log.setLevel(logging.DEBUG)\n",
    "log.addHandler(logging.StreamHandler(sys.stdout))\n"
   ]
  },
  {
   "cell_type": "markdown",
   "metadata": {},
   "source": [
    "Construct the SKA1-LOW core configuration"
   ]
  },
  {
   "cell_type": "code",
   "execution_count": 2,
   "metadata": {
    "ExecuteTime": {
     "end_time": "2018-09-19T07:52:39.841647Z",
     "start_time": "2018-09-19T07:52:29.237157Z"
    }
   },
   "outputs": [
    {
     "name": "stdout",
     "output_type": "stream",
     "text": [
      "Using selector: KqueueSelector\n",
      "Using selector: KqueueSelector\n"
     ]
    }
   ],
   "source": [
    "arlexecute.set_client(use_dask=True)"
   ]
  },
  {
   "cell_type": "code",
   "execution_count": 3,
   "metadata": {
    "ExecuteTime": {
     "end_time": "2018-09-19T07:52:39.925406Z",
     "start_time": "2018-09-19T07:52:39.845970Z"
    }
   },
   "outputs": [],
   "source": [
    "lowcore = create_named_configuration('LOWBD2-CORE')"
   ]
  },
  {
   "cell_type": "markdown",
   "metadata": {},
   "source": [
    "We create the visibility. This just makes the uvw, time, antenna1, antenna2, weight columns in a table"
   ]
  },
  {
   "cell_type": "code",
   "execution_count": 4,
   "metadata": {
    "ExecuteTime": {
     "end_time": "2018-09-19T07:52:43.070296Z",
     "start_time": "2018-09-19T07:52:39.928542Z"
    },
    "scrolled": false
   },
   "outputs": [
    {
     "name": "stdout",
     "output_type": "stream",
     "text": [
      "create_visibility: 95865 rows, 0.010 GB\n"
     ]
    }
   ],
   "source": [
    "times = numpy.array([-3.0, -2.0, -1.0, 0.0, 1.0, 2.0, 3.0]) * (numpy.pi / 12.0)\n",
    "frequency = numpy.array([1e8])\n",
    "channel_bandwidth = numpy.array([1e6])\n",
    "reffrequency = numpy.max(frequency)\n",
    "phasecentre = SkyCoord(ra=+15.0 * u.deg, dec=-45.0 * u.deg, frame='icrs', equinox='J2000')\n",
    "vt = create_visibility(lowcore, times, frequency, channel_bandwidth=channel_bandwidth,\n",
    "                       weight=1.0, phasecentre=phasecentre, \n",
    "                       polarisation_frame=PolarisationFrame('stokesI'))"
   ]
  },
  {
   "cell_type": "code",
   "execution_count": 5,
   "metadata": {
    "ExecuteTime": {
     "end_time": "2018-09-19T07:52:43.240176Z",
     "start_time": "2018-09-19T07:52:43.080874Z"
    }
   },
   "outputs": [
    {
     "name": "stdout",
     "output_type": "stream",
     "text": [
      "advise_wide_field: Maximum wavelength 2.998 (meters)\n",
      "advise_wide_field: Minimum wavelength 2.998 (meters)\n",
      "advise_wide_field: Maximum baseline 262.6 (wavelengths)\n",
      "advise_wide_field: Station/antenna diameter 35.0 (meters)\n",
      "advise_wide_field: Primary beam 0.085655 (rad) 4.908 (deg)\n",
      "advise_wide_field: Image field of view 0.513930 (rad) 29.446 (deg)\n",
      "advise_wide_field: Synthesized beam 0.003808 (rad) 0.218 (deg)\n",
      "advise_wide_field: Cellsize 0.001269 (rad) 0.073 (deg)\n",
      "advice_wide_field: Npixels per side = 405\n",
      "advice_wide_field: Npixels (power of 2, 3) per side = 512\n",
      "advice_wide_field: W sampling for full image = 0.2 (wavelengths)\n",
      "advice_wide_field: W sampling for primary beam = 8.7 (wavelengths)\n",
      "advice_wide_field: Time sampling for full image = 25.2 (s)\n",
      "advice_wide_field: Time sampling for primary beam = 908.6 (s)\n",
      "advice_wide_field: Frequency sampling for full image = 29212.6 (Hz)\n",
      "advice_wide_field: Frequency sampling for primary beam = 1051653.8 (Hz)\n",
      "advice_wide_field: Number of planes in w stack 30\n",
      "advice_wide_field: Number of planes in w projection 1\n",
      "advice_wide_field: Recommend that 2d gridding (i.e. no wprojection) is used\n",
      "advice_wide_field: W support = 208 (pixels)\n"
     ]
    }
   ],
   "source": [
    "advice = advise_wide_field(vt, wprojection_planes=1)"
   ]
  },
  {
   "cell_type": "markdown",
   "metadata": {},
   "source": [
    "Fill in the visibility with exact calculation of a number of point sources"
   ]
  },
  {
   "cell_type": "code",
   "execution_count": 6,
   "metadata": {
    "ExecuteTime": {
     "end_time": "2018-09-19T07:53:57.182803Z",
     "start_time": "2018-09-19T07:52:43.308912Z"
    },
    "scrolled": false
   },
   "outputs": [
    {
     "name": "stdout",
     "output_type": "stream",
     "text": [
      "create_image_from_visibility: Parsing parameters to get definition of WCS\n",
      "create_image_from_visibility: Defining single channel Image at <SkyCoord (ICRS): (ra, dec) in deg\n",
      "    (15., -45.)>, starting frequency 100000000.0 Hz, and bandwidth 999999.99999 Hz\n",
      "create_image_from_visibility: uvmax = 262.634709 wavelengths\n",
      "create_image_from_visibility: Critical cellsize = 0.001904 radians, 0.109079 degrees\n",
      "create_image_from_visibility: Cellsize          = 0.001000 radians, 0.057296 degrees\n",
      "Spacing in pixels = 32\n",
      "Component at (240.000000, 16.000000) [0-rel] <SkyCoord (ICRS): (ra, dec) in deg\n",
      "    (4.74378292, -51.0209895)>\n",
      "insert_skycomponent: Using insert method Nearest\n",
      "Component at (208.000000, 16.000000) [0-rel] <SkyCoord (ICRS): (ra, dec) in deg\n",
      "    (7.66144755, -51.22149637)>\n",
      "insert_skycomponent: Using insert method Nearest\n",
      "Component at (176.000000, 16.000000) [0-rel] <SkyCoord (ICRS): (ra, dec) in deg\n",
      "    (10.5917361, -51.35530369)>\n",
      "insert_skycomponent: Using insert method Nearest\n",
      "Component at (144.000000, 16.000000) [0-rel] <SkyCoord (ICRS): (ra, dec) in deg\n",
      "    (13.52971731, -51.42224945)>\n",
      "insert_skycomponent: Using insert method Nearest\n",
      "Component at (112.000000, 16.000000) [0-rel] <SkyCoord (ICRS): (ra, dec) in deg\n",
      "    (16.47028269, -51.42224945)>\n",
      "insert_skycomponent: Using insert method Nearest\n",
      "Component at (80.000000, 16.000000) [0-rel] <SkyCoord (ICRS): (ra, dec) in deg\n",
      "    (19.4082639, -51.35530369)>\n",
      "insert_skycomponent: Using insert method Nearest\n",
      "Component at (48.000000, 16.000000) [0-rel] <SkyCoord (ICRS): (ra, dec) in deg\n",
      "    (22.33855245, -51.22149637)>\n",
      "insert_skycomponent: Using insert method Nearest\n",
      "Component at (16.000000, 16.000000) [0-rel] <SkyCoord (ICRS): (ra, dec) in deg\n",
      "    (25.25621708, -51.0209895)>\n",
      "insert_skycomponent: Using insert method Nearest\n",
      "Component at (208.000000, 48.000000) [0-rel] <SkyCoord (ICRS): (ra, dec) in deg\n",
      "    (7.94046978, -49.38802398)>\n",
      "insert_skycomponent: Using insert method Nearest\n",
      "Component at (176.000000, 48.000000) [0-rel] <SkyCoord (ICRS): (ra, dec) in deg\n",
      "    (10.76004686, -49.51635065)>\n",
      "insert_skycomponent: Using insert method Nearest\n",
      "Component at (144.000000, 48.000000) [0-rel] <SkyCoord (ICRS): (ra, dec) in deg\n",
      "    (13.58597172, -49.5805407)>\n",
      "insert_skycomponent: Using insert method Nearest\n",
      "Component at (112.000000, 48.000000) [0-rel] <SkyCoord (ICRS): (ra, dec) in deg\n",
      "    (16.41402828, -49.5805407)>\n",
      "insert_skycomponent: Using insert method Nearest\n",
      "Component at (80.000000, 48.000000) [0-rel] <SkyCoord (ICRS): (ra, dec) in deg\n",
      "    (19.23995314, -49.51635065)>\n",
      "insert_skycomponent: Using insert method Nearest\n",
      "Component at (48.000000, 48.000000) [0-rel] <SkyCoord (ICRS): (ra, dec) in deg\n",
      "    (22.05953022, -49.38802398)>\n",
      "insert_skycomponent: Using insert method Nearest\n",
      "Component at (16.000000, 48.000000) [0-rel] <SkyCoord (ICRS): (ra, dec) in deg\n",
      "    (24.86868384, -49.19566221)>\n",
      "insert_skycomponent: Using insert method Nearest\n",
      "Component at (176.000000, 80.000000) [0-rel] <SkyCoord (ICRS): (ra, dec) in deg\n",
      "    (10.91156133, -47.68176393)>\n",
      "insert_skycomponent: Using insert method Nearest\n",
      "Component at (144.000000, 80.000000) [0-rel] <SkyCoord (ICRS): (ra, dec) in deg\n",
      "    (13.63659973, -47.74353279)>\n",
      "insert_skycomponent: Using insert method Nearest\n",
      "Component at (112.000000, 80.000000) [0-rel] <SkyCoord (ICRS): (ra, dec) in deg\n",
      "    (16.36340027, -47.74353279)>\n",
      "insert_skycomponent: Using insert method Nearest\n",
      "Component at (80.000000, 80.000000) [0-rel] <SkyCoord (ICRS): (ra, dec) in deg\n",
      "    (19.08843867, -47.68176393)>\n",
      "insert_skycomponent: Using insert method Nearest\n",
      "Component at (48.000000, 80.000000) [0-rel] <SkyCoord (ICRS): (ra, dec) in deg\n",
      "    (21.80822877, -47.55825467)>\n",
      "insert_skycomponent: Using insert method Nearest\n",
      "Component at (16.000000, 80.000000) [0-rel] <SkyCoord (ICRS): (ra, dec) in deg\n",
      "    (24.51939763, -47.3730574)>\n",
      "insert_skycomponent: Using insert method Nearest\n",
      "Component at (144.000000, 112.000000) [0-rel] <SkyCoord (ICRS): (ra, dec) in deg\n",
      "    (13.68235336, -45.90931658)>\n",
      "insert_skycomponent: Using insert method Nearest\n",
      "Component at (112.000000, 112.000000) [0-rel] <SkyCoord (ICRS): (ra, dec) in deg\n",
      "    (16.31764664, -45.90931658)>\n",
      "insert_skycomponent: Using insert method Nearest\n",
      "Component at (80.000000, 112.000000) [0-rel] <SkyCoord (ICRS): (ra, dec) in deg\n",
      "    (18.95148298, -45.84967813)>\n",
      "insert_skycomponent: Using insert method Nearest\n",
      "Component at (48.000000, 112.000000) [0-rel] <SkyCoord (ICRS): (ra, dec) in deg\n",
      "    (21.58097973, -45.73040913)>\n",
      "insert_skycomponent: Using insert method Nearest\n",
      "Component at (16.000000, 112.000000) [0-rel] <SkyCoord (ICRS): (ra, dec) in deg\n",
      "    (24.20334715, -45.55152143)>\n",
      "insert_skycomponent: Using insert method Nearest\n",
      "Component at (112.000000, 144.000000) [0-rel] <SkyCoord (ICRS): (ra, dec) in deg\n",
      "    (16.27614945, -44.07600819)>\n",
      "insert_skycomponent: Using insert method Nearest\n",
      "Component at (80.000000, 144.000000) [0-rel] <SkyCoord (ICRS): (ra, dec) in deg\n",
      "    (18.82724608, -44.01824481)>\n",
      "insert_skycomponent: Using insert method Nearest\n",
      "Component at (48.000000, 144.000000) [0-rel] <SkyCoord (ICRS): (ra, dec) in deg\n",
      "    (21.37476195, -43.90270873)>\n",
      "insert_skycomponent: Using insert method Nearest\n",
      "Component at (16.000000, 144.000000) [0-rel] <SkyCoord (ICRS): (ra, dec) in deg\n",
      "    (23.91639614, -43.72937783)>\n",
      "insert_skycomponent: Using insert method Nearest\n",
      "Component at (80.000000, 176.000000) [0-rel] <SkyCoord (ICRS): (ra, dec) in deg\n",
      "    (18.71420256, -42.18561677)>\n",
      "insert_skycomponent: Using insert method Nearest\n",
      "Component at (48.000000, 176.000000) [0-rel] <SkyCoord (ICRS): (ra, dec) in deg\n",
      "    (21.18706763, -42.07336315)>\n",
      "insert_skycomponent: Using insert method Nearest\n",
      "Component at (16.000000, 176.000000) [0-rel] <SkyCoord (ICRS): (ra, dec) in deg\n",
      "    (23.65510465, -41.90491964)>\n",
      "insert_skycomponent: Using insert method Nearest\n",
      "Component at (48.000000, 208.000000) [0-rel] <SkyCoord (ICRS): (ra, dec) in deg\n",
      "    (21.01580068, -40.24055692)>\n",
      "insert_skycomponent: Using insert method Nearest\n",
      "Component at (16.000000, 208.000000) [0-rel] <SkyCoord (ICRS): (ra, dec) in deg\n",
      "    (23.41659285, -40.07639948)>\n",
      "insert_skycomponent: Using insert method Nearest\n",
      "Component at (16.000000, 240.000000) [0-rel] <SkyCoord (ICRS): (ra, dec) in deg\n",
      "    (23.19843619, -38.24201755)>\n",
      "insert_skycomponent: Using insert method Nearest\n",
      "findfont: Matching :family=sans-serif:style=normal:variant=normal:weight=normal:stretch=normal:size=10.0 to DejaVu Sans ('/Users/timcornwell/anaconda/envs/ipykernel_py2/lib/python2.7/site-packages/matplotlib/mpl-data/fonts/ttf/DejaVuSans.ttf') with score of 0.050000\n",
      "findfont: Matching :family=sans-serif:style=normal:variant=normal:weight=normal:stretch=normal:size=12.0 to DejaVu Sans ('/Users/timcornwell/anaconda/envs/ipykernel_py2/lib/python2.7/site-packages/matplotlib/mpl-data/fonts/ttf/DejaVuSans.ttf') with score of 0.050000\n"
     ]
    },
    {
     "data": {
      "image/png": "[encoded data removed]",
      "text/plain": [
       "<Figure size 432x288 with 2 Axes>"
      ]
     },
     "metadata": {},
     "output_type": "display_data"
    }
   ],
   "source": [
    "vt.data['vis'] *= 0.0\n",
    "npixel=256\n",
    "\n",
    "model = create_image_from_visibility(vt, npixel=npixel, cellsize=0.001, nchan=1, \n",
    "                                     polarisation_frame=PolarisationFrame('stokesI'))\n",
    "centre = model.wcs.wcs.crpix-1\n",
    "spacing_pixels = npixel // 8\n",
    "log.info('Spacing in pixels = %s' % spacing_pixels)\n",
    "spacing = model.wcs.wcs.cdelt * spacing_pixels\n",
    "locations = [-3.5, -2.5, -1.5, -0.5, 0.5, 1.5, 2.5, 3.5]\n",
    "\n",
    "original_comps = []\n",
    "# We calculate the source positions in pixels and then calculate the\n",
    "# world coordinates to put in the skycomponent description\n",
    "for iy in locations:\n",
    "    for ix in locations:\n",
    "        if ix >= iy:\n",
    "            p = int(round(centre[0] + ix * spacing_pixels * numpy.sign(model.wcs.wcs.cdelt[0]))), \\\n",
    "                int(round(centre[1] + iy * spacing_pixels * numpy.sign(model.wcs.wcs.cdelt[1])))\n",
    "            sc = pixel_to_skycoord(p[0], p[1], model.wcs)\n",
    "            log.info(\"Component at (%f, %f) [0-rel] %s\" % (p[0], p[1], str(sc)))\n",
    "            flux = numpy.array([[100.0 + 2.0 * ix + iy * 20.0]])\n",
    "            comp = create_skycomponent(flux=flux, frequency=frequency, direction=sc, \n",
    "                                       polarisation_frame=PolarisationFrame('stokesI'))\n",
    "            original_comps.append(comp)\n",
    "            insert_skycomponent(model, comp)\n",
    "\n",
    "predict_skycomponent_visibility(vt, original_comps)\n",
    "\n",
    "        \n",
    "cmodel = smooth_image(model) \n",
    "show_image(cmodel)\n",
    "plt.title(\"Smoothed model image\")\n",
    "plt.show()"
   ]
  },
  {
   "cell_type": "markdown",
   "metadata": {},
   "source": [
    "Check that the skycoordinate and image coordinate system are consistent by finding the point sources."
   ]
  },
  {
   "cell_type": "code",
   "execution_count": 7,
   "metadata": {
    "ExecuteTime": {
     "end_time": "2018-09-19T07:54:03.360532Z",
     "start_time": "2018-09-19T07:53:57.218356Z"
    },
    "scrolled": false
   },
   "outputs": [
    {
     "name": "stdout",
     "output_type": "stream",
     "text": [
      "find_skycomponents: Finding components in Image by segmentation\n",
      "find_skycomponents: Identified 36 segments\n"
     ]
    },
    {
     "data": {
      "image/png": "[encoded data removed]",
      "text/plain": [
       "<Figure size 432x288 with 1 Axes>"
      ]
     },
     "metadata": {},
     "output_type": "display_data"
    }
   ],
   "source": [
    "comps = find_skycomponents(cmodel, fwhm=1.0, threshold=10.0, npixels=5)\n",
    "plt.clf()\n",
    "for i in range(len(comps)):\n",
    "    ocomp, sep = find_nearest_skycomponent(comps[i].direction, original_comps)\n",
    "    plt.plot((comps[i].direction.ra.value  - ocomp.direction.ra.value)/cmodel.wcs.wcs.cdelt[0], \n",
    "             (comps[i].direction.dec.value - ocomp.direction.dec.value)/cmodel.wcs.wcs.cdelt[1], \n",
    "             '.', color='r')  \n",
    "\n",
    "plt.xlabel('delta RA (pixels)')\n",
    "plt.ylabel('delta DEC (pixels)')\n",
    "plt.title(\"Recovered - Original position offsets\")\n",
    "plt.show()"
   ]
  },
  {
   "cell_type": "markdown",
   "metadata": {},
   "source": [
    "Make the convolution function"
   ]
  },
  {
   "cell_type": "code",
   "execution_count": 8,
   "metadata": {
    "ExecuteTime": {
     "end_time": "2018-09-19T07:54:45.871583Z",
     "start_time": "2018-09-19T07:54:03.368647Z"
    },
    "scrolled": false
   },
   "outputs": [
    {
     "name": "stdout",
     "output_type": "stream",
     "text": [
      "create_w_term_image: For w = -440.0, field of view = 0.256000, Fresnel number = 7.21\n",
      "create_w_term_image: For w = -432.0, field of view = 0.256000, Fresnel number = 7.08\n",
      "create_w_term_image: For w = -424.0, field of view = 0.256000, Fresnel number = 6.95\n",
      "create_w_term_image: For w = -416.0, field of view = 0.256000, Fresnel number = 6.82\n",
      "create_w_term_image: For w = -408.0, field of view = 0.256000, Fresnel number = 6.68\n",
      "create_w_term_image: For w = -400.0, field of view = 0.256000, Fresnel number = 6.55\n",
      "create_w_term_image: For w = -392.0, field of view = 0.256000, Fresnel number = 6.42\n",
      "create_w_term_image: For w = -384.0, field of view = 0.256000, Fresnel number = 6.29\n",
      "create_w_term_image: For w = -376.0, field of view = 0.256000, Fresnel number = 6.16\n",
      "create_w_term_image: For w = -368.0, field of view = 0.256000, Fresnel number = 6.03\n",
      "create_w_term_image: For w = -360.0, field of view = 0.256000, Fresnel number = 5.90\n",
      "create_w_term_image: For w = -352.0, field of view = 0.256000, Fresnel number = 5.77\n",
      "create_w_term_image: For w = -344.0, field of view = 0.256000, Fresnel number = 5.64\n",
      "create_w_term_image: For w = -336.0, field of view = 0.256000, Fresnel number = 5.51\n",
      "create_w_term_image: For w = -328.0, field of view = 0.256000, Fresnel number = 5.37\n",
      "create_w_term_image: For w = -320.0, field of view = 0.256000, Fresnel number = 5.24\n",
      "create_w_term_image: For w = -312.0, field of view = 0.256000, Fresnel number = 5.11\n",
      "create_w_term_image: For w = -304.0, field of view = 0.256000, Fresnel number = 4.98\n",
      "create_w_term_image: For w = -296.0, field of view = 0.256000, Fresnel number = 4.85\n",
      "create_w_term_image: For w = -288.0, field of view = 0.256000, Fresnel number = 4.72\n",
      "create_w_term_image: For w = -280.0, field of view = 0.256000, Fresnel number = 4.59\n",
      "create_w_term_image: For w = -272.0, field of view = 0.256000, Fresnel number = 4.46\n",
      "create_w_term_image: For w = -264.0, field of view = 0.256000, Fresnel number = 4.33\n",
      "create_w_term_image: For w = -256.0, field of view = 0.256000, Fresnel number = 4.19\n",
      "create_w_term_image: For w = -248.0, field of view = 0.256000, Fresnel number = 4.06\n",
      "create_w_term_image: For w = -240.0, field of view = 0.256000, Fresnel number = 3.93\n",
      "create_w_term_image: For w = -232.0, field of view = 0.256000, Fresnel number = 3.80\n",
      "create_w_term_image: For w = -224.0, field of view = 0.256000, Fresnel number = 3.67\n",
      "create_w_term_image: For w = -216.0, field of view = 0.256000, Fresnel number = 3.54\n",
      "create_w_term_image: For w = -208.0, field of view = 0.256000, Fresnel number = 3.41\n",
      "create_w_term_image: For w = -200.0, field of view = 0.256000, Fresnel number = 3.28\n",
      "create_w_term_image: For w = -192.0, field of view = 0.256000, Fresnel number = 3.15\n",
      "create_w_term_image: For w = -184.0, field of view = 0.256000, Fresnel number = 3.01\n",
      "create_w_term_image: For w = -176.0, field of view = 0.256000, Fresnel number = 2.88\n",
      "create_w_term_image: For w = -168.0, field of view = 0.256000, Fresnel number = 2.75\n",
      "create_w_term_image: For w = -160.0, field of view = 0.256000, Fresnel number = 2.62\n",
      "create_w_term_image: For w = -152.0, field of view = 0.256000, Fresnel number = 2.49\n",
      "create_w_term_image: For w = -144.0, field of view = 0.256000, Fresnel number = 2.36\n",
      "create_w_term_image: For w = -136.0, field of view = 0.256000, Fresnel number = 2.23\n",
      "create_w_term_image: For w = -128.0, field of view = 0.256000, Fresnel number = 2.10\n",
      "create_w_term_image: For w = -120.0, field of view = 0.256000, Fresnel number = 1.97\n",
      "create_w_term_image: For w = -112.0, field of view = 0.256000, Fresnel number = 1.84\n",
      "create_w_term_image: For w = -104.0, field of view = 0.256000, Fresnel number = 1.70\n",
      "create_w_term_image: For w = -96.0, field of view = 0.256000, Fresnel number = 1.57\n",
      "create_w_term_image: For w = -88.0, field of view = 0.256000, Fresnel number = 1.44\n",
      "create_w_term_image: For w = -80.0, field of view = 0.256000, Fresnel number = 1.31\n",
      "create_w_term_image: For w = -72.0, field of view = 0.256000, Fresnel number = 1.18\n",
      "create_w_term_image: For w = -64.0, field of view = 0.256000, Fresnel number = 1.05\n",
      "create_w_term_image: For w = -56.0, field of view = 0.256000, Fresnel number = 0.92\n",
      "create_w_term_image: For w = -48.0, field of view = 0.256000, Fresnel number = 0.79\n",
      "create_w_term_image: For w = -40.0, field of view = 0.256000, Fresnel number = 0.66\n",
      "create_w_term_image: For w = -32.0, field of view = 0.256000, Fresnel number = 0.52\n",
      "create_w_term_image: For w = -24.0, field of view = 0.256000, Fresnel number = 0.39\n",
      "create_w_term_image: For w = -16.0, field of view = 0.256000, Fresnel number = 0.26\n",
      "create_w_term_image: For w = -8.0, field of view = 0.256000, Fresnel number = 0.13\n",
      "create_w_term_image: For w = 0.0, field of view = 0.256000, Fresnel number = 0.00\n",
      "create_w_term_image: For w = 8.0, field of view = 0.256000, Fresnel number = 0.13\n",
      "create_w_term_image: For w = 16.0, field of view = 0.256000, Fresnel number = 0.26\n",
      "create_w_term_image: For w = 24.0, field of view = 0.256000, Fresnel number = 0.39\n",
      "create_w_term_image: For w = 32.0, field of view = 0.256000, Fresnel number = 0.52\n",
      "create_w_term_image: For w = 40.0, field of view = 0.256000, Fresnel number = 0.66\n",
      "create_w_term_image: For w = 48.0, field of view = 0.256000, Fresnel number = 0.79\n",
      "create_w_term_image: For w = 56.0, field of view = 0.256000, Fresnel number = 0.92\n",
      "create_w_term_image: For w = 64.0, field of view = 0.256000, Fresnel number = 1.05\n",
      "create_w_term_image: For w = 72.0, field of view = 0.256000, Fresnel number = 1.18\n",
      "create_w_term_image: For w = 80.0, field of view = 0.256000, Fresnel number = 1.31\n",
      "create_w_term_image: For w = 88.0, field of view = 0.256000, Fresnel number = 1.44\n",
      "create_w_term_image: For w = 96.0, field of view = 0.256000, Fresnel number = 1.57\n",
      "create_w_term_image: For w = 104.0, field of view = 0.256000, Fresnel number = 1.70\n",
      "create_w_term_image: For w = 112.0, field of view = 0.256000, Fresnel number = 1.84\n",
      "create_w_term_image: For w = 120.0, field of view = 0.256000, Fresnel number = 1.97\n",
      "create_w_term_image: For w = 128.0, field of view = 0.256000, Fresnel number = 2.10\n",
      "create_w_term_image: For w = 136.0, field of view = 0.256000, Fresnel number = 2.23\n",
      "create_w_term_image: For w = 144.0, field of view = 0.256000, Fresnel number = 2.36\n",
      "create_w_term_image: For w = 152.0, field of view = 0.256000, Fresnel number = 2.49\n",
      "create_w_term_image: For w = 160.0, field of view = 0.256000, Fresnel number = 2.62\n",
      "create_w_term_image: For w = 168.0, field of view = 0.256000, Fresnel number = 2.75\n",
      "create_w_term_image: For w = 176.0, field of view = 0.256000, Fresnel number = 2.88\n",
      "create_w_term_image: For w = 184.0, field of view = 0.256000, Fresnel number = 3.01\n",
      "create_w_term_image: For w = 192.0, field of view = 0.256000, Fresnel number = 3.15\n",
      "create_w_term_image: For w = 200.0, field of view = 0.256000, Fresnel number = 3.28\n",
      "create_w_term_image: For w = 208.0, field of view = 0.256000, Fresnel number = 3.41\n",
      "create_w_term_image: For w = 216.0, field of view = 0.256000, Fresnel number = 3.54\n",
      "create_w_term_image: For w = 224.0, field of view = 0.256000, Fresnel number = 3.67\n",
      "create_w_term_image: For w = 232.0, field of view = 0.256000, Fresnel number = 3.80\n",
      "create_w_term_image: For w = 240.0, field of view = 0.256000, Fresnel number = 3.93\n",
      "create_w_term_image: For w = 248.0, field of view = 0.256000, Fresnel number = 4.06\n",
      "create_w_term_image: For w = 256.0, field of view = 0.256000, Fresnel number = 4.19\n",
      "create_w_term_image: For w = 264.0, field of view = 0.256000, Fresnel number = 4.33\n",
      "create_w_term_image: For w = 272.0, field of view = 0.256000, Fresnel number = 4.46\n",
      "create_w_term_image: For w = 280.0, field of view = 0.256000, Fresnel number = 4.59\n",
      "create_w_term_image: For w = 288.0, field of view = 0.256000, Fresnel number = 4.72\n",
      "create_w_term_image: For w = 296.0, field of view = 0.256000, Fresnel number = 4.85\n",
      "create_w_term_image: For w = 304.0, field of view = 0.256000, Fresnel number = 4.98\n",
      "create_w_term_image: For w = 312.0, field of view = 0.256000, Fresnel number = 5.11\n",
      "create_w_term_image: For w = 320.0, field of view = 0.256000, Fresnel number = 5.24\n",
      "create_w_term_image: For w = 328.0, field of view = 0.256000, Fresnel number = 5.37\n",
      "create_w_term_image: For w = 336.0, field of view = 0.256000, Fresnel number = 5.51\n"
     ]
    },
    {
     "name": "stdout",
     "output_type": "stream",
     "text": [
      "create_w_term_image: For w = 344.0, field of view = 0.256000, Fresnel number = 5.64\n",
      "create_w_term_image: For w = 352.0, field of view = 0.256000, Fresnel number = 5.77\n",
      "create_w_term_image: For w = 360.0, field of view = 0.256000, Fresnel number = 5.90\n",
      "create_w_term_image: For w = 368.0, field of view = 0.256000, Fresnel number = 6.03\n",
      "create_w_term_image: For w = 376.0, field of view = 0.256000, Fresnel number = 6.16\n",
      "create_w_term_image: For w = 384.0, field of view = 0.256000, Fresnel number = 6.29\n",
      "create_w_term_image: For w = 392.0, field of view = 0.256000, Fresnel number = 6.42\n",
      "create_w_term_image: For w = 400.0, field of view = 0.256000, Fresnel number = 6.55\n",
      "create_w_term_image: For w = 408.0, field of view = 0.256000, Fresnel number = 6.68\n",
      "create_w_term_image: For w = 416.0, field of view = 0.256000, Fresnel number = 6.82\n",
      "create_w_term_image: For w = 424.0, field of view = 0.256000, Fresnel number = 6.95\n",
      "create_w_term_image: For w = 432.0, field of view = 0.256000, Fresnel number = 7.08\n",
      "(1, 1, 110, 8, 8, 60, 60)\n"
     ]
    },
    {
     "data": {
      "image/png": "[encoded data removed]",
      "text/plain": [
       "<Figure size 432x288 with 1 Axes>"
      ]
     },
     "metadata": {},
     "output_type": "display_data"
    },
    {
     "name": "stdout",
     "output_type": "stream",
     "text": [
      "(1, 1, 110, 8, 8, 34, 34)\n"
     ]
    },
    {
     "data": {
      "image/png": "[encoded data removed]",
      "text/plain": [
       "<Figure size 432x288 with 1 Axes>"
      ]
     },
     "metadata": {},
     "output_type": "display_data"
    }
   ],
   "source": [
    "wstep = 8.0\n",
    "nw = int(1.1 * 800/wstep)\n",
    "    \n",
    "gcf, cf = create_awterm_convolutionfunction(model, nw=110, wstep=8, oversampling=8, \n",
    "                                                    support=60,\n",
    "                                                    use_aaf=True)\n",
    "    \n",
    "print(cf.data.shape)\n",
    "plt.clf()\n",
    "plt.imshow(numpy.real(cf.data[0,0,0,0,0,:,:]))\n",
    "plt.title(str(numpy.max(numpy.abs(cf.data[0,0,0,0,0,:,:]))))\n",
    "plt.show()\n",
    "    \n",
    "cf_clipped = apply_bounding_box_convolutionfunction(cf, fractional_level=1e-3)\n",
    "print(cf_clipped.data.shape)\n",
    "    \n",
    "plt.clf()\n",
    "plt.imshow(numpy.real(cf_clipped.data[0,0,0,0,0,:,:]))\n",
    "plt.title(str(numpy.max(numpy.abs(cf_clipped.data[0,0,0,0,0,:,:]))))\n",
    "plt.show()\n"
   ]
  },
  {
   "cell_type": "markdown",
   "metadata": {},
   "source": [
    "Predict the visibility using the different approaches."
   ]
  },
  {
   "cell_type": "code",
   "execution_count": 9,
   "metadata": {
    "ExecuteTime": {
     "end_time": "2018-09-19T07:54:45.889344Z",
     "start_time": "2018-09-19T07:54:45.881779Z"
    }
   },
   "outputs": [
    {
     "name": "stdout",
     "output_type": "stream",
     "text": [
      "dict_keys(['2d', 'facets', 'facets_timeslice', 'facets_wstack', 'timeslice', 'wstack'])\n"
     ]
    }
   ],
   "source": [
    "contexts = imaging_contexts().keys()\n",
    "print(contexts)"
   ]
  },
  {
   "cell_type": "code",
   "execution_count": null,
   "metadata": {
    "ExecuteTime": {
     "start_time": "2018-09-19T07:52:23.766Z"
    },
    "scrolled": false
   },
   "outputs": [
    {
     "name": "stdout",
     "output_type": "stream",
     "text": [
      "Processing context 2d\n",
      "create_visibility: 95865 rows, 0.010 GB\n"
     ]
    },
    {
     "name": "stderr",
     "output_type": "stream",
     "text": [
      "/Users/timcornwell/anaconda/envs/arlenv/lib/python3.6/site-packages/distributed/worker.py:840: UserWarning: Large object of size 10.75 MB detected in task graph: \n",
      "  (<data_models.memory_data_models.Visibility object ... x11a67a1e0>, 1)\n",
      "Consider scattering large objects ahead of time\n",
      "with client.scatter to reduce scheduler burden and \n",
      "keep data on workers\n",
      "\n",
      "    future = client.submit(func, big_data)    # bad\n",
      "\n",
      "    big_future = client.scatter(big_data)     # good\n",
      "    future = client.submit(func, big_future)  # good\n",
      "  % (format_bytes(len(b)), s))\n"
     ]
    },
    {
     "name": "stdout",
     "output_type": "stream",
     "text": [
      "arlexecute.compute: Execution using Dask took 8.229 seconds\n",
      "arlexecute.compute: Execution using Dask took 8.229 seconds\n"
     ]
    },
    {
     "data": {
      "image/png": "[encoded data removed]",
      "text/plain": [
       "<Figure size 432x288 with 1 Axes>"
      ]
     },
     "metadata": {},
     "output_type": "display_data"
    },
    {
     "name": "stdout",
     "output_type": "stream",
     "text": [
      "Processing context facets\n",
      "create_visibility: 95865 rows, 0.010 GB\n"
     ]
    }
   ],
   "source": [
    "contexts = ['2d', 'facets', 'timeslice', 'wstack', 'wprojection']\n",
    "\n",
    "for context in contexts:\n",
    "    \n",
    "    print('Processing context %s' % context)\n",
    "   \n",
    "    vtpredict_list =[create_visibility(lowcore, times, frequency, channel_bandwidth=channel_bandwidth,\n",
    "        weight=1.0, phasecentre=phasecentre, polarisation_frame=PolarisationFrame('stokesI'))]\n",
    "    model_list = [model]\n",
    "\n",
    " \n",
    "    if context == 'wprojection':       \n",
    "        future = predict_list_arlexecute_workflow(vtpredict_list, model_list, context='2d', \n",
    "                                                 gcf=gcf, cf=cf_clipped)\n",
    "    \n",
    "    elif context == 'facets':\n",
    "        future = predict_list_arlexecute_workflow(vtpredict_list, model_list, context=context, facets=8)\n",
    "        \n",
    "    elif context == 'timeslice':\n",
    "        future = predict_list_arlexecute_workflow(vtpredict_list, model_list, context=context, vis_slices=vis_timeslices(\n",
    "            vtpredict, 'auto'))\n",
    "\n",
    "    elif context == 'wstack':\n",
    "        future = predict_list_arlexecute_workflow(vtpredict_list, model_list, context=context, vis_slices=31)\n",
    "\n",
    "    else:\n",
    "        future = predict_list_arlexecute_workflow(vtpredict_list, model_list, context=context)\n",
    "        \n",
    "    vtpredict_list = arlexecute.compute(future, sync=True)\n",
    "        \n",
    "    vtpredict = vtpredict_list[0]\n",
    "\n",
    "    uvdist = numpy.sqrt(vt.data['uvw'][:, 0] ** 2 + vt.data['uvw'][:, 1] ** 2)\n",
    "    plt.clf()\n",
    "    plt.plot(uvdist, numpy.abs(vt.data['vis'][:]), '.', color='r', label=\"DFT\")\n",
    "    \n",
    "    plt.plot(uvdist, numpy.abs(vtpredict.data['vis'][:]), '.', color='b', label=context)\n",
    "    plt.plot(uvdist, numpy.abs(vtpredict.data['vis'][:] - vt.data['vis'][:]), '.', color='g', label=\"Residual\")\n",
    "    plt.xlabel('uvdist')\n",
    "    plt.ylabel('Amp Visibility')\n",
    "    plt.legend()\n",
    "    plt.show()\n"
   ]
  },
  {
   "cell_type": "markdown",
   "metadata": {},
   "source": [
    "Make the image using the different approaches. We will evaluate the results using a number of plots:\n",
    "\n",
    "- The error in fitted versus the radius. The ideal result is a straightline fitted: flux = DFT flux\n",
    "- The offset in RA versus the offset in DEC. The ideal result is a cluster around 0 pixels.\n",
    "\n",
    "The sampling in w is set to provide 2% decorrelation at the half power point of the primary beam.\n"
   ]
  },
  {
   "cell_type": "code",
   "execution_count": null,
   "metadata": {
    "ExecuteTime": {
     "start_time": "2018-09-19T07:52:23.772Z"
    },
    "scrolled": false
   },
   "outputs": [],
   "source": [
    "contexts = ['2d', 'facets', 'timeslice', 'wstack', 'wprojection']\n",
    "\n",
    "for context in contexts:\n",
    "\n",
    "    targetimage_list = [create_image_from_visibility(vt, npixel=npixel, cellsize=0.001, nchan=1,\n",
    "                                               polarisation_frame=PolarisationFrame('stokesI'))]\n",
    "    \n",
    "    vt_list = [vt]\n",
    "\n",
    "\n",
    "    print('Processing context %s' % context)\n",
    "    if context == 'wprojection':\n",
    "        future = invert_list_arlexecute_workflow(vt_list, targetimage_list, context='2d', gcf=gcf, cf=cf_clipped)\n",
    "    \n",
    "    elif context == 'facets':\n",
    "        future = invert_list_arlexecute_workflow(vt_list, targetimage_list, context=context, facets=8)\n",
    "        \n",
    "    elif context == 'timeslice':\n",
    "        future = invert_list_arlexecute_workflow(vt_list, targetimage_list, context=context, vis_slices=vis_timeslices(vt, 'auto'))\n",
    "\n",
    "    elif context == 'wstack':\n",
    "        future = invert_list_arlexecute_workflow(vt_list, targetimage_list, context=context, vis_slices=31)\n",
    "\n",
    "    else:\n",
    "        future = invert_list_arlexecute_workflow(vt_list, targetimage_list, context=context)\n",
    "        \n",
    "    result = arlexecute.compute(future, sync=True)\n",
    "    targetimage = result[0][0]\n",
    "\n",
    "    show_image(targetimage)\n",
    "    plt.title(context)\n",
    "    plt.show()\n",
    "\n",
    "    print(\"Dirty Image %s\" % qa_image(targetimage, context=\"imaging-fits notebook, using processor %s\" % context))\n",
    "\n",
    "    export_image_to_fits(targetimage, '%s/imaging-fits_dirty_%s.fits' % (results_dir, context))\n",
    "    comps = find_skycomponents(targetimage, fwhm=1.0, threshold=10.0, npixels=5)\n",
    "\n",
    "    plt.clf()\n",
    "    for comp in comps:\n",
    "        distance = comp.direction.separation(model.phasecentre)\n",
    "        dft_flux = sum_visibility(vt, comp.direction)[0]\n",
    "        err = (comp.flux[0, 0] - dft_flux) / dft_flux\n",
    "        plt.plot(distance, err, '.', color='r')\n",
    "    plt.ylabel('Fractional error of image vs DFT')\n",
    "    plt.xlabel('Distance from phasecentre (deg)')\n",
    "    plt.title(\n",
    "        \"Fractional error in %s recovered flux vs distance from phasecentre\" %\n",
    "        context)\n",
    "    plt.show()\n",
    "\n",
    "    checkpositions = True\n",
    "    if checkpositions:\n",
    "        plt.clf()\n",
    "        for i in range(len(comps)):\n",
    "            ocomp, sep = find_nearest_skycomponent(comps[i].direction, original_comps)\n",
    "            plt.plot(\n",
    "                (comps[i].direction.ra.value - ocomp.direction.ra.value) /\n",
    "                targetimage.wcs.wcs.cdelt[0],\n",
    "                (comps[i].direction.dec.value - ocomp.direction.dec.value) /\n",
    "                targetimage.wcs.wcs.cdelt[1],\n",
    "                '.',\n",
    "                color='r')\n",
    "\n",
    "        plt.xlabel('delta RA (pixels)')\n",
    "        plt.ylabel('delta DEC (pixels)')\n",
    "        plt.title(\"%s: Position offsets\" % context)\n",
    "        plt.show()"
   ]
  },
  {
   "cell_type": "code",
   "execution_count": null,
   "metadata": {},
   "outputs": [],
   "source": []
  }
 ],
 "metadata": {
  "kernelspec": {
   "display_name": "Python 3",
   "language": "python",
   "name": "python3"
  },
  "language_info": {
   "codemirror_mode": {
    "name": "ipython",
    "version": 3
   },
   "file_extension": ".py",
   "mimetype": "text/x-python",
   "name": "python",
   "nbconvert_exporter": "python",
   "pygments_lexer": "ipython3",
   "version": "3.6.1"
  }
 },
 "nbformat": 4,
 "nbformat_minor": 2
}
