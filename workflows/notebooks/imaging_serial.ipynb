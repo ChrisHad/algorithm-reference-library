{
 "cells": [
  {
   "cell_type": "markdown",
   "metadata": {},
   "source": [
    "# Imaging and deconvolution demonstration"
   ]
  },
  {
   "cell_type": "markdown",
   "metadata": {},
   "source": [
    "This script makes a fake data set and then deconvolves it. Finally the full and residual visibility are plotted."
   ]
  },
  {
   "cell_type": "code",
   "execution_count": null,
   "metadata": {
    "ExecuteTime": {
     "end_time": "2018-11-27T10:25:30.621518Z",
     "start_time": "2018-11-27T10:25:28.890125Z"
    }
   },
   "outputs": [],
   "source": [
    "%matplotlib inline\n",
    "\n",
    "import os\n",
    "import sys\n",
    "\n",
    "sys.path.append(os.path.join('..', '..'))\n",
    "\n",
    "from data_models.parameters import arl_path\n",
    "results_dir = arl_path('test_results')\n",
    "\n",
    "\n",
    "from matplotlib import pylab\n",
    "\n",
    "pylab.rcParams['figure.figsize'] = (8.0, 8.0)\n",
    "pylab.rcParams['image.cmap'] = 'rainbow'\n",
    "\n",
    "import numpy\n",
    "\n",
    "from astropy.coordinates import SkyCoord\n",
    "from astropy import units as u\n",
    "from astropy.wcs.utils import pixel_to_skycoord\n",
    "\n",
    "from matplotlib import pyplot as plt\n",
    "\n",
    "from processing_components.image.iterators import image_raster_iter\n",
    "\n",
    "from wrappers.serial.visibility.base import create_visibility\n",
    "from wrappers.serial.skycomponent.operations import create_skycomponent\n",
    "from wrappers.serial.image.operations import show_image, export_image_to_fits\n",
    "from wrappers.serial.image.deconvolution import deconvolve_cube, restore_cube\n",
    "from wrappers.serial.visibility.iterators import vis_timeslice_iter\n",
    "from wrappers.serial.simulation.testing_support import create_named_configuration, create_test_image\n",
    "from wrappers.serial.imaging.base import create_image_from_visibility\n",
    "from workflows.serial.imaging.imaging_serial import invert_list_serial_workflow, predict_list_serial_workflow\n",
    "\n",
    "from data_models.polarisation import PolarisationFrame\n",
    "\n",
    "import logging\n",
    "\n",
    "log = logging.getLogger()\n",
    "log.setLevel(logging.DEBUG)\n",
    "log.addHandler(logging.StreamHandler(sys.stdout))"
   ]
  },
  {
   "cell_type": "code",
   "execution_count": null,
   "metadata": {
    "ExecuteTime": {
     "end_time": "2018-11-27T10:25:31.719666Z",
     "start_time": "2018-11-27T10:25:31.716643Z"
    }
   },
   "outputs": [],
   "source": [
    "pylab.rcParams['figure.figsize'] = (12.0, 12.0)\n",
    "pylab.rcParams['image.cmap'] = 'rainbow'"
   ]
  },
  {
   "cell_type": "markdown",
   "metadata": {},
   "source": [
    "Construct LOW core configuration"
   ]
  },
  {
   "cell_type": "code",
   "execution_count": null,
   "metadata": {
    "ExecuteTime": {
     "end_time": "2018-11-27T10:25:33.740125Z",
     "start_time": "2018-11-27T10:25:33.698354Z"
    }
   },
   "outputs": [],
   "source": [
    "lowcore = create_named_configuration('LOWBD2', rmax=400.0)"
   ]
  },
  {
   "cell_type": "code",
   "execution_count": null,
   "metadata": {
    "ExecuteTime": {
     "end_time": "2018-11-27T10:25:34.785058Z",
     "start_time": "2018-11-27T10:25:34.775232Z"
    }
   },
   "outputs": [],
   "source": [
    "print(lowcore.xyz)"
   ]
  },
  {
   "cell_type": "markdown",
   "metadata": {},
   "source": [
    "We create the visibility. This just makes the uvw, time, antenna1, antenna2, weight columns in a table"
   ]
  },
  {
   "cell_type": "code",
   "execution_count": null,
   "metadata": {
    "ExecuteTime": {
     "end_time": "2018-11-27T10:25:37.156744Z",
     "start_time": "2018-11-27T10:25:37.067267Z"
    }
   },
   "outputs": [],
   "source": [
    "times = numpy.zeros([1])\n",
    "frequency = numpy.array([1e8])\n",
    "channel_bandwidth = numpy.array([1e6])\n",
    "phasecentre = SkyCoord(ra=+15.0 * u.deg, dec=-45.0 * u.deg, frame='icrs', equinox='J2000')\n",
    "vt = create_visibility(lowcore, times, frequency, channel_bandwidth=channel_bandwidth,\n",
    "                       weight=1.0, phasecentre=phasecentre, polarisation_frame=PolarisationFrame('stokesI'))"
   ]
  },
  {
   "cell_type": "markdown",
   "metadata": {},
   "source": [
    "Plot the synthesized uv coverage."
   ]
  },
  {
   "cell_type": "code",
   "execution_count": null,
   "metadata": {
    "ExecuteTime": {
     "end_time": "2018-11-27T10:25:39.173862Z",
     "start_time": "2018-11-27T10:25:38.759539Z"
    },
    "scrolled": false
   },
   "outputs": [],
   "source": [
    "plt.clf()\n",
    "plt.plot(vt.data['uvw'][:,0], vt.data['uvw'][:,1], '.', color='b')\n",
    "plt.plot(-vt.data['uvw'][:,0], -vt.data['uvw'][:,1], '.', color='b')\n",
    "plt.show()"
   ]
  },
  {
   "cell_type": "markdown",
   "metadata": {},
   "source": [
    "Read the venerable test image, constructing an image"
   ]
  },
  {
   "cell_type": "code",
   "execution_count": null,
   "metadata": {
    "ExecuteTime": {
     "end_time": "2018-11-27T10:25:42.179787Z",
     "start_time": "2018-11-27T10:25:41.562319Z"
    }
   },
   "outputs": [],
   "source": [
    "m31image = create_test_image(frequency=frequency, cellsize=0.0005)\n",
    "nchan, npol, ny, nx = m31image.data.shape\n",
    "m31image.wcs.wcs.crval[0] = vt.phasecentre.ra.deg\n",
    "m31image.wcs.wcs.crval[1] = vt.phasecentre.dec.deg\n",
    "m31image.wcs.wcs.crpix[0] = float(nx // 2)\n",
    "m31image.wcs.wcs.crpix[1] = float(ny // 2)\n",
    "\n",
    "fig=show_image(m31image)"
   ]
  },
  {
   "cell_type": "code",
   "execution_count": null,
   "metadata": {
    "ExecuteTime": {
     "end_time": "2018-11-27T10:25:43.588167Z",
     "start_time": "2018-11-27T10:25:43.145661Z"
    }
   },
   "outputs": [],
   "source": [
    "vt = predict_list_serial_workflow([vt], [m31image], context='2d')[0]\n",
    "\n",
    "# To check that we got the prediction right, plot the amplitude of the visibility.\n",
    "uvdist=numpy.sqrt(vt.data['uvw'][:,0]**2+vt.data['uvw'][:,1]**2)\n",
    "plt.clf()\n",
    "plt.plot(uvdist, numpy.abs(vt.data['vis']), '.')\n",
    "plt.xlabel('uvdist')\n",
    "plt.ylabel('Amp Visibility')\n",
    "plt.show()"
   ]
  },
  {
   "cell_type": "markdown",
   "metadata": {},
   "source": [
    "Make the dirty image and point spread function"
   ]
  },
  {
   "cell_type": "code",
   "execution_count": null,
   "metadata": {
    "ExecuteTime": {
     "end_time": "2018-11-27T10:25:46.583119Z",
     "start_time": "2018-11-27T10:25:45.769400Z"
    },
    "scrolled": false
   },
   "outputs": [],
   "source": [
    "model = create_image_from_visibility(vt, cellsize=0.001, npixel=256)\n",
    "dirty, sumwt = invert_list_serial_workflow([vt], [model], context='2d')[0]\n",
    "psf, sumwt = invert_list_serial_workflow([vt], [model], context='2d', dopsf=True)[0]\n",
    "\n",
    "show_image(dirty)\n",
    "print(\"Max, min in dirty image = %.6f, %.6f, sumwt = %f\" % (dirty.data.max(), dirty.data.min(), sumwt))\n",
    "\n",
    "print(\"Max, min in PSF         = %.6f, %.6f, sumwt = %f\" % (psf.data.max(), psf.data.min(), sumwt))\n",
    "\n",
    "export_image_to_fits(dirty, '%s/imaging_dirty.fits'%(results_dir))\n",
    "export_image_to_fits(psf, '%s/imaging_psf.fits'%(results_dir))"
   ]
  },
  {
   "cell_type": "markdown",
   "metadata": {},
   "source": [
    "Deconvolve using clean"
   ]
  },
  {
   "cell_type": "code",
   "execution_count": null,
   "metadata": {
    "ExecuteTime": {
     "end_time": "2018-11-27T10:25:50.962661Z",
     "start_time": "2018-11-27T10:25:48.843911Z"
    },
    "scrolled": false
   },
   "outputs": [],
   "source": [
    "comp, residual = deconvolve_cube(dirty, psf, niter=1000, threshold=0.001, fracthresh=0.01, window_shape='quarter',\n",
    "                                 gain=0.7, scales=[0, 3, 10, 30])\n",
    "\n",
    "restored = restore_cube(comp, psf, residual)\n",
    "\n",
    "# Show the results\n",
    "\n",
    "fig=show_image(comp)\n",
    "plt.title('Solution')\n",
    "fig=show_image(residual)\n",
    "plt.title('Residual')\n",
    "fig=show_image(restored)\n",
    "plt.title('Restored')"
   ]
  },
  {
   "cell_type": "markdown",
   "metadata": {},
   "source": [
    "Predict the visibility of the model"
   ]
  },
  {
   "cell_type": "code",
   "execution_count": null,
   "metadata": {
    "ExecuteTime": {
     "end_time": "2018-11-27T10:27:13.642317Z",
     "start_time": "2018-11-27T10:27:13.436603Z"
    }
   },
   "outputs": [],
   "source": [
    "vtmodel = create_visibility(lowcore, times, frequency, channel_bandwidth=channel_bandwidth,\n",
    "                            weight=1.0, phasecentre=phasecentre, \n",
    "                            polarisation_frame=PolarisationFrame('stokesI'))\n",
    "vtmodel=predict_list_serial_workflow([vtmodel], [comp], context='2d')[0]"
   ]
  },
  {
   "cell_type": "markdown",
   "metadata": {},
   "source": [
    "Now we will plot the original visibility and the residual visibility."
   ]
  },
  {
   "cell_type": "code",
   "execution_count": null,
   "metadata": {
    "ExecuteTime": {
     "end_time": "2018-11-27T10:27:15.657916Z",
     "start_time": "2018-11-27T10:27:15.310933Z"
    }
   },
   "outputs": [],
   "source": [
    "uvdist=numpy.sqrt(vt.data['uvw'][:,0]**2+vt.data['uvw'][:,1]**2)\n",
    "plt.clf()\n",
    "plt.plot(uvdist, numpy.abs(vt.data['vis'][:]-vtmodel.data['vis'][:]), '.', color='r', \n",
    "         label='Residual')\n",
    "plt.plot(uvdist, numpy.abs(vt.data['vis'][:]), '.', color='b', label='Original')\n",
    "\n",
    "plt.xlabel('uvdist')\n",
    "plt.ylabel('Amp Visibility')\n",
    "plt.legend()\n",
    "plt.show()\n"
   ]
  },
  {
   "cell_type": "code",
   "execution_count": null,
   "metadata": {},
   "outputs": [],
   "source": []
  }
 ],
 "metadata": {
  "kernelspec": {
   "display_name": "Python 3",
   "language": "python",
   "name": "python3"
  },
  "language_info": {
   "codemirror_mode": {
    "name": "ipython",
    "version": 3
   },
   "file_extension": ".py",
   "mimetype": "text/x-python",
   "name": "python",
   "nbconvert_exporter": "python",
   "pygments_lexer": "ipython3",
   "version": "3.6.1"
  }
 },
 "nbformat": 4,
 "nbformat_minor": 2
}
