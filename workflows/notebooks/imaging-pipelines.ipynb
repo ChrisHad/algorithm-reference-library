{
 "cells": [
  {
   "cell_type": "markdown",
   "metadata": {},
   "source": [
    "# Pipeline processing using Dask\n",
    "\n",
    "This notebook demonstrates the continuum imaging and ICAL pipelines."
   ]
  },
  {
   "cell_type": "code",
   "execution_count": null,
   "metadata": {
    "ExecuteTime": {
     "end_time": "2018-03-27T15:20:42.457576Z",
     "start_time": "2018-03-27T15:20:40.424877Z"
    },
    "scrolled": true
   },
   "outputs": [],
   "source": [
    "%matplotlib inline\n",
    "\n",
    "import os\n",
    "import sys\n",
    "sys.path.append(os.path.join('..','..'))\n",
    "\n",
    "results_dir = './results'\n",
    "os.makedirs(results_dir, exist_ok=True)\n",
    "\n",
    "from processing_components.graphs.execute import arlexecute\n",
    "\n",
    "results_dir = './results'\n",
    "os.makedirs(results_dir, exist_ok=True)\n",
    "\n",
    "from matplotlib import pylab\n",
    "\n",
    "pylab.rcParams['figure.figsize'] = (12.0, 12.0)\n",
    "pylab.rcParams['image.cmap'] = 'rainbow'\n",
    "\n",
    "import numpy\n",
    "\n",
    "\n",
    "import pprint\n",
    "\n",
    "from astropy.coordinates import SkyCoord\n",
    "from astropy import units as u\n",
    "from astropy.wcs.utils import pixel_to_skycoord\n",
    "\n",
    "from matplotlib import pyplot as plt\n",
    "\n",
    "from libs.calibration.solvers import solve_gaintable\n",
    "from libs.calibration.operations import apply_gaintable\n",
    "from libs.calibration.calibration_control import create_calibration_controls\n",
    "from libs.data.data_models import Image\n",
    "from libs.data.polarisation import PolarisationFrame\n",
    "from libs.data.parameters import get_parameter\n",
    "from libs.visibility.base import create_blockvisibility\n",
    "from libs.skycomponent.operations import create_skycomponent\n",
    "from libs.image.deconvolution import deconvolve_cube\n",
    "from libs.image.operations import show_image, export_image_to_fits, qa_image, copy_image, create_empty_image_like\n",
    "from libs.visibility.iterators import vis_timeslice_iter\n",
    "from libs.util.testing_support import create_named_configuration, create_low_test_beam\n",
    "from libs.imaging import predict_2d, create_image_from_visibility, advise_wide_field\n",
    "\n",
    "from processing_components.graphs.dask_init import get_dask_Client\n",
    "from processing_components.graphs.imaging import create_invert_graph, create_predict_graph, create_deconvolve_graph, \\\n",
    "    create_residual_graph, compute_list\n",
    "from processing_components.graphs.generic_graphs import create_generic_image_graph\n",
    "from processing_components.graphs.graph_support import create_simulate_vis_graph, \\\n",
    "    create_low_test_image_from_gleam, create_corrupt_vis_graph\n",
    "from processing_components.graphs.pipeline_graphs import create_continuum_imaging_pipeline_graph, \\\n",
    "    create_ical_pipeline_graph    \n",
    "    \n",
    "import pprint\n",
    "pp = pprint.PrettyPrinter()\n",
    "\n",
    "import logging\n",
    "def init_logging():\n",
    "    log = logging.getLogger()\n",
    "    logging.basicConfig(filename='%s/imaging-pipeline.log' % results_dir,\n",
    "                            filemode='a',\n",
    "                            format='%(thread)s %(asctime)s,%(msecs)d %(name)s %(levelname)s %(message)s',\n",
    "                            datefmt='%H:%M:%S',\n",
    "                            level=logging.INFO)\n",
    "log = logging.getLogger()\n",
    "logging.info(\"Starting imaging-pipeline\")"
   ]
  },
  {
   "cell_type": "markdown",
   "metadata": {},
   "source": [
    "We will use dask"
   ]
  },
  {
   "cell_type": "code",
   "execution_count": null,
   "metadata": {},
   "outputs": [],
   "source": [
    "arlexecute.set_client(get_dask_Client())\n",
    "arlexecute.client.run(init_logging)"
   ]
  },
  {
   "cell_type": "code",
   "execution_count": null,
   "metadata": {
    "ExecuteTime": {
     "end_time": "2018-03-27T15:20:42.462878Z",
     "start_time": "2018-03-27T15:20:42.459519Z"
    }
   },
   "outputs": [],
   "source": [
    "pylab.rcParams['figure.figsize'] = (12.0, 12.0)\n",
    "pylab.rcParams['image.cmap'] = 'rainbow'"
   ]
  },
  {
   "cell_type": "markdown",
   "metadata": {},
   "source": [
    "We create a graph to make the visibility. The parameter rmax determines the distance of the furthest antenna/stations used. All over parameters are determined from this number."
   ]
  },
  {
   "cell_type": "code",
   "execution_count": null,
   "metadata": {
    "ExecuteTime": {
     "end_time": "2018-03-27T15:21:01.083241Z",
     "start_time": "2018-03-27T15:20:58.921911Z"
    },
    "scrolled": true
   },
   "outputs": [],
   "source": [
    "nfreqwin=7\n",
    "ntimes=11\n",
    "rmax=300.0\n",
    "frequency=numpy.linspace(0.9e8,1.1e8,nfreqwin)\n",
    "channel_bandwidth=numpy.array(nfreqwin*[frequency[1]-frequency[0]])\n",
    "times = numpy.linspace(-numpy.pi/3.0, numpy.pi/3.0, ntimes)\n",
    "phasecentre=SkyCoord(ra=+30.0 * u.deg, dec=-60.0 * u.deg, frame='icrs', equinox='J2000')\n",
    "\n",
    "vis_graph_list=create_simulate_vis_graph('LOWBD2',\n",
    "                                         frequency=frequency, \n",
    "                                         channel_bandwidth=channel_bandwidth,\n",
    "                                         times=times,\n",
    "                                         phasecentre=phasecentre,\n",
    "                                         order='frequency',\n",
    "                                        rmax=rmax)\n",
    "print('%d elements in vis_graph_list' % len(vis_graph_list))\n",
    "log.info('About to make visibility')\n",
    "vis_graph_list = arlexecute.compute(vis_graph_list)"
   ]
  },
  {
   "cell_type": "code",
   "execution_count": null,
   "metadata": {
    "ExecuteTime": {
     "end_time": "2018-03-27T15:21:02.241279Z",
     "start_time": "2018-03-27T15:21:01.087669Z"
    },
    "scrolled": false
   },
   "outputs": [],
   "source": [
    "wprojection_planes=1\n",
    "advice_low=advise_wide_field(vis_graph_list[0], guard_band_image=8.0, delA=0.02,\n",
    "                             wprojection_planes=wprojection_planes)\n",
    "\n",
    "advice_high=advise_wide_field(vis_graph_list[-1], guard_band_image=8.0, delA=0.02,\n",
    "                              wprojection_planes=wprojection_planes)\n",
    "\n",
    "vis_slices = advice_low['vis_slices']\n",
    "npixel=advice_high['npixels2']\n",
    "cellsize=min(advice_low['cellsize'], advice_high['cellsize'])"
   ]
  },
  {
   "cell_type": "markdown",
   "metadata": {},
   "source": [
    "Now make a graph to fill with a model drawn from GLEAM "
   ]
  },
  {
   "cell_type": "code",
   "execution_count": null,
   "metadata": {
    "ExecuteTime": {
     "end_time": "2018-03-27T15:21:57.190227Z",
     "start_time": "2018-03-27T15:21:04.110174Z"
    },
    "scrolled": false
   },
   "outputs": [],
   "source": [
    "gleam_model_graph = [arlexecute.execute(create_low_test_image_from_gleam)(npixel=npixel,\n",
    "                                                               frequency=[frequency[f]],\n",
    "                                                               channel_bandwidth=[channel_bandwidth[f]],\n",
    "                                                               cellsize=cellsize,\n",
    "                                                               phasecentre=phasecentre,\n",
    "                                                               polarisation_frame=PolarisationFrame(\"stokesI\"),\n",
    "                                                               flux_limit=1.0,\n",
    "                                                               applybeam=True)\n",
    "                     for f, freq in enumerate(frequency)]\n",
    "log.info('About to make GLEAM model')\n",
    "gleam_model_graph = arlexecute.compute(gleam_model_graph)\n",
    "future_gleam_model_graph = arlexecute.client.scatter(gleam_model_graph)"
   ]
  },
  {
   "cell_type": "code",
   "execution_count": null,
   "metadata": {
    "ExecuteTime": {
     "end_time": "2018-03-27T15:22:24.779456Z",
     "start_time": "2018-03-27T15:21:57.192429Z"
    },
    "scrolled": true
   },
   "outputs": [],
   "source": [
    "log.info('About to run predict to get predicted visibility')\n",
    "future_vis_graph = arlexecute.client.scatter(vis_graph_list)\n",
    "predicted_vis_graph_list = create_predict_graph(future_vis_graph, future_gleam_model_graph,  \n",
    "                                                context='wstack', vis_slices=vis_slices)\n",
    "predicted_vis_graph_list = arlexecute.compute(predicted_vis_graph_list)\n",
    "corrupted_vis_graph_list = create_corrupt_vis_graph(predicted_vis_graph_list, phase_error=1.0)\n",
    "log.info('About to run corrupt to get corrupted visibility')\n",
    "corrupted_vis_graph_list =  arlexecute.compute(corrupted_vis_graph_list)\n",
    "future_predicted_vis_graph_list=arlexecute.client.scatter(predicted_vis_graph_list)"
   ]
  },
  {
   "cell_type": "markdown",
   "metadata": {},
   "source": [
    "Get the LSM. This is currently blank."
   ]
  },
  {
   "cell_type": "code",
   "execution_count": null,
   "metadata": {
    "ExecuteTime": {
     "end_time": "2018-03-27T15:22:30.834806Z",
     "start_time": "2018-03-27T15:22:30.827659Z"
    },
    "scrolled": true
   },
   "outputs": [],
   "source": [
    "model_graph = [arlexecute.execute(create_image_from_visibility)(vis_graph_list[f],\n",
    "                                                     npixel=npixel,\n",
    "                                                     frequency=[frequency[f]],\n",
    "                                                     channel_bandwidth=[channel_bandwidth[f]],\n",
    "                                                     cellsize=cellsize,\n",
    "                                                     phasecentre=phasecentre,\n",
    "                                                     polarisation_frame=PolarisationFrame(\"stokesI\"))\n",
    "               for f, freq in enumerate(frequency)]"
   ]
  },
  {
   "cell_type": "code",
   "execution_count": null,
   "metadata": {
    "ExecuteTime": {
     "end_time": "2018-03-27T14:57:19.661317Z",
     "start_time": "2018-03-27T14:57:19.407108Z"
    }
   },
   "outputs": [],
   "source": [
    "future_predicted_vis_graph_list=arlexecute.client.scatter(predicted_vis_graph_list)\n",
    "dirty_graph = create_invert_graph(future_predicted_vis_graph_list, model_graph, \n",
    "                                  context='wstack',\n",
    "                                  vis_slices=vis_slices, dopsf=False)\n",
    "psf_graph = create_invert_graph(future_predicted_vis_graph_list, model_graph, \n",
    "                                context='wstack',\n",
    "                                vis_slices=vis_slices, dopsf=True)"
   ]
  },
  {
   "cell_type": "markdown",
   "metadata": {},
   "source": [
    "Create and execute graphs to make the dirty image and PSF"
   ]
  },
  {
   "cell_type": "code",
   "execution_count": null,
   "metadata": {
    "ExecuteTime": {
     "end_time": "2018-03-27T14:57:59.214616Z",
     "start_time": "2018-03-27T14:57:19.663855Z"
    },
    "scrolled": false
   },
   "outputs": [],
   "source": [
    "log.info('About to run invert to get dirty image')\n",
    "\n",
    "dirty_graph =  arlexecute.compute(dirty_graph)\n",
    "dirty = dirty_graph[0][0]\n",
    "print(dirty)\n",
    "show_image(dirty, cm='Greys', vmax=1.0, vmin=-0.1)\n",
    "plt.show()\n",
    "\n",
    "log.info('About to run invert to get PSF')\n",
    "\n",
    "\n",
    "psf_graph =  arlexecute.compute(psf_graph)\n",
    "psf = psf_graph[0][0]\n",
    "show_image(psf, cm='Greys', vmax=0.1, vmin=-0.01)\n",
    "plt.show()"
   ]
  },
  {
   "cell_type": "markdown",
   "metadata": {},
   "source": [
    "Now deconvolve using msclean"
   ]
  },
  {
   "cell_type": "code",
   "execution_count": null,
   "metadata": {
    "ExecuteTime": {
     "end_time": "2018-03-27T14:58:06.808215Z",
     "start_time": "2018-03-27T14:57:59.216974Z"
    },
    "scrolled": false
   },
   "outputs": [],
   "source": [
    "log.info('About to run deconvolve')\n",
    "\n",
    "deconvolve_graph, _ = \\\n",
    "    create_deconvolve_graph(dirty_graph, psf_graph, model_graph=model_graph, \n",
    "                            deconvolve_facets=8, deconvolve_overlap=16, deconvolve_taper='tukey',\n",
    "                            scales=[0, 3, 10],\n",
    "                            algorithm='msclean', niter=1000, \n",
    "                            fractional_threshold=0.1,\n",
    "                            threshold=0.1, gain=0.1, psf_support=64)\n",
    "    \n",
    "deconvolve_graph.visualize('%s/imaging-pipelines-deconvolve-facet-graph.svg' %(results_dir))\n",
    "\n",
    "deconvolved = arlexecute.compute(deconvolve_graph)\n",
    "show_image(deconvolved[0], cm='Greys', vmax=0.1, vmin=-0.01)\n",
    "plt.show()"
   ]
  },
  {
   "cell_type": "code",
   "execution_count": null,
   "metadata": {
    "ExecuteTime": {
     "end_time": "2018-03-27T14:58:12.124940Z",
     "start_time": "2018-03-27T14:58:06.816248Z"
    },
    "scrolled": false
   },
   "outputs": [],
   "source": [
    "continuum_imaging_graph = \\\n",
    "    create_continuum_imaging_pipeline_graph(predicted_vis_graph_list, \n",
    "                                            model_graph=model_graph, \n",
    "                                            context='wstack', vis_slices=vis_slices, \n",
    "                                            scales=[0, 3, 10], algorithm='mmclean', \n",
    "                                            nmoment=3, niter=1000, \n",
    "                                            fractional_threshold=0.1,\n",
    "                                            threshold=0.1, nmajor=5, gain=0.25,\n",
    "                                            deconvolve_facets = 8, deconvolve_overlap=16, \n",
    "                                            deconvolve_taper='tukey', psf_support=64)\n"
   ]
  },
  {
   "cell_type": "code",
   "execution_count": null,
   "metadata": {
    "ExecuteTime": {
     "end_time": "2018-03-27T15:04:47.369228Z",
     "start_time": "2018-03-27T14:58:12.126669Z"
    },
    "scrolled": false
   },
   "outputs": [],
   "source": [
    "log.info('About to run continuum imaging')\n",
    "\n",
    "result=arlexecute.compute(continuum_imaging_graph)\n",
    "deconvolved = result[0][0]\n",
    "residual = result[1][0]\n",
    "restored = result[2][0]\n",
    "\n",
    "f=show_image(deconvolved, title='Clean image - no selfcal', cm='Greys', \n",
    "             vmax=0.1, vmin=-0.01)\n",
    "print(qa_image(deconvolved, context='Clean image - no selfcal'))\n",
    "\n",
    "plt.show()\n",
    "\n",
    "f=show_image(restored, title='Restored clean image - no selfcal', \n",
    "             cm='Greys', vmax=1.0, vmin=-0.1)\n",
    "print(qa_image(restored, context='Restored clean image - no selfcal'))\n",
    "plt.show()\n",
    "export_image_to_fits(restored, '%s/imaging-dask_continuum_imaging_restored.fits' \n",
    "                     %(results_dir))\n",
    "\n",
    "f=show_image(residual[0], title='Residual clean image - no selfcal', cm='Greys', \n",
    "             vmax=0.1, vmin=-0.01)\n",
    "print(qa_image(residual[0], context='Residual clean image - no selfcal'))\n",
    "plt.show()\n",
    "export_image_to_fits(residual[0], '%s/imaging-dask_continuum_imaging_residual.fits' \n",
    "                     %(results_dir))"
   ]
  },
  {
   "cell_type": "code",
   "execution_count": null,
   "metadata": {
    "ExecuteTime": {
     "end_time": "2018-03-27T15:04:56.984061Z",
     "start_time": "2018-03-27T15:04:47.372510Z"
    },
    "scrolled": false
   },
   "outputs": [],
   "source": [
    "for chan in range(nfreqwin):\n",
    "    residual = result[1][chan]\n",
    "    show_image(residual[0], title='Channel %d' % chan, cm='Greys', \n",
    "               vmax=0.1, vmin=-0.01)\n",
    "    plt.show()"
   ]
  },
  {
   "cell_type": "code",
   "execution_count": null,
   "metadata": {
    "ExecuteTime": {
     "end_time": "2018-03-27T15:22:43.918671Z",
     "start_time": "2018-03-27T15:22:43.905693Z"
    }
   },
   "outputs": [],
   "source": [
    "controls = create_calibration_controls()\n",
    "        \n",
    "controls['T']['first_selfcal'] = 1\n",
    "controls['G']['first_selfcal'] = 3\n",
    "controls['B']['first_selfcal'] = 4\n",
    "\n",
    "controls['T']['timescale'] = 'auto'\n",
    "controls['G']['timescale'] = 'auto'\n",
    "controls['B']['timescale'] = 1e5\n",
    "\n",
    "pp.pprint(controls)"
   ]
  },
  {
   "cell_type": "code",
   "execution_count": null,
   "metadata": {
    "ExecuteTime": {
     "end_time": "2018-03-27T15:22:55.819344Z",
     "start_time": "2018-03-27T15:22:52.736517Z"
    },
    "scrolled": true
   },
   "outputs": [],
   "source": [
    "future_corrupted_vis_graph_list = arlexecute.client.scatter(corrupted_vis_graph_list)\n",
    "ical_graph = create_ical_pipeline_graph(future_corrupted_vis_graph_list, \n",
    "                                        model_graph=model_graph,  \n",
    "                                        context='wstack', \n",
    "                                        calibration_context = 'TG', \n",
    "                                        controls=controls,\n",
    "                                        scales=[0, 3, 10], algorithm='mmclean', \n",
    "                                        nmoment=3, niter=1000, \n",
    "                                        fractional_threshold=0.1,\n",
    "                                        threshold=0.1, nmajor=5, gain=0.25,\n",
    "                                        deconvolve_facets = 8, \n",
    "                                        deconvolve_overlap=16,\n",
    "                                        deconvolve_taper='tukey',\n",
    "                                        vis_slices=ntimes,\n",
    "                                        timeslice='auto',\n",
    "                                        global_solution=False, \n",
    "                                        psf_support=64,\n",
    "                                        do_selfcal=True)"
   ]
  },
  {
   "cell_type": "code",
   "execution_count": null,
   "metadata": {
    "ExecuteTime": {
     "end_time": "2018-03-27T15:29:24.847939Z",
     "start_time": "2018-03-27T15:22:57.621148Z"
    },
    "scrolled": true
   },
   "outputs": [],
   "source": [
    "log.info('About to run ical')\n",
    "result=arlexecute.compute(ical_graph)\n",
    "deconvolved = result[0][0]\n",
    "residual = result[1][0]\n",
    "restored = result[2][0]\n",
    "\n",
    "f=show_image(deconvolved, title='Clean image', cm='Greys', vmax=1.0, vmin=-0.1)\n",
    "print(qa_image(deconvolved, context='Clean image'))\n",
    "plt.show()\n",
    "\n",
    "f=show_image(restored, title='Restored clean image', cm='Greys', vmax=1.0, \n",
    "             vmin=-0.1)\n",
    "print(qa_image(restored, context='Restored clean image'))\n",
    "plt.show()\n",
    "export_image_to_fits(restored, '%s/imaging-dask_ical_restored.fits' \n",
    "                     %(results_dir))\n",
    "\n",
    "f=show_image(residual[0], title='Residual clean image', cm='Greys', \n",
    "             vmax=0.1, vmin=-0.01)\n",
    "print(qa_image(residual[0], context='Residual clean image'))\n",
    "plt.show()\n",
    "export_image_to_fits(residual[0], '%s/imaging-dask_ical_residual.fits' \n",
    "                     %(results_dir))"
   ]
  },
  {
   "cell_type": "code",
   "execution_count": null,
   "metadata": {},
   "outputs": [],
   "source": []
  }
 ],
 "metadata": {
  "kernelspec": {
   "display_name": "Python 3",
   "language": "python",
   "name": "python3"
  },
  "language_info": {
   "codemirror_mode": {
    "name": "ipython",
    "version": 3
   },
   "file_extension": ".py",
   "mimetype": "text/x-python",
   "name": "python",
   "nbconvert_exporter": "python",
   "pygments_lexer": "ipython3",
   "version": "3.6.1"
  }
 },
 "nbformat": 4,
 "nbformat_minor": 2
}
