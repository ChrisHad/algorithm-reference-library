{
 "cells": [
  {
   "cell_type": "markdown",
   "metadata": {},
   "source": [
    "# ICAL pipeline processing using Dask workflows."
   ]
  },
  {
   "cell_type": "code",
   "execution_count": null,
   "metadata": {
    "ExecuteTime": {
     "end_time": "2018-11-16T11:38:33.166312Z",
     "start_time": "2018-11-16T11:38:31.222933Z"
    },
    "scrolled": false
   },
   "outputs": [],
   "source": [
    "% matplotlib inline\n",
    "\n",
    "import os\n",
    "import sys\n",
    "\n",
    "sys.path.append(os.path.join('..', '..'))\n",
    "\n",
    "from data_models.parameters import arl_path\n",
    "\n",
    "results_dir = arl_path('test_results')\n",
    "\n",
    "from matplotlib import pylab\n",
    "\n",
    "pylab.rcParams['figure.figsize'] = (12.0, 12.0)\n",
    "pylab.rcParams['image.cmap'] = 'rainbow'\n",
    "\n",
    "import numpy\n",
    "\n",
    "from astropy.coordinates import SkyCoord\n",
    "from astropy import units as u\n",
    "from astropy.wcs.utils import pixel_to_skycoord\n",
    "\n",
    "from matplotlib import pyplot as plt\n",
    "\n",
    "from data_models.polarisation import PolarisationFrame\n",
    "\n",
    "from wrappers.serial.calibration.calibration import solve_gaintable\n",
    "from wrappers.serial.calibration.calibration_control import create_calibration_controls\n",
    "from wrappers.serial.image.operations import show_image, export_image_to_fits, qa_image\n",
    "from wrappers.serial.simulation.testing_support import create_low_test_image_from_gleam\n",
    "from wrappers.serial.imaging.base import create_image_from_visibility, advise_wide_field\n",
    "from wrappers.arlexecute.image.gather_scatter import image_gather_channels\n",
    "\n",
    "\n",
    "from workflows.arlexecute.imaging.imaging_arlexecute import invert_list_arlexecute_workflow, \\\n",
    "    predict_list_arlexecute_workflow, weight_list_arlexecute_workflow\n",
    "from workflows.arlexecute.simulation.simulation_arlexecute import simulate_list_arlexecute_workflow, \\\n",
    "    corrupt_list_arlexecute_workflow\n",
    "from workflows.arlexecute.pipelines.pipeline_arlexecute import continuum_imaging_list_arlexecute_workflow, \\\n",
    "    ical_list_arlexecute_workflow\n",
    "\n",
    "from wrappers.arlexecute.execution_support.arlexecute import arlexecute\n",
    "from wrappers.arlexecute.execution_support.dask_init import get_dask_Client\n"
   ]
  },
  {
   "cell_type": "code",
   "execution_count": null,
   "metadata": {
    "ExecuteTime": {
     "end_time": "2018-11-16T11:38:33.172330Z",
     "start_time": "2018-11-16T11:38:33.168968Z"
    }
   },
   "outputs": [],
   "source": [
    "pylab.rcParams['figure.figsize'] = (12.0, 12.0)\n",
    "pylab.rcParams['image.cmap'] = 'Greys'"
   ]
  },
  {
   "cell_type": "markdown",
   "metadata": {},
   "source": [
    "### We will use dask to distribute processing"
   ]
  },
  {
   "cell_type": "code",
   "execution_count": null,
   "metadata": {
    "ExecuteTime": {
     "end_time": "2018-11-16T11:38:35.790798Z",
     "start_time": "2018-11-16T11:38:33.175192Z"
    }
   },
   "outputs": [],
   "source": [
    "client = get_dask_Client(memory_limit=4* 1024 * 1024 * 1024, n_workers=7)\n",
    "arlexecute.set_client(client)\n"
   ]
  },
  {
   "cell_type": "markdown",
   "metadata": {},
   "source": [
    "### All Dask workers log to a common file"
   ]
  },
  {
   "cell_type": "code",
   "execution_count": null,
   "metadata": {
    "ExecuteTime": {
     "end_time": "2018-11-16T11:38:35.835083Z",
     "start_time": "2018-11-16T11:38:35.793657Z"
    }
   },
   "outputs": [],
   "source": [
    "import logging\n",
    "\n",
    "def init_logging():\n",
    "    log = logging.getLogger()\n",
    "    logging.basicConfig(filename='%s/imaging-pipeline.log' % results_dir,\n",
    "                        filemode='a',\n",
    "                        format='%(asctime)s,%(msecs)d %(name)s %(levelname)s %(message)s',\n",
    "                        datefmt='%H:%M:%S',\n",
    "                        level=logging.INFO)\n",
    "log = logging.getLogger()\n",
    "logging.info(\"Starting ARL demo\")\n",
    "arlexecute.run(init_logging)"
   ]
  },
  {
   "cell_type": "markdown",
   "metadata": {},
   "source": [
    "### We create a graph to make the visibility. The parameter rmax determines the distance of the furthest antenna/stations used. All other parameters are determined from this number."
   ]
  },
  {
   "cell_type": "code",
   "execution_count": null,
   "metadata": {
    "ExecuteTime": {
     "end_time": "2018-11-16T11:38:38.179105Z",
     "start_time": "2018-11-16T11:38:35.837132Z"
    },
    "scrolled": false
   },
   "outputs": [],
   "source": [
    "nfreqwin=7\n",
    "ntimes=5\n",
    "rmax=750.0\n",
    "frequency=numpy.linspace(0.9e8,1.1e8,nfreqwin)\n",
    "channel_bandwidth=numpy.array(nfreqwin*[frequency[1]-frequency[0]])\n",
    "times = numpy.linspace(-numpy.pi/3.0, numpy.pi/3.0, ntimes)\n",
    "phasecentre=SkyCoord(ra=+30.0 * u.deg, dec=-60.0 * u.deg, frame='icrs', equinox='J2000')\n",
    "\n",
    "vis_list=simulate_list_arlexecute_workflow('LOWBD2',\n",
    "                                         frequency=frequency, \n",
    "                                         channel_bandwidth=channel_bandwidth,\n",
    "                                         times=times,\n",
    "                                         phasecentre=phasecentre,\n",
    "                                         order='frequency',\n",
    "                                        rmax=rmax)\n",
    "print('%d elements in vis_list' % len(vis_list))\n",
    "vis_list = arlexecute.compute(vis_list, sync=True)\n",
    "print('Total number of visibilities = %d' % (len(vis_list)*numpy.product(vis_list[0].vis.shape)))"
   ]
  },
  {
   "cell_type": "code",
   "execution_count": null,
   "metadata": {
    "ExecuteTime": {
     "end_time": "2018-11-16T11:38:39.865736Z",
     "start_time": "2018-11-16T11:38:38.186534Z"
    },
    "scrolled": false
   },
   "outputs": [],
   "source": [
    "import pprint\n",
    "pp = pprint.PrettyPrinter()\n",
    "\n",
    "advice=advise_wide_field(vis_list[-1], guard_band_image=6.0, delA=0.05, \n",
    "                         oversampling_synthesised_beam=4)\n",
    "pp.pprint(advice)\n",
    "\n",
    "context='wstack'\n",
    "vis_slices = advice['vis_slices']\n",
    "npixel=advice['npixels2']\n",
    "cellsize=advice['cellsize']"
   ]
  },
  {
   "cell_type": "code",
   "execution_count": null,
   "metadata": {
    "ExecuteTime": {
     "end_time": "2018-11-16T11:38:40.030597Z",
     "start_time": "2018-11-16T11:38:39.868444Z"
    }
   },
   "outputs": [],
   "source": [
    "model_list = [arlexecute.execute(create_image_from_visibility)(vis_list[f],\n",
    "                                                     npixel=npixel,\n",
    "                                                     frequency=[frequency[f]],\n",
    "                                                     channel_bandwidth=[channel_bandwidth[f]],\n",
    "                                                     cellsize=cellsize,\n",
    "                                                     phasecentre=phasecentre,\n",
    "                                                     polarisation_frame=PolarisationFrame(\"stokesI\"))\n",
    "               for f, freq in enumerate(frequency)]\n",
    "future_model_graph = arlexecute.persist(model_list)"
   ]
  },
  {
   "cell_type": "markdown",
   "metadata": {},
   "source": [
    "### Now make and compute a graph to fill with a model drawn from GLEAM "
   ]
  },
  {
   "cell_type": "code",
   "execution_count": null,
   "metadata": {
    "ExecuteTime": {
     "end_time": "2018-11-16T11:38:51.383344Z",
     "start_time": "2018-11-16T11:38:40.053115Z"
    },
    "scrolled": false
   },
   "outputs": [],
   "source": [
    "gleam_model = [arlexecute.execute(create_low_test_image_from_gleam)\n",
    "               (npixel=npixel, frequency=[frequency[f]], channel_bandwidth=[channel_bandwidth[f]],\n",
    "                cellsize=cellsize, phasecentre=phasecentre, polarisation_frame=PolarisationFrame(\"stokesI\"),\n",
    "                flux_limit=0.3, applybeam=True, kind='cubic', flux_max=10.0)\n",
    "                     for f, freq in enumerate(frequency)]\n",
    "log.info('About to make GLEAM model')\n",
    "gleam_model = arlexecute.compute(gleam_model, sync=True)\n",
    "future_gleam_model = arlexecute.scatter(gleam_model)"
   ]
  },
  {
   "cell_type": "markdown",
   "metadata": {},
   "source": [
    "### Now predict the visibility from this model, and then apply some phase errors"
   ]
  },
  {
   "cell_type": "code",
   "execution_count": null,
   "metadata": {
    "ExecuteTime": {
     "end_time": "2018-11-16T11:40:03.608604Z",
     "start_time": "2018-11-16T11:38:51.385654Z"
    },
    "scrolled": false
   },
   "outputs": [],
   "source": [
    "future_vis_graph = arlexecute.scatter(vis_list)\n",
    "predicted_vislist = predict_list_arlexecute_workflow(future_vis_graph, future_gleam_model,  \n",
    "                                                context='wstack', vis_slices=vis_slices)\n",
    "predicted_vislist = arlexecute.compute(predicted_vislist, sync=True)"
   ]
  },
  {
   "cell_type": "code",
   "execution_count": null,
   "metadata": {
    "ExecuteTime": {
     "end_time": "2018-11-16T11:40:07.094368Z",
     "start_time": "2018-11-16T11:40:03.616311Z"
    }
   },
   "outputs": [],
   "source": [
    "corrupted_vislist = corrupt_list_arlexecute_workflow(predicted_vislist, phase_error=1.0, seed=180555)\n",
    "corrupted_vislist =  arlexecute.compute(corrupted_vislist, sync=True)\n",
    "corrupted_vislist = arlexecute.scatter(corrupted_vislist)"
   ]
  },
  {
   "cell_type": "markdown",
   "metadata": {},
   "source": [
    "### Get the LSM. This is currently blank. Style of ARL is to create e.g. template images and pass those"
   ]
  },
  {
   "cell_type": "code",
   "execution_count": null,
   "metadata": {
    "ExecuteTime": {
     "end_time": "2018-11-16T11:40:07.212233Z",
     "start_time": "2018-11-16T11:40:07.097801Z"
    },
    "scrolled": true
   },
   "outputs": [],
   "source": [
    "model_list = [arlexecute.execute(create_image_from_visibility)(vis_list[f],\n",
    "                                                     npixel=npixel,\n",
    "                                                     frequency=[frequency[f]],\n",
    "                                                     channel_bandwidth=[channel_bandwidth[f]],\n",
    "                                                     cellsize=cellsize,\n",
    "                                                     phasecentre=phasecentre,\n",
    "                                                     polarisation_frame=PolarisationFrame(\"stokesI\"))\n",
    "               for f, freq in enumerate(frequency)]\n",
    "model_graph = arlexecute.compute(model_list, sync=True)\n",
    "model_graph = arlexecute.scatter(model_list)"
   ]
  },
  {
   "cell_type": "markdown",
   "metadata": {},
   "source": [
    "### Weight the data"
   ]
  },
  {
   "cell_type": "code",
   "execution_count": null,
   "metadata": {
    "ExecuteTime": {
     "end_time": "2018-11-16T11:40:22.263895Z",
     "start_time": "2018-11-16T11:40:07.330817Z"
    },
    "scrolled": false
   },
   "outputs": [],
   "source": [
    "corrupted_vislist = weight_list_arlexecute_workflow(corrupted_vislist, model_list)\n",
    "corrupted_vislist =  arlexecute.compute(corrupted_vislist, sync=True)\n",
    "corrupted_vislist = arlexecute.scatter(corrupted_vislist)"
   ]
  },
  {
   "cell_type": "markdown",
   "metadata": {},
   "source": [
    "### Create and execute graph to make the dirty image"
   ]
  },
  {
   "cell_type": "code",
   "execution_count": null,
   "metadata": {
    "ExecuteTime": {
     "end_time": "2018-11-16T11:40:40.400877Z",
     "start_time": "2018-11-16T11:40:22.266519Z"
    },
    "scrolled": false
   },
   "outputs": [],
   "source": [
    "dirty_list = invert_list_arlexecute_workflow(corrupted_vislist, model_list,\n",
    "                                                 context='timeslice',\n",
    "                                                 vis_slices=ntimes, dopsf=False)\n",
    "\n",
    "dirty_list = arlexecute.compute(dirty_list, sync=True)\n",
    "dirty = dirty_list[0][0]\n",
    "show_image(dirty, cm='Greys', vmax=1.0, vmin=-0.1)\n",
    "print(qa_image(dirty))\n",
    "plt.show()"
   ]
  },
  {
   "cell_type": "markdown",
   "metadata": {},
   "source": [
    "### Now we set up the ICAL pipeline calibration controls"
   ]
  },
  {
   "cell_type": "code",
   "execution_count": null,
   "metadata": {
    "ExecuteTime": {
     "end_time": "2018-11-16T11:40:40.420987Z",
     "start_time": "2018-11-16T11:40:40.402768Z"
    }
   },
   "outputs": [],
   "source": [
    "controls = create_calibration_controls()\n",
    "        \n",
    "controls['T']['first_selfcal'] = 1\n",
    "controls['G']['first_selfcal'] = 3\n",
    "\n",
    "controls['T']['timescale'] = 'auto'\n",
    "controls['G']['timescale'] = 'auto'\n",
    "\n",
    "pp.pprint(controls)"
   ]
  },
  {
   "cell_type": "markdown",
   "metadata": {},
   "source": [
    "### ICAL with:\n",
    "- timeslicing\n",
    "- msmfs distributed clean (8 by 8 subimages overlapped by 16 pixels)\n",
    "- selfcal for T (first iteration), G (third iteration)\n",
    " \n",
    "First make the graph"
   ]
  },
  {
   "cell_type": "code",
   "execution_count": null,
   "metadata": {
    "ExecuteTime": {
     "end_time": "2018-11-16T11:40:41.091911Z",
     "start_time": "2018-11-16T11:40:40.426042Z"
    },
    "scrolled": true
   },
   "outputs": [],
   "source": [
    "ical_list = ical_list_arlexecute_workflow(corrupted_vislist, \n",
    "                                          model_imagelist=model_list,  \n",
    "                                          context='timeslice', \n",
    "                                          vis_slices=ntimes,\n",
    "                                          scales=[0, 3, 10], algorithm='mmclean', \n",
    "                                          nmoment=3, niter=1000, \n",
    "                                          fractional_threshold=0.1,\n",
    "                                          threshold=0.01, nmajor=5, gain=0.25,\n",
    "                                          psf_support=128,\n",
    "                                          deconvolve_facets = 8, \n",
    "                                          deconvolve_overlap=16,\n",
    "                                          deconvolve_taper='tukey',\n",
    "                                          timeslice='auto',\n",
    "                                          global_solution=False, \n",
    "                                          do_selfcal=True,\n",
    "                                          calibration_context = 'TG', \n",
    "                                          controls=controls)"
   ]
  },
  {
   "cell_type": "markdown",
   "metadata": {
    "ExecuteTime": {
     "end_time": "2018-11-08T14:42:54.818980Z",
     "start_time": "2018-11-08T14:42:54.816015Z"
    }
   },
   "source": [
    "### Now run the graph"
   ]
  },
  {
   "cell_type": "code",
   "execution_count": null,
   "metadata": {
    "ExecuteTime": {
     "end_time": "2018-11-16T11:50:38.003245Z",
     "start_time": "2018-11-16T11:40:41.096071Z"
    },
    "scrolled": false
   },
   "outputs": [],
   "source": [
    "log.info('About to run ical')\n",
    "result=arlexecute.compute(ical_list, sync=True)\n",
    "centre=nfreqwin//2\n",
    "residual = result[1][centre]\n",
    "restored = result[2][centre]\n",
    "\n",
    "f=show_image(restored, title='Restored clean image', cm='Greys', vmax=1.0, \n",
    "             vmin=-0.1)\n",
    "print(qa_image(restored, context='Restored clean image'))\n",
    "plt.show()\n",
    "\n",
    "f=show_image(restored, title='Restored clean image (10x deeper)', cm='Greys', vmax=0.1, \n",
    "             vmin=-0.01)\n",
    "plt.show()\n",
    "restored_cube = image_gather_channels(result[2])\n",
    "export_image_to_fits(restored_cube, '%s/arl_demo_ical_restored.fits' \n",
    "                     %(results_dir))\n",
    "\n",
    "f=show_image(residual[0], title='Residual clean image (10x deeper)', cm='Greys', \n",
    "             vmax=0.1, vmin=-0.01)\n",
    "print(qa_image(residual[0], context='Residual clean image'))\n",
    "plt.show()\n",
    "export_image_to_fits(residual[0], '%s/arl_demo_ical_residual.fits' \n",
    "                     %(results_dir))"
   ]
  },
  {
   "cell_type": "code",
   "execution_count": null,
   "metadata": {},
   "outputs": [],
   "source": []
  }
 ],
 "metadata": {
  "kernelspec": {
   "display_name": "Python 3",
   "language": "python",
   "name": "python3"
  },
  "language_info": {
   "codemirror_mode": {
    "name": "ipython",
    "version": 3
   },
   "file_extension": ".py",
   "mimetype": "text/x-python",
   "name": "python",
   "nbconvert_exporter": "python",
   "pygments_lexer": "ipython3",
   "version": "3.6.1"
  }
 },
 "nbformat": 4,
 "nbformat_minor": 2
}
