{
 "cells": [
  {
   "cell_type": "markdown",
   "metadata": {},
   "source": [
    "# ICAL pipeline processing using Dask workflows."
   ]
  },
  {
   "cell_type": "code",
   "execution_count": null,
   "metadata": {
    "ExecuteTime": {
     "end_time": "2018-11-18T23:04:07.065169Z",
     "start_time": "2018-11-18T23:04:05.186449Z"
    },
    "scrolled": false
   },
   "outputs": [],
   "source": [
    "% matplotlib inline\n",
    "\n",
    "import os\n",
    "import sys\n",
    "\n",
    "sys.path.append(os.path.join('..', '..'))\n",
    "\n",
    "from data_models.parameters import arl_path\n",
    "\n",
    "results_dir = arl_path('test_results')\n",
    "\n",
    "from matplotlib import pylab\n",
    "\n",
    "import numpy\n",
    "\n",
    "from astropy.coordinates import SkyCoord\n",
    "from astropy import units as u\n",
    "from astropy.wcs.utils import pixel_to_skycoord\n",
    "\n",
    "from matplotlib import pyplot as plt\n",
    "\n",
    "from data_models.polarisation import PolarisationFrame\n",
    "\n",
    "from wrappers.serial.calibration.calibration import solve_gaintable\n",
    "from wrappers.serial.calibration.calibration_control import create_calibration_controls\n",
    "from wrappers.serial.image.operations import show_image, export_image_to_fits, qa_image\n",
    "from wrappers.serial.simulation.testing_support import create_low_test_skymodel_from_gleam\n",
    "from wrappers.serial.imaging.base import create_image_from_visibility, advise_wide_field, \\\n",
    "    predict_skycomponent_visibility\n",
    "from wrappers.arlexecute.image.gather_scatter import image_gather_channels\n",
    "from wrappers.arlexecute.visibility.coalesce import convert_blockvisibility_to_visibility, \\\n",
    "    convert_visibility_to_blockvisibility\n",
    "\n",
    "from workflows.arlexecute.imaging.imaging_arlexecute import invert_list_arlexecute_workflow, \\\n",
    "    weight_list_arlexecute_workflow, \\\n",
    "    taper_list_arlexecute_workflow, remove_sumwt\n",
    "\n",
    "from workflows.arlexecute.simulation.simulation_arlexecute import simulate_list_arlexecute_workflow, \\\n",
    "    corrupt_list_arlexecute_workflow\n",
    "from workflows.arlexecute.pipelines.pipeline_arlexecute import continuum_imaging_list_arlexecute_workflow, \\\n",
    "    ical_list_arlexecute_workflow\n",
    "from workflows.arlexecute.skymodel.skymodel_arlexecute import predict_skymodel_list_arlexecute_workflow\n",
    "\n",
    "from wrappers.arlexecute.execution_support.arlexecute import arlexecute\n",
    "from wrappers.arlexecute.execution_support.dask_init import get_dask_Client\n"
   ]
  },
  {
   "cell_type": "code",
   "execution_count": null,
   "metadata": {
    "ExecuteTime": {
     "end_time": "2018-11-18T23:04:08.168092Z",
     "start_time": "2018-11-18T23:04:08.163742Z"
    }
   },
   "outputs": [],
   "source": [
    "pylab.rcParams['figure.figsize'] = (12.0, 12.0)\n",
    "pylab.rcParams['image.cmap'] = 'Greys'"
   ]
  },
  {
   "cell_type": "markdown",
   "metadata": {},
   "source": [
    "### We will use dask to distribute processing"
   ]
  },
  {
   "cell_type": "code",
   "execution_count": null,
   "metadata": {
    "ExecuteTime": {
     "end_time": "2018-11-18T23:04:12.404053Z",
     "start_time": "2018-11-18T23:04:09.902184Z"
    }
   },
   "outputs": [],
   "source": [
    "client = get_dask_Client(memory_limit=4 * 1024 * 1024 * 1024, n_workers=7)\n",
    "arlexecute.set_client(client)"
   ]
  },
  {
   "cell_type": "markdown",
   "metadata": {},
   "source": [
    "### All Dask workers log to a common file"
   ]
  },
  {
   "cell_type": "code",
   "execution_count": null,
   "metadata": {
    "ExecuteTime": {
     "end_time": "2018-11-18T23:04:12.461651Z",
     "start_time": "2018-11-18T23:04:12.409206Z"
    }
   },
   "outputs": [],
   "source": [
    "import logging\n",
    "\n",
    "def init_logging():\n",
    "    log = logging.getLogger()\n",
    "    logging.basicConfig(filename='%s/imaging-pipeline.log' % results_dir,\n",
    "                        filemode='a',\n",
    "                        format='%(asctime)s,%(msecs)d %(name)s %(levelname)s %(message)s',\n",
    "                        datefmt='%H:%M:%S',\n",
    "                        level=logging.INFO)\n",
    "log = logging.getLogger()\n",
    "logging.info(\"Starting ARL demo\")\n",
    "arlexecute.run(init_logging)"
   ]
  },
  {
   "cell_type": "markdown",
   "metadata": {},
   "source": [
    "### We create a graph to make the visibility. The parameter rmax determines the distance of the furthest antenna/stations used. All other parameters are determined from this number."
   ]
  },
  {
   "cell_type": "code",
   "execution_count": null,
   "metadata": {
    "ExecuteTime": {
     "end_time": "2018-11-18T23:04:16.217963Z",
     "start_time": "2018-11-18T23:04:13.822501Z"
    },
    "scrolled": false
   },
   "outputs": [],
   "source": [
    "nfreqwin=7\n",
    "ntimes=5\n",
    "rmax=750.0\n",
    "frequency=numpy.linspace(0.9e8,1.1e8,nfreqwin)\n",
    "channel_bandwidth=numpy.array(nfreqwin*[frequency[1]-frequency[0]])\n",
    "times = numpy.linspace(-numpy.pi/3.0, numpy.pi/3.0, ntimes)\n",
    "phasecentre=SkyCoord(ra=+30.0 * u.deg, dec=-60.0 * u.deg, frame='icrs', equinox='J2000')\n",
    "\n",
    "blockvis_list=simulate_list_arlexecute_workflow('LOWBD2',\n",
    "                                         frequency=frequency, \n",
    "                                         channel_bandwidth=channel_bandwidth,\n",
    "                                         times=times,\n",
    "                                         phasecentre=phasecentre,\n",
    "                                         order='frequency',\n",
    "                                                format='blockvis',\n",
    "                                        rmax=rmax)\n",
    "blockvis_list = arlexecute.compute(blockvis_list, sync=True)\n",
    "print('%d rows in block vis_list' % len(blockvis_list))"
   ]
  },
  {
   "cell_type": "markdown",
   "metadata": {},
   "source": [
    "Create row oriented visibility"
   ]
  },
  {
   "cell_type": "code",
   "execution_count": null,
   "metadata": {
    "ExecuteTime": {
     "end_time": "2018-11-18T23:04:22.127057Z",
     "start_time": "2018-11-18T23:04:18.670247Z"
    }
   },
   "outputs": [],
   "source": [
    "blockvis_list = arlexecute.scatter(blockvis_list)\n",
    "vis_list = [arlexecute.execute(convert_blockvisibility_to_visibility)(bv) for bv in blockvis_list]\n",
    "vis_list = arlexecute.compute(vis_list, sync=True)\n",
    "print('%d rows in vis_list' % len(vis_list))"
   ]
  },
  {
   "cell_type": "code",
   "execution_count": null,
   "metadata": {
    "ExecuteTime": {
     "end_time": "2018-11-18T23:04:23.041695Z",
     "start_time": "2018-11-18T23:04:23.017588Z"
    },
    "scrolled": false
   },
   "outputs": [],
   "source": [
    "import pprint\n",
    "pp = pprint.PrettyPrinter()\n",
    "\n",
    "advice=advise_wide_field(vis_list[-1], guard_band_image=6.0, delA=0.1, \n",
    "                         oversampling_synthesised_beam=4)\n",
    "pp.pprint(advice)\n",
    "context='wstack'\n",
    "vis_slices = advice['vis_slices']\n",
    "npixel=advice['npixels2']\n",
    "cellsize=advice['cellsize']"
   ]
  },
  {
   "cell_type": "markdown",
   "metadata": {},
   "source": [
    "### Now make and compute a graph to fill a skymodel drawn from GLEAM "
   ]
  },
  {
   "cell_type": "code",
   "execution_count": null,
   "metadata": {
    "ExecuteTime": {
     "end_time": "2018-11-18T23:05:25.119360Z",
     "start_time": "2018-11-18T23:04:32.448333Z"
    }
   },
   "outputs": [],
   "source": [
    "gleam_skymodel = [arlexecute.execute(create_low_test_skymodel_from_gleam)\n",
    "                     (npixel=npixel, cellsize=cellsize, frequency=[frequency[f]],\n",
    "                      phasecentre=phasecentre,\n",
    "                      polarisation_frame=PolarisationFrame(\"stokesI\"),\n",
    "                      flux_limit=0.1,\n",
    "                      flux_threshold=1.0,\n",
    "                      flux_max=5.0) for f, freq in enumerate(frequency)]\n",
    "gleam_skymodel = arlexecute.compute(gleam_skymodel, sync=True)\n",
    "future_gleam_skymodel = arlexecute.scatter(gleam_skymodel)\n"
   ]
  },
  {
   "cell_type": "markdown",
   "metadata": {},
   "source": [
    "### Now predict the visibility from this model"
   ]
  },
  {
   "cell_type": "code",
   "execution_count": null,
   "metadata": {
    "ExecuteTime": {
     "end_time": "2018-11-18T23:06:40.705389Z",
     "start_time": "2018-11-18T23:05:43.857349Z"
    }
   },
   "outputs": [],
   "source": [
    "vis_list = arlexecute.scatter(vis_list)\n",
    "predicted_vislist = predict_skymodel_list_arlexecute_workflow(vis_list, gleam_skymodel, \n",
    "                                                              context=context, \n",
    "                                                              vis_slices=vis_slices,\n",
    "                                                              facets=1)\n",
    "predicted_vislist = arlexecute.compute(predicted_vislist, sync=True)\n"
   ]
  },
  {
   "cell_type": "markdown",
   "metadata": {},
   "source": [
    "### Get the LSM. This is currently blank."
   ]
  },
  {
   "cell_type": "code",
   "execution_count": null,
   "metadata": {
    "ExecuteTime": {
     "end_time": "2018-11-18T23:06:59.496894Z",
     "start_time": "2018-11-18T23:06:57.990016Z"
    },
    "scrolled": true
   },
   "outputs": [],
   "source": [
    "model_list = [arlexecute.execute(create_image_from_visibility)\n",
    "              (vis_list[f],\n",
    "               npixel=npixel,\n",
    "               frequency=[frequency[f]],\n",
    "               channel_bandwidth=[channel_bandwidth[f]],\n",
    "               cellsize=cellsize, phasecentre=phasecentre,\n",
    "               polarisation_frame=PolarisationFrame(\"stokesI\"))\n",
    "               for f, freq in enumerate(frequency)]\n",
    "model_list = arlexecute.compute(model_list, sync=True)\n",
    "model_list = arlexecute.scatter(model_list)"
   ]
  },
  {
   "cell_type": "markdown",
   "metadata": {},
   "source": [
    "### Weight the data"
   ]
  },
  {
   "cell_type": "code",
   "execution_count": null,
   "metadata": {
    "ExecuteTime": {
     "end_time": "2018-11-18T23:07:11.042332Z",
     "start_time": "2018-11-18T23:07:03.880609Z"
    },
    "scrolled": false
   },
   "outputs": [],
   "source": [
    "future_predicted_vislist = arlexecute.scatter(predicted_vislist)\n",
    "predicted_vislist = weight_list_arlexecute_workflow(future_predicted_vislist, model_list)\n",
    "predicted_vislist = taper_list_arlexecute_workflow(predicted_vislist, 0.003)\n",
    "predicted_vislist = arlexecute.compute(predicted_vislist, sync=True)"
   ]
  },
  {
   "cell_type": "markdown",
   "metadata": {},
   "source": [
    "### Add phase errors"
   ]
  },
  {
   "cell_type": "code",
   "execution_count": null,
   "metadata": {
    "ExecuteTime": {
     "end_time": "2018-11-18T23:07:24.758320Z",
     "start_time": "2018-11-18T23:07:18.998718Z"
    },
    "scrolled": false
   },
   "outputs": [],
   "source": [
    "corrupted_blockvislist = [arlexecute.execute(convert_visibility_to_blockvisibility, nout=1)(v) \n",
    "                      for v in predicted_vislist]\n",
    "corrupted_blockvislist = corrupt_list_arlexecute_workflow(corrupted_blockvislist, phase_error=1.0, seed=180555)\n",
    "corrupted_blockvislist = arlexecute.compute(corrupted_blockvislist, sync=True)"
   ]
  },
  {
   "cell_type": "code",
   "execution_count": null,
   "metadata": {
    "ExecuteTime": {
     "end_time": "2018-11-18T23:07:29.384895Z",
     "start_time": "2018-11-18T23:07:25.934475Z"
    }
   },
   "outputs": [],
   "source": [
    "corrupted_vislist = [arlexecute.execute(convert_blockvisibility_to_visibility, nout=1)(v) \n",
    "                      for v in corrupted_blockvislist]\n",
    "corrupted_vislist = arlexecute.compute(corrupted_vislist, sync=True)"
   ]
  },
  {
   "cell_type": "markdown",
   "metadata": {},
   "source": [
    "### Create and execute graph to make the dirty image"
   ]
  },
  {
   "cell_type": "code",
   "execution_count": null,
   "metadata": {
    "ExecuteTime": {
     "end_time": "2018-11-18T23:08:16.926169Z",
     "start_time": "2018-11-18T23:07:41.732957Z"
    },
    "scrolled": false
   },
   "outputs": [],
   "source": [
    "future_corrupted_vislist = arlexecute.scatter(corrupted_vislist)\n",
    "dirty_list = invert_list_arlexecute_workflow(future_corrupted_vislist, model_list,\n",
    "                                                 context=context,\n",
    "                                                 vis_slices=vis_slices, dopsf=False)\n",
    "\n",
    "dirty_list = arlexecute.compute(dirty_list, sync=True)\n",
    "dirty = dirty_list[0][0]\n",
    "show_image(dirty, cm='Greys')\n",
    "print(qa_image(dirty))\n",
    "plt.show()"
   ]
  },
  {
   "cell_type": "markdown",
   "metadata": {},
   "source": [
    "### Now we set up the ICAL pipeline calibration controls"
   ]
  },
  {
   "cell_type": "code",
   "execution_count": null,
   "metadata": {
    "ExecuteTime": {
     "end_time": "2018-11-18T23:08:27.412989Z",
     "start_time": "2018-11-18T23:08:27.396597Z"
    }
   },
   "outputs": [],
   "source": [
    "controls = create_calibration_controls()\n",
    "        \n",
    "controls['T']['first_selfcal'] = 1\n",
    "controls['G']['first_selfcal'] = 3\n",
    "\n",
    "controls['T']['timescale'] = 'auto'\n",
    "controls['G']['timescale'] = 'auto'\n",
    "\n",
    "pp.pprint(controls)"
   ]
  },
  {
   "cell_type": "markdown",
   "metadata": {},
   "source": [
    "### ICAL with:\n",
    "- timeslicing\n",
    "- msmfs distributed clean (8 by 8 subimages overlapped by 16 pixels)\n",
    "- selfcal for T (first iteration), G (third iteration)\n",
    " \n",
    "First make the graph"
   ]
  },
  {
   "cell_type": "code",
   "execution_count": null,
   "metadata": {
    "ExecuteTime": {
     "end_time": "2018-11-18T23:08:36.417013Z",
     "start_time": "2018-11-18T23:08:31.822770Z"
    },
    "scrolled": false
   },
   "outputs": [],
   "source": [
    "ical_list = ical_list_arlexecute_workflow(corrupted_vislist, \n",
    "                                          model_imagelist=model_list,  \n",
    "                                          context=context, \n",
    "                                          vis_slices=vis_slices,\n",
    "                                          scales=[0, 3, 10], algorithm='mmclean', \n",
    "                                          nmoment=3, niter=1000, \n",
    "                                          fractional_threshold=0.1,\n",
    "                                          threshold=0.01, nmajor=5, gain=0.25,\n",
    "                                          psf_support=128,\n",
    "                                          deconvolve_facets=8,\n",
    "                                          deconvolve_overlap=16,\n",
    "                                          deconvolve_taper='tukey',\n",
    "                                          timeslice='auto',\n",
    "                                          global_solution=False, \n",
    "                                          do_selfcal=True,\n",
    "                                          calibration_context = 'TG', \n",
    "                                          controls=controls,\n",
    "                                          tol=1e-6)"
   ]
  },
  {
   "cell_type": "markdown",
   "metadata": {
    "ExecuteTime": {
     "end_time": "2018-11-08T14:42:54.818980Z",
     "start_time": "2018-11-08T14:42:54.816015Z"
    }
   },
   "source": [
    "### Now run the graph"
   ]
  },
  {
   "cell_type": "code",
   "execution_count": null,
   "metadata": {
    "ExecuteTime": {
     "end_time": "2018-11-18T23:27:34.269426Z",
     "start_time": "2018-11-18T23:08:39.628166Z"
    },
    "scrolled": false
   },
   "outputs": [],
   "source": [
    "log.info('About to run ical')\n",
    "result=arlexecute.compute(ical_list, sync=True)\n",
    "centre=nfreqwin//2\n",
    "residual = result[1][centre]\n",
    "restored = result[2][centre]\n",
    "\n",
    "f=show_image(restored, title='Restored clean image', cm='Greys', vmax=1.0, vmin=-0.1)\n",
    "print(qa_image(restored, context='Restored clean image'))\n",
    "plt.show()\n",
    "\n",
    "f=show_image(restored, title='Restored clean image (10x deeper)', cm='Greys', vmax=0.1, vmin=-0.01)\n",
    "plt.show()\n",
    "restored_cube = image_gather_channels(result[2])\n",
    "export_image_to_fits(restored_cube, '%s/arl_demo_ical_%s_restored.fits' \n",
    "                     %(results_dir, context))\n",
    "\n",
    "f=show_image(residual[0], title='Residual clean image (10x deeper)', cm='Greys', \n",
    "             vmax=0.1, vmin=-0.01)\n",
    "print(qa_image(residual[0], context='Residual clean image'))\n",
    "plt.show()\n",
    "export_image_to_fits(residual[0], '%s/arl_demo_ical_%s_residual.fits' \n",
    "                     %(results_dir, context))"
   ]
  },
  {
   "cell_type": "code",
   "execution_count": null,
   "metadata": {},
   "outputs": [],
   "source": []
  }
 ],
 "metadata": {
  "kernelspec": {
   "display_name": "Python 3",
   "language": "python",
   "name": "python3"
  },
  "language_info": {
   "codemirror_mode": {
    "name": "ipython",
    "version": 3
   },
   "file_extension": ".py",
   "mimetype": "text/x-python",
   "name": "python",
   "nbconvert_exporter": "python",
   "pygments_lexer": "ipython3",
   "version": "3.6.1"
  }
 },
 "nbformat": 4,
 "nbformat_minor": 2
}
