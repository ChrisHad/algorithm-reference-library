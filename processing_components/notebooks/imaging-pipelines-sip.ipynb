{
 "cells": [
  {
   "cell_type": "markdown",
   "metadata": {},
   "source": [
    "# Pipeline processing\n",
    "\n",
    "This notebook demonstrates the continuum imaging and ICAL pipelines."
   ]
  },
  {
   "cell_type": "code",
   "execution_count": null,
   "metadata": {
    "ExecuteTime": {
     "end_time": "2018-05-21T09:40:28.466627Z",
     "start_time": "2018-05-21T09:40:26.603365Z"
    },
    "scrolled": true
   },
   "outputs": [],
   "source": [
    "% matplotlib inline\n",
    "\n",
    "import os\n",
    "import sys\n",
    "\n",
    "sys.path.append(os.path.join('..', '..'))\n",
    "\n",
    "results_dir = './results'\n",
    "os.makedirs(results_dir, exist_ok=True)\n",
    "\n",
    "from matplotlib import pylab\n",
    "\n",
    "pylab.rcParams['figure.figsize'] = (12.0, 12.0)\n",
    "pylab.rcParams['image.cmap'] = 'rainbow'\n",
    "\n",
    "import numpy\n",
    "\n",
    "from astropy.coordinates import SkyCoord\n",
    "from astropy import units as u\n",
    "from astropy.wcs.utils import pixel_to_skycoord\n",
    "\n",
    "from matplotlib import pyplot as plt\n",
    "\n",
    "from data_models.polarisation import PolarisationFrame\n",
    "from data_models.parameters import get_parameter\n",
    "\n",
    "from processing_components.calibration.calibration import solve_gaintable\n",
    "from processing_components.calibration.operations import apply_gaintable, create_gaintable_from_blockvisibility\n",
    "from processing_components.visibility.base import create_blockvisibility\n",
    "from processing_components.skycomponent.operations import create_skycomponent\n",
    "from processing_components.image.operations import show_image, export_image_to_fits, qa_image\n",
    "from processing_components.visibility.iterators import vis_timeslice_iter\n",
    "from processing_components.visibility.coalesce import convert_visibility_to_blockvisibility\n",
    "from processing_components.simulation.testing_support import create_named_configuration, create_low_test_image_from_gleam, \\\n",
    "    simulate_gaintable\n",
    "from processing_components.imaging.base import create_image_from_visibility, advise_wide_field\n",
    "from processing_components.imaging.imaging_functions import invert_function, predict_function\n",
    "from processing_components.functions.pipeline_functions import ical\n",
    "\n",
    "import logging\n",
    "\n",
    "log = logging.getLogger()\n",
    "log.setLevel(logging.INFO)\n",
    "log.addHandler(logging.StreamHandler(sys.stdout))\n"
   ]
  },
  {
   "cell_type": "markdown",
   "metadata": {},
   "source": [
    "We create a graph to make the visibility. The parameter rmax determines the distance of the furthest antenna/stations used. All over parameters are determined from this number."
   ]
  },
  {
   "cell_type": "code",
   "execution_count": null,
   "metadata": {
    "ExecuteTime": {
     "end_time": "2018-05-21T09:40:30.487325Z",
     "start_time": "2018-05-21T09:40:30.153829Z"
    },
    "scrolled": true
   },
   "outputs": [],
   "source": [
    "nfreqwin=5\n",
    "ntimes=11\n",
    "rmax=300.0\n",
    "frequency=numpy.linspace(0.8e8,1.2e8,nfreqwin)\n",
    "channel_bandwidth=numpy.array(nfreqwin*[frequency[1]-frequency[0]])\n",
    "times = numpy.linspace(-numpy.pi/3.0, numpy.pi/3.0, ntimes)\n",
    "phasecentre=SkyCoord(ra=+30.0 * u.deg, dec=-60.0 * u.deg, frame='icrs', equinox='J2000')\n",
    "\n",
    "lowcore = create_named_configuration('LOWBD2-CORE', rmax=rmax)\n",
    "\n",
    "block_vis = create_blockvisibility(lowcore, times, frequency=frequency, channel_bandwidth=channel_bandwidth,\n",
    "                     weight=1.0, phasecentre=phasecentre,\n",
    "                     polarisation_frame=PolarisationFrame(\"stokesI\"))"
   ]
  },
  {
   "cell_type": "code",
   "execution_count": null,
   "metadata": {
    "ExecuteTime": {
     "end_time": "2018-05-21T09:40:35.410702Z",
     "start_time": "2018-05-21T09:40:32.884017Z"
    },
    "scrolled": false
   },
   "outputs": [],
   "source": [
    "wprojection_planes=1\n",
    "advice=advise_wide_field(block_vis, guard_band_image=4.0, delA=0.02,\n",
    "                             wprojection_planes=wprojection_planes)\n",
    "\n",
    "vis_slices = advice['vis_slices']\n",
    "npixel=advice['npixels2']\n",
    "cellsize=advice['cellsize']"
   ]
  },
  {
   "cell_type": "code",
   "execution_count": null,
   "metadata": {
    "ExecuteTime": {
     "end_time": "2018-05-21T09:40:52.780043Z",
     "start_time": "2018-05-21T09:40:35.414854Z"
    },
    "scrolled": true
   },
   "outputs": [],
   "source": [
    "gleam_model = create_low_test_image_from_gleam(npixel=npixel, frequency=frequency,\n",
    "    channel_bandwidth=channel_bandwidth, cellsize=cellsize, phasecentre=phasecentre, applybeam=True, flux_limit=1.0)"
   ]
  },
  {
   "cell_type": "code",
   "execution_count": null,
   "metadata": {
    "ExecuteTime": {
     "end_time": "2018-05-21T09:40:52.814761Z",
     "start_time": "2018-05-21T09:40:52.782199Z"
    }
   },
   "outputs": [],
   "source": [
    "export_image_to_fits(gleam_model, '%s/gleam_model.fits'\n",
    "                     % (results_dir))"
   ]
  },
  {
   "cell_type": "code",
   "execution_count": null,
   "metadata": {
    "ExecuteTime": {
     "end_time": "2018-05-21T09:41:51.746442Z",
     "start_time": "2018-05-21T09:40:52.817434Z"
    }
   },
   "outputs": [],
   "source": [
    "predicted_vis = predict_function(block_vis, gleam_model, vis_slices=51, context='wstack')"
   ]
  },
  {
   "cell_type": "code",
   "execution_count": null,
   "metadata": {
    "ExecuteTime": {
     "end_time": "2018-05-21T09:54:48.386568Z",
     "start_time": "2018-05-21T09:53:53.097496Z"
    },
    "scrolled": false
   },
   "outputs": [],
   "source": [
    "predicted_vis = predict_function(block_vis, gleam_model, vis_slices=51, context='wstack')\n",
    "block_vis=convert_visibility_to_blockvisibility(predicted_vis)\n",
    "gt = create_gaintable_from_blockvisibility(block_vis)\n",
    "gt = simulate_gaintable(gt, phase_error=1.0)\n",
    "blockvis = apply_gaintable(block_vis, gt)"
   ]
  },
  {
   "cell_type": "code",
   "execution_count": null,
   "metadata": {
    "ExecuteTime": {
     "end_time": "2018-05-21T09:54:48.413297Z",
     "start_time": "2018-05-21T09:54:48.388573Z"
    },
    "scrolled": false
   },
   "outputs": [],
   "source": [
    "model = create_image_from_visibility(block_vis, npixel=npixel, frequency=[numpy.average(frequency)], nchan=1,\n",
    "    channel_bandwidth=[numpy.sum(channel_bandwidth)], cellsize=cellsize, phasecentre=phasecentre)"
   ]
  },
  {
   "cell_type": "code",
   "execution_count": null,
   "metadata": {
    "ExecuteTime": {
     "end_time": "2018-05-21T09:54:59.642194Z",
     "start_time": "2018-05-21T09:54:48.416188Z"
    },
    "scrolled": false
   },
   "outputs": [],
   "source": [
    "dirty, sumwt = invert_function(predicted_vis, model, vis_slices=vis_slices, dopsf=False, context='wstack')"
   ]
  },
  {
   "cell_type": "code",
   "execution_count": null,
   "metadata": {
    "ExecuteTime": {
     "end_time": "2018-05-21T09:55:00.010652Z",
     "start_time": "2018-05-21T09:54:59.644328Z"
    },
    "scrolled": false
   },
   "outputs": [],
   "source": [
    "show_image(dirty)\n",
    "plt.show()"
   ]
  },
  {
   "cell_type": "code",
   "execution_count": null,
   "metadata": {
    "ExecuteTime": {
     "end_time": "2018-05-21T09:57:44.293015Z",
     "start_time": "2018-05-21T09:55:00.013322Z"
    },
    "scrolled": false
   },
   "outputs": [],
   "source": [
    "deconvolved, residual, restored = ical(block_vis=blockvis, model=model, vis_slices=vis_slices, timeslice='auto',\n",
    "                                       algorithm='hogbom', niter=1000, fractional_threshold=0.1, threshold=0.1,\n",
    "                                       context='wstack', nmajor=5, gain=0.1, \n",
    "                                       T_first_selfcal=2,\n",
    "                                       G_first_selfcal=3,\n",
    "                                       B_first_selfcal=4,\n",
    "                                       global_solution=False)"
   ]
  },
  {
   "cell_type": "code",
   "execution_count": null,
   "metadata": {
    "ExecuteTime": {
     "end_time": "2018-05-21T09:57:45.156934Z",
     "start_time": "2018-05-21T09:57:44.295236Z"
    },
    "scrolled": false
   },
   "outputs": [],
   "source": [
    "f = show_image(deconvolved, title='Clean image')\n",
    "print(qa_image(deconvolved, context='Clean image'))\n",
    "plt.show()\n",
    "\n",
    "f = show_image(residual, title='Residual clean image')\n",
    "print(qa_image(residual, context='Residual clean image'))\n",
    "plt.show()\n",
    "export_image_to_fits(residual, '%s/imaging-ical_residual.fits'\n",
    "                     % (results_dir))\n",
    "\n",
    "f = show_image(restored, title='Restored clean image')\n",
    "print(qa_image(restored, context='Restored clean image'))\n",
    "plt.show()\n",
    "export_image_to_fits(restored, '%s/imaging-ical_restored.fits'\n",
    "                     % (results_dir))"
   ]
  },
  {
   "cell_type": "code",
   "execution_count": null,
   "metadata": {
    "scrolled": true
   },
   "outputs": [],
   "source": []
  }
 ],
 "metadata": {
  "kernelspec": {
   "display_name": "Python 3",
   "language": "python",
   "name": "python3"
  },
  "language_info": {
   "codemirror_mode": {
    "name": "ipython",
    "version": 3
   },
   "file_extension": ".py",
   "mimetype": "text/x-python",
   "name": "python",
   "nbconvert_exporter": "python",
   "pygments_lexer": "ipython3",
   "version": "3.6.1"
  }
 },
 "nbformat": 4,
 "nbformat_minor": 1
}
